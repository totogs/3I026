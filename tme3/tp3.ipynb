{
 "cells": [
  {
   "cell_type": "markdown",
   "metadata": {},
   "source": [
    "**Indiquer dans la boîte ci-dessous vos noms et prénoms**"
   ]
  },
  {
   "cell_type": "markdown",
   "metadata": {},
   "source": [
    "Double-cliquer ici et remplacer par les noms et prénoms de votre binôme"
   ]
  },
  {
   "cell_type": "markdown",
   "metadata": {},
   "source": [
    "# 3I026 - Intelligence artificielle & Data science\n",
    "\n",
    "# TP 3 - Perceptron"
   ]
  },
  {
   "cell_type": "markdown",
   "metadata": {
    "collapsed": true
   },
   "source": [
    "L'objectif est d'implanter l'algorithme du perceptron de Rosenblatt, ainsi que quelques extensions, et d'évaluer leurs performances sur des données aléatoires puis réelles."
   ]
  },
  {
   "cell_type": "code",
   "execution_count": 6,
   "metadata": {},
   "outputs": [],
   "source": [
    "import numpy as np\n",
    "import pandas as pd\n",
    "import matplotlib.pyplot as plt\n",
    "%matplotlib inline"
   ]
  },
  {
   "cell_type": "markdown",
   "metadata": {},
   "source": [
    "## Rappels sur les TPs précédent"
   ]
  },
  {
   "cell_type": "code",
   "execution_count": 7,
   "metadata": {},
   "outputs": [],
   "source": [
    "class LabeledSet:  \n",
    "    \n",
    "    def __init__(self, input_dimension):\n",
    "        self.input_dimension = input_dimension\n",
    "        self.nb_examples = 0\n",
    "    \n",
    "    def addExample(self, vector, label):\n",
    "        if (self.nb_examples == 0):\n",
    "            self.x = np.array([vector])\n",
    "            self.y = np.array([label])\n",
    "        else:\n",
    "            self.x = np.vstack((self.x,vector))\n",
    "            self.y = np.vstack((self.y,label))\n",
    "        \n",
    "        self.nb_examples = self.nb_examples + 1\n",
    "    \n",
    "    #Renvoie la dimension de l'espace d'entrée\n",
    "    def getInputDimension(self):\n",
    "        return self.input_dimension\n",
    "        \n",
    "    #Renvoie le nombre d'exemples dans le set\n",
    "    def size(self):\n",
    "        return self.nb_examples\n",
    "    \n",
    "    #Renvoie la valeur de x_i\n",
    "    def getX(self, i):\n",
    "        return self.x[i]\n",
    "            \n",
    "    #Renvoie la valeur de y_i\n",
    "    def getY(self, i):\n",
    "        return self.y[i]"
   ]
  },
  {
   "cell_type": "code",
   "execution_count": 8,
   "metadata": {},
   "outputs": [],
   "source": [
    "class Classifier:\n",
    "    def __init__(self, input_dimension):\n",
    "        raise NotImplementedError(\"Please Implement this method\")\n",
    "    \n",
    "    #Permet de calculer la prediction sur x => renvoie un score\n",
    "    def predict(self, x):\n",
    "        raise NotImplementedError(\"Please Implement this method\")\n",
    "    \n",
    "    #Permet d'entrainer le modele sur un ensemble de données\n",
    "    def train(self, labeledSet):\n",
    "        raise NotImplementedError(\"Please Implement this method\")\n",
    "    \n",
    "    #Permet de calculer la qualité du système \n",
    "    def accuracy(self, dataset):\n",
    "        nb_ok = 0\n",
    "        for i in range(dataset.size()):\n",
    "            output = self.predict(dataset.getX(i))\n",
    "            if (output * dataset.getY(i) > 0):\n",
    "                nb_ok = nb_ok + 1\n",
    "        acc = nb_ok / (dataset.size() * 1.0)\n",
    "        return acc"
   ]
  },
  {
   "cell_type": "code",
   "execution_count": 9,
   "metadata": {},
   "outputs": [],
   "source": [
    "class ClassifierRandom(Classifier):\n",
    "    def __init__(self, dim):\n",
    "        self.w = np.random.rand(dim)\n",
    "\n",
    "    def predict(self, x):\n",
    "        z = np.dot(x, self.w)\n",
    "        if z > 0:\n",
    "            return +1\n",
    "        else:\n",
    "            return -1"
   ]
  },
  {
   "cell_type": "code",
   "execution_count": 10,
   "metadata": {},
   "outputs": [],
   "source": [
    "def plot_frontiere(set, classifier, step=20):\n",
    "    mmax = set.x.max(0)\n",
    "    mmin = set.x.min(0)\n",
    "    x1grid, x2grid = np.meshgrid(np.linspace(mmin[0], mmax[0], step), np.linspace(mmin[1], mmax[1], step))\n",
    "    grid = np.hstack((x1grid.reshape(x1grid.size, 1), x2grid.reshape(x2grid.size, 1)))\n",
    "    \n",
    "    # calcul de la prediction pour chaque point de la grille\n",
    "    res = np.array([classifier.predict(grid[i,:]) for i in range(len(grid)) ])\n",
    "    res = res.reshape(x1grid.shape)\n",
    "    # tracé des frontieres\n",
    "    plt.contourf(x1grid, x2grid, res, colors=[\"red\", \"cyan\"], levels=[-1000,0,1000], linewidth=2)"
   ]
  },
  {
   "cell_type": "code",
   "execution_count": 11,
   "metadata": {},
   "outputs": [],
   "source": [
    "def plot2DSet(dataset):\n",
    "    plt.scatter(dataset.x[0:int(dataset.size()/2),0],dataset.x[0:int(dataset.size()/2),1],marker='o')\n",
    "    plt.scatter(dataset.x[int(dataset.size()/2):dataset.size(),0],dataset.x[int(dataset.size()/2):dataset.size(),1],marker='x')"
   ]
  },
  {
   "cell_type": "markdown",
   "metadata": {},
   "source": [
    "## Étape 1 : Perceptron de Rosenblatt\n",
    "\n",
    "\n",
    "En héritant de la classe `Classifier`, implanter le perceptron tel que décrit en cours. La fonction `train` fera une itération sur l'ensemble des données de l'apprentissage. Les points d'apprentissage seront tirés dans un ordre aléatoire."
   ]
  },
  {
   "cell_type": "code",
   "execution_count": 23,
   "metadata": {},
   "outputs": [],
   "source": [
    "class Perceptron(Classifier):\n",
    "    \n",
    "    def __init__(self, input_dimension, learning_rate, nombre_iterations):\n",
    "        self.dim=input_dimension\n",
    "        self.lg_rate=learning_rate\n",
    "        self.nbr_it=nombre_iterations\n",
    "        self.w=np.random.rand(self.dim+1)\n",
    "        self.labeledset=None\n",
    "    \n",
    "    def train(self, labeledset):\n",
    "        \n",
    "        self.labeledset=labeledset\n",
    "        list_acc=[]\n",
    "        list_it=[]\n",
    "        ls=np.arange(labeledset.size())\n",
    "        np.random.shuffle(ls)\n",
    "        \n",
    "        for i in range(self.nbr_it):\n",
    "            \n",
    "            for j in ls:\n",
    "                \n",
    "                if(self.labeledset.getY(j)*self.predict(self.labeledset.getX(j))<0):\n",
    "                    \n",
    "                    self.w = self.w + self.lg_rate*self.labeledset.getY(j)*np.hstack((self.labeledset.getX(j),[-1]))\n",
    "\n",
    "            \n",
    "            if(i%10==0):\n",
    "                list_acc.append(self.accuracy(self.labeledset))\n",
    "                list_it.append(i)\n",
    "                \n",
    "        plt.subplot(121)\n",
    "        plt.plot(list_it,list_acc)\n",
    "    \n",
    "        \n",
    "    def predict(self, x):\n",
    "        \n",
    "        scalar = np.dot(self.w, np.hstack((x,[-1])))\n",
    "\n",
    "        if(scalar >= 0):\n",
    "            return 1     \n",
    "        return -1\n",
    "        \n",
    "        "
   ]
  },
  {
   "cell_type": "markdown",
   "metadata": {},
   "source": [
    "La méthode `train` devra faire un nombre d'itérations fixées à la création de l'objet.\n",
    "\n",
    "Pour pouvoir évaluer la qualité de l'apprentissage au cours des itérations, on évaluera régulièrement (par exemple toutes les 10 itérations) l'accuracy du modèle, sur un ensemble de validation (un sous-ensemble de l'ensemble d'apprentissage). \n",
    "\n",
    "Après chaque apprentissage, on veillera à tracer la courbe d'apprentissage, c'est à dire le score obtenu au cours des itérations, et à tracer la frontière de décision.\n",
    "\n",
    "Tester votre code sur des données aléatoires."
   ]
  },
  {
   "cell_type": "code",
   "execution_count": 24,
   "metadata": {},
   "outputs": [
    {
     "data": {
      "image/png": "[encoded data removed]",
      "text/plain": [
       "<matplotlib.figure.Figure at 0x7f86eaa30f90>"
      ]
     },
     "metadata": {},
     "output_type": "display_data"
    }
   ],
   "source": [
    "the_set = LabeledSet(2)\n",
    "gauss1=np.random.multivariate_normal([0,0],[[10,0],[0,1]],size=50)\n",
    "gauss2=np.random.multivariate_normal([0,3],[[100,0],[0,1]],size=50)\n",
    "\n",
    "for i in gauss1:\n",
    "    the_set.addExample(i,1)\n",
    "\n",
    "for i in gauss2:\n",
    "    the_set.addExample(i,-1)\n",
    "    \n",
    "\n",
    "percep_test=Perceptron(2,100,1000)\n",
    "percep_test.train(the_set)\n",
    "\n",
    "\n"
   ]
  },
  {
   "cell_type": "markdown",
   "metadata": {},
   "source": [
    "**Questions**\n",
    "- Comment choisir le nombre d'itérations ?\n",
    "- Quelle est l'influence du paramètre `learning_rate`\n",
    "- Que se passe-t-il si le nombre d'exemple d'apprentissage est faible ?"
   ]
  },
  {
   "cell_type": "markdown",
   "metadata": {
    "collapsed": true
   },
   "source": []
  },
  {
   "cell_type": "markdown",
   "metadata": {
    "collapsed": true
   },
   "source": [
    "## Étape 2: Données XOR\n",
    "\n",
    "Générer une base de données, appelée XOR par la suite, contenant:\n",
    "- deux gaussiennes centrées en (0,0) et (1,1) correspondant à des exemples positifs\n",
    "- deux gaussiennes centrées en (1,0) et (0,1) correspondant à des exemples négatifs"
   ]
  },
  {
   "cell_type": "code",
   "execution_count": 25,
   "metadata": {},
   "outputs": [
    {
     "data": {
      "image/png": "[encoded data removed]",
      "text/plain": [
       "<matplotlib.figure.Figure at 0x7f86eaad1750>"
      ]
     },
     "metadata": {},
     "output_type": "display_data"
    }
   ],
   "source": [
    "the_setxor = LabeledSet(2)\n",
    "gauss1=np.random.multivariate_normal([-1,-1],[[0.005,0],[0,0.005]],size=50)\n",
    "gauss2=np.random.multivariate_normal([1,1],[[0.005,0],[0,0.005]],size=50)\n",
    "gauss3=np.random.multivariate_normal([-1,1],[[0.005,0],[0,0.005]],size=50)\n",
    "gauss4=np.random.multivariate_normal([1,-1],[[0.005,0],[0,0.005]],size=50)\n",
    "\n",
    "for i in gauss1:\n",
    "    the_setxor.addExample(i,1)\n",
    "    \n",
    "for i in gauss2:\n",
    "    the_setxor.addExample(i,1)\n",
    "\n",
    "for i in gauss3:\n",
    "    the_setxor.addExample(i,-1)\n",
    "    \n",
    "for i in gauss4:\n",
    "    the_setxor.addExample(i,-1)\n",
    "    \n",
    "\n",
    "\n",
    "percep_xor=Perceptron(2,0.5,1000)\n",
    "percep_xor.train(the_setxor)"
   ]
  },
  {
   "cell_type": "markdown",
   "metadata": {},
   "source": [
    "**Questions**\n",
    "- Que se passe-t-il quand on apprend un perceptron ?\n",
    "- Quel est le problème ?"
   ]
  },
  {
   "cell_type": "markdown",
   "metadata": {},
   "source": [
    "Le perceptron n'est pas bon sur ce type de base de donnée.\n",
    "Ceci est du au fait que les données sont symétriques par rapport à un point et pas par rapport à une droite donc déterminer une frontiere linéaire est impossible."
   ]
  },
  {
   "cell_type": "markdown",
   "metadata": {},
   "source": [
    "## Étape 4: Protocole expérimental\n",
    "\n",
    "Attention, lorsque vous testez un classifieur, il est nécessaire de considérer à la fois un ensemble d'apprentissage et un ensemble de test. La performance doit être évaluée sur l'ensemble de test (et non pas sur l'ensemble d'apprentissage)."
   ]
  },
  {
   "cell_type": "markdown",
   "metadata": {},
   "source": [
    "Évaluer les performances du perceptron selon différentes valeurs des hyper-paramètres (*learning rate*, nombre d'itérations), tracer les courbes d'apprentissage et les frontières de décisions. Commenter."
   ]
  },
  {
   "cell_type": "code",
   "execution_count": null,
   "metadata": {},
   "outputs": [],
   "source": []
  },
  {
   "cell_type": "markdown",
   "metadata": {},
   "source": [
    "Tracer des courbes indiquant les performances en fonction des hyper-paramètres. Commenter."
   ]
  },
  {
   "cell_type": "code",
   "execution_count": null,
   "metadata": {},
   "outputs": [],
   "source": []
  },
  {
   "cell_type": "markdown",
   "metadata": {},
   "source": [
    "## Étape 5 : données réelles UCI"
   ]
  },
  {
   "cell_type": "code",
   "execution_count": 26,
   "metadata": {},
   "outputs": [
    {
     "name": "stdout",
     "output_type": "stream",
     "text": [
      "(683, 10)\n"
     ]
    }
   ],
   "source": [
    "from sklearn.datasets import fetch_mldata\n",
    "\n",
    "def loadFile(name):\n",
    "    data = fetch_mldata(name, data_home='.')\n",
    "    print(data.data.shape)\n",
    "    unique=np.unique(data.target)\n",
    "    for i in range(len(data.target)):\n",
    "        if (data.target[i]==unique[0]):\n",
    "            data.target[i]=1\n",
    "        else:\n",
    "            data.target[i]=-1\n",
    "            \n",
    "    return data\n",
    "            \n",
    "data = loadFile('breast-cancer_scale')\n",
    "#Les donnees sont dans data.data et data.target"
   ]
  },
  {
   "cell_type": "code",
   "execution_count": 27,
   "metadata": {},
   "outputs": [],
   "source": [
    "def split(dataset, percent):\n",
    "    \n",
    "    dataset1 = LabeledSet(dataset.data.shape[1])\n",
    "    dataset2 = LabeledSet(dataset.data.shape[1])\n",
    "    \n",
    "    for i in range(int(dataset.data.shape[0]*percent)):\n",
    "        dataset1.addExample(dataset.data[i], dataset.target[i])\n",
    "        \n",
    "        \n",
    "    for i in range(int(dataset.data.shape[0]*percent), dataset.data.shape[0]):\n",
    "        dataset2.addExample(dataset.data[i], dataset.target[i])\n",
    "\n",
    "    return dataset1, dataset2\n",
    "\n"
   ]
  },
  {
   "cell_type": "code",
   "execution_count": 30,
   "metadata": {},
   "outputs": [
    {
     "data": {
      "text/plain": [
       "0.9506398537477148"
      ]
     },
     "execution_count": 30,
     "metadata": {},
     "output_type": "execute_result"
    },
    {
     "data": {
      "image/png": "[encoded data removed]",
      "text/plain": [
       "<matplotlib.figure.Figure at 0x7f86eaf3a650>"
      ]
     },
     "metadata": {},
     "output_type": "display_data"
    }
   ],
   "source": [
    "dataset_train , dataset_test = split(data, 0.20)\n",
    "    \n",
    "percp=Perceptron(data.data.shape[1],0.5,1000)      \n",
    "percp.train(dataset_train)   \n",
    "\n",
    "percp.accuracy(dataset_test)\n"
   ]
  },
  {
   "cell_type": "code",
   "execution_count": 31,
   "metadata": {},
   "outputs": [
    {
     "data": {
      "image/png": "[encoded data removed]",
      "text/plain": [
       "<matplotlib.figure.Figure at 0x7f86ed237150>"
      ]
     },
     "metadata": {},
     "output_type": "display_data"
    }
   ],
   "source": [
    "plot2DSet(dataset_test) "
   ]
  },
  {
   "cell_type": "code",
   "execution_count": 20,
   "metadata": {},
   "outputs": [
    {
     "data": {
      "text/plain": [
       "array([ 1,  2,  3,  5, -1])"
      ]
     },
     "execution_count": 20,
     "metadata": {},
     "output_type": "execute_result"
    }
   ],
   "source": [
    "np.hstack(([1,2,3,5], [-1]))"
   ]
  },
  {
   "cell_type": "markdown",
   "metadata": {},
   "source": [
    "Sur ces données réelles, évaluer les performances du perceptron, selon la valeur des hyper-paramètres et comparer aux performances de $k$-NN (avec plusieurs valeurs de $k$. Réfléchir à une façon de choisir la meilleur valeur des hyper-paramètres."
   ]
  },
  {
   "cell_type": "code",
   "execution_count": null,
   "metadata": {
    "collapsed": true
   },
   "outputs": [],
   "source": []
  },
  {
   "cell_type": "markdown",
   "metadata": {},
   "source": [
    "# Kernel biais"
   ]
  },
  {
   "cell_type": "code",
   "execution_count": 143,
   "metadata": {
    "collapsed": true
   },
   "outputs": [],
   "source": [
    "class Kernelbiais(Classifier):\n",
    "    \n",
    "    def __init__(self, input_dimension, learning_rate, nombre_iterations):\n",
    "        self.dim=input_dimension\n",
    "        self.lg_rate=learning_rate\n",
    "        self.nbr_it=nombre_iterations\n",
    "        self.w=np.random.rand(self.dim+3)\n",
    "        self.labeledset=None\n",
    "        \n",
    "    def transform(self, x):\n",
    "        return np.append(x, [x[0]*x[1], x[0]*x[0], x[1]*x[1]])\n",
    "        \n",
    "    \n",
    "    def train(self, labeledset):\n",
    "        \n",
    "        self.labeledset=labeledset\n",
    "        \n",
    "        list_acc=[]\n",
    "        list_it=[]\n",
    "        ls=np.arange(labeledset.size())\n",
    "        np.random.shuffle(ls)\n",
    "        \n",
    "        \n",
    "        \n",
    "        for i in range(self.nbr_it):\n",
    "            \n",
    "            for j in ls:\n",
    "                point = self.labeledset.getX(j)\n",
    "                point2 = self.transform(point)\n",
    "                \n",
    "                \n",
    "                if(self.labeledset.getY(j)*self.predict(point)<0):\n",
    "                    \n",
    "                    #self.w = self.w + self.lg_rate*self.labeledset.getY(j)*np.hstack((point,[-1]))\n",
    "                    self.w = self.w + self.lg_rate*self.labeledset.getY(j)*point2\n",
    "            \n",
    "            if(i%10==0):\n",
    "                list_acc.append(self.accuracy(self.labeledset))\n",
    "                list_it.append(i)\n",
    "        \n",
    "        print(self.w)\n",
    "        plt.subplot(121)\n",
    "        plt.plot(list_it,list_acc)\n",
    "        \n",
    "        plt.subplot(122)\n",
    "        plot_frontiere(self.labeledset,self,20)\n",
    "        plot2DSet(self.labeledset)\n",
    "        \n",
    "    def predict(self, x):\n",
    "        \n",
    "        scalar = np.dot(self.w, self.transform(x))\n",
    "        if(scalar >= 0):\n",
    "            return 1     \n",
    "        return -1"
   ]
  },
  {
   "cell_type": "code",
   "execution_count": 144,
   "metadata": {},
   "outputs": [
    {
     "name": "stdout",
     "output_type": "stream",
     "text": [
      "[ 0.24205047  0.0464225   1.98505798 -0.23034016 -0.22140406]\n"
     ]
    },
    {
     "data": {
      "image/png": "[encoded data removed]",
      "text/plain": [
       "<matplotlib.figure.Figure at 0x7eff42f02050>"
      ]
     },
     "metadata": {},
     "output_type": "display_data"
    }
   ],
   "source": [
    "ker_xor=Kernelbiais(2,0.5,1000)\n",
    "ker_xor.train(the_setxor)"
   ]
  }
 ],
 "metadata": {
  "kernelspec": {
   "display_name": "Python 2",
   "language": "python",
   "name": "python2"
  },
  "language_info": {
   "codemirror_mode": {
    "name": "ipython",
    "version": 2
   },
   "file_extension": ".py",
   "mimetype": "text/x-python",
   "name": "python",
   "nbconvert_exporter": "python",
   "pygments_lexer": "ipython2",
   "version": "2.7.9"
  }
 },
 "nbformat": 4,
 "nbformat_minor": 1
}
