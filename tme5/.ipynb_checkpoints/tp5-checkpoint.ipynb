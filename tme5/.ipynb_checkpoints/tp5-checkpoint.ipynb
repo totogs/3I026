{
 "cells": [
  {
   "cell_type": "markdown",
   "metadata": {},
   "source": [
    "IA & Data science -- 2017-2018\n",
    "--------\n",
    "*&copy; Equipe pédagogique: Ludovic Denoyer, Thibault Laugel, Marie-Jeanne Lesot, Christophe Marsala, Olivier Schwander*"
   ]
  },
  {
   "cell_type": "markdown",
   "metadata": {},
   "source": [
    "# TD-TME05: les arbres de décision\n",
    "\n",
    "L'objectif de ce TP est d'implémenter un algorithme d'apprentissage supervisé, l'algorithme de construction d'arbres de décision (cours 6).\n",
    "\n",
    "Comme pour les k-nn, nous allons nous restreindre à un cas binaire où les données sont étiquetées $+1$ ou $-1$. De plus, nous allons ne considérer que le cas où les attributs sont tous numériques."
   ]
  },
  {
   "cell_type": "markdown",
   "metadata": {},
   "source": [
    "<font size=\"+1\">**[Q]**</font> **Indiquer dans la boîte ci-dessous vos noms et prénoms :**"
   ]
  },
  {
   "cell_type": "markdown",
   "metadata": {},
   "source": [
    "*Double-cliquer ici et insérer les noms et prénoms de votre binôme*"
   ]
  },
  {
   "cell_type": "markdown",
   "metadata": {},
   "source": [
    "<font color=\"RED\" size=\"+1\">IMPORTANT: soumission de votre fichier final</font>\n",
    "\n",
    "**Nom à donner au fichier à poster** : *Nom1_Nom2.ipynb* \n",
    "- *Nom1* et *Nom2* : noms des membres du binôme\n",
    "- ne pas compresser ou faire une archive: envoyer le fichier ipython tel quel, éventuellement, si vous avez d'autres fichiers à envoyer, vous les joignez au message."
   ]
  },
  {
   "cell_type": "markdown",
   "metadata": {},
   "source": [
    "## Préparation\n",
    "\n",
    "Copier l'archive dans votre répertoire de travail: <code>/users/Enseignants/marsala/iads/tp5.tgz</code>\n",
    "\n",
    "Décompresser l'archive, elle crée le répertoire \"tp5\" qui contient un fichier ipython à ouvrir (ce fichier-ci) et un sous-répertoire \"data\" contenant les bases d'apprentissage utilisées dans ce TP.\n",
    "\n",
    "Le but de ce TP est de compléter ce document ipython en ajoutant les fonctions demandées. Avant de commencer, exécuter le bloc suivant afin de pouvoir initialiser des variables utiles \n"
   ]
  },
  {
   "cell_type": "code",
   "execution_count": 1,
   "metadata": {
    "collapsed": true
   },
   "outputs": [],
   "source": [
    "# imports utiles\n",
    "import numpy as np\n",
    "import pandas as pd"
   ]
  },
  {
   "cell_type": "markdown",
   "metadata": {
    "collapsed": true
   },
   "source": [
    "## Etape 1: Retour sur les TD-TME précédents\n",
    "\n",
    "Cette partie a été réalisée lors du TD-TME précédent, reprenez ce que vous avez fait en copier-collant votre travail de la semaine dernière.\n",
    "\n",
    "Reprendre la classe <code>LabeledSet</code> du TD_TME précédent pour stocker les données d'apprentissage, de validation et de test. Cette classe permet de stocker des couples $\\{(x_1,y_1),...,(x_n,y_n)\\}$. Les $x_i$ et $y_i$ seront des tableaux numpy. "
   ]
  },
  {
   "cell_type": "markdown",
   "metadata": {},
   "source": [
    "### Génération de données ''Jouet''\n",
    "\n",
    "Comme lors des TD_TME précédents, les fonctions seront testées sur des données \"jouet\" générées selon des distributions choisies à la main. Commençons par un dataset en 2 dimensions (entrée) et 1 dimension (sortie): $x_i \\in \\mathbb{R}^2$, $y_i \\in [-1;+1]$ telles que les données sont généres selon deux Gaussiennes. Pour cela, nous utiliserons la fonction numpy.random.multivariate_normal  - http://docs.scipy.org/doc/numpy/reference/generated/numpy.random.multivariate_normal.html \n",
    "\n",
    "* ''positive_center'' est le centre de la gaussienne des points positifs (vecteur de taille 2)\n",
    "* ''positive_sigma'' est la variance de la gaussienne (sous forme de matrice 2*2)\n",
    "* Idem pour ''negative''\n",
    "\n",
    "* Générer une premiere gaussienne associée au label $+1$\n",
    "* Y rajouter une seconde gaussienne associée au label $-1$\n",
    "\n",
    "<font size=\"+1\">**[Q]**</font>  Dans un premier temps, pour mettre au point les fonctions, génerer une base jouet assez petite (par exemple, 10 exemples de chaque classe)."
   ]
  },
  {
   "cell_type": "code",
   "execution_count": 2,
   "metadata": {
    "collapsed": true
   },
   "outputs": [],
   "source": [
    "class LabeledSet:  \n",
    "    \n",
    "    def __init__(self, input_dimension):\n",
    "        self.input_dimension = input_dimension\n",
    "        self.nb_examples = 0\n",
    "    \n",
    "    def addExample(self,vector,label):\n",
    "        if (self.nb_examples == 0):\n",
    "            self.x = np.array([vector])\n",
    "            self.y = np.array([label])\n",
    "        else:\n",
    "            self.x = np.vstack((self.x, vector))\n",
    "            self.y = np.vstack((self.y, label))\n",
    "        \n",
    "        self.nb_examples = self.nb_examples + 1\n",
    "    \n",
    "    #Renvoie la dimension de l'espace d'entrée\n",
    "    def getInputDimension(self):\n",
    "        return self.input_dimension\n",
    "    \n",
    "    #Renvoie le nombre d'exemples dans le set\n",
    "    def size(self):\n",
    "        return self.nb_examples\n",
    "    \n",
    "    #Renvoie la valeur de x_i\n",
    "    def getX(self, i):\n",
    "        return self.x[i]\n",
    "        \n",
    "    \n",
    "    #Renvouie la valeur de y_i\n",
    "    def getY(self, i):\n",
    "        return(self.y[i])"
   ]
  },
  {
   "cell_type": "code",
   "execution_count": 60,
   "metadata": {
    "collapsed": true
   },
   "outputs": [],
   "source": [
    "gauss1=np.random.multivariate_normal([1,1],[[10,0],[0,1]],size=10)\n",
    "gauss2=np.random.multivariate_normal([-1,-1],[[10,0],[0,1]],size=10)\n",
    "\n",
    "the_set = LabeledSet(2)\n",
    "\n",
    "for i in gauss1:\n",
    "    the_set.addExample(i,1)\n",
    "\n",
    "for i in gauss2:\n",
    "    the_set.addExample(i,-1)"
   ]
  },
  {
   "cell_type": "code",
   "execution_count": 61,
   "metadata": {},
   "outputs": [
    {
     "data": {
      "text/plain": [
       "array([[  2.14940949e+00,   3.14969894e-01],\n",
       "       [  5.73738605e+00,   8.90147860e-01],\n",
       "       [  2.36773920e+00,   3.01148778e+00],\n",
       "       [  4.33974605e+00,   1.07594907e+00],\n",
       "       [  2.76620812e-03,   1.73360372e+00],\n",
       "       [ -5.37625113e+00,   1.60381496e+00],\n",
       "       [  6.81610013e-01,   2.52164450e-01],\n",
       "       [ -4.02262278e+00,   4.50376072e-02],\n",
       "       [  1.07442917e+00,  -5.98798860e-01],\n",
       "       [ -2.21655705e+00,   1.53134200e+00]])"
      ]
     },
     "execution_count": 61,
     "metadata": {},
     "output_type": "execute_result"
    }
   ],
   "source": [
    "# the_set = ... # définition d'un LabeledSet avec la fonction précédente\n",
    "\n",
    "S= the_set.x[np.where(the_set.y == 1),:]\n",
    "S[0]\n"
   ]
  },
  {
   "cell_type": "markdown",
   "metadata": {},
   "source": [
    "Le dataset peut être affiché en utilisant matplotlib (pour vérifier). Nous utiliserons la commande matplotlib.pyplot.scatter permettant de dessiner un nuage de points - http://matplotlib.org/api/pyplot_api.html#matplotlib.pyplot.scatter -"
   ]
  },
  {
   "cell_type": "code",
   "execution_count": 62,
   "metadata": {},
   "outputs": [],
   "source": [
    "import matplotlib.pyplot as plt\n",
    "%matplotlib inline \n",
    "\n",
    "def plot2DSet(set):\n",
    "    \"\"\" LabeledSet -> NoneType\n",
    "        Hypothèse: set est de dimension 2\n",
    "        affiche une représentation graphique du LabeledSet\n",
    "        remarque: l'ordre des labels dans set peut être quelconque\n",
    "    \"\"\"\n",
    "    S_pos = set.x[np.where(set.y == 1),:][0]      # tous les exemples de label +1\n",
    "    S_neg = set.x[np.where(set.y == -1),:][0]     # tous les exemples de label -1\n",
    "    plt.scatter(S_pos[:,0],S_pos[:,1],marker='o')\n",
    "    plt.scatter(S_neg[:,0],S_neg[:,1],marker='x')"
   ]
  },
  {
   "cell_type": "code",
   "execution_count": 63,
   "metadata": {},
   "outputs": [
    {
     "data": {
      "image/png": "[encoded data removed]",
      "text/plain": [
       "<matplotlib.figure.Figure at 0x7f967d1c80f0>"
      ]
     },
     "metadata": {},
     "output_type": "display_data"
    }
   ],
   "source": [
    "# Essai de la fonction : (the_set : variable du dataset généré précédemment)\n",
    "plot2DSet(the_set)"
   ]
  },
  {
   "cell_type": "markdown",
   "metadata": {},
   "source": [
    "### Les classifieurs\n",
    "\n",
    "La classe <code>Classifier</code> sert toujours de classe de base: l'algorithme d'apprentissage par arbres de décision est un nouveau type de Classifier que l'on va créer.\n"
   ]
  },
  {
   "cell_type": "code",
   "execution_count": 64,
   "metadata": {
    "collapsed": true
   },
   "outputs": [],
   "source": [
    "class Classifier:\n",
    "    def __init__(self,input_dimension):\n",
    "        \"\"\" Constructeur \"\"\"\n",
    "        raise NotImplementedError(\"Please Implement this method\")\n",
    "    \n",
    "    \n",
    "    # Permet de calculer la prediction sur x => renvoie un score\n",
    "    def predict(self,x):\n",
    "        raise NotImplementedError(\"Please Implement this method\")\n",
    "\n",
    "    \n",
    "    # Permet d'entrainer le modele sur un ensemble de données\n",
    "    def train(self,labeledSet):\n",
    "        raise NotImplementedError(\"Please Implement this method\")\n",
    "    \n",
    "    #Permet de calculer la qualité du système \n",
    "    def accuracy(self, dataset):\n",
    "        nb_ok = 0\n",
    "        for i in range(dataset.size()):\n",
    "            output = self.predict(dataset.getX(i))\n",
    "            if (output * dataset.getY(i) > 0):\n",
    "                nb_ok = nb_ok + 1\n",
    "        acc = nb_ok / (dataset.size() * 1.0)\n",
    "        return acc    "
   ]
  },
  {
   "cell_type": "code",
   "execution_count": 65,
   "metadata": {
    "collapsed": true
   },
   "outputs": [],
   "source": [
    "class ClassifierRandom(Classifier):\n",
    "    \n",
    "    def __init__(self,input_dimension):\n",
    "        self.input_dimension=input_dimension\n",
    "        self.labeledset=None\n",
    "\n",
    "    \n",
    "    def predict(self,x):\n",
    "        scal=0;\n",
    "        for i in range(0,self.input_dimension):\n",
    "            scal=scal+x[i]*self.w[i]\n",
    "        \n",
    "        return scal\n",
    "    \n",
    "    def train(self, labeledset):\n",
    "        self.labeledset=labeledset\n",
    "        self.w=np.random.rand(self.input_dimension)\n",
    "        \n",
    "        \n",
    "        for i in range(0,self.input_dimension):\n",
    "            self.w[i]=(self.w[i]*2)-1"
   ]
  },
  {
   "cell_type": "markdown",
   "metadata": {},
   "source": [
    "On reprend la fonction suivante, utilisée lors des TD-TME précédent, pour dessiner la frontière de décision d'un classifieur."
   ]
  },
  {
   "cell_type": "code",
   "execution_count": 66,
   "metadata": {
    "collapsed": true,
    "scrolled": true
   },
   "outputs": [],
   "source": [
    "def plot_frontiere(set,classifier,step=20):\n",
    "    \"\"\" LabeledSet * Classifier * int -> NoneType\n",
    "        Remarque: le 3e argument est optionnel et donne la \"résolution\" du tracé\n",
    "        affiche la frontière de décision associée au classifieur\n",
    "    \"\"\"\n",
    "    mmax = set.x.max(0)\n",
    "    mmin = set.x.min(0)\n",
    "    x1grid, x2grid = np.meshgrid(np.linspace(mmin[0], mmax[0], step), np.linspace(mmin[1], mmax[1], step))\n",
    "    grid = np.hstack((x1grid.reshape(x1grid.size, 1), x2grid.reshape(x2grid.size, 1)))\n",
    "    \n",
    "    # calcul de la prediction pour chaque point de la grille\n",
    "    res = np.array([classifier.predict(grid[i,:]) for i in range(len(grid)) ])\n",
    "    res = res.reshape(x1grid.shape)\n",
    "    # tracé des frontieres\n",
    "    plt.contourf(x1grid, x2grid, res, colors=[\"red\", \"cyan\"], levels=[-1000,0,1000], linewidth=2)    "
   ]
  },
  {
   "cell_type": "code",
   "execution_count": 67,
   "metadata": {},
   "outputs": [
    {
     "data": {
      "image/png": "[encoded data removed]",
      "text/plain": [
       "<matplotlib.figure.Figure at 0x7f9686d579b0>"
      ]
     },
     "metadata": {},
     "output_type": "display_data"
    }
   ],
   "source": [
    "# Exemple d'utilisation:\n",
    "classifieur_random=ClassifierRandom(2)   # test avec la classe écrite dans les séances précédentes\n",
    "\n",
    "classifieur_random.train(the_set)        # the_set a été initialisé précédemment\n",
    "\n",
    "plot_frontiere(the_set,classifieur_random)   # on trace la frontière\n",
    "plot2DSet(the_set)                           # on affiche le LabeledSet dessus\n"
   ]
  },
  {
   "cell_type": "markdown",
   "metadata": {},
   "source": [
    "<font size=\"+1\">**[Q]**</font> Ecrire la fonction <code>classe_majoritaire()</code> qui, étant donné un LabeledSet rend la classe majoritaire dans l'ensemble (celle qui est possédée par le plus grand nombre d'exemples donc...). En cas d'égalité, cette fonction rend la classe +1."
   ]
  },
  {
   "cell_type": "code",
   "execution_count": 68,
   "metadata": {
    "collapsed": true
   },
   "outputs": [],
   "source": [
    "def classe_majoritaire(labeledset):\n",
    "    \n",
    "    cpt=0\n",
    "    \n",
    "    for i in range(labeledset.size()):\n",
    "        if(labeledset.getY(i)==1):\n",
    "            cpt+=1\n",
    "            \n",
    "    if(cpt>=labeledset.size()/2):\n",
    "        return 1\n",
    "    else:\n",
    "        return -1"
   ]
  },
  {
   "cell_type": "code",
   "execution_count": 69,
   "metadata": {},
   "outputs": [
    {
     "data": {
      "text/plain": [
       "1"
      ]
     },
     "execution_count": 69,
     "metadata": {},
     "output_type": "execute_result"
    }
   ],
   "source": [
    "classe_majoritaire(the_set)"
   ]
  },
  {
   "cell_type": "markdown",
   "metadata": {},
   "source": [
    "## Etape 2: Arbres de décision\n",
    "\n",
    "Dans cet étape, on réalise l'implémentation de l'algorithme de construction d'un arbre de décision."
   ]
  },
  {
   "cell_type": "markdown",
   "metadata": {},
   "source": [
    "### Entropie et gain d'information\n",
    "\n",
    "Dans un premier temps, il est nécessaire écrire des fonctions pour calculer l'entropie et le gain d'information vus dans le cours 6.\n",
    "\n",
    "Etant donné une distribution de probabilités $P=(p_1, p_2,..., p_k)$, l'entropie de Shannon de cette distribution est donnée par:\n",
    "\n",
    "$ H_S(P) = -\\sum_{i=1}^{k} p_i \\log_k(p_i)$\n",
    "\n",
    "Par convention, on considère que $0\\log_k(0) = 0$. \n",
    "\n",
    "Le logarithme utilisé est le logarithme en base $k$ afin d'obtenir une valeur normalisée de l'entropie. La base du logarithme est donc $k$, le nombre de classes présentes dans la base au maximum.\n",
    "\n",
    "Dans ce qui suit, en Python, une *distribution de probabilités* est représentée par une liste $P=[p_1,...,p_k]$ de valeurs réelles telle que\n",
    "* pour tout $i=1,..., k$ : $0 \\leq p_i \\leq 1$\n",
    "* $\\sum_{i=1}^{k}p_i = 1$\n"
   ]
  },
  {
   "cell_type": "markdown",
   "metadata": {},
   "source": [
    "<font size=\"+1\">**[Q]**</font> Ecrire la fonction <code>shannon()</code> qui, étant donné une distribution de probabilités $P$, rend la valeur de l'entropie de Shannon correspondante.\n",
    "\n",
    "Remarque: pour nous, en Python, $P$ est représentée par une liste de $k$ valeurs de $[0, 1]$ telle que la somme de toutes les valeurs vaut $1$."
   ]
  },
  {
   "cell_type": "code",
   "execution_count": 70,
   "metadata": {
    "collapsed": true
   },
   "outputs": [],
   "source": [
    "import math\n",
    "\n",
    "def shannon(P):\n",
    "    k=len(P)\n",
    "    HsP=0\n",
    "    if(k==1):\n",
    "        return 0.0\n",
    "    \n",
    "    for pi in P:\n",
    "        if(pi>0.0):\n",
    "            HsP+=pi*math.log(pi,k)\n",
    "        \n",
    "    return -HsP\n",
    "\n",
    "\n",
    "        "
   ]
  },
  {
   "cell_type": "code",
   "execution_count": 71,
   "metadata": {},
   "outputs": [
    {
     "data": {
      "text/plain": [
       "-0.0"
      ]
     },
     "execution_count": 71,
     "metadata": {},
     "output_type": "execute_result"
    }
   ],
   "source": [
    "shannon([1, 0])"
   ]
  },
  {
   "cell_type": "code",
   "execution_count": 72,
   "metadata": {},
   "outputs": [
    {
     "data": {
      "text/plain": [
       "1.0"
      ]
     },
     "execution_count": 72,
     "metadata": {},
     "output_type": "execute_result"
    }
   ],
   "source": [
    "shannon([0.5, 0.5])"
   ]
  },
  {
   "cell_type": "code",
   "execution_count": 73,
   "metadata": {},
   "outputs": [
    {
     "data": {
      "text/plain": [
       "1.0"
      ]
     },
     "execution_count": 73,
     "metadata": {},
     "output_type": "execute_result"
    }
   ],
   "source": [
    "shannon([0.25, 0.25, 0.25, 0.25])"
   ]
  },
  {
   "cell_type": "code",
   "execution_count": 74,
   "metadata": {},
   "outputs": [
    {
     "data": {
      "text/plain": [
       "0.5783898247235197"
      ]
     },
     "execution_count": 74,
     "metadata": {},
     "output_type": "execute_result"
    }
   ],
   "source": [
    "shannon([0.7, 0.1, 0.2, 0.0])"
   ]
  },
  {
   "cell_type": "code",
   "execution_count": 75,
   "metadata": {},
   "outputs": [
    {
     "data": {
      "text/plain": [
       "0.9182958340544896"
      ]
     },
     "execution_count": 75,
     "metadata": {},
     "output_type": "execute_result"
    }
   ],
   "source": [
    "shannon([1.0/3, 2.0/3])"
   ]
  },
  {
   "cell_type": "markdown",
   "metadata": {},
   "source": [
    "<font size=\"+1\">**[Q]**</font> A l'aide de la fonction <code>shannon()</code>, écrire la fonction <code>entropie()</code> qui prend un LabeledSet en argument et renvoie l'entropie de sa distribution des classes dans cet ensemble."
   ]
  },
  {
   "cell_type": "code",
   "execution_count": 76,
   "metadata": {
    "collapsed": true
   },
   "outputs": [],
   "source": [
    "def entropie(dataset):\n",
    "    \n",
    "    card = dataset.size()\n",
    "    dimension = dataset.getInputDimension()\n",
    "    \n",
    "    distrib = dict()\n",
    "    \n",
    "    for i in range(dataset.size()):\n",
    "        yi=dataset.getY(i)[0]\n",
    "        \n",
    "        if(yi in distrib):\n",
    "            distrib[yi] +=1\n",
    "        else:\n",
    "            distrib[yi] = 1\n",
    "        \n",
    "    sha = [float(val)/card for val in distrib.values()]\n",
    "    \n",
    "    return shannon(sha)\n",
    "        "
   ]
  },
  {
   "cell_type": "code",
   "execution_count": 77,
   "metadata": {},
   "outputs": [
    {
     "data": {
      "text/plain": [
       "1.0"
      ]
     },
     "execution_count": 77,
     "metadata": {},
     "output_type": "execute_result"
    }
   ],
   "source": [
    "entropie(the_set)"
   ]
  },
  {
   "cell_type": "markdown",
   "metadata": {},
   "source": [
    "### Discrétisation des attributs numériques"
   ]
  },
  {
   "cell_type": "markdown",
   "metadata": {
    "collapsed": true
   },
   "source": [
    "Discrétiser un attribut numérique consiste en trouver un seuil de coupure dans son ensemble de valeurs. Pour trouver ce seuil, on sélectionne le point de coupure qui optimise la distribution des classes des exemples de chaque côté du seuil.\n",
    "\n",
    "Par exemple, soit l'attribut Age contenant les valeurs 17, 18, 20, 27, 35, 37, 40. On discrétise cet attribut en 2 valeurs en déterminant un seuil de coupure comme, par exemple, le seuil 30: cela permet de séparer d'un côté les valeurs inférieures ou égales à 30, et de l'autre les valeurs strictement supérieures à 30.\n",
    "\n",
    "Soit $E$ un ensemble d'exemples, et soit $X$ un attribut que l'on veut discrétiser. Pour cela, on constitue l'ensemble des valeurs prises par les exemples de $E$ pour l'attribut $X$. Soit $X_E$ cet ensemble de valeurs.\n",
    "La discrétisation de $X_E$ s'effectue par les étapes suivantes:\n",
    "- Etape 1: ordonner de façon croissante les valeurs de $X_E$;\n",
    "- Etape 2: regarder tous les seuils possibles de coupure entre 2 valeurs consécutives de $X_E$ (on prend comme seuil de coupure la valeur entre ces 2 valeurs). Chaque seuil trouvé créé 2 intervalles qui générent 2 sous-ensembles de $E$: \n",
    "    1) l'ensemble $E_1$ des exemples dont la valeur pour l'attribut considéré et inférieure ou égale au seuil, et 2) l'ensemble $E_2$ des exemples dont la valeur pour l'attribut considéré et supérieure au seuil;\n",
    "    - pour chacun des seuils trouvés: \n",
    "        - calculer l'entropie de la distribution des classes pour les exemples de l'ensemble $E_1$, et l'entropie de la distribution des classes  pour les exemples de $E_2$;\n",
    "        - calculer l'entropie moyenne de la coupure engendrée par le seuil considéré:\n",
    "$$H_{moy}(coupure) = \\frac{|E_1|}{|E|} H_S(E_1) + \\frac{|E_2|}{|E|} H_S(E_2);$$\n",
    "\n",
    "\n",
    "La meilleure coupure pour discrétiser $X_E$ est celle qui minimise la valeur $H_{moy}(coupure)$.\n",
    "\n",
    "\n",
    "Par exemple, soit $E=\\{17, 18, 20, 27, 35, 37, 40\\}$, chaque valeur étant associées aux classes +1, +1, -1, -1, +1, +1, -1 respectivement. Un seuil de coupure possible est $31$ ($31 = \\frac{27+35}{2}$). Ce seuil coupe $E$ en $E_1=\\{17, 18, 20, 27\\}$ et $E_2=\\{35, 37, 40\\}$.\n",
    "\n",
    "- pour $E_1$, la probabilité de chaque classe est: $p(+1)= 0.5$ et $p(-1)=0.5$ donc, $H_S(E_1)=1$;\n",
    "- pour $E_2$, la probabilité de chaque classe est: $p(+1)= \\frac{1}{3}$ et $p(-1)=\\frac{2}{3}$ donc, $H_S(E_2)=0.9182958340544896$;\n",
    "- on a donc: $$H_{moy}(coupure par 31) = \\frac{4}{7} H_S(E_1) + \\frac{3}{7} H_S(E_2);$$\n",
    "soit $H_{moy}(coupure par 31) = 0.9182958340544896$"
   ]
  },
  {
   "cell_type": "markdown",
   "metadata": {},
   "source": [
    "On considère que the_set est un LabeledSet construit précédement. Il contient deux variables de type array: x et y.\n",
    "\n",
    "Regarder et tester les instructions suivantes, il faut bien comprendre comment elles fonctionnent car on va utiliser les mêmes principes dans les fonctions à écrire."
   ]
  },
  {
   "cell_type": "code",
   "execution_count": 78,
   "metadata": {},
   "outputs": [
    {
     "data": {
      "text/plain": [
       "array([[ 5, 14],\n",
       "       [16, 10],\n",
       "       [ 7, 15],\n",
       "       [14, 16],\n",
       "       [15, 19],\n",
       "       [ 9, 12],\n",
       "       [13, 18],\n",
       "       [17,  8],\n",
       "       [ 4, 17],\n",
       "       [19, 11],\n",
       "       [ 6,  7],\n",
       "       [ 8,  6],\n",
       "       [12,  0],\n",
       "       [10, 13],\n",
       "       [ 0,  1],\n",
       "       [ 2,  3],\n",
       "       [ 3,  9],\n",
       "       [18,  5],\n",
       "       [ 1,  4],\n",
       "       [11,  2]])"
      ]
     },
     "execution_count": 78,
     "metadata": {},
     "output_type": "execute_result"
    }
   ],
   "source": [
    "ind= np.argsort(the_set.x,axis=0)   # Tri des valeurs de the_set.x selon les colonnes. \n",
    "                                    # La fonction rend un numpy.ndarray contenant autant de \n",
    "                                    # colonnes que the_set.x et dans chaque colonne, on a \n",
    "                                    # la position de l'exemple dans l'ordonnancement croissant.\n",
    "ind # pour afficher"
   ]
  },
  {
   "cell_type": "code",
   "execution_count": null,
   "metadata": {
    "collapsed": true
   },
   "outputs": [],
   "source": []
  },
  {
   "cell_type": "code",
   "execution_count": 79,
   "metadata": {},
   "outputs": [
    {
     "data": {
      "text/plain": [
       "array([[ -5.37625113e+00,   1.60381496e+00],\n",
       "       [ -5.36950770e+00,  -1.92189705e+00],\n",
       "       [ -4.02262278e+00,   4.50376072e-02],\n",
       "       [ -3.16094868e+00,  -2.12001155e+00],\n",
       "       [ -2.81702252e+00,  -2.04700551e+00],\n",
       "       [ -2.21655705e+00,   1.53134200e+00],\n",
       "       [ -2.11803281e+00,   3.95096178e-01],\n",
       "       [ -1.97971903e+00,  -5.60220370e-01],\n",
       "       [  2.76620812e-03,   1.73360372e+00],\n",
       "       [  6.24252623e-01,  -1.33511117e+00],\n",
       "       [  6.81610013e-01,   2.52164450e-01],\n",
       "       [  1.07442917e+00,  -5.98798860e-01],\n",
       "       [  1.59195383e+00,  -1.17706947e+00],\n",
       "       [  1.64901381e+00,  -2.05779669e+00],\n",
       "       [  2.14940949e+00,   3.14969894e-01],\n",
       "       [  2.36773920e+00,   3.01148778e+00],\n",
       "       [  4.33974605e+00,   1.07594907e+00],\n",
       "       [  4.37098306e+00,  -8.39704306e-01],\n",
       "       [  5.73738605e+00,   8.90147860e-01],\n",
       "       [  5.85902401e+00,  -4.80395954e-01]])"
      ]
     },
     "execution_count": 79,
     "metadata": {},
     "output_type": "execute_result"
    }
   ],
   "source": [
    "the_set.x[ind[0:len(the_set.x),0]]  # Rend le numpy.array des exemples de the_set.x ordonnés\n",
    "                                    # selon les indices donnés dans ind (colonne 0)\n"
   ]
  },
  {
   "cell_type": "code",
   "execution_count": 80,
   "metadata": {},
   "outputs": [
    {
     "data": {
      "text/plain": [
       "array([[ 1],\n",
       "       [-1],\n",
       "       [ 1],\n",
       "       [-1],\n",
       "       [-1],\n",
       "       [ 1],\n",
       "       [-1],\n",
       "       [-1],\n",
       "       [ 1],\n",
       "       [-1],\n",
       "       [ 1],\n",
       "       [ 1],\n",
       "       [-1],\n",
       "       [-1],\n",
       "       [ 1],\n",
       "       [ 1],\n",
       "       [ 1],\n",
       "       [-1],\n",
       "       [ 1],\n",
       "       [-1]])"
      ]
     },
     "execution_count": 80,
     "metadata": {},
     "output_type": "execute_result"
    }
   ],
   "source": [
    "the_set.y[ind[0:len(the_set.y),0]]  # Rend le numpy.array des exemples de the_set.y ordonnés\n",
    "                                    # selon les indices donnés dans ind (colonne 0)"
   ]
  },
  {
   "cell_type": "code",
   "execution_count": 81,
   "metadata": {},
   "outputs": [
    {
     "name": "stdout",
     "output_type": "stream",
     "text": [
      "valeur= -2.12001155087 classe=  -1\n",
      "valeur= -2.05779668917 classe=  -1\n",
      "valeur= -2.04700550541 classe=  -1\n",
      "valeur= -1.92189705155 classe=  -1\n",
      "valeur= -1.33511117455 classe=  -1\n",
      "valeur= -1.17706947071 classe=  -1\n",
      "valeur= -0.839704305647 classe=  -1\n",
      "valeur= -0.598798859682 classe=  1\n",
      "valeur= -0.560220370073 classe=  -1\n",
      "valeur= -0.480395954489 classe=  -1\n",
      "valeur= 0.0450376072433 classe=  1\n",
      "valeur= 0.252164449774 classe=  1\n",
      "valeur= 0.314969893754 classe=  1\n",
      "valeur= 0.395096178443 classe=  -1\n",
      "valeur= 0.8901478604 classe=  1\n",
      "valeur= 1.07594907101 classe=  1\n",
      "valeur= 1.53134200201 classe=  1\n",
      "valeur= 1.60381496046 classe=  1\n",
      "valeur= 1.7336037214 classe=  1\n",
      "valeur= 3.01148778082 classe=  1\n"
     ]
    }
   ],
   "source": [
    "colonne = 1    # numéro de la colonne de the_set.x à considérer\n",
    "for v_i in ind[0:len(the_set.x)]:\n",
    "    i = v_i[colonne]\n",
    "    exem = the_set.getX(i)\n",
    "    clas = the_set.getY(i)\n",
    "    print(\"valeur=\",exem[colonne], \"classe= \", clas[0])"
   ]
  },
  {
   "cell_type": "markdown",
   "metadata": {},
   "source": [
    "Etant donné un LabeledSet, ainsi qu'un numéro de colonne à considérer (qui correspond à un des attributs de description), la fonction <code>discrétise()</code> rend un tuple constitué de la valeur de coupure qui minimise l'entropie de Shannon moyenne, et de la valeur de l'entropie trouvée."
   ]
  },
  {
   "cell_type": "code",
   "execution_count": 82,
   "metadata": {
    "collapsed": true
   },
   "outputs": [],
   "source": [
    "def discretise(LSet, col):\n",
    "    \"\"\" LabelledSet * int -> tuple[float, float]\n",
    "        col est le numéro de colonne sur X à discrétiser\n",
    "        rend la valeur de coupure qui minimise l'entropie ainsi que son entropie.\n",
    "    \"\"\"\n",
    "    # initialisation:\n",
    "    min_entropie = 1.1  # on met à une valeur max car on veut minimiser\n",
    "    min_seuil = 0.0     \n",
    "    # trie des valeurs:\n",
    "    ind= np.argsort(LSet.x,axis=0)\n",
    "    \n",
    "    # calcul des distributions des classes pour E1 et E2:\n",
    "    inf_plus  = 0               # nombre de +1 dans E1\n",
    "    inf_moins = 0               # nombre de -1 dans E1\n",
    "    sup_plus  = 0               # nombre de +1 dans E2\n",
    "    sup_moins = 0               # nombre de -1 dans E2       \n",
    "    # remarque: au départ on considère que E1 est vide et donc E2 correspond à E. \n",
    "    # Ainsi inf_plus et inf_moins valent 0. Il reste à calculer sup_plus et sup_moins \n",
    "    # dans E.\n",
    "    for j in range(0,LSet.size()):\n",
    "        if (LSet.getY(j) == -1):\n",
    "            sup_moins += 1\n",
    "        else:\n",
    "            sup_plus += 1\n",
    "    nb_total = (sup_plus + sup_moins) # nombre d'exemples total dans E\n",
    "    \n",
    "    # parcours pour trouver le meilleur seuil:\n",
    "    for i in range(len(LSet.x)-1):\n",
    "        v_ind_i = ind[i]   # vecteur d'indices\n",
    "        courant = LSet.getX(v_ind_i[col])[col]\n",
    "        lookahead = LSet.getX(ind[i+1][col])[col]\n",
    "        val_seuil = (courant + lookahead) / 2.0;\n",
    "        # M-A-J de la distrib. des classes:\n",
    "        # pour réduire les traitements: on retire un exemple de E2 et on le place\n",
    "        # dans E1, c'est ainsi que l'on déplace donc le seuil de coupure.\n",
    "        if LSet.getY(ind[i][col])[0] == -1:\n",
    "            inf_moins += 1\n",
    "            sup_moins -= 1\n",
    "        else:\n",
    "            inf_plus += 1\n",
    "            sup_plus -= 1\n",
    "        # calcul de la distribution des classes de chaque côté du seuil:\n",
    "        nb_inf = (inf_moins + inf_plus)*1.0     # rem: on en fait un float pour éviter\n",
    "        nb_sup = (sup_moins + sup_plus)*1.0     # que ce soit une division entière.\n",
    "        # calcul de l'entropie de la coupure\n",
    "        val_entropie_inf = shannon([inf_moins / nb_inf, inf_plus  / nb_inf])\n",
    "        val_entropie_sup = shannon([sup_moins / nb_sup, sup_plus  / nb_sup])\n",
    "        val_entropie = (nb_inf / nb_total) * val_entropie_inf + (nb_sup / nb_total) * val_entropie_sup\n",
    "        # si cette coupure minimise l'entropie, on mémorise ce seuil et son entropie:\n",
    "        if (min_entropie > val_entropie):\n",
    "            min_entropie = val_entropie\n",
    "            min_seuil = val_seuil\n",
    "    return (min_seuil, min_entropie)"
   ]
  },
  {
   "cell_type": "code",
   "execution_count": 83,
   "metadata": {},
   "outputs": [
    {
     "data": {
      "text/plain": [
       "(-5.3728794140724148, 0.9481008396786845)"
      ]
     },
     "execution_count": 83,
     "metadata": {},
     "output_type": "execute_result"
    }
   ],
   "source": [
    "discretise(the_set,0) # le résultat dépend, bien sûr, de la base jouet"
   ]
  },
  {
   "cell_type": "code",
   "execution_count": 84,
   "metadata": {},
   "outputs": [
    {
     "data": {
      "text/plain": [
       "(-0.21767917362280104, 0.4689955935892812)"
      ]
     },
     "execution_count": 84,
     "metadata": {},
     "output_type": "execute_result"
    }
   ],
   "source": [
    "discretise(the_set,1) # le résultat dépend, bien sûr, de la base jouet"
   ]
  },
  {
   "cell_type": "markdown",
   "metadata": {},
   "source": [
    "Une dernière fonction utile permet de diviser une base d'exemples en 2 sous-bases en utilisant un seuil sur la valeur d'un attribut donné.\n",
    "\n",
    "<font size=\"+1\">**[Q]**</font> Ecrire la fonction divise() dont la spécification est:\n",
    "\n",
    "    def divise(LSet,att,seuil):\n",
    "        \"\"\" LSet: LabeledSet\n",
    "            att : numéro d'attribut\n",
    "            seuil : valeur de seuil\n",
    "            rend le tuple contenant les 2 sous-LabeledSet obtenus par la\n",
    "            division de LSet selon le seuil sur l'attribut att\n",
    "        \"\"\"\n",
    "\n"
   ]
  },
  {
   "cell_type": "code",
   "execution_count": 85,
   "metadata": {
    "collapsed": true
   },
   "outputs": [],
   "source": [
    "def divise(LSet,att,seuil):\n",
    "    \n",
    "    Linf = LabeledSet(LSet.getInputDimension());\n",
    "    Lsup = LabeledSet(LSet.getInputDimension());\n",
    "    \n",
    "    for i in range(len(LSet.x)):\n",
    "        \n",
    "        if(LSet.getX(i)[att]<seuil):\n",
    "            \n",
    "            Linf.addExample(LSet.getX(i),LSet.getY(i))\n",
    "            \n",
    "        else:\n",
    "            \n",
    "            Lsup.addExample(LSet.getX(i), LSet.getY(i))\n",
    "            \n",
    "        \n",
    "    return Linf, Lsup\n",
    "        "
   ]
  },
  {
   "cell_type": "code",
   "execution_count": 86,
   "metadata": {},
   "outputs": [
    {
     "name": "stdout",
     "output_type": "stream",
     "text": [
      "entropie inferieur: 0.9544340029249649  / entropie superieur: 0.9798687566511527\n"
     ]
    }
   ],
   "source": [
    "Linf, Lsup = divise(the_set,0,-0.5)\n",
    "print(\"entropie inferieur:\",entropie(Linf),\" / entropie superieur:\", entropie(Lsup))\n",
    "# remarque: les résultats dépendent de votre base jouet..."
   ]
  },
  {
   "cell_type": "markdown",
   "metadata": {},
   "source": [
    "### Représentation d'un arbre en Python"
   ]
  },
  {
   "cell_type": "markdown",
   "metadata": {},
   "source": [
    "Un arbre de décision est doit être représenté en Python, pour cela, on utilise la classe <code>ArbreBinaire</code> suivante:"
   ]
  },
  {
   "cell_type": "code",
   "execution_count": 87,
   "metadata": {},
   "outputs": [],
   "source": [
    "import graphviz as gv\n",
    "\n",
    "class ArbreBinaire:\n",
    "    def __init__(self):\n",
    "        self.attribut = None   # numéro de l'attribut\n",
    "        self.seuil = None\n",
    "        self.inferieur = None # ArbreBinaire Gauche (valeurs <= au seuil)\n",
    "        self.superieur = None # ArbreBinaire Gauche (valeurs > au seuil)\n",
    "        self.classe = None # Classe si c'est une feuille: -1 ou +1\n",
    "        \n",
    "    def est_feuille(self):\n",
    "        \"\"\" rend True si l'arbre est une feuille \"\"\"\n",
    "        return self.seuil == None\n",
    "    \n",
    "    def ajoute_fils(self,ABinf,ABsup,att,seuil):\n",
    "        \"\"\" ABinf, ABsup: 2 arbres binaires\n",
    "            att: numéro d'attribut\n",
    "            seuil: valeur de seuil\n",
    "        \"\"\"\n",
    "        self.attribut = att\n",
    "        self.seuil = seuil\n",
    "        self.inferieur = ABinf\n",
    "        self.superieur = ABsup\n",
    "    \n",
    "    def ajoute_feuille(self,classe):\n",
    "        \"\"\" classe: -1 ou + 1\n",
    "        \"\"\"\n",
    "        self.classe = classe\n",
    "        \n",
    "    def classifie(self,exemple):\n",
    "        \"\"\" exemple : numpy.array\n",
    "            rend la classe de l'exemple: +1 ou -1\n",
    "        \"\"\"\n",
    "        if self.est_feuille():\n",
    "            return self.classe\n",
    "        if exemple[self.attribut] <= self.seuil:\n",
    "            return self.inferieur.classifie(exemple)\n",
    "        return self.superieur.classifie(exemple)\n",
    "    \n",
    "    def to_graph(self, g, prefixe='A'):\n",
    "        \"\"\" construit une représentation de l'arbre pour pouvoir\n",
    "            l'afficher\n",
    "        \"\"\"\n",
    "        if self.est_feuille():\n",
    "            g.node(prefixe,str(self.classe),shape='box')\n",
    "        else:\n",
    "            g.node(prefixe, str(self.attribut))\n",
    "            self.inferieur.to_graph(g,prefixe+\"g\")\n",
    "            self.superieur.to_graph(g,prefixe+\"d\")\n",
    "            g.edge(prefixe,prefixe+\"g\", '<='+ str(self.seuil))\n",
    "            g.edge(prefixe,prefixe+\"d\", '>'+ str(self.seuil))\n",
    "        \n",
    "        return g"
   ]
  },
  {
   "cell_type": "code",
   "execution_count": null,
   "metadata": {
    "collapsed": true
   },
   "outputs": [],
   "source": []
  },
  {
   "cell_type": "code",
   "execution_count": 88,
   "metadata": {},
   "outputs": [
    {
     "data": {
      "image/svg+xml": [
       "<?xml version=\"1.0\" encoding=\"UTF-8\" standalone=\"no\"?>\n",
       "<!DOCTYPE svg PUBLIC \"-//W3C//DTD SVG 1.1//EN\"\n",
       " \"http://www.w3.org/Graphics/SVG/1.1/DTD/svg11.dtd\">\n",
       "<!-- Generated by graphviz version 2.38.0 (20140413.2041)\n",
       " -->\n",
       "<!-- Title: %3 Pages: 1 -->\n",
       "<svg width=\"134pt\" height=\"131pt\"\n",
       " viewBox=\"0.00 0.00 134.00 131.00\" xmlns=\"http://www.w3.org/2000/svg\" xmlns:xlink=\"http://www.w3.org/1999/xlink\">\n",
       "<g id=\"graph0\" class=\"graph\" transform=\"scale(1 1) rotate(0) translate(4 127)\">\n",
       "<title>%3</title>\n",
       "<polygon fill=\"white\" stroke=\"none\" points=\"-4,4 -4,-127 130,-127 130,4 -4,4\"/>\n",
       "<!-- A -->\n",
       "<g id=\"node1\" class=\"node\"><title>A</title>\n",
       "<ellipse fill=\"none\" stroke=\"black\" cx=\"63\" cy=\"-105\" rx=\"27\" ry=\"18\"/>\n",
       "<text text-anchor=\"middle\" x=\"63\" y=\"-101.3\" font-family=\"Times,serif\" font-size=\"14.00\">nom</text>\n",
       "</g>\n",
       "<!-- Ag -->\n",
       "<g id=\"node2\" class=\"node\"><title>Ag</title>\n",
       "<polygon fill=\"none\" stroke=\"black\" points=\"54,-36 0,-36 0,-0 54,-0 54,-36\"/>\n",
       "<text text-anchor=\"middle\" x=\"27\" y=\"-14.3\" font-family=\"Times,serif\" font-size=\"14.00\">1</text>\n",
       "</g>\n",
       "<!-- A&#45;&gt;Ag -->\n",
       "<g id=\"edge1\" class=\"edge\"><title>A&#45;&gt;Ag</title>\n",
       "<path fill=\"none\" stroke=\"black\" d=\"M49.171,-89.3516C44.2998,-83.4397 39.2368,-76.2955 36,-69 32.8522,-61.9053 30.8051,-53.78 29.4738,-46.171\"/>\n",
       "<polygon fill=\"black\" stroke=\"black\" points=\"32.9377,-45.6687 28.0661,-36.2603 26.0073,-46.6532 32.9377,-45.6687\"/>\n",
       "<text text-anchor=\"middle\" x=\"56.5\" y=\"-57.8\" font-family=\"Times,serif\" font-size=\"14.00\">&lt;=42.0</text>\n",
       "</g>\n",
       "<!-- Ad -->\n",
       "<g id=\"node3\" class=\"node\"><title>Ad</title>\n",
       "<polygon fill=\"none\" stroke=\"black\" points=\"126,-36 72,-36 72,-0 126,-0 126,-36\"/>\n",
       "<text text-anchor=\"middle\" x=\"99\" y=\"-14.3\" font-family=\"Times,serif\" font-size=\"14.00\">2</text>\n",
       "</g>\n",
       "<!-- A&#45;&gt;Ad -->\n",
       "<g id=\"edge2\" class=\"edge\"><title>A&#45;&gt;Ad</title>\n",
       "<path fill=\"none\" stroke=\"black\" d=\"M70.1124,-87.2067C75.1581,-75.2934 82.032,-59.0634 87.8086,-45.4242\"/>\n",
       "<polygon fill=\"black\" stroke=\"black\" points=\"91.102,-46.6225 91.7791,-36.0493 84.6563,-43.8925 91.102,-46.6225\"/>\n",
       "<text text-anchor=\"middle\" x=\"99.5\" y=\"-57.8\" font-family=\"Times,serif\" font-size=\"14.00\">&gt;42.0</text>\n",
       "</g>\n",
       "</g>\n",
       "</svg>\n"
      ],
      "text/plain": [
       "<graphviz.dot.Digraph at 0x7f9686c0d080>"
      ]
     },
     "execution_count": 88,
     "metadata": {},
     "output_type": "execute_result"
    }
   ],
   "source": [
    "# Exemple d'utilisation: \n",
    "un_arbre= ArbreBinaire()\n",
    "un_arbre.ajoute_feuille(1)\n",
    "un_arbre.est_feuille()\n",
    "un_arbre1 = ArbreBinaire()\n",
    "un_arbre1.ajoute_feuille(2)\n",
    "un_arbre2 = ArbreBinaire()\n",
    "un_arbre2.ajoute_fils(un_arbre,un_arbre1,\"nom\",42.0)\n",
    "\n",
    "gtree = gv.Digraph(format='png')\n",
    "un_arbre2.to_graph(gtree)"
   ]
  },
  {
   "cell_type": "markdown",
   "metadata": {},
   "source": [
    "### Construction de l'arbre de décision"
   ]
  },
  {
   "cell_type": "markdown",
   "metadata": {},
   "source": [
    "Pour construire un arbre de décision, il faut réaliser les étapes suivantes:\n",
    "- si l'entropie de Shannon de la distribution des classes de l'ensemble courant est inférieure à epsilon (réel positif fixé et qui est un paramètre de l'algorithme), alors construire une feuille avec cet ensemble, la classe associée à cette feuille est la classe majoritaire;\n",
    "- sinon, pour chaque attribut, calculer le seuil de discrétisation et l'entropie de Shannon correspondante\n",
    "    - choisir l'attribut qui donne une valeur d'entropie minimale\n",
    "    - l'attribut choisi sert à constituer un noeud de l'arbre de décision, les arcs issus de ce noeud sont labeller par un test (inférieur ou égal ou supérieur) par rapport au seuil trouvé\n",
    "    \n",
    "    \n",
    "<font size=\"+1\">**[Q]**</font> Ecrire la fonction qui construit un arbre de décision (binaire) à partir d'une base d'exemples. En plus de la base d'exemples, on utilise un argument \"epsilon\" qui est un réel >0 et qui sert pour le critère d'arrêt.\n",
    "Cette fonction a la spécification suivante:\n",
    "\n",
    "    def construit_AD(LSet,epsilon):\n",
    "        \"\"\" LSet : LabeledSet\n",
    "            epsilon : seuil d'entropie pour le critère d'arrêt \n",
    "        \"\"\"\n"
   ]
  },
  {
   "cell_type": "code",
   "execution_count": 92,
   "metadata": {
    "collapsed": true
   },
   "outputs": [],
   "source": [
    "def construit_AD(LSet, eps):\n",
    "    \n",
    "    AD = ArbreBinaire()\n",
    "    \n",
    "\n",
    "    if(entropie(LSet)<=eps):\n",
    "        AD.ajoute_feuille(classe_majoritaire(LSet))\n",
    "    else:\n",
    "        \n",
    "        entropie_min=10000\n",
    "        seuil_min=1000000\n",
    "        imin=0\n",
    "        for i in range(LSet.getInputDimension()):\n",
    "            \n",
    "            seuil , entrp = discretise(LSet,i)\n",
    "            \n",
    "            if(entropie_min>entrp):\n",
    "                entropie_min=entrp\n",
    "                seuil_min=seuil\n",
    "                imin=i\n",
    "          \n",
    "        Linf, Lsup = divise(LSet, imin, seuil_min)\n",
    "        \n",
    "        AD.ajoute_fils(construit_AD(Linf, eps), construit_AD(Lsup, eps), imin, seuil_min)\n",
    "        \n",
    "    return AD\n",
    "            "
   ]
  },
  {
   "cell_type": "code",
   "execution_count": 93,
   "metadata": {},
   "outputs": [
    {
     "data": {
      "image/png": "[encoded data removed]",
      "text/plain": [
       "<matplotlib.figure.Figure at 0x7f967cf3bc50>"
      ]
     },
     "metadata": {},
     "output_type": "display_data"
    }
   ],
   "source": [
    "plot2DSet(the_set)"
   ]
  },
  {
   "cell_type": "code",
   "execution_count": 94,
   "metadata": {},
   "outputs": [
    {
     "data": {
      "image/svg+xml": [
       "<?xml version=\"1.0\" encoding=\"UTF-8\" standalone=\"no\"?>\n",
       "<!DOCTYPE svg PUBLIC \"-//W3C//DTD SVG 1.1//EN\"\n",
       " \"http://www.w3.org/Graphics/SVG/1.1/DTD/svg11.dtd\">\n",
       "<!-- Generated by graphviz version 2.38.0 (20140413.2041)\n",
       " -->\n",
       "<!-- Title: %3 Pages: 1 -->\n",
       "<svg width=\"518pt\" height=\"305pt\"\n",
       " viewBox=\"0.00 0.00 518.00 305.00\" xmlns=\"http://www.w3.org/2000/svg\" xmlns:xlink=\"http://www.w3.org/1999/xlink\">\n",
       "<g id=\"graph0\" class=\"graph\" transform=\"scale(1 1) rotate(0) translate(4 301)\">\n",
       "<title>%3</title>\n",
       "<polygon fill=\"white\" stroke=\"none\" points=\"-4,4 -4,-301 514,-301 514,4 -4,4\"/>\n",
       "<!-- A -->\n",
       "<g id=\"node1\" class=\"node\"><title>A</title>\n",
       "<ellipse fill=\"none\" stroke=\"black\" cx=\"229\" cy=\"-279\" rx=\"27\" ry=\"18\"/>\n",
       "<text text-anchor=\"middle\" x=\"229\" y=\"-275.3\" font-family=\"Times,serif\" font-size=\"14.00\">1</text>\n",
       "</g>\n",
       "<!-- Ag -->\n",
       "<g id=\"node2\" class=\"node\"><title>Ag</title>\n",
       "<ellipse fill=\"none\" stroke=\"black\" cx=\"161\" cy=\"-192\" rx=\"27\" ry=\"18\"/>\n",
       "<text text-anchor=\"middle\" x=\"161\" y=\"-188.3\" font-family=\"Times,serif\" font-size=\"14.00\">1</text>\n",
       "</g>\n",
       "<!-- A&#45;&gt;Ag -->\n",
       "<g id=\"edge9\" class=\"edge\"><title>A&#45;&gt;Ag</title>\n",
       "<path fill=\"none\" stroke=\"black\" d=\"M204.164,-271.915C189.185,-266.837 171.262,-257.949 162,-243 157.803,-236.226 156.487,-227.883 156.525,-219.965\"/>\n",
       "<polygon fill=\"black\" stroke=\"black\" points=\"160.018,-220.192 157.228,-209.971 153.035,-219.701 160.018,-220.192\"/>\n",
       "<text text-anchor=\"middle\" x=\"218.5\" y=\"-231.8\" font-family=\"Times,serif\" font-size=\"14.00\">&lt;=&#45;0.217679173623</text>\n",
       "</g>\n",
       "<!-- Ad -->\n",
       "<g id=\"node7\" class=\"node\"><title>Ad</title>\n",
       "<ellipse fill=\"none\" stroke=\"black\" cx=\"297\" cy=\"-192\" rx=\"27\" ry=\"18\"/>\n",
       "<text text-anchor=\"middle\" x=\"297\" y=\"-188.3\" font-family=\"Times,serif\" font-size=\"14.00\">0</text>\n",
       "</g>\n",
       "<!-- A&#45;&gt;Ad -->\n",
       "<g id=\"edge10\" class=\"edge\"><title>A&#45;&gt;Ad</title>\n",
       "<path fill=\"none\" stroke=\"black\" d=\"M248.76,-266.249C257.674,-260.186 267.795,-252.143 275,-243 280.509,-236.01 284.935,-227.426 288.332,-219.356\"/>\n",
       "<polygon fill=\"black\" stroke=\"black\" points=\"291.643,-220.498 291.969,-209.908 285.11,-217.983 291.643,-220.498\"/>\n",
       "<text text-anchor=\"middle\" x=\"335.5\" y=\"-231.8\" font-family=\"Times,serif\" font-size=\"14.00\">&gt;&#45;0.217679173623</text>\n",
       "</g>\n",
       "<!-- Agg -->\n",
       "<g id=\"node3\" class=\"node\"><title>Agg</title>\n",
       "<polygon fill=\"none\" stroke=\"black\" points=\"54,-123 0,-123 0,-87 54,-87 54,-123\"/>\n",
       "<text text-anchor=\"middle\" x=\"27\" y=\"-101.3\" font-family=\"Times,serif\" font-size=\"14.00\">&#45;1</text>\n",
       "</g>\n",
       "<!-- Ag&#45;&gt;Agg -->\n",
       "<g id=\"edge3\" class=\"edge\"><title>Ag&#45;&gt;Agg</title>\n",
       "<path fill=\"none\" stroke=\"black\" d=\"M133.792,-189.808C107.529,-187.228 68.2749,-179.391 44,-156 37.7104,-149.939 33.7477,-141.465 31.2511,-133.213\"/>\n",
       "<polygon fill=\"black\" stroke=\"black\" points=\"34.6374,-132.326 28.875,-123.435 27.8353,-133.979 34.6374,-132.326\"/>\n",
       "<text text-anchor=\"middle\" x=\"100.5\" y=\"-144.8\" font-family=\"Times,serif\" font-size=\"14.00\">&lt;=&#45;0.719251582664</text>\n",
       "</g>\n",
       "<!-- Agd -->\n",
       "<g id=\"node4\" class=\"node\"><title>Agd</title>\n",
       "<ellipse fill=\"none\" stroke=\"black\" cx=\"163\" cy=\"-105\" rx=\"27\" ry=\"18\"/>\n",
       "<text text-anchor=\"middle\" x=\"163\" y=\"-101.3\" font-family=\"Times,serif\" font-size=\"14.00\">1</text>\n",
       "</g>\n",
       "<!-- Ag&#45;&gt;Agd -->\n",
       "<g id=\"edge4\" class=\"edge\"><title>Ag&#45;&gt;Agd</title>\n",
       "<path fill=\"none\" stroke=\"black\" d=\"M161.405,-173.799C161.679,-162.163 162.046,-146.548 162.359,-133.237\"/>\n",
       "<polygon fill=\"black\" stroke=\"black\" points=\"165.86,-133.255 162.596,-123.175 158.862,-133.09 165.86,-133.255\"/>\n",
       "<text text-anchor=\"middle\" x=\"214.5\" y=\"-144.8\" font-family=\"Times,serif\" font-size=\"14.00\">&gt;&#45;0.719251582664</text>\n",
       "</g>\n",
       "<!-- Agdg -->\n",
       "<g id=\"node5\" class=\"node\"><title>Agdg</title>\n",
       "<polygon fill=\"none\" stroke=\"black\" points=\"55,-36 1,-36 1,-0 55,-0 55,-36\"/>\n",
       "<text text-anchor=\"middle\" x=\"28\" y=\"-14.3\" font-family=\"Times,serif\" font-size=\"14.00\">1</text>\n",
       "</g>\n",
       "<!-- Agd&#45;&gt;Agdg -->\n",
       "<g id=\"edge1\" class=\"edge\"><title>Agd&#45;&gt;Agdg</title>\n",
       "<path fill=\"none\" stroke=\"black\" d=\"M135.881,-102.715C109.687,-100.063 70.4824,-92.1743 46,-69 39.617,-62.958 35.4919,-54.4888 32.8282,-46.2355\"/>\n",
       "<polygon fill=\"black\" stroke=\"black\" points=\"36.1831,-45.2311 30.2504,-36.4531 29.4142,-47.0148 36.1831,-45.2311\"/>\n",
       "<text text-anchor=\"middle\" x=\"102.5\" y=\"-57.8\" font-family=\"Times,serif\" font-size=\"14.00\">&lt;=&#45;0.579509614877</text>\n",
       "</g>\n",
       "<!-- Agdd -->\n",
       "<g id=\"node6\" class=\"node\"><title>Agdd</title>\n",
       "<polygon fill=\"none\" stroke=\"black\" points=\"191,-36 137,-36 137,-0 191,-0 191,-36\"/>\n",
       "<text text-anchor=\"middle\" x=\"164\" y=\"-14.3\" font-family=\"Times,serif\" font-size=\"14.00\">&#45;1</text>\n",
       "</g>\n",
       "<!-- Agd&#45;&gt;Agdd -->\n",
       "<g id=\"edge2\" class=\"edge\"><title>Agd&#45;&gt;Agdd</title>\n",
       "<path fill=\"none\" stroke=\"black\" d=\"M163.202,-86.799C163.339,-75.1626 163.523,-59.5479 163.68,-46.2368\"/>\n",
       "<polygon fill=\"black\" stroke=\"black\" points=\"167.18,-46.216 163.798,-36.1754 160.18,-46.1335 167.18,-46.216\"/>\n",
       "<text text-anchor=\"middle\" x=\"215.5\" y=\"-57.8\" font-family=\"Times,serif\" font-size=\"14.00\">&gt;&#45;0.579509614877</text>\n",
       "</g>\n",
       "<!-- Adg -->\n",
       "<g id=\"node8\" class=\"node\"><title>Adg</title>\n",
       "<ellipse fill=\"none\" stroke=\"black\" cx=\"295\" cy=\"-105\" rx=\"27\" ry=\"18\"/>\n",
       "<text text-anchor=\"middle\" x=\"295\" y=\"-101.3\" font-family=\"Times,serif\" font-size=\"14.00\">0</text>\n",
       "</g>\n",
       "<!-- Ad&#45;&gt;Adg -->\n",
       "<g id=\"edge7\" class=\"edge\"><title>Ad&#45;&gt;Adg</title>\n",
       "<path fill=\"none\" stroke=\"black\" d=\"M296.482,-173.911C296.318,-168.214 296.142,-161.834 296,-156 295.822,-148.652 295.652,-140.696 295.504,-133.338\"/>\n",
       "<polygon fill=\"black\" stroke=\"black\" points=\"299,-133.055 295.306,-123.125 292.001,-133.191 299,-133.055\"/>\n",
       "<text text-anchor=\"middle\" x=\"349\" y=\"-144.8\" font-family=\"Times,serif\" font-size=\"14.00\">&lt;=&#45;1.05763330316</text>\n",
       "</g>\n",
       "<!-- Add -->\n",
       "<g id=\"node11\" class=\"node\"><title>Add</title>\n",
       "<polygon fill=\"none\" stroke=\"black\" points=\"451,-123 397,-123 397,-87 451,-87 451,-123\"/>\n",
       "<text text-anchor=\"middle\" x=\"424\" y=\"-101.3\" font-family=\"Times,serif\" font-size=\"14.00\">1</text>\n",
       "</g>\n",
       "<!-- Ad&#45;&gt;Add -->\n",
       "<g id=\"edge8\" class=\"edge\"><title>Ad&#45;&gt;Add</title>\n",
       "<path fill=\"none\" stroke=\"black\" d=\"M323.762,-188.179C347.009,-184.436 380.27,-175.802 402,-156 408.751,-149.848 413.536,-141.248 416.879,-132.912\"/>\n",
       "<polygon fill=\"black\" stroke=\"black\" points=\"420.204,-134.006 420.173,-123.411 413.59,-131.714 420.204,-134.006\"/>\n",
       "<text text-anchor=\"middle\" x=\"461\" y=\"-144.8\" font-family=\"Times,serif\" font-size=\"14.00\">&gt;&#45;1.05763330316</text>\n",
       "</g>\n",
       "<!-- Adgg -->\n",
       "<g id=\"node9\" class=\"node\"><title>Adgg</title>\n",
       "<polygon fill=\"none\" stroke=\"black\" points=\"321,-36 267,-36 267,-0 321,-0 321,-36\"/>\n",
       "<text text-anchor=\"middle\" x=\"294\" y=\"-14.3\" font-family=\"Times,serif\" font-size=\"14.00\">1</text>\n",
       "</g>\n",
       "<!-- Adg&#45;&gt;Adgg -->\n",
       "<g id=\"edge5\" class=\"edge\"><title>Adg&#45;&gt;Adgg</title>\n",
       "<path fill=\"none\" stroke=\"black\" d=\"M294.798,-86.799C294.661,-75.1626 294.477,-59.5479 294.32,-46.2368\"/>\n",
       "<polygon fill=\"black\" stroke=\"black\" points=\"297.82,-46.1335 294.202,-36.1754 290.82,-46.216 297.82,-46.1335\"/>\n",
       "<text text-anchor=\"middle\" x=\"347\" y=\"-57.8\" font-family=\"Times,serif\" font-size=\"14.00\">&lt;=&#45;2.16729493311</text>\n",
       "</g>\n",
       "<!-- Adgd -->\n",
       "<g id=\"node10\" class=\"node\"><title>Adgd</title>\n",
       "<polygon fill=\"none\" stroke=\"black\" points=\"450,-36 396,-36 396,-0 450,-0 450,-36\"/>\n",
       "<text text-anchor=\"middle\" x=\"423\" y=\"-14.3\" font-family=\"Times,serif\" font-size=\"14.00\">&#45;1</text>\n",
       "</g>\n",
       "<!-- Adg&#45;&gt;Adgd -->\n",
       "<g id=\"edge6\" class=\"edge\"><title>Adg&#45;&gt;Adgd</title>\n",
       "<path fill=\"none\" stroke=\"black\" d=\"M321.554,-101.318C345.04,-97.6601 378.912,-89.0714 401,-69 407.76,-62.8573 412.547,-54.2595 415.89,-45.9234\"/>\n",
       "<polygon fill=\"black\" stroke=\"black\" points=\"419.215,-47.0153 419.181,-36.4205 412.601,-44.7243 419.215,-47.0153\"/>\n",
       "<text text-anchor=\"middle\" x=\"460\" y=\"-57.8\" font-family=\"Times,serif\" font-size=\"14.00\">&gt;&#45;2.16729493311</text>\n",
       "</g>\n",
       "</g>\n",
       "</svg>\n"
      ],
      "text/plain": [
       "<graphviz.dot.Digraph at 0x7f967cee8470>"
      ]
     },
     "execution_count": 94,
     "metadata": {},
     "output_type": "execute_result"
    }
   ],
   "source": [
    "#test de l'affichage \n",
    "abin = construit_AD(the_set,0.0)\n",
    "gtree = gv.Digraph(format='png')\n",
    "abin.to_graph(gtree)\n"
   ]
  },
  {
   "cell_type": "markdown",
   "metadata": {},
   "source": [
    "### Classification avec arbre de décision\n"
   ]
  },
  {
   "cell_type": "markdown",
   "metadata": {},
   "source": [
    "Pour classer un nouvel exemple avec un arbre de décision, il faut parcourir l'arbre, de la racine vers une feuille en respectant les tests rencontrés dans chaque arc. Une fois atteint une feuille, la classe de l'exemple est celle présente dans la feuille.\n",
    "\n",
    "La classe ArbreBinaire contient déjà une fonction <code>classifie</code> qui permet de classer un nouvel exemple et de renvoyer la classe +1 ou -1 selon le cas."
   ]
  },
  {
   "cell_type": "markdown",
   "metadata": {},
   "source": [
    "### Implémentation"
   ]
  },
  {
   "cell_type": "markdown",
   "metadata": {},
   "source": [
    "De la même façon que pour le knn, on définit le classifieur <code>ArbreDecision</code> (classe héritant de la classe Classifier vue lors du TD-TME 5) comme suit.\n",
    "\n",
    "Si toutes les fonctions précédentes ont été écrites correctement, il est maintenant possible de construire un arbre de décision à partir de la base jouet.\n"
   ]
  },
  {
   "cell_type": "markdown",
   "metadata": {},
   "source": [
    "## Applications à des données réelles"
   ]
  },
  {
   "cell_type": "code",
   "execution_count": 95,
   "metadata": {
    "collapsed": true
   },
   "outputs": [],
   "source": [
    "class ArbreDecision(Classifier):\n",
    "    # Constructeur\n",
    "    def __init__(self,epsilon):\n",
    "        # valeur seuil d'entropie pour arrêter la construction\n",
    "        self.epsilon= epsilon\n",
    "        self.racine = None\n",
    "    \n",
    "    # Permet de calculer la prediction sur x => renvoie un score\n",
    "    def predict(self,x):\n",
    "        # classification de l'exemple x avec l'arbre de décision\n",
    "        # on rend 0 (classe -1) ou 1 (classe 1)\n",
    "        classe = self.racine.classifie(x)\n",
    "        if (classe == 1):\n",
    "            return(1)\n",
    "        else:\n",
    "            return(-1)\n",
    "    \n",
    "    # Permet d'entrainer le modele sur un ensemble de données\n",
    "    def train(self,set):\n",
    "        # construction de l'arbre de décision \n",
    "        self.set=set\n",
    "        self.racine = construit_AD(set,self.epsilon)\n",
    "\n",
    "    # Permet d'afficher l'arbre\n",
    "    def plot(self):\n",
    "        gtree = gv.Digraph(format='png')\n",
    "        return self.racine.to_graph(gtree)\n",
    "        "
   ]
  },
  {
   "cell_type": "code",
   "execution_count": 96,
   "metadata": {},
   "outputs": [
    {
     "data": {
      "image/png": "[encoded data removed]",
      "text/plain": [
       "<matplotlib.figure.Figure at 0x7f967cef8e48>"
      ]
     },
     "metadata": {},
     "output_type": "display_data"
    }
   ],
   "source": [
    "# un exemple d'utilisation:\n",
    "ad=ArbreDecision(0.0)          # initialiation d'un arbre binaire qui utilisera epsilon= 0.0\n",
    "ad.train(the_set)              # construction de l'arbre à partir de la base jouet\n",
    "plot_frontiere(the_set,ad,20)  # tracé graphique de la frontière de décision\n",
    "plot2DSet(the_set) "
   ]
  },
  {
   "cell_type": "code",
   "execution_count": 97,
   "metadata": {},
   "outputs": [
    {
     "data": {
      "image/svg+xml": [
       "<?xml version=\"1.0\" encoding=\"UTF-8\" standalone=\"no\"?>\n",
       "<!DOCTYPE svg PUBLIC \"-//W3C//DTD SVG 1.1//EN\"\n",
       " \"http://www.w3.org/Graphics/SVG/1.1/DTD/svg11.dtd\">\n",
       "<!-- Generated by graphviz version 2.38.0 (20140413.2041)\n",
       " -->\n",
       "<!-- Title: %3 Pages: 1 -->\n",
       "<svg width=\"518pt\" height=\"305pt\"\n",
       " viewBox=\"0.00 0.00 518.00 305.00\" xmlns=\"http://www.w3.org/2000/svg\" xmlns:xlink=\"http://www.w3.org/1999/xlink\">\n",
       "<g id=\"graph0\" class=\"graph\" transform=\"scale(1 1) rotate(0) translate(4 301)\">\n",
       "<title>%3</title>\n",
       "<polygon fill=\"white\" stroke=\"none\" points=\"-4,4 -4,-301 514,-301 514,4 -4,4\"/>\n",
       "<!-- A -->\n",
       "<g id=\"node1\" class=\"node\"><title>A</title>\n",
       "<ellipse fill=\"none\" stroke=\"black\" cx=\"229\" cy=\"-279\" rx=\"27\" ry=\"18\"/>\n",
       "<text text-anchor=\"middle\" x=\"229\" y=\"-275.3\" font-family=\"Times,serif\" font-size=\"14.00\">1</text>\n",
       "</g>\n",
       "<!-- Ag -->\n",
       "<g id=\"node2\" class=\"node\"><title>Ag</title>\n",
       "<ellipse fill=\"none\" stroke=\"black\" cx=\"161\" cy=\"-192\" rx=\"27\" ry=\"18\"/>\n",
       "<text text-anchor=\"middle\" x=\"161\" y=\"-188.3\" font-family=\"Times,serif\" font-size=\"14.00\">1</text>\n",
       "</g>\n",
       "<!-- A&#45;&gt;Ag -->\n",
       "<g id=\"edge9\" class=\"edge\"><title>A&#45;&gt;Ag</title>\n",
       "<path fill=\"none\" stroke=\"black\" d=\"M204.164,-271.915C189.185,-266.837 171.262,-257.949 162,-243 157.803,-236.226 156.487,-227.883 156.525,-219.965\"/>\n",
       "<polygon fill=\"black\" stroke=\"black\" points=\"160.018,-220.192 157.228,-209.971 153.035,-219.701 160.018,-220.192\"/>\n",
       "<text text-anchor=\"middle\" x=\"218.5\" y=\"-231.8\" font-family=\"Times,serif\" font-size=\"14.00\">&lt;=&#45;0.217679173623</text>\n",
       "</g>\n",
       "<!-- Ad -->\n",
       "<g id=\"node7\" class=\"node\"><title>Ad</title>\n",
       "<ellipse fill=\"none\" stroke=\"black\" cx=\"297\" cy=\"-192\" rx=\"27\" ry=\"18\"/>\n",
       "<text text-anchor=\"middle\" x=\"297\" y=\"-188.3\" font-family=\"Times,serif\" font-size=\"14.00\">0</text>\n",
       "</g>\n",
       "<!-- A&#45;&gt;Ad -->\n",
       "<g id=\"edge10\" class=\"edge\"><title>A&#45;&gt;Ad</title>\n",
       "<path fill=\"none\" stroke=\"black\" d=\"M248.76,-266.249C257.674,-260.186 267.795,-252.143 275,-243 280.509,-236.01 284.935,-227.426 288.332,-219.356\"/>\n",
       "<polygon fill=\"black\" stroke=\"black\" points=\"291.643,-220.498 291.969,-209.908 285.11,-217.983 291.643,-220.498\"/>\n",
       "<text text-anchor=\"middle\" x=\"335.5\" y=\"-231.8\" font-family=\"Times,serif\" font-size=\"14.00\">&gt;&#45;0.217679173623</text>\n",
       "</g>\n",
       "<!-- Agg -->\n",
       "<g id=\"node3\" class=\"node\"><title>Agg</title>\n",
       "<polygon fill=\"none\" stroke=\"black\" points=\"54,-123 0,-123 0,-87 54,-87 54,-123\"/>\n",
       "<text text-anchor=\"middle\" x=\"27\" y=\"-101.3\" font-family=\"Times,serif\" font-size=\"14.00\">&#45;1</text>\n",
       "</g>\n",
       "<!-- Ag&#45;&gt;Agg -->\n",
       "<g id=\"edge3\" class=\"edge\"><title>Ag&#45;&gt;Agg</title>\n",
       "<path fill=\"none\" stroke=\"black\" d=\"M133.792,-189.808C107.529,-187.228 68.2749,-179.391 44,-156 37.7104,-149.939 33.7477,-141.465 31.2511,-133.213\"/>\n",
       "<polygon fill=\"black\" stroke=\"black\" points=\"34.6374,-132.326 28.875,-123.435 27.8353,-133.979 34.6374,-132.326\"/>\n",
       "<text text-anchor=\"middle\" x=\"100.5\" y=\"-144.8\" font-family=\"Times,serif\" font-size=\"14.00\">&lt;=&#45;0.719251582664</text>\n",
       "</g>\n",
       "<!-- Agd -->\n",
       "<g id=\"node4\" class=\"node\"><title>Agd</title>\n",
       "<ellipse fill=\"none\" stroke=\"black\" cx=\"163\" cy=\"-105\" rx=\"27\" ry=\"18\"/>\n",
       "<text text-anchor=\"middle\" x=\"163\" y=\"-101.3\" font-family=\"Times,serif\" font-size=\"14.00\">1</text>\n",
       "</g>\n",
       "<!-- Ag&#45;&gt;Agd -->\n",
       "<g id=\"edge4\" class=\"edge\"><title>Ag&#45;&gt;Agd</title>\n",
       "<path fill=\"none\" stroke=\"black\" d=\"M161.405,-173.799C161.679,-162.163 162.046,-146.548 162.359,-133.237\"/>\n",
       "<polygon fill=\"black\" stroke=\"black\" points=\"165.86,-133.255 162.596,-123.175 158.862,-133.09 165.86,-133.255\"/>\n",
       "<text text-anchor=\"middle\" x=\"214.5\" y=\"-144.8\" font-family=\"Times,serif\" font-size=\"14.00\">&gt;&#45;0.719251582664</text>\n",
       "</g>\n",
       "<!-- Agdg -->\n",
       "<g id=\"node5\" class=\"node\"><title>Agdg</title>\n",
       "<polygon fill=\"none\" stroke=\"black\" points=\"55,-36 1,-36 1,-0 55,-0 55,-36\"/>\n",
       "<text text-anchor=\"middle\" x=\"28\" y=\"-14.3\" font-family=\"Times,serif\" font-size=\"14.00\">1</text>\n",
       "</g>\n",
       "<!-- Agd&#45;&gt;Agdg -->\n",
       "<g id=\"edge1\" class=\"edge\"><title>Agd&#45;&gt;Agdg</title>\n",
       "<path fill=\"none\" stroke=\"black\" d=\"M135.881,-102.715C109.687,-100.063 70.4824,-92.1743 46,-69 39.617,-62.958 35.4919,-54.4888 32.8282,-46.2355\"/>\n",
       "<polygon fill=\"black\" stroke=\"black\" points=\"36.1831,-45.2311 30.2504,-36.4531 29.4142,-47.0148 36.1831,-45.2311\"/>\n",
       "<text text-anchor=\"middle\" x=\"102.5\" y=\"-57.8\" font-family=\"Times,serif\" font-size=\"14.00\">&lt;=&#45;0.579509614877</text>\n",
       "</g>\n",
       "<!-- Agdd -->\n",
       "<g id=\"node6\" class=\"node\"><title>Agdd</title>\n",
       "<polygon fill=\"none\" stroke=\"black\" points=\"191,-36 137,-36 137,-0 191,-0 191,-36\"/>\n",
       "<text text-anchor=\"middle\" x=\"164\" y=\"-14.3\" font-family=\"Times,serif\" font-size=\"14.00\">&#45;1</text>\n",
       "</g>\n",
       "<!-- Agd&#45;&gt;Agdd -->\n",
       "<g id=\"edge2\" class=\"edge\"><title>Agd&#45;&gt;Agdd</title>\n",
       "<path fill=\"none\" stroke=\"black\" d=\"M163.202,-86.799C163.339,-75.1626 163.523,-59.5479 163.68,-46.2368\"/>\n",
       "<polygon fill=\"black\" stroke=\"black\" points=\"167.18,-46.216 163.798,-36.1754 160.18,-46.1335 167.18,-46.216\"/>\n",
       "<text text-anchor=\"middle\" x=\"215.5\" y=\"-57.8\" font-family=\"Times,serif\" font-size=\"14.00\">&gt;&#45;0.579509614877</text>\n",
       "</g>\n",
       "<!-- Adg -->\n",
       "<g id=\"node8\" class=\"node\"><title>Adg</title>\n",
       "<ellipse fill=\"none\" stroke=\"black\" cx=\"295\" cy=\"-105\" rx=\"27\" ry=\"18\"/>\n",
       "<text text-anchor=\"middle\" x=\"295\" y=\"-101.3\" font-family=\"Times,serif\" font-size=\"14.00\">0</text>\n",
       "</g>\n",
       "<!-- Ad&#45;&gt;Adg -->\n",
       "<g id=\"edge7\" class=\"edge\"><title>Ad&#45;&gt;Adg</title>\n",
       "<path fill=\"none\" stroke=\"black\" d=\"M296.482,-173.911C296.318,-168.214 296.142,-161.834 296,-156 295.822,-148.652 295.652,-140.696 295.504,-133.338\"/>\n",
       "<polygon fill=\"black\" stroke=\"black\" points=\"299,-133.055 295.306,-123.125 292.001,-133.191 299,-133.055\"/>\n",
       "<text text-anchor=\"middle\" x=\"349\" y=\"-144.8\" font-family=\"Times,serif\" font-size=\"14.00\">&lt;=&#45;1.05763330316</text>\n",
       "</g>\n",
       "<!-- Add -->\n",
       "<g id=\"node11\" class=\"node\"><title>Add</title>\n",
       "<polygon fill=\"none\" stroke=\"black\" points=\"451,-123 397,-123 397,-87 451,-87 451,-123\"/>\n",
       "<text text-anchor=\"middle\" x=\"424\" y=\"-101.3\" font-family=\"Times,serif\" font-size=\"14.00\">1</text>\n",
       "</g>\n",
       "<!-- Ad&#45;&gt;Add -->\n",
       "<g id=\"edge8\" class=\"edge\"><title>Ad&#45;&gt;Add</title>\n",
       "<path fill=\"none\" stroke=\"black\" d=\"M323.762,-188.179C347.009,-184.436 380.27,-175.802 402,-156 408.751,-149.848 413.536,-141.248 416.879,-132.912\"/>\n",
       "<polygon fill=\"black\" stroke=\"black\" points=\"420.204,-134.006 420.173,-123.411 413.59,-131.714 420.204,-134.006\"/>\n",
       "<text text-anchor=\"middle\" x=\"461\" y=\"-144.8\" font-family=\"Times,serif\" font-size=\"14.00\">&gt;&#45;1.05763330316</text>\n",
       "</g>\n",
       "<!-- Adgg -->\n",
       "<g id=\"node9\" class=\"node\"><title>Adgg</title>\n",
       "<polygon fill=\"none\" stroke=\"black\" points=\"321,-36 267,-36 267,-0 321,-0 321,-36\"/>\n",
       "<text text-anchor=\"middle\" x=\"294\" y=\"-14.3\" font-family=\"Times,serif\" font-size=\"14.00\">1</text>\n",
       "</g>\n",
       "<!-- Adg&#45;&gt;Adgg -->\n",
       "<g id=\"edge5\" class=\"edge\"><title>Adg&#45;&gt;Adgg</title>\n",
       "<path fill=\"none\" stroke=\"black\" d=\"M294.798,-86.799C294.661,-75.1626 294.477,-59.5479 294.32,-46.2368\"/>\n",
       "<polygon fill=\"black\" stroke=\"black\" points=\"297.82,-46.1335 294.202,-36.1754 290.82,-46.216 297.82,-46.1335\"/>\n",
       "<text text-anchor=\"middle\" x=\"347\" y=\"-57.8\" font-family=\"Times,serif\" font-size=\"14.00\">&lt;=&#45;2.16729493311</text>\n",
       "</g>\n",
       "<!-- Adgd -->\n",
       "<g id=\"node10\" class=\"node\"><title>Adgd</title>\n",
       "<polygon fill=\"none\" stroke=\"black\" points=\"450,-36 396,-36 396,-0 450,-0 450,-36\"/>\n",
       "<text text-anchor=\"middle\" x=\"423\" y=\"-14.3\" font-family=\"Times,serif\" font-size=\"14.00\">&#45;1</text>\n",
       "</g>\n",
       "<!-- Adg&#45;&gt;Adgd -->\n",
       "<g id=\"edge6\" class=\"edge\"><title>Adg&#45;&gt;Adgd</title>\n",
       "<path fill=\"none\" stroke=\"black\" d=\"M321.554,-101.318C345.04,-97.6601 378.912,-89.0714 401,-69 407.76,-62.8573 412.547,-54.2595 415.89,-45.9234\"/>\n",
       "<polygon fill=\"black\" stroke=\"black\" points=\"419.215,-47.0153 419.181,-36.4205 412.601,-44.7243 419.215,-47.0153\"/>\n",
       "<text text-anchor=\"middle\" x=\"460\" y=\"-57.8\" font-family=\"Times,serif\" font-size=\"14.00\">&gt;&#45;2.16729493311</text>\n",
       "</g>\n",
       "</g>\n",
       "</svg>\n"
      ],
      "text/plain": [
       "<graphviz.dot.Digraph at 0x7f967cec50b8>"
      ]
     },
     "execution_count": 97,
     "metadata": {},
     "output_type": "execute_result"
    }
   ],
   "source": [
    "ad.plot()"
   ]
  },
  {
   "cell_type": "markdown",
   "metadata": {},
   "source": [
    "<font size=\"+1\">**[Q]**</font> Appliquer l'algorithme des arbres de décision à des données réelles (par exemple, celles utilisées avec les k-nn) et comparer les résultats obtenus par les 2 algorithmes.\n",
    "\n",
    "Un autre exemple d'utilisation sur une base plus grande:"
   ]
  },
  {
   "cell_type": "code",
   "execution_count": 98,
   "metadata": {
    "scrolled": true
   },
   "outputs": [
    {
     "name": "stdout",
     "output_type": "stream",
     "text": [
      "Taille de la base générée : 100 exemples\n"
     ]
    },
    {
     "data": {
      "image/png": "[encoded data removed]",
      "text/plain": [
       "<matplotlib.figure.Figure at 0x7f967cf33cc0>"
      ]
     },
     "metadata": {},
     "output_type": "display_data"
    }
   ],
   "source": [
    "gauss3=np.random.multivariate_normal([1,1],[[1,0],[0,1]],size=50)\n",
    "gauss4=np.random.multivariate_normal([-1,-1],[[1,0],[0,1]],size=50)\n",
    "\n",
    "autre_set = LabeledSet(2)\n",
    "\n",
    "for i in gauss3:\n",
    "    autre_set.addExample(i,1)\n",
    "\n",
    "for i in gauss4:\n",
    "    autre_set.addExample(i,-1)\n",
    "\n",
    "print(\"Taille de la base générée :\", autre_set.size(), \"exemples\")\n",
    "adautre=ArbreDecision(0.0)          \n",
    "adautre.train(autre_set)            \n",
    "plot_frontiere(autre_set,adautre,20)\n",
    "plot2DSet(autre_set) "
   ]
  },
  {
   "cell_type": "code",
   "execution_count": 99,
   "metadata": {},
   "outputs": [
    {
     "data": {
      "image/svg+xml": [
       "<?xml version=\"1.0\" encoding=\"UTF-8\" standalone=\"no\"?>\n",
       "<!DOCTYPE svg PUBLIC \"-//W3C//DTD SVG 1.1//EN\"\n",
       " \"http://www.w3.org/Graphics/SVG/1.1/DTD/svg11.dtd\">\n",
       "<!-- Generated by graphviz version 2.38.0 (20140413.2041)\n",
       " -->\n",
       "<!-- Title: %3 Pages: 1 -->\n",
       "<svg width=\"719pt\" height=\"653pt\"\n",
       " viewBox=\"0.00 0.00 719.00 653.00\" xmlns=\"http://www.w3.org/2000/svg\" xmlns:xlink=\"http://www.w3.org/1999/xlink\">\n",
       "<g id=\"graph0\" class=\"graph\" transform=\"scale(1 1) rotate(0) translate(4 649)\">\n",
       "<title>%3</title>\n",
       "<polygon fill=\"white\" stroke=\"none\" points=\"-4,4 -4,-649 715,-649 715,4 -4,4\"/>\n",
       "<!-- A -->\n",
       "<g id=\"node1\" class=\"node\"><title>A</title>\n",
       "<ellipse fill=\"none\" stroke=\"black\" cx=\"226\" cy=\"-627\" rx=\"27\" ry=\"18\"/>\n",
       "<text text-anchor=\"middle\" x=\"226\" y=\"-623.3\" font-family=\"Times,serif\" font-size=\"14.00\">0</text>\n",
       "</g>\n",
       "<!-- Ag -->\n",
       "<g id=\"node2\" class=\"node\"><title>Ag</title>\n",
       "<ellipse fill=\"none\" stroke=\"black\" cx=\"162\" cy=\"-540\" rx=\"27\" ry=\"18\"/>\n",
       "<text text-anchor=\"middle\" x=\"162\" y=\"-536.3\" font-family=\"Times,serif\" font-size=\"14.00\">1</text>\n",
       "</g>\n",
       "<!-- A&#45;&gt;Ag -->\n",
       "<g id=\"edge23\" class=\"edge\"><title>A&#45;&gt;Ag</title>\n",
       "<path fill=\"none\" stroke=\"black\" d=\"M201.653,-619.159C187.752,-613.879 171.453,-605.043 163,-591 158.89,-584.173 157.599,-575.814 157.633,-567.9\"/>\n",
       "<polygon fill=\"black\" stroke=\"black\" points=\"161.125,-568.133 158.316,-557.917 154.142,-567.655 161.125,-568.133\"/>\n",
       "<text text-anchor=\"middle\" x=\"216\" y=\"-579.8\" font-family=\"Times,serif\" font-size=\"14.00\">&lt;=&#45;0.25966195655</text>\n",
       "</g>\n",
       "<!-- Ad -->\n",
       "<g id=\"node9\" class=\"node\"><title>Ad</title>\n",
       "<ellipse fill=\"none\" stroke=\"black\" cx=\"291\" cy=\"-540\" rx=\"27\" ry=\"18\"/>\n",
       "<text text-anchor=\"middle\" x=\"291\" y=\"-536.3\" font-family=\"Times,serif\" font-size=\"14.00\">1</text>\n",
       "</g>\n",
       "<!-- A&#45;&gt;Ad -->\n",
       "<g id=\"edge24\" class=\"edge\"><title>A&#45;&gt;Ad</title>\n",
       "<path fill=\"none\" stroke=\"black\" d=\"M244.875,-613.697C253.096,-607.624 262.35,-599.729 269,-591 274.394,-583.921 278.789,-575.313 282.194,-567.248\"/>\n",
       "<polygon fill=\"black\" stroke=\"black\" points=\"285.498,-568.408 285.855,-557.82 278.972,-565.874 285.498,-568.408\"/>\n",
       "<text text-anchor=\"middle\" x=\"327\" y=\"-579.8\" font-family=\"Times,serif\" font-size=\"14.00\">&gt;&#45;0.25966195655</text>\n",
       "</g>\n",
       "<!-- Agg -->\n",
       "<g id=\"node3\" class=\"node\"><title>Agg</title>\n",
       "<polygon fill=\"none\" stroke=\"black\" points=\"54,-471 0,-471 0,-435 54,-435 54,-471\"/>\n",
       "<text text-anchor=\"middle\" x=\"27\" y=\"-449.3\" font-family=\"Times,serif\" font-size=\"14.00\">&#45;1</text>\n",
       "</g>\n",
       "<!-- Ag&#45;&gt;Agg -->\n",
       "<g id=\"edge5\" class=\"edge\"><title>Ag&#45;&gt;Agg</title>\n",
       "<path fill=\"none\" stroke=\"black\" d=\"M135.196,-537.556C109.288,-534.785 70.4647,-526.807 46,-504 39.5292,-497.968 35.2432,-489.501 32.412,-481.247\"/>\n",
       "<polygon fill=\"black\" stroke=\"black\" points=\"35.7317,-480.124 29.6311,-471.462 28.9984,-482.038 35.7317,-480.124\"/>\n",
       "<text text-anchor=\"middle\" x=\"102.5\" y=\"-492.8\" font-family=\"Times,serif\" font-size=\"14.00\">&lt;=&#45;0.452986960577</text>\n",
       "</g>\n",
       "<!-- Agd -->\n",
       "<g id=\"node4\" class=\"node\"><title>Agd</title>\n",
       "<ellipse fill=\"none\" stroke=\"black\" cx=\"163\" cy=\"-453\" rx=\"27\" ry=\"18\"/>\n",
       "<text text-anchor=\"middle\" x=\"163\" y=\"-449.3\" font-family=\"Times,serif\" font-size=\"14.00\">1</text>\n",
       "</g>\n",
       "<!-- Ag&#45;&gt;Agd -->\n",
       "<g id=\"edge6\" class=\"edge\"><title>Ag&#45;&gt;Agd</title>\n",
       "<path fill=\"none\" stroke=\"black\" d=\"M162.202,-521.799C162.339,-510.163 162.523,-494.548 162.68,-481.237\"/>\n",
       "<polygon fill=\"black\" stroke=\"black\" points=\"166.18,-481.216 162.798,-471.175 159.18,-481.134 166.18,-481.216\"/>\n",
       "<text text-anchor=\"middle\" x=\"215.5\" y=\"-492.8\" font-family=\"Times,serif\" font-size=\"14.00\">&gt;&#45;0.452986960577</text>\n",
       "</g>\n",
       "<!-- Agdg -->\n",
       "<g id=\"node5\" class=\"node\"><title>Agdg</title>\n",
       "<ellipse fill=\"none\" stroke=\"black\" cx=\"104\" cy=\"-366\" rx=\"27\" ry=\"18\"/>\n",
       "<text text-anchor=\"middle\" x=\"104\" y=\"-362.3\" font-family=\"Times,serif\" font-size=\"14.00\">0</text>\n",
       "</g>\n",
       "<!-- Agd&#45;&gt;Agdg -->\n",
       "<g id=\"edge3\" class=\"edge\"><title>Agd&#45;&gt;Agdg</title>\n",
       "<path fill=\"none\" stroke=\"black\" d=\"M139.352,-444.147C126.805,-438.648 112.472,-429.933 105,-417 101.058,-410.178 99.7854,-401.909 99.7847,-394.077\"/>\n",
       "<polygon fill=\"black\" stroke=\"black\" points=\"103.294,-394.047 100.441,-383.844 96.308,-393.599 103.294,-394.047\"/>\n",
       "<text text-anchor=\"middle\" x=\"161.5\" y=\"-405.8\" font-family=\"Times,serif\" font-size=\"14.00\">&lt;=&#45;0.195838628685</text>\n",
       "</g>\n",
       "<!-- Agdd -->\n",
       "<g id=\"node8\" class=\"node\"><title>Agdd</title>\n",
       "<polygon fill=\"none\" stroke=\"black\" points=\"267,-384 213,-384 213,-348 267,-348 267,-384\"/>\n",
       "<text text-anchor=\"middle\" x=\"240\" y=\"-362.3\" font-family=\"Times,serif\" font-size=\"14.00\">&#45;1</text>\n",
       "</g>\n",
       "<!-- Agd&#45;&gt;Agdd -->\n",
       "<g id=\"edge4\" class=\"edge\"><title>Agd&#45;&gt;Agdd</title>\n",
       "<path fill=\"none\" stroke=\"black\" d=\"M184.769,-442.029C195.882,-436.056 208.933,-427.564 218,-417 223.796,-410.247 228.299,-401.725 231.679,-393.64\"/>\n",
       "<polygon fill=\"black\" stroke=\"black\" points=\"235.006,-394.734 235.254,-384.142 228.455,-392.268 235.006,-394.734\"/>\n",
       "<text text-anchor=\"middle\" x=\"280.5\" y=\"-405.8\" font-family=\"Times,serif\" font-size=\"14.00\">&gt;&#45;0.195838628685</text>\n",
       "</g>\n",
       "<!-- Agdgg -->\n",
       "<g id=\"node6\" class=\"node\"><title>Agdgg</title>\n",
       "<polygon fill=\"none\" stroke=\"black\" points=\"102,-297 48,-297 48,-261 102,-261 102,-297\"/>\n",
       "<text text-anchor=\"middle\" x=\"75\" y=\"-275.3\" font-family=\"Times,serif\" font-size=\"14.00\">&#45;1</text>\n",
       "</g>\n",
       "<!-- Agdg&#45;&gt;Agdgg -->\n",
       "<g id=\"edge1\" class=\"edge\"><title>Agdg&#45;&gt;Agdgg</title>\n",
       "<path fill=\"none\" stroke=\"black\" d=\"M89.0224,-350.684C83.8927,-344.813 78.755,-337.609 76,-330 73.4286,-322.898 72.4894,-314.848 72.3701,-307.315\"/>\n",
       "<polygon fill=\"black\" stroke=\"black\" points=\"75.873,-307.26 72.6626,-297.163 68.8759,-307.058 75.873,-307.26\"/>\n",
       "<text text-anchor=\"middle\" x=\"129\" y=\"-318.8\" font-family=\"Times,serif\" font-size=\"14.00\">&lt;=&#45;1.68143418177</text>\n",
       "</g>\n",
       "<!-- Agdgd -->\n",
       "<g id=\"node7\" class=\"node\"><title>Agdgd</title>\n",
       "<polygon fill=\"none\" stroke=\"black\" points=\"231,-297 177,-297 177,-261 231,-261 231,-297\"/>\n",
       "<text text-anchor=\"middle\" x=\"204\" y=\"-275.3\" font-family=\"Times,serif\" font-size=\"14.00\">1</text>\n",
       "</g>\n",
       "<!-- Agdg&#45;&gt;Agdgd -->\n",
       "<g id=\"edge2\" class=\"edge\"><title>Agdg&#45;&gt;Agdgd</title>\n",
       "<path fill=\"none\" stroke=\"black\" d=\"M128.877,-358.925C145.718,-353.702 167.465,-344.641 182,-330 188.435,-323.518 193.142,-314.836 196.51,-306.527\"/>\n",
       "<polygon fill=\"black\" stroke=\"black\" points=\"199.81,-307.693 199.873,-297.099 193.217,-305.342 199.81,-307.693\"/>\n",
       "<text text-anchor=\"middle\" x=\"242\" y=\"-318.8\" font-family=\"Times,serif\" font-size=\"14.00\">&gt;&#45;1.68143418177</text>\n",
       "</g>\n",
       "<!-- Adg -->\n",
       "<g id=\"node10\" class=\"node\"><title>Adg</title>\n",
       "<polygon fill=\"none\" stroke=\"black\" points=\"318,-471 264,-471 264,-435 318,-435 318,-471\"/>\n",
       "<text text-anchor=\"middle\" x=\"291\" y=\"-449.3\" font-family=\"Times,serif\" font-size=\"14.00\">&#45;1</text>\n",
       "</g>\n",
       "<!-- Ad&#45;&gt;Adg -->\n",
       "<g id=\"edge21\" class=\"edge\"><title>Ad&#45;&gt;Adg</title>\n",
       "<path fill=\"none\" stroke=\"black\" d=\"M291,-521.799C291,-510.163 291,-494.548 291,-481.237\"/>\n",
       "<polygon fill=\"black\" stroke=\"black\" points=\"294.5,-481.175 291,-471.175 287.5,-481.175 294.5,-481.175\"/>\n",
       "<text text-anchor=\"middle\" x=\"347.5\" y=\"-492.8\" font-family=\"Times,serif\" font-size=\"14.00\">&lt;=&#45;0.708198105259</text>\n",
       "</g>\n",
       "<!-- Add -->\n",
       "<g id=\"node11\" class=\"node\"><title>Add</title>\n",
       "<ellipse fill=\"none\" stroke=\"black\" cx=\"427\" cy=\"-453\" rx=\"27\" ry=\"18\"/>\n",
       "<text text-anchor=\"middle\" x=\"427\" y=\"-449.3\" font-family=\"Times,serif\" font-size=\"14.00\">1</text>\n",
       "</g>\n",
       "<!-- Ad&#45;&gt;Add -->\n",
       "<g id=\"edge22\" class=\"edge\"><title>Ad&#45;&gt;Add</title>\n",
       "<path fill=\"none\" stroke=\"black\" d=\"M318.065,-537.039C343.34,-533.875 380.715,-525.606 405,-504 411.926,-497.838 416.77,-489.092 420.113,-480.633\"/>\n",
       "<polygon fill=\"black\" stroke=\"black\" points=\"423.48,-481.602 423.382,-471.008 416.852,-479.351 423.48,-481.602\"/>\n",
       "<text text-anchor=\"middle\" x=\"468.5\" y=\"-492.8\" font-family=\"Times,serif\" font-size=\"14.00\">&gt;&#45;0.708198105259</text>\n",
       "</g>\n",
       "<!-- Addg -->\n",
       "<g id=\"node12\" class=\"node\"><title>Addg</title>\n",
       "<ellipse fill=\"none\" stroke=\"black\" cx=\"427\" cy=\"-366\" rx=\"27\" ry=\"18\"/>\n",
       "<text text-anchor=\"middle\" x=\"427\" y=\"-362.3\" font-family=\"Times,serif\" font-size=\"14.00\">0</text>\n",
       "</g>\n",
       "<!-- Add&#45;&gt;Addg -->\n",
       "<g id=\"edge19\" class=\"edge\"><title>Add&#45;&gt;Addg</title>\n",
       "<path fill=\"none\" stroke=\"black\" d=\"M427,-434.799C427,-423.163 427,-407.548 427,-394.237\"/>\n",
       "<polygon fill=\"black\" stroke=\"black\" points=\"430.5,-394.175 427,-384.175 423.5,-394.175 430.5,-394.175\"/>\n",
       "<text text-anchor=\"middle\" x=\"478\" y=\"-405.8\" font-family=\"Times,serif\" font-size=\"14.00\">&lt;=1.32844368207</text>\n",
       "</g>\n",
       "<!-- Addd -->\n",
       "<g id=\"node25\" class=\"node\"><title>Addd</title>\n",
       "<polygon fill=\"none\" stroke=\"black\" points=\"579,-384 525,-384 525,-348 579,-348 579,-384\"/>\n",
       "<text text-anchor=\"middle\" x=\"552\" y=\"-362.3\" font-family=\"Times,serif\" font-size=\"14.00\">1</text>\n",
       "</g>\n",
       "<!-- Add&#45;&gt;Addd -->\n",
       "<g id=\"edge20\" class=\"edge\"><title>Add&#45;&gt;Addd</title>\n",
       "<path fill=\"none\" stroke=\"black\" d=\"M453.708,-448.968C476.494,-445.099 508.838,-436.398 530,-417 536.733,-410.828 541.514,-402.223 544.858,-393.889\"/>\n",
       "<polygon fill=\"black\" stroke=\"black\" points=\"548.182,-394.988 548.156,-384.393 541.569,-392.692 548.182,-394.988\"/>\n",
       "<text text-anchor=\"middle\" x=\"587\" y=\"-405.8\" font-family=\"Times,serif\" font-size=\"14.00\">&gt;1.32844368207</text>\n",
       "</g>\n",
       "<!-- Addgg -->\n",
       "<g id=\"node13\" class=\"node\"><title>Addgg</title>\n",
       "<ellipse fill=\"none\" stroke=\"black\" cx=\"376\" cy=\"-279\" rx=\"27\" ry=\"18\"/>\n",
       "<text text-anchor=\"middle\" x=\"376\" y=\"-275.3\" font-family=\"Times,serif\" font-size=\"14.00\">0</text>\n",
       "</g>\n",
       "<!-- Addg&#45;&gt;Addgg -->\n",
       "<g id=\"edge17\" class=\"edge\"><title>Addg&#45;&gt;Addgg</title>\n",
       "<path fill=\"none\" stroke=\"black\" d=\"M404.986,-355.503C394.535,-349.75 383.034,-341.312 377,-330 373.348,-323.153 372.124,-314.993 372.078,-307.271\"/>\n",
       "<polygon fill=\"black\" stroke=\"black\" points=\"375.578,-307.352 372.628,-297.177 368.589,-306.971 375.578,-307.352\"/>\n",
       "<text text-anchor=\"middle\" x=\"431.5\" y=\"-318.8\" font-family=\"Times,serif\" font-size=\"14.00\">&lt;=0.940491857367</text>\n",
       "</g>\n",
       "<!-- Addgd -->\n",
       "<g id=\"node22\" class=\"node\"><title>Addgd</title>\n",
       "<ellipse fill=\"none\" stroke=\"black\" cx=\"508\" cy=\"-279\" rx=\"27\" ry=\"18\"/>\n",
       "<text text-anchor=\"middle\" x=\"508\" y=\"-275.3\" font-family=\"Times,serif\" font-size=\"14.00\">1</text>\n",
       "</g>\n",
       "<!-- Addg&#45;&gt;Addgd -->\n",
       "<g id=\"edge18\" class=\"edge\"><title>Addg&#45;&gt;Addgd</title>\n",
       "<path fill=\"none\" stroke=\"black\" d=\"M449.493,-355.78C461.601,-349.887 476.049,-341.233 486,-330 491.991,-323.237 496.57,-314.584 499.957,-306.383\"/>\n",
       "<polygon fill=\"black\" stroke=\"black\" points=\"503.329,-307.355 503.514,-296.762 496.764,-304.928 503.329,-307.355\"/>\n",
       "<text text-anchor=\"middle\" x=\"545\" y=\"-318.8\" font-family=\"Times,serif\" font-size=\"14.00\">&gt;0.940491857367</text>\n",
       "</g>\n",
       "<!-- Addggg -->\n",
       "<g id=\"node14\" class=\"node\"><title>Addggg</title>\n",
       "<polygon fill=\"none\" stroke=\"black\" points=\"285,-210 231,-210 231,-174 285,-174 285,-210\"/>\n",
       "<text text-anchor=\"middle\" x=\"258\" y=\"-188.3\" font-family=\"Times,serif\" font-size=\"14.00\">1</text>\n",
       "</g>\n",
       "<!-- Addgg&#45;&gt;Addggg -->\n",
       "<g id=\"edge13\" class=\"edge\"><title>Addgg&#45;&gt;Addggg</title>\n",
       "<path fill=\"none\" stroke=\"black\" d=\"M349.485,-275.5C326.562,-271.969 294.042,-263.465 274,-243 267.992,-236.865 264.238,-228.473 261.895,-220.317\"/>\n",
       "<polygon fill=\"black\" stroke=\"black\" points=\"265.247,-219.273 259.616,-210.299 258.421,-220.826 265.247,-219.273\"/>\n",
       "<text text-anchor=\"middle\" x=\"325\" y=\"-231.8\" font-family=\"Times,serif\" font-size=\"14.00\">&lt;=0.10790790062</text>\n",
       "</g>\n",
       "<!-- Addggd -->\n",
       "<g id=\"node15\" class=\"node\"><title>Addggd</title>\n",
       "<ellipse fill=\"none\" stroke=\"black\" cx=\"383\" cy=\"-192\" rx=\"27\" ry=\"18\"/>\n",
       "<text text-anchor=\"middle\" x=\"383\" y=\"-188.3\" font-family=\"Times,serif\" font-size=\"14.00\">1</text>\n",
       "</g>\n",
       "<!-- Addgg&#45;&gt;Addggd -->\n",
       "<g id=\"edge14\" class=\"edge\"><title>Addgg&#45;&gt;Addggd</title>\n",
       "<path fill=\"none\" stroke=\"black\" d=\"M377.417,-260.799C378.375,-249.163 379.661,-233.548 380.757,-220.237\"/>\n",
       "<polygon fill=\"black\" stroke=\"black\" points=\"384.253,-220.429 381.586,-210.175 377.277,-219.854 384.253,-220.429\"/>\n",
       "<text text-anchor=\"middle\" x=\"427\" y=\"-231.8\" font-family=\"Times,serif\" font-size=\"14.00\">&gt;0.10790790062</text>\n",
       "</g>\n",
       "<!-- Addggdg -->\n",
       "<g id=\"node16\" class=\"node\"><title>Addggdg</title>\n",
       "<ellipse fill=\"none\" stroke=\"black\" cx=\"317\" cy=\"-105\" rx=\"27\" ry=\"18\"/>\n",
       "<text text-anchor=\"middle\" x=\"317\" y=\"-101.3\" font-family=\"Times,serif\" font-size=\"14.00\">0</text>\n",
       "</g>\n",
       "<!-- Addggd&#45;&gt;Addggdg -->\n",
       "<g id=\"edge11\" class=\"edge\"><title>Addggd&#45;&gt;Addggdg</title>\n",
       "<path fill=\"none\" stroke=\"black\" d=\"M358.231,-184.482C343.826,-179.291 326.82,-170.437 318,-156 313.846,-149.2 312.541,-140.849 312.578,-132.933\"/>\n",
       "<polygon fill=\"black\" stroke=\"black\" points=\"316.07,-133.163 313.271,-122.945 309.087,-132.679 316.07,-133.163\"/>\n",
       "<text text-anchor=\"middle\" x=\"372.5\" y=\"-144.8\" font-family=\"Times,serif\" font-size=\"14.00\">&lt;=0.436228257176</text>\n",
       "</g>\n",
       "<!-- Addggdd -->\n",
       "<g id=\"node19\" class=\"node\"><title>Addggdd</title>\n",
       "<ellipse fill=\"none\" stroke=\"black\" cx=\"449\" cy=\"-105\" rx=\"27\" ry=\"18\"/>\n",
       "<text text-anchor=\"middle\" x=\"449\" y=\"-101.3\" font-family=\"Times,serif\" font-size=\"14.00\">0</text>\n",
       "</g>\n",
       "<!-- Addggd&#45;&gt;Addggdd -->\n",
       "<g id=\"edge12\" class=\"edge\"><title>Addggd&#45;&gt;Addggdd</title>\n",
       "<path fill=\"none\" stroke=\"black\" d=\"M401.883,-179.092C410.406,-172.995 420.088,-164.968 427,-156 432.433,-148.951 436.839,-140.351 440.241,-132.285\"/>\n",
       "<polygon fill=\"black\" stroke=\"black\" points=\"443.548,-133.439 443.895,-122.85 437.02,-130.911 443.548,-133.439\"/>\n",
       "<text text-anchor=\"middle\" x=\"485\" y=\"-144.8\" font-family=\"Times,serif\" font-size=\"14.00\">&gt;0.436228257176</text>\n",
       "</g>\n",
       "<!-- Addggdgg -->\n",
       "<g id=\"node17\" class=\"node\"><title>Addggdgg</title>\n",
       "<polygon fill=\"none\" stroke=\"black\" points=\"215,-36 161,-36 161,-0 215,-0 215,-36\"/>\n",
       "<text text-anchor=\"middle\" x=\"188\" y=\"-14.3\" font-family=\"Times,serif\" font-size=\"14.00\">&#45;1</text>\n",
       "</g>\n",
       "<!-- Addggdg&#45;&gt;Addggdgg -->\n",
       "<g id=\"edge7\" class=\"edge\"><title>Addggdg&#45;&gt;Addggdgg</title>\n",
       "<path fill=\"none\" stroke=\"black\" d=\"M290.303,-102.206C265.443,-99.1623 228.877,-90.9777 206,-69 199.662,-62.911 195.548,-54.4298 192.881,-46.1799\"/>\n",
       "<polygon fill=\"black\" stroke=\"black\" points=\"196.237,-45.1787 190.293,-36.408 189.47,-46.9708 196.237,-45.1787\"/>\n",
       "<text text-anchor=\"middle\" x=\"260.5\" y=\"-57.8\" font-family=\"Times,serif\" font-size=\"14.00\">&lt;=0.544103589093</text>\n",
       "</g>\n",
       "<!-- Addggdgd -->\n",
       "<g id=\"node18\" class=\"node\"><title>Addggdgd</title>\n",
       "<polygon fill=\"none\" stroke=\"black\" points=\"347,-36 293,-36 293,-0 347,-0 347,-36\"/>\n",
       "<text text-anchor=\"middle\" x=\"320\" y=\"-14.3\" font-family=\"Times,serif\" font-size=\"14.00\">1</text>\n",
       "</g>\n",
       "<!-- Addggdg&#45;&gt;Addggdgd -->\n",
       "<g id=\"edge8\" class=\"edge\"><title>Addggdg&#45;&gt;Addggdgd</title>\n",
       "<path fill=\"none\" stroke=\"black\" d=\"M317.607,-86.799C318.018,-75.1626 318.569,-59.5479 319.039,-46.2368\"/>\n",
       "<polygon fill=\"black\" stroke=\"black\" points=\"322.539,-46.2927 319.394,-36.1754 315.543,-46.0457 322.539,-46.2927\"/>\n",
       "<text text-anchor=\"middle\" x=\"369\" y=\"-57.8\" font-family=\"Times,serif\" font-size=\"14.00\">&gt;0.544103589093</text>\n",
       "</g>\n",
       "<!-- Addggddg -->\n",
       "<g id=\"node20\" class=\"node\"><title>Addggddg</title>\n",
       "<polygon fill=\"none\" stroke=\"black\" points=\"472,-36 418,-36 418,-0 472,-0 472,-36\"/>\n",
       "<text text-anchor=\"middle\" x=\"445\" y=\"-14.3\" font-family=\"Times,serif\" font-size=\"14.00\">1</text>\n",
       "</g>\n",
       "<!-- Addggdd&#45;&gt;Addggddg -->\n",
       "<g id=\"edge9\" class=\"edge\"><title>Addggdd&#45;&gt;Addggddg</title>\n",
       "<path fill=\"none\" stroke=\"black\" d=\"M447.311,-86.9257C446.808,-81.2301 446.309,-74.8466 446,-69 445.612,-61.6601 445.372,-53.7069 445.223,-46.3487\"/>\n",
       "<polygon fill=\"black\" stroke=\"black\" points=\"448.72,-46.0792 445.065,-36.1345 441.721,-46.1874 448.72,-46.0792\"/>\n",
       "<text text-anchor=\"middle\" x=\"500.5\" y=\"-57.8\" font-family=\"Times,serif\" font-size=\"14.00\">&lt;=0.875444319826</text>\n",
       "</g>\n",
       "<!-- Addggddd -->\n",
       "<g id=\"node21\" class=\"node\"><title>Addggddd</title>\n",
       "<polygon fill=\"none\" stroke=\"black\" points=\"604,-36 550,-36 550,-0 604,-0 604,-36\"/>\n",
       "<text text-anchor=\"middle\" x=\"577\" y=\"-14.3\" font-family=\"Times,serif\" font-size=\"14.00\">&#45;1</text>\n",
       "</g>\n",
       "<!-- Addggdd&#45;&gt;Addggddd -->\n",
       "<g id=\"edge10\" class=\"edge\"><title>Addggdd&#45;&gt;Addggddd</title>\n",
       "<path fill=\"none\" stroke=\"black\" d=\"M475.554,-101.318C499.04,-97.6601 532.912,-89.0714 555,-69 561.76,-62.8573 566.547,-54.2595 569.89,-45.9234\"/>\n",
       "<polygon fill=\"black\" stroke=\"black\" points=\"573.215,-47.0153 573.181,-36.4205 566.601,-44.7243 573.215,-47.0153\"/>\n",
       "<text text-anchor=\"middle\" x=\"615\" y=\"-57.8\" font-family=\"Times,serif\" font-size=\"14.00\">&gt;0.875444319826</text>\n",
       "</g>\n",
       "<!-- Addgdg -->\n",
       "<g id=\"node23\" class=\"node\"><title>Addgdg</title>\n",
       "<polygon fill=\"none\" stroke=\"black\" points=\"531,-210 477,-210 477,-174 531,-174 531,-210\"/>\n",
       "<text text-anchor=\"middle\" x=\"504\" y=\"-188.3\" font-family=\"Times,serif\" font-size=\"14.00\">1</text>\n",
       "</g>\n",
       "<!-- Addgd&#45;&gt;Addgdg -->\n",
       "<g id=\"edge15\" class=\"edge\"><title>Addgd&#45;&gt;Addgdg</title>\n",
       "<path fill=\"none\" stroke=\"black\" d=\"M506.311,-260.926C505.808,-255.23 505.309,-248.847 505,-243 504.612,-235.66 504.372,-227.707 504.223,-220.349\"/>\n",
       "<polygon fill=\"black\" stroke=\"black\" points=\"507.72,-220.079 504.065,-210.134 500.721,-220.187 507.72,-220.079\"/>\n",
       "<text text-anchor=\"middle\" x=\"556\" y=\"-231.8\" font-family=\"Times,serif\" font-size=\"14.00\">&lt;=1.23682971654</text>\n",
       "</g>\n",
       "<!-- Addgdd -->\n",
       "<g id=\"node24\" class=\"node\"><title>Addgdd</title>\n",
       "<polygon fill=\"none\" stroke=\"black\" points=\"656,-210 602,-210 602,-174 656,-174 656,-210\"/>\n",
       "<text text-anchor=\"middle\" x=\"629\" y=\"-188.3\" font-family=\"Times,serif\" font-size=\"14.00\">&#45;1</text>\n",
       "</g>\n",
       "<!-- Addgd&#45;&gt;Addgdd -->\n",
       "<g id=\"edge16\" class=\"edge\"><title>Addgd&#45;&gt;Addgdd</title>\n",
       "<path fill=\"none\" stroke=\"black\" d=\"M534.554,-274.534C556.412,-270.42 586.956,-261.6 607,-243 613.695,-236.787 618.467,-228.172 621.814,-219.841\"/>\n",
       "<polygon fill=\"black\" stroke=\"black\" points=\"625.135,-220.949 625.12,-210.354 618.524,-218.646 625.135,-220.949\"/>\n",
       "<text text-anchor=\"middle\" x=\"664\" y=\"-231.8\" font-family=\"Times,serif\" font-size=\"14.00\">&gt;1.23682971654</text>\n",
       "</g>\n",
       "</g>\n",
       "</svg>\n"
      ],
      "text/plain": [
       "<graphviz.dot.Digraph at 0x7f967cf21550>"
      ]
     },
     "execution_count": 99,
     "metadata": {},
     "output_type": "execute_result"
    }
   ],
   "source": [
    "adautre.plot()"
   ]
  },
  {
   "cell_type": "markdown",
   "metadata": {},
   "source": [
    "### Améliorations (facultatif)"
   ]
  },
  {
   "cell_type": "markdown",
   "metadata": {},
   "source": [
    "Adapter votre algorithme afin de pouvoir construire des arbres de décision avec des attributs catégoriels."
   ]
  },
  {
   "cell_type": "markdown",
   "metadata": {},
   "source": [
    "## Etape 3: Expérimentation"
   ]
  },
  {
   "cell_type": "markdown",
   "metadata": {
    "collapsed": true
   },
   "source": [
    "Comparez le résultat obtenu avec ceux obtenus avec les 2 classifiers implémentés lors des TD-TME précédents. Ensuite, utilisez votre implémentation sur d'autres bases de données que vous avez déjà trouvées ou que vous pourrez trouver sur le web."
   ]
  },
  {
   "cell_type": "code",
   "execution_count": 100,
   "metadata": {},
   "outputs": [
    {
     "name": "stdout",
     "output_type": "stream",
     "text": [
      "(683, 10)\n"
     ]
    }
   ],
   "source": [
    "from sklearn.datasets import fetch_mldata\n",
    "\n",
    "def loadFile(name):\n",
    "    data = fetch_mldata(name, data_home='.')\n",
    "    print(data.data.shape)\n",
    "    unique=np.unique(data.target)\n",
    "    for i in range(len(data.target)):\n",
    "        if (data.target[i]==unique[0]):\n",
    "            data.target[i]=1\n",
    "        else:\n",
    "            data.target[i]=-1\n",
    "    return data\n",
    "            \n",
    "data = loadFile('breast-cancer_scale')\n",
    "#Les donnees sont dans data.data et data.target\n",
    "\n"
   ]
  },
  {
   "cell_type": "code",
   "execution_count": 103,
   "metadata": {},
   "outputs": [
    {
     "ename": "RecursionError",
     "evalue": "maximum recursion depth exceeded",
     "output_type": "error",
     "traceback": [
      "\u001b[0;31m---------------------------------------------------------------------------\u001b[0m",
      "\u001b[0;31mRecursionError\u001b[0m                            Traceback (most recent call last)",
      "\u001b[0;32m<ipython-input-103-97feca5a5a3c>\u001b[0m in \u001b[0;36m<module>\u001b[0;34m()\u001b[0m\n\u001b[1;32m      6\u001b[0m \u001b[0;34m\u001b[0m\u001b[0m\n\u001b[1;32m      7\u001b[0m \u001b[0mad\u001b[0m\u001b[0;34m=\u001b[0m\u001b[0mArbreDecision\u001b[0m\u001b[0;34m(\u001b[0m\u001b[0;36m0.0\u001b[0m\u001b[0;34m)\u001b[0m\u001b[0;34m\u001b[0m\u001b[0m\n\u001b[0;32m----> 8\u001b[0;31m \u001b[0mad\u001b[0m\u001b[0;34m.\u001b[0m\u001b[0mtrain\u001b[0m\u001b[0;34m(\u001b[0m\u001b[0mdataset\u001b[0m\u001b[0;34m)\u001b[0m\u001b[0;34m\u001b[0m\u001b[0m\n\u001b[0m\u001b[1;32m      9\u001b[0m \u001b[0mad\u001b[0m\u001b[0;34m.\u001b[0m\u001b[0mplot\u001b[0m\u001b[0;34m(\u001b[0m\u001b[0;34m)\u001b[0m\u001b[0;34m\u001b[0m\u001b[0m\n\u001b[1;32m     10\u001b[0m \u001b[0mplot_frontiere\u001b[0m\u001b[0;34m(\u001b[0m\u001b[0mdataset\u001b[0m\u001b[0;34m,\u001b[0m\u001b[0mad\u001b[0m\u001b[0;34m,\u001b[0m\u001b[0;36m20\u001b[0m\u001b[0;34m)\u001b[0m\u001b[0;34m\u001b[0m\u001b[0m\n",
      "\u001b[0;32m<ipython-input-95-38aafe08c110>\u001b[0m in \u001b[0;36mtrain\u001b[0;34m(self, set)\u001b[0m\n\u001b[1;32m     20\u001b[0m         \u001b[0;31m# construction de l'arbre de décision\u001b[0m\u001b[0;34m\u001b[0m\u001b[0;34m\u001b[0m\u001b[0m\n\u001b[1;32m     21\u001b[0m         \u001b[0mself\u001b[0m\u001b[0;34m.\u001b[0m\u001b[0mset\u001b[0m\u001b[0;34m=\u001b[0m\u001b[0mset\u001b[0m\u001b[0;34m\u001b[0m\u001b[0m\n\u001b[0;32m---> 22\u001b[0;31m         \u001b[0mself\u001b[0m\u001b[0;34m.\u001b[0m\u001b[0mracine\u001b[0m \u001b[0;34m=\u001b[0m \u001b[0mconstruit_AD\u001b[0m\u001b[0;34m(\u001b[0m\u001b[0mset\u001b[0m\u001b[0;34m,\u001b[0m\u001b[0mself\u001b[0m\u001b[0;34m.\u001b[0m\u001b[0mepsilon\u001b[0m\u001b[0;34m)\u001b[0m\u001b[0;34m\u001b[0m\u001b[0m\n\u001b[0m\u001b[1;32m     23\u001b[0m \u001b[0;34m\u001b[0m\u001b[0m\n\u001b[1;32m     24\u001b[0m     \u001b[0;31m# Permet d'afficher l'arbre\u001b[0m\u001b[0;34m\u001b[0m\u001b[0;34m\u001b[0m\u001b[0m\n",
      "\u001b[0;32m<ipython-input-92-1f81aa4d5b86>\u001b[0m in \u001b[0;36mconstruit_AD\u001b[0;34m(LSet, eps)\u001b[0m\n\u001b[1;32m     22\u001b[0m         \u001b[0mLinf\u001b[0m\u001b[0;34m,\u001b[0m \u001b[0mLsup\u001b[0m \u001b[0;34m=\u001b[0m \u001b[0mdivise\u001b[0m\u001b[0;34m(\u001b[0m\u001b[0mLSet\u001b[0m\u001b[0;34m,\u001b[0m \u001b[0mimin\u001b[0m\u001b[0;34m,\u001b[0m \u001b[0mseuil_min\u001b[0m\u001b[0;34m)\u001b[0m\u001b[0;34m\u001b[0m\u001b[0m\n\u001b[1;32m     23\u001b[0m \u001b[0;34m\u001b[0m\u001b[0m\n\u001b[0;32m---> 24\u001b[0;31m         \u001b[0mAD\u001b[0m\u001b[0;34m.\u001b[0m\u001b[0majoute_fils\u001b[0m\u001b[0;34m(\u001b[0m\u001b[0mconstruit_AD\u001b[0m\u001b[0;34m(\u001b[0m\u001b[0mLinf\u001b[0m\u001b[0;34m,\u001b[0m \u001b[0meps\u001b[0m\u001b[0;34m)\u001b[0m\u001b[0;34m,\u001b[0m \u001b[0mconstruit_AD\u001b[0m\u001b[0;34m(\u001b[0m\u001b[0mLsup\u001b[0m\u001b[0;34m,\u001b[0m \u001b[0meps\u001b[0m\u001b[0;34m)\u001b[0m\u001b[0;34m,\u001b[0m \u001b[0mimin\u001b[0m\u001b[0;34m,\u001b[0m \u001b[0mseuil_min\u001b[0m\u001b[0;34m)\u001b[0m\u001b[0;34m\u001b[0m\u001b[0m\n\u001b[0m\u001b[1;32m     25\u001b[0m \u001b[0;34m\u001b[0m\u001b[0m\n\u001b[1;32m     26\u001b[0m     \u001b[0;32mreturn\u001b[0m \u001b[0mAD\u001b[0m\u001b[0;34m\u001b[0m\u001b[0m\n",
      "... last 1 frames repeated, from the frame below ...\n",
      "\u001b[0;32m<ipython-input-92-1f81aa4d5b86>\u001b[0m in \u001b[0;36mconstruit_AD\u001b[0;34m(LSet, eps)\u001b[0m\n\u001b[1;32m     22\u001b[0m         \u001b[0mLinf\u001b[0m\u001b[0;34m,\u001b[0m \u001b[0mLsup\u001b[0m \u001b[0;34m=\u001b[0m \u001b[0mdivise\u001b[0m\u001b[0;34m(\u001b[0m\u001b[0mLSet\u001b[0m\u001b[0;34m,\u001b[0m \u001b[0mimin\u001b[0m\u001b[0;34m,\u001b[0m \u001b[0mseuil_min\u001b[0m\u001b[0;34m)\u001b[0m\u001b[0;34m\u001b[0m\u001b[0m\n\u001b[1;32m     23\u001b[0m \u001b[0;34m\u001b[0m\u001b[0m\n\u001b[0;32m---> 24\u001b[0;31m         \u001b[0mAD\u001b[0m\u001b[0;34m.\u001b[0m\u001b[0majoute_fils\u001b[0m\u001b[0;34m(\u001b[0m\u001b[0mconstruit_AD\u001b[0m\u001b[0;34m(\u001b[0m\u001b[0mLinf\u001b[0m\u001b[0;34m,\u001b[0m \u001b[0meps\u001b[0m\u001b[0;34m)\u001b[0m\u001b[0;34m,\u001b[0m \u001b[0mconstruit_AD\u001b[0m\u001b[0;34m(\u001b[0m\u001b[0mLsup\u001b[0m\u001b[0;34m,\u001b[0m \u001b[0meps\u001b[0m\u001b[0;34m)\u001b[0m\u001b[0;34m,\u001b[0m \u001b[0mimin\u001b[0m\u001b[0;34m,\u001b[0m \u001b[0mseuil_min\u001b[0m\u001b[0;34m)\u001b[0m\u001b[0;34m\u001b[0m\u001b[0m\n\u001b[0m\u001b[1;32m     25\u001b[0m \u001b[0;34m\u001b[0m\u001b[0m\n\u001b[1;32m     26\u001b[0m     \u001b[0;32mreturn\u001b[0m \u001b[0mAD\u001b[0m\u001b[0;34m\u001b[0m\u001b[0m\n",
      "\u001b[0;31mRecursionError\u001b[0m: maximum recursion depth exceeded"
     ]
    }
   ],
   "source": [
    "dataset = LabeledSet(data.data.shape[1])\n",
    "\n",
    "for i in range(data.data.shape[0]):\n",
    "\n",
    "    dataset.addExample(data.data[i],data.target[i])\n",
    "    \n",
    "ad=ArbreDecision(0.0)          \n",
    "ad.train(dataset)    \n",
    "ad.plot()\n",
    "plot_frontiere(dataset,ad,20)\n",
    "plot2DSet(dataset) \n",
    "    "
   ]
  },
  {
   "cell_type": "code",
   "execution_count": null,
   "metadata": {
    "collapsed": true
   },
   "outputs": [],
   "source": []
  }
 ],
 "metadata": {
  "kernelspec": {
   "display_name": "Python 2",
   "language": "python",
   "name": "python2"
  },
  "language_info": {
   "codemirror_mode": {
    "name": "ipython",
    "version": 3
   },
   "file_extension": ".py",
   "mimetype": "text/x-python",
   "name": "python",
   "nbconvert_exporter": "python",
   "pygments_lexer": "ipython3",
   "version": "3.6.1"
  }
 },
 "nbformat": 4,
 "nbformat_minor": 1
}
