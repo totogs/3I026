{
 "cells": [
  {
   "cell_type": "markdown",
   "metadata": {},
   "source": [
    "IA & Data science -- 2017-2018\n",
    "--------\n",
    "*&copy; Equipe pédagogique: Ludovic Denoyer, Thibault Laugel, Marie-Jeanne Lesot, Christophe Marsala, Olivier Schwander*"
   ]
  },
  {
   "cell_type": "markdown",
   "metadata": {},
   "source": [
    "# TD-TME05: les arbres de décision\n",
    "\n",
    "L'objectif de ce TP est d'implémenter un algorithme d'apprentissage supervisé, l'algorithme de construction d'arbres de décision (cours 6).\n",
    "\n",
    "Comme pour les k-nn, nous allons nous restreindre à un cas binaire où les données sont étiquetées $+1$ ou $-1$. De plus, nous allons ne considérer que le cas où les attributs sont tous numériques."
   ]
  },
  {
   "cell_type": "markdown",
   "metadata": {},
   "source": [
    "<font size=\"+1\">**[Q]**</font> **Indiquer dans la boîte ci-dessous vos noms et prénoms :**"
   ]
  },
  {
   "cell_type": "markdown",
   "metadata": {},
   "source": [
    "*Double-cliquer ici et insérer les noms et prénoms de votre binôme*"
   ]
  },
  {
   "cell_type": "markdown",
   "metadata": {},
   "source": [
    "<font color=\"RED\" size=\"+1\">IMPORTANT: soumission de votre fichier final</font>\n",
    "\n",
    "**Nom à donner au fichier à poster** : *Nom1_Nom2.ipynb* \n",
    "- *Nom1* et *Nom2* : noms des membres du binôme\n",
    "- ne pas compresser ou faire une archive: envoyer le fichier ipython tel quel, éventuellement, si vous avez d'autres fichiers à envoyer, vous les joignez au message."
   ]
  },
  {
   "cell_type": "markdown",
   "metadata": {},
   "source": [
    "## Préparation\n",
    "\n",
    "Copier l'archive dans votre répertoire de travail: <code>/users/Enseignants/marsala/iads/tp5.tgz</code>\n",
    "\n",
    "Décompresser l'archive, elle crée le répertoire \"tp5\" qui contient un fichier ipython à ouvrir (ce fichier-ci) et un sous-répertoire \"data\" contenant les bases d'apprentissage utilisées dans ce TP.\n",
    "\n",
    "Le but de ce TP est de compléter ce document ipython en ajoutant les fonctions demandées. Avant de commencer, exécuter le bloc suivant afin de pouvoir initialiser des variables utiles \n"
   ]
  },
  {
   "cell_type": "code",
   "execution_count": 36,
   "metadata": {
    "collapsed": true
   },
   "outputs": [],
   "source": [
    "# imports utiles\n",
    "import numpy as np\n",
    "import pandas as pd"
   ]
  },
  {
   "cell_type": "markdown",
   "metadata": {
    "collapsed": true
   },
   "source": [
    "## Etape 1: Retour sur les TD-TME précédents\n",
    "\n",
    "Cette partie a été réalisée lors du TD-TME précédent, reprenez ce que vous avez fait en copier-collant votre travail de la semaine dernière.\n",
    "\n",
    "Reprendre la classe <code>LabeledSet</code> du TD_TME précédent pour stocker les données d'apprentissage, de validation et de test. Cette classe permet de stocker des couples $\\{(x_1,y_1),...,(x_n,y_n)\\}$. Les $x_i$ et $y_i$ seront des tableaux numpy. "
   ]
  },
  {
   "cell_type": "markdown",
   "metadata": {},
   "source": [
    "### Génération de données ''Jouet''\n",
    "\n",
    "Comme lors des TD_TME précédents, les fonctions seront testées sur des données \"jouet\" générées selon des distributions choisies à la main. Commençons par un dataset en 2 dimensions (entrée) et 1 dimension (sortie): $x_i \\in \\mathbb{R}^2$, $y_i \\in [-1;+1]$ telles que les données sont généres selon deux Gaussiennes. Pour cela, nous utiliserons la fonction numpy.random.multivariate_normal  - http://docs.scipy.org/doc/numpy/reference/generated/numpy.random.multivariate_normal.html \n",
    "\n",
    "* ''positive_center'' est le centre de la gaussienne des points positifs (vecteur de taille 2)\n",
    "* ''positive_sigma'' est la variance de la gaussienne (sous forme de matrice 2*2)\n",
    "* Idem pour ''negative''\n",
    "\n",
    "* Générer une premiere gaussienne associée au label $+1$\n",
    "* Y rajouter une seconde gaussienne associée au label $-1$\n",
    "\n",
    "<font size=\"+1\">**[Q]**</font>  Dans un premier temps, pour mettre au point les fonctions, génerer une base jouet assez petite (par exemple, 10 exemples de chaque classe)."
   ]
  },
  {
   "cell_type": "code",
   "execution_count": 37,
   "metadata": {
    "collapsed": true
   },
   "outputs": [],
   "source": [
    "class LabeledSet:  \n",
    "    \n",
    "    def __init__(self, input_dimension):\n",
    "        self.input_dimension = input_dimension\n",
    "        self.nb_examples = 0\n",
    "    \n",
    "    def addExample(self,vector,label):\n",
    "        if (self.nb_examples == 0):\n",
    "            self.x = np.array([vector])\n",
    "            self.y = np.array([label])\n",
    "        else:\n",
    "            self.x = np.vstack((self.x, vector))\n",
    "            self.y = np.vstack((self.y, label))\n",
    "        \n",
    "        self.nb_examples = self.nb_examples + 1\n",
    "    \n",
    "    #Renvoie la dimension de l'espace d'entrée\n",
    "    def getInputDimension(self):\n",
    "        return self.input_dimension\n",
    "    \n",
    "    #Renvoie le nombre d'exemples dans le set\n",
    "    def size(self):\n",
    "        return self.nb_examples\n",
    "    \n",
    "    #Renvoie la valeur de x_i\n",
    "    def getX(self, i):\n",
    "        return self.x[i]\n",
    "        \n",
    "    \n",
    "    #Renvouie la valeur de y_i\n",
    "    def getY(self, i):\n",
    "        return(self.y[i])"
   ]
  },
  {
   "cell_type": "code",
   "execution_count": 38,
   "metadata": {
    "collapsed": true
   },
   "outputs": [],
   "source": [
    "gauss1=np.random.multivariate_normal([1,1],[[1,0],[0,1]],size=10)\n",
    "gauss2=np.random.multivariate_normal([-1,-1],[[1,0],[0,1]],size=10)\n",
    "\n",
    "the_set = LabeledSet(2)\n",
    "\n",
    "for i in gauss1:\n",
    "    the_set.addExample(i,1)\n",
    "\n",
    "for i in gauss2:\n",
    "    the_set.addExample(i,-1)\n",
    "    \n",
    "    \n",
    "gauss3=np.random.multivariate_normal([1,1],[[1,0],[0,1]],size=50)\n",
    "gauss4=np.random.multivariate_normal([-1,-1],[[1,0],[0,1]],size=50)\n",
    "\n",
    "dataset_test = LabeledSet(2)\n",
    "\n",
    "for i in gauss3:\n",
    "    dataset_test.addExample(i,1)\n",
    "\n",
    "for i in gauss4:\n",
    "    dataset_test.addExample(i,-1)"
   ]
  },
  {
   "cell_type": "code",
   "execution_count": 39,
   "metadata": {},
   "outputs": [
    {
     "data": {
      "text/plain": [
       "array([[ 0.83803438,  1.57553802],\n",
       "       [-0.40621756,  0.81523783],\n",
       "       [ 2.24418008,  1.29152141],\n",
       "       [ 0.96062915,  0.00275601],\n",
       "       [ 1.52023617, -0.57763863],\n",
       "       [ 2.65286691,  0.09580633],\n",
       "       [-0.44740991,  1.80983388],\n",
       "       [ 1.31433412,  1.9912409 ],\n",
       "       [-1.16890018,  1.4652699 ],\n",
       "       [ 0.14278542,  0.66780009]])"
      ]
     },
     "execution_count": 39,
     "metadata": {},
     "output_type": "execute_result"
    }
   ],
   "source": [
    "# the_set = ... # définition d'un LabeledSet avec la fonction précédente\n",
    "\n",
    "S= the_set.x[np.where(the_set.y == 1),:]\n",
    "S[0]\n"
   ]
  },
  {
   "cell_type": "markdown",
   "metadata": {},
   "source": [
    "Le dataset peut être affiché en utilisant matplotlib (pour vérifier). Nous utiliserons la commande matplotlib.pyplot.scatter permettant de dessiner un nuage de points - http://matplotlib.org/api/pyplot_api.html#matplotlib.pyplot.scatter -"
   ]
  },
  {
   "cell_type": "code",
   "execution_count": 40,
   "metadata": {
    "collapsed": true
   },
   "outputs": [],
   "source": [
    "import matplotlib.pyplot as plt\n",
    "%matplotlib inline \n",
    "\n",
    "def plot2DSet(set):\n",
    "    \"\"\" LabeledSet -> NoneType\n",
    "        Hypothèse: set est de dimension 2\n",
    "        affiche une représentation graphique du LabeledSet\n",
    "        remarque: l'ordre des labels dans set peut être quelconque\n",
    "    \"\"\"\n",
    "    S_pos = set.x[np.where(set.y == 1),:][0]      # tous les exemples de label +1\n",
    "    S_neg = set.x[np.where(set.y == -1),:][0]     # tous les exemples de label -1\n",
    "    plt.scatter(S_pos[:,0],S_pos[:,1],marker='o')\n",
    "    plt.scatter(S_neg[:,0],S_neg[:,1],marker='x')"
   ]
  },
  {
   "cell_type": "code",
   "execution_count": 41,
   "metadata": {},
   "outputs": [
    {
     "data": {
      "image/png": "[encoded data removed]",
      "text/plain": [
       "<matplotlib.figure.Figure at 0x13fd51542e8>"
      ]
     },
     "metadata": {},
     "output_type": "display_data"
    }
   ],
   "source": [
    "# Essai de la fonction : (the_set : variable du dataset généré précédemment)\n",
    "plot2DSet(the_set)"
   ]
  },
  {
   "cell_type": "markdown",
   "metadata": {},
   "source": [
    "### Les classifieurs\n",
    "\n",
    "La classe <code>Classifier</code> sert toujours de classe de base: l'algorithme d'apprentissage par arbres de décision est un nouveau type de Classifier que l'on va créer.\n"
   ]
  },
  {
   "cell_type": "code",
   "execution_count": 42,
   "metadata": {
    "collapsed": true
   },
   "outputs": [],
   "source": [
    "class Classifier:\n",
    "    def __init__(self,input_dimension):\n",
    "        \"\"\" Constructeur \"\"\"\n",
    "        raise NotImplementedError(\"Please Implement this method\")\n",
    "    \n",
    "    \n",
    "    # Permet de calculer la prediction sur x => renvoie un score\n",
    "    def predict(self,x):\n",
    "        raise NotImplementedError(\"Please Implement this method\")\n",
    "\n",
    "    \n",
    "    # Permet d'entrainer le modele sur un ensemble de données\n",
    "    def train(self,labeledSet):\n",
    "        raise NotImplementedError(\"Please Implement this method\")\n",
    "    \n",
    "    #Permet de calculer la qualité du système \n",
    "    def accuracy(self, dataset):\n",
    "        nb_ok = 0\n",
    "        for i in range(dataset.size()):\n",
    "            output = self.predict(dataset.getX(i))\n",
    "            if (output * dataset.getY(i) > 0):\n",
    "                nb_ok = nb_ok + 1\n",
    "        acc = nb_ok / (dataset.size() * 1.0)\n",
    "        return acc    "
   ]
  },
  {
   "cell_type": "code",
   "execution_count": 43,
   "metadata": {
    "collapsed": true
   },
   "outputs": [],
   "source": [
    "class ClassifierRandom(Classifier):\n",
    "    \n",
    "    def __init__(self,input_dimension):\n",
    "        self.input_dimension=input_dimension\n",
    "        self.labeledset=None\n",
    "\n",
    "    \n",
    "    def predict(self,x):\n",
    "        scal=0;\n",
    "        for i in range(0,self.input_dimension):\n",
    "            scal=scal+x[i]*self.w[i]\n",
    "        \n",
    "        return scal\n",
    "    \n",
    "    def train(self, labeledset):\n",
    "        self.labeledset=labeledset\n",
    "        self.w=np.random.rand(self.input_dimension)\n",
    "        \n",
    "        \n",
    "        for i in range(0,self.input_dimension):\n",
    "            self.w[i]=(self.w[i]*2)-1"
   ]
  },
  {
   "cell_type": "markdown",
   "metadata": {},
   "source": [
    "On reprend la fonction suivante, utilisée lors des TD-TME précédent, pour dessiner la frontière de décision d'un classifieur."
   ]
  },
  {
   "cell_type": "code",
   "execution_count": 44,
   "metadata": {
    "collapsed": true,
    "scrolled": true
   },
   "outputs": [],
   "source": [
    "def plot_frontiere(set,classifier,step=20):\n",
    "    \"\"\" LabeledSet * Classifier * int -> NoneType\n",
    "        Remarque: le 3e argument est optionnel et donne la \"résolution\" du tracé\n",
    "        affiche la frontière de décision associée au classifieur\n",
    "    \"\"\"\n",
    "    mmax = set.x.max(0)\n",
    "    mmin = set.x.min(0)\n",
    "    x1grid, x2grid = np.meshgrid(np.linspace(mmin[0], mmax[0], step), np.linspace(mmin[1], mmax[1], step))\n",
    "    grid = np.hstack((x1grid.reshape(x1grid.size, 1), x2grid.reshape(x2grid.size, 1)))\n",
    "    \n",
    "    # calcul de la prediction pour chaque point de la grille\n",
    "    res = np.array([classifier.predict(grid[i,:]) for i in range(len(grid)) ])\n",
    "    res = res.reshape(x1grid.shape)\n",
    "    # tracé des frontieres\n",
    "    plt.contourf(x1grid, x2grid, res, colors=[\"red\", \"cyan\"], levels=[-1000,0,1000], linewidth=2)    "
   ]
  },
  {
   "cell_type": "code",
   "execution_count": 45,
   "metadata": {},
   "outputs": [
    {
     "name": "stderr",
     "output_type": "stream",
     "text": [
      "C:\\Users\\togos\\Anaconda3\\lib\\site-packages\\matplotlib\\contour.py:967: UserWarning: The following kwargs were not used by contour: 'linewidth'\n",
      "  s)\n"
     ]
    },
    {
     "data": {
      "image/png": "[encoded data removed]",
      "text/plain": [
       "<matplotlib.figure.Figure at 0x13fd4265780>"
      ]
     },
     "metadata": {},
     "output_type": "display_data"
    }
   ],
   "source": [
    "# Exemple d'utilisation:\n",
    "classifieur_random=ClassifierRandom(2)   # test avec la classe écrite dans les séances précédentes\n",
    "\n",
    "classifieur_random.train(the_set)        # the_set a été initialisé précédemment\n",
    "\n",
    "plot_frontiere(dataset_test,classifieur_random)   # on trace la frontière\n",
    "plot2DSet(dataset_test)                           # on affiche le LabeledSet dessus\n"
   ]
  },
  {
   "cell_type": "markdown",
   "metadata": {},
   "source": [
    "<font size=\"+1\">**[Q]**</font> Ecrire la fonction <code>classe_majoritaire()</code> qui, étant donné un LabeledSet rend la classe majoritaire dans l'ensemble (celle qui est possédée par le plus grand nombre d'exemples donc...). En cas d'égalité, cette fonction rend la classe +1."
   ]
  },
  {
   "cell_type": "code",
   "execution_count": 46,
   "metadata": {
    "collapsed": true
   },
   "outputs": [],
   "source": [
    "def classe_majoritaire(labeledset):\n",
    "    \n",
    "    cpt=0\n",
    "    \n",
    "    for i in range(labeledset.size()):\n",
    "        if(labeledset.getY(i)==1):\n",
    "            cpt+=1\n",
    "            \n",
    "    if(cpt>=labeledset.size()/2):\n",
    "        return 1\n",
    "    else:\n",
    "        return -1"
   ]
  },
  {
   "cell_type": "code",
   "execution_count": 47,
   "metadata": {},
   "outputs": [
    {
     "data": {
      "text/plain": [
       "1"
      ]
     },
     "execution_count": 47,
     "metadata": {},
     "output_type": "execute_result"
    }
   ],
   "source": [
    "classe_majoritaire(the_set)"
   ]
  },
  {
   "cell_type": "markdown",
   "metadata": {},
   "source": [
    "## Etape 2: Arbres de décision\n",
    "\n",
    "Dans cet étape, on réalise l'implémentation de l'algorithme de construction d'un arbre de décision."
   ]
  },
  {
   "cell_type": "markdown",
   "metadata": {},
   "source": [
    "### Entropie et gain d'information\n",
    "\n",
    "Dans un premier temps, il est nécessaire écrire des fonctions pour calculer l'entropie et le gain d'information vus dans le cours 6.\n",
    "\n",
    "Etant donné une distribution de probabilités $P=(p_1, p_2,..., p_k)$, l'entropie de Shannon de cette distribution est donnée par:\n",
    "\n",
    "$ H_S(P) = -\\sum_{i=1}^{k} p_i \\log_k(p_i)$\n",
    "\n",
    "Par convention, on considère que $0\\log_k(0) = 0$. \n",
    "\n",
    "Le logarithme utilisé est le logarithme en base $k$ afin d'obtenir une valeur normalisée de l'entropie. La base du logarithme est donc $k$, le nombre de classes présentes dans la base au maximum.\n",
    "\n",
    "Dans ce qui suit, en Python, une *distribution de probabilités* est représentée par une liste $P=[p_1,...,p_k]$ de valeurs réelles telle que\n",
    "* pour tout $i=1,..., k$ : $0 \\leq p_i \\leq 1$\n",
    "* $\\sum_{i=1}^{k}p_i = 1$\n"
   ]
  },
  {
   "cell_type": "markdown",
   "metadata": {},
   "source": [
    "<font size=\"+1\">**[Q]**</font> Ecrire la fonction <code>shannon()</code> qui, étant donné une distribution de probabilités $P$, rend la valeur de l'entropie de Shannon correspondante.\n",
    "\n",
    "Remarque: pour nous, en Python, $P$ est représentée par une liste de $k$ valeurs de $[0, 1]$ telle que la somme de toutes les valeurs vaut $1$."
   ]
  },
  {
   "cell_type": "code",
   "execution_count": 48,
   "metadata": {
    "collapsed": true
   },
   "outputs": [],
   "source": [
    "import math\n",
    "\n",
    "def shannon(P):\n",
    "    k=len(P)\n",
    "    HsP=0\n",
    "    if(k==1):\n",
    "        return 0.0\n",
    "    \n",
    "    for pi in P:\n",
    "        if(pi>0.0):\n",
    "            HsP+=pi*math.log(pi,k)\n",
    "        \n",
    "    return -HsP\n",
    "\n",
    "\n",
    "        "
   ]
  },
  {
   "cell_type": "code",
   "execution_count": 49,
   "metadata": {},
   "outputs": [
    {
     "data": {
      "text/plain": [
       "-0.0"
      ]
     },
     "execution_count": 49,
     "metadata": {},
     "output_type": "execute_result"
    }
   ],
   "source": [
    "shannon([1, 0])"
   ]
  },
  {
   "cell_type": "code",
   "execution_count": 50,
   "metadata": {},
   "outputs": [
    {
     "data": {
      "text/plain": [
       "1.0"
      ]
     },
     "execution_count": 50,
     "metadata": {},
     "output_type": "execute_result"
    }
   ],
   "source": [
    "shannon([0.5, 0.5])"
   ]
  },
  {
   "cell_type": "code",
   "execution_count": 51,
   "metadata": {},
   "outputs": [
    {
     "data": {
      "text/plain": [
       "1.0"
      ]
     },
     "execution_count": 51,
     "metadata": {},
     "output_type": "execute_result"
    }
   ],
   "source": [
    "shannon([0.25, 0.25, 0.25, 0.25])"
   ]
  },
  {
   "cell_type": "code",
   "execution_count": 52,
   "metadata": {},
   "outputs": [
    {
     "data": {
      "text/plain": [
       "0.5783898247235197"
      ]
     },
     "execution_count": 52,
     "metadata": {},
     "output_type": "execute_result"
    }
   ],
   "source": [
    "shannon([0.7, 0.1, 0.2, 0.0])"
   ]
  },
  {
   "cell_type": "code",
   "execution_count": 53,
   "metadata": {},
   "outputs": [
    {
     "data": {
      "text/plain": [
       "0.9182958340544896"
      ]
     },
     "execution_count": 53,
     "metadata": {},
     "output_type": "execute_result"
    }
   ],
   "source": [
    "shannon([1.0/3, 2.0/3])"
   ]
  },
  {
   "cell_type": "markdown",
   "metadata": {},
   "source": [
    "<font size=\"+1\">**[Q]**</font> A l'aide de la fonction <code>shannon()</code>, écrire la fonction <code>entropie()</code> qui prend un LabeledSet en argument et renvoie l'entropie de sa distribution des classes dans cet ensemble."
   ]
  },
  {
   "cell_type": "code",
   "execution_count": 54,
   "metadata": {
    "collapsed": true
   },
   "outputs": [],
   "source": [
    "def entropie(dataset):\n",
    "    \n",
    "    card = dataset.size()\n",
    "    dimension = dataset.getInputDimension()\n",
    "    \n",
    "    distrib = dict()\n",
    "    \n",
    "    for i in range(dataset.size()):\n",
    "        yi=dataset.getY(i)[0]\n",
    "        \n",
    "        if(yi in distrib):\n",
    "            distrib[yi] +=1\n",
    "        else:\n",
    "            distrib[yi] = 1\n",
    "        \n",
    "    sha = [float(val)/card for val in distrib.values()]\n",
    "    \n",
    "    return shannon(sha)\n",
    "        "
   ]
  },
  {
   "cell_type": "code",
   "execution_count": 55,
   "metadata": {},
   "outputs": [
    {
     "data": {
      "text/plain": [
       "1.0"
      ]
     },
     "execution_count": 55,
     "metadata": {},
     "output_type": "execute_result"
    }
   ],
   "source": [
    "entropie(the_set)"
   ]
  },
  {
   "cell_type": "markdown",
   "metadata": {},
   "source": [
    "### Discrétisation des attributs numériques"
   ]
  },
  {
   "cell_type": "markdown",
   "metadata": {
    "collapsed": true
   },
   "source": [
    "Discrétiser un attribut numérique consiste en trouver un seuil de coupure dans son ensemble de valeurs. Pour trouver ce seuil, on sélectionne le point de coupure qui optimise la distribution des classes des exemples de chaque côté du seuil.\n",
    "\n",
    "Par exemple, soit l'attribut Age contenant les valeurs 17, 18, 20, 27, 35, 37, 40. On discrétise cet attribut en 2 valeurs en déterminant un seuil de coupure comme, par exemple, le seuil 30: cela permet de séparer d'un côté les valeurs inférieures ou égales à 30, et de l'autre les valeurs strictement supérieures à 30.\n",
    "\n",
    "Soit $E$ un ensemble d'exemples, et soit $X$ un attribut que l'on veut discrétiser. Pour cela, on constitue l'ensemble des valeurs prises par les exemples de $E$ pour l'attribut $X$. Soit $X_E$ cet ensemble de valeurs.\n",
    "La discrétisation de $X_E$ s'effectue par les étapes suivantes:\n",
    "- Etape 1: ordonner de façon croissante les valeurs de $X_E$;\n",
    "- Etape 2: regarder tous les seuils possibles de coupure entre 2 valeurs consécutives de $X_E$ (on prend comme seuil de coupure la valeur entre ces 2 valeurs). Chaque seuil trouvé créé 2 intervalles qui générent 2 sous-ensembles de $E$: \n",
    "    1) l'ensemble $E_1$ des exemples dont la valeur pour l'attribut considéré et inférieure ou égale au seuil, et 2) l'ensemble $E_2$ des exemples dont la valeur pour l'attribut considéré et supérieure au seuil;\n",
    "    - pour chacun des seuils trouvés: \n",
    "        - calculer l'entropie de la distribution des classes pour les exemples de l'ensemble $E_1$, et l'entropie de la distribution des classes  pour les exemples de $E_2$;\n",
    "        - calculer l'entropie moyenne de la coupure engendrée par le seuil considéré:\n",
    "$$H_{moy}(coupure) = \\frac{|E_1|}{|E|} H_S(E_1) + \\frac{|E_2|}{|E|} H_S(E_2);$$\n",
    "\n",
    "\n",
    "La meilleure coupure pour discrétiser $X_E$ est celle qui minimise la valeur $H_{moy}(coupure)$.\n",
    "\n",
    "\n",
    "Par exemple, soit $E=\\{17, 18, 20, 27, 35, 37, 40\\}$, chaque valeur étant associées aux classes +1, +1, -1, -1, +1, +1, -1 respectivement. Un seuil de coupure possible est $31$ ($31 = \\frac{27+35}{2}$). Ce seuil coupe $E$ en $E_1=\\{17, 18, 20, 27\\}$ et $E_2=\\{35, 37, 40\\}$.\n",
    "\n",
    "- pour $E_1$, la probabilité de chaque classe est: $p(+1)= 0.5$ et $p(-1)=0.5$ donc, $H_S(E_1)=1$;\n",
    "- pour $E_2$, la probabilité de chaque classe est: $p(+1)= \\frac{1}{3}$ et $p(-1)=\\frac{2}{3}$ donc, $H_S(E_2)=0.9182958340544896$;\n",
    "- on a donc: $$H_{moy}(coupure par 31) = \\frac{4}{7} H_S(E_1) + \\frac{3}{7} H_S(E_2);$$\n",
    "soit $H_{moy}(coupure par 31) = 0.9182958340544896$"
   ]
  },
  {
   "cell_type": "markdown",
   "metadata": {},
   "source": [
    "On considère que the_set est un LabeledSet construit précédement. Il contient deux variables de type array: x et y.\n",
    "\n",
    "Regarder et tester les instructions suivantes, il faut bien comprendre comment elles fonctionnent car on va utiliser les mêmes principes dans les fonctions à écrire."
   ]
  },
  {
   "cell_type": "code",
   "execution_count": 56,
   "metadata": {},
   "outputs": [
    {
     "data": {
      "text/plain": [
       "array([[13, 15],\n",
       "       [12, 12],\n",
       "       [14, 18],\n",
       "       [17, 10],\n",
       "       [15, 11],\n",
       "       [ 8, 13],\n",
       "       [11,  4],\n",
       "       [19, 19],\n",
       "       [16, 16],\n",
       "       [ 6,  3],\n",
       "       [ 1, 17],\n",
       "       [ 9,  5],\n",
       "       [10, 14],\n",
       "       [18,  9],\n",
       "       [ 0,  1],\n",
       "       [ 3,  2],\n",
       "       [ 7,  8],\n",
       "       [ 4,  0],\n",
       "       [ 2,  6],\n",
       "       [ 5,  7]], dtype=int64)"
      ]
     },
     "execution_count": 56,
     "metadata": {},
     "output_type": "execute_result"
    }
   ],
   "source": [
    "ind= np.argsort(the_set.x,axis=0)   # Tri des valeurs de the_set.x selon les colonnes. \n",
    "                                    # La fonction rend un numpy.ndarray contenant autant de \n",
    "                                    # colonnes que the_set.x et dans chaque colonne, on a \n",
    "                                    # la position de l'exemple dans l'ordonnancement croissant.\n",
    "ind # pour afficher"
   ]
  },
  {
   "cell_type": "code",
   "execution_count": null,
   "metadata": {
    "collapsed": true
   },
   "outputs": [],
   "source": []
  },
  {
   "cell_type": "code",
   "execution_count": 57,
   "metadata": {},
   "outputs": [
    {
     "data": {
      "text/plain": [
       "array([[-2.34301754, -0.76367881],\n",
       "       [-2.24593008, -1.46719049],\n",
       "       [-2.14132855,  0.13651062],\n",
       "       [-2.00304498,  0.04269309],\n",
       "       [-1.31564163, -1.57951503],\n",
       "       [-1.16890018,  1.4652699 ],\n",
       "       [-0.85193775, -1.02456237],\n",
       "       [-0.72937096, -0.54475931],\n",
       "       [-0.57355268, -0.2855005 ],\n",
       "       [-0.44740991,  1.80983388],\n",
       "       [-0.40621756,  0.81523783],\n",
       "       [ 0.14278542,  0.66780009],\n",
       "       [ 0.21452432, -1.38633179],\n",
       "       [ 0.27606763, -1.46665226],\n",
       "       [ 0.83803438,  1.57553802],\n",
       "       [ 0.96062915,  0.00275601],\n",
       "       [ 1.31433412,  1.9912409 ],\n",
       "       [ 1.52023617, -0.57763863],\n",
       "       [ 2.24418008,  1.29152141],\n",
       "       [ 2.65286691,  0.09580633]])"
      ]
     },
     "execution_count": 57,
     "metadata": {},
     "output_type": "execute_result"
    }
   ],
   "source": [
    "the_set.x[ind[0:len(the_set.x),0]]  # Rend le numpy.array des exemples de the_set.x ordonnés\n",
    "                                    # selon les indices donnés dans ind (colonne 0)\n"
   ]
  },
  {
   "cell_type": "code",
   "execution_count": 58,
   "metadata": {},
   "outputs": [
    {
     "data": {
      "text/plain": [
       "array([[-1],\n",
       "       [-1],\n",
       "       [-1],\n",
       "       [-1],\n",
       "       [-1],\n",
       "       [ 1],\n",
       "       [-1],\n",
       "       [-1],\n",
       "       [-1],\n",
       "       [ 1],\n",
       "       [ 1],\n",
       "       [ 1],\n",
       "       [-1],\n",
       "       [-1],\n",
       "       [ 1],\n",
       "       [ 1],\n",
       "       [ 1],\n",
       "       [ 1],\n",
       "       [ 1],\n",
       "       [ 1]])"
      ]
     },
     "execution_count": 58,
     "metadata": {},
     "output_type": "execute_result"
    }
   ],
   "source": [
    "the_set.y[ind[0:len(the_set.y),0]]  # Rend le numpy.array des exemples de the_set.y ordonnés\n",
    "                                    # selon les indices donnés dans ind (colonne 0)"
   ]
  },
  {
   "cell_type": "code",
   "execution_count": 59,
   "metadata": {},
   "outputs": [
    {
     "name": "stdout",
     "output_type": "stream",
     "text": [
      "valeur= -1.57951503065 classe=  -1\n",
      "valeur= -1.4671904869 classe=  -1\n",
      "valeur= -1.4666522581 classe=  -1\n",
      "valeur= -1.38633179235 classe=  -1\n",
      "valeur= -1.02456237301 classe=  -1\n",
      "valeur= -0.763678805992 classe=  -1\n",
      "valeur= -0.57763863424 classe=  1\n",
      "valeur= -0.54475930928 classe=  -1\n",
      "valeur= -0.285500496952 classe=  -1\n",
      "valeur= 0.00275600901597 classe=  1\n",
      "valeur= 0.042693093559 classe=  -1\n",
      "valeur= 0.0958063346432 classe=  1\n",
      "valeur= 0.136510616076 classe=  -1\n",
      "valeur= 0.66780008664 classe=  1\n",
      "valeur= 0.815237831428 classe=  1\n",
      "valeur= 1.29152141366 classe=  1\n",
      "valeur= 1.46526990456 classe=  1\n",
      "valeur= 1.57553802054 classe=  1\n",
      "valeur= 1.80983387981 classe=  1\n",
      "valeur= 1.99124089787 classe=  1\n"
     ]
    }
   ],
   "source": [
    "colonne = 1    # numéro de la colonne de the_set.x à considérer\n",
    "for v_i in ind[0:len(the_set.x)]:\n",
    "    i = v_i[colonne]\n",
    "    exem = the_set.getX(i)\n",
    "    clas = the_set.getY(i)\n",
    "    print(\"valeur=\",exem[colonne], \"classe= \", clas[0])"
   ]
  },
  {
   "cell_type": "markdown",
   "metadata": {},
   "source": [
    "Etant donné un LabeledSet, ainsi qu'un numéro de colonne à considérer (qui correspond à un des attributs de description), la fonction <code>discrétise()</code> rend un tuple constitué de la valeur de coupure qui minimise l'entropie de Shannon moyenne, et de la valeur de l'entropie trouvée."
   ]
  },
  {
   "cell_type": "code",
   "execution_count": 60,
   "metadata": {
    "collapsed": true
   },
   "outputs": [],
   "source": [
    "def discretise(LSet, col):\n",
    "    \"\"\" LabelledSet * int -> tuple[float, float]\n",
    "        col est le numéro de colonne sur X à discrétiser\n",
    "        rend la valeur de coupure qui minimise l'entropie ainsi que son entropie.\n",
    "    \"\"\"\n",
    "    # initialisation:\n",
    "    min_entropie = 1.1  # on met à une valeur max car on veut minimiser\n",
    "    min_seuil = 0.0     \n",
    "    # trie des valeurs:\n",
    "    ind= np.argsort(LSet.x,axis=0)\n",
    "    \n",
    "    # calcul des distributions des classes pour E1 et E2:\n",
    "    inf_plus  = 0               # nombre de +1 dans E1\n",
    "    inf_moins = 0               # nombre de -1 dans E1\n",
    "    sup_plus  = 0               # nombre de +1 dans E2\n",
    "    sup_moins = 0               # nombre de -1 dans E2       \n",
    "    # remarque: au départ on considère que E1 est vide et donc E2 correspond à E. \n",
    "    # Ainsi inf_plus et inf_moins valent 0. Il reste à calculer sup_plus et sup_moins \n",
    "    # dans E.\n",
    "    for j in range(0,LSet.size()):\n",
    "        if (LSet.getY(j) == -1):\n",
    "            sup_moins += 1\n",
    "        else:\n",
    "            sup_plus += 1\n",
    "    nb_total = (sup_plus + sup_moins) # nombre d'exemples total dans E\n",
    "    \n",
    "    # parcours pour trouver le meilleur seuil:\n",
    "    for i in range(len(LSet.x)-1):\n",
    "        v_ind_i = ind[i]   # vecteur d'indices\n",
    "        courant = LSet.getX(v_ind_i[col])[col]\n",
    "        lookahead = LSet.getX(ind[i+1][col])[col]\n",
    "        val_seuil = (courant + lookahead) / 2.0;\n",
    "        # M-A-J de la distrib. des classes:\n",
    "        # pour réduire les traitements: on retire un exemple de E2 et on le place\n",
    "        # dans E1, c'est ainsi que l'on déplace donc le seuil de coupure.\n",
    "        if LSet.getY(ind[i][col])[0] == -1:\n",
    "            inf_moins += 1\n",
    "            sup_moins -= 1\n",
    "        else:\n",
    "            inf_plus += 1\n",
    "            sup_plus -= 1\n",
    "        # calcul de la distribution des classes de chaque côté du seuil:\n",
    "        nb_inf = (inf_moins + inf_plus)*1.0     # rem: on en fait un float pour éviter\n",
    "        nb_sup = (sup_moins + sup_plus)*1.0     # que ce soit une division entière.\n",
    "        # calcul de l'entropie de la coupure\n",
    "        val_entropie_inf = shannon([inf_moins / nb_inf, inf_plus  / nb_inf])\n",
    "        val_entropie_sup = shannon([sup_moins / nb_sup, sup_plus  / nb_sup])\n",
    "        val_entropie = (nb_inf / nb_total) * val_entropie_inf + (nb_sup / nb_total) * val_entropie_sup\n",
    "        # si cette coupure minimise l'entropie, on mémorise ce seuil et son entropie:\n",
    "        if (min_entropie > val_entropie):\n",
    "            min_entropie = val_entropie\n",
    "            min_seuil = val_seuil\n",
    "    return (min_seuil, min_entropie)"
   ]
  },
  {
   "cell_type": "code",
   "execution_count": 61,
   "metadata": {},
   "outputs": [
    {
     "data": {
      "text/plain": [
       "(-0.51048129849972002, 0.6026873902505135)"
      ]
     },
     "execution_count": 61,
     "metadata": {},
     "output_type": "execute_result"
    }
   ],
   "source": [
    "discretise(the_set,0) # le résultat dépend, bien sûr, de la base jouet"
   ]
  },
  {
   "cell_type": "code",
   "execution_count": 62,
   "metadata": {},
   "outputs": [
    {
     "data": {
      "text/plain": [
       "(0.40215535135812858, 0.5065773942398554)"
      ]
     },
     "execution_count": 62,
     "metadata": {},
     "output_type": "execute_result"
    }
   ],
   "source": [
    "discretise(the_set,1) # le résultat dépend, bien sûr, de la base jouet"
   ]
  },
  {
   "cell_type": "markdown",
   "metadata": {},
   "source": [
    "Une dernière fonction utile permet de diviser une base d'exemples en 2 sous-bases en utilisant un seuil sur la valeur d'un attribut donné.\n",
    "\n",
    "<font size=\"+1\">**[Q]**</font> Ecrire la fonction divise() dont la spécification est:\n",
    "\n",
    "    def divise(LSet,att,seuil):\n",
    "        \"\"\" LSet: LabeledSet\n",
    "            att : numéro d'attribut\n",
    "            seuil : valeur de seuil\n",
    "            rend le tuple contenant les 2 sous-LabeledSet obtenus par la\n",
    "            division de LSet selon le seuil sur l'attribut att\n",
    "        \"\"\"\n",
    "\n"
   ]
  },
  {
   "cell_type": "code",
   "execution_count": 63,
   "metadata": {
    "collapsed": true
   },
   "outputs": [],
   "source": [
    "def divise(LSet,att,seuil):\n",
    "    \n",
    "    Linf = LabeledSet(LSet.getInputDimension());\n",
    "    Lsup = LabeledSet(LSet.getInputDimension());\n",
    "    \n",
    "    for i in range(len(LSet.x)):\n",
    "        \n",
    "        if(LSet.getX(i)[att]<seuil):\n",
    "            \n",
    "            Linf.addExample(LSet.getX(i),LSet.getY(i))\n",
    "            \n",
    "        else:\n",
    "            \n",
    "            Lsup.addExample(LSet.getX(i), LSet.getY(i))\n",
    "            \n",
    "        \n",
    "    return Linf, Lsup\n",
    "        "
   ]
  },
  {
   "cell_type": "code",
   "execution_count": 64,
   "metadata": {},
   "outputs": [
    {
     "name": "stdout",
     "output_type": "stream",
     "text": [
      "entropie inferieur: 0.5032583347756457  / entropie superieur: 0.6840384356390417\n"
     ]
    }
   ],
   "source": [
    "Linf, Lsup = divise(the_set,0,-0.5)\n",
    "print(\"entropie inferieur:\",entropie(Linf),\" / entropie superieur:\", entropie(Lsup))\n",
    "# remarque: les résultats dépendent de votre base jouet..."
   ]
  },
  {
   "cell_type": "markdown",
   "metadata": {},
   "source": [
    "### Représentation d'un arbre en Python"
   ]
  },
  {
   "cell_type": "markdown",
   "metadata": {},
   "source": [
    "Un arbre de décision est doit être représenté en Python, pour cela, on utilise la classe <code>ArbreBinaire</code> suivante:"
   ]
  },
  {
   "cell_type": "code",
   "execution_count": 65,
   "metadata": {
    "collapsed": true
   },
   "outputs": [],
   "source": [
    "import graphviz as gv\n",
    "\n",
    "class ArbreBinaire:\n",
    "    def __init__(self):\n",
    "        self.attribut = None   # numéro de l'attribut\n",
    "        self.seuil = None\n",
    "        self.inferieur = None # ArbreBinaire Gauche (valeurs <= au seuil)\n",
    "        self.superieur = None # ArbreBinaire Gauche (valeurs > au seuil)\n",
    "        self.classe = None # Classe si c'est une feuille: -1 ou +1\n",
    "        \n",
    "    def est_feuille(self):\n",
    "        \"\"\" rend True si l'arbre est une feuille \"\"\"\n",
    "        return self.seuil == None\n",
    "    \n",
    "    def ajoute_fils(self,ABinf,ABsup,att,seuil):\n",
    "        \"\"\" ABinf, ABsup: 2 arbres binaires\n",
    "            att: numéro d'attribut\n",
    "            seuil: valeur de seuil\n",
    "        \"\"\"\n",
    "        self.attribut = att\n",
    "        self.seuil = seuil\n",
    "        self.inferieur = ABinf\n",
    "        self.superieur = ABsup\n",
    "    \n",
    "    def ajoute_feuille(self,classe):\n",
    "        \"\"\" classe: -1 ou + 1\n",
    "        \"\"\"\n",
    "        self.classe = classe\n",
    "        \n",
    "    def classifie(self,exemple):\n",
    "        \"\"\" exemple : numpy.array\n",
    "            rend la classe de l'exemple: +1 ou -1\n",
    "        \"\"\"\n",
    "        if self.est_feuille():\n",
    "            return self.classe\n",
    "        if exemple[self.attribut] <= self.seuil:\n",
    "            return self.inferieur.classifie(exemple)\n",
    "        return self.superieur.classifie(exemple)\n",
    "    \n",
    "    def to_graph(self, g, prefixe='A'):\n",
    "        \"\"\" construit une représentation de l'arbre pour pouvoir\n",
    "            l'afficher\n",
    "        \"\"\"\n",
    "        if self.est_feuille():\n",
    "            g.node(prefixe,str(self.classe),shape='box')\n",
    "        else:\n",
    "            g.node(prefixe, str(self.attribut))\n",
    "            self.inferieur.to_graph(g,prefixe+\"g\")\n",
    "            self.superieur.to_graph(g,prefixe+\"d\")\n",
    "            g.edge(prefixe,prefixe+\"g\", '<='+ str(self.seuil))\n",
    "            g.edge(prefixe,prefixe+\"d\", '>'+ str(self.seuil))\n",
    "        \n",
    "        return g"
   ]
  },
  {
   "cell_type": "code",
   "execution_count": 66,
   "metadata": {},
   "outputs": [
    {
     "data": {
      "image/svg+xml": [
       "<?xml version=\"1.0\" encoding=\"UTF-8\" standalone=\"no\"?>\r\n",
       "<!DOCTYPE svg PUBLIC \"-//W3C//DTD SVG 1.1//EN\"\r\n",
       " \"http://www.w3.org/Graphics/SVG/1.1/DTD/svg11.dtd\">\r\n",
       "<!-- Generated by graphviz version 2.38.0 (20140413.2041)\r\n",
       " -->\r\n",
       "<!-- Title: %3 Pages: 1 -->\r\n",
       "<svg width=\"134pt\" height=\"131pt\"\r\n",
       " viewBox=\"0.00 0.00 134.00 131.00\" xmlns=\"http://www.w3.org/2000/svg\" xmlns:xlink=\"http://www.w3.org/1999/xlink\">\r\n",
       "<g id=\"graph0\" class=\"graph\" transform=\"scale(1 1) rotate(0) translate(4 127)\">\r\n",
       "<title>%3</title>\r\n",
       "<polygon fill=\"white\" stroke=\"none\" points=\"-4,4 -4,-127 130,-127 130,4 -4,4\"/>\r\n",
       "<!-- A -->\r\n",
       "<g id=\"node1\" class=\"node\"><title>A</title>\r\n",
       "<ellipse fill=\"none\" stroke=\"black\" cx=\"63\" cy=\"-105\" rx=\"27\" ry=\"18\"/>\r\n",
       "<text text-anchor=\"middle\" x=\"63\" y=\"-101.3\" font-family=\"Times New Roman,serif\" font-size=\"14.00\">nom</text>\r\n",
       "</g>\r\n",
       "<!-- Ag -->\r\n",
       "<g id=\"node2\" class=\"node\"><title>Ag</title>\r\n",
       "<polygon fill=\"none\" stroke=\"black\" points=\"54,-36 0,-36 0,-0 54,-0 54,-36\"/>\r\n",
       "<text text-anchor=\"middle\" x=\"27\" y=\"-14.3\" font-family=\"Times New Roman,serif\" font-size=\"14.00\">1</text>\r\n",
       "</g>\r\n",
       "<!-- A&#45;&gt;Ag -->\r\n",
       "<g id=\"edge1\" class=\"edge\"><title>A&#45;&gt;Ag</title>\r\n",
       "<path fill=\"none\" stroke=\"black\" d=\"M49.171,-89.3516C44.2998,-83.4397 39.2368,-76.2955 36,-69 32.8522,-61.9053 30.8051,-53.78 29.4738,-46.171\"/>\r\n",
       "<polygon fill=\"black\" stroke=\"black\" points=\"32.9377,-45.6687 28.0661,-36.2603 26.0073,-46.6532 32.9377,-45.6687\"/>\r\n",
       "<text text-anchor=\"middle\" x=\"56.5\" y=\"-57.8\" font-family=\"Times New Roman,serif\" font-size=\"14.00\">&lt;=42.0</text>\r\n",
       "</g>\r\n",
       "<!-- Ad -->\r\n",
       "<g id=\"node3\" class=\"node\"><title>Ad</title>\r\n",
       "<polygon fill=\"none\" stroke=\"black\" points=\"126,-36 72,-36 72,-0 126,-0 126,-36\"/>\r\n",
       "<text text-anchor=\"middle\" x=\"99\" y=\"-14.3\" font-family=\"Times New Roman,serif\" font-size=\"14.00\">2</text>\r\n",
       "</g>\r\n",
       "<!-- A&#45;&gt;Ad -->\r\n",
       "<g id=\"edge2\" class=\"edge\"><title>A&#45;&gt;Ad</title>\r\n",
       "<path fill=\"none\" stroke=\"black\" d=\"M70.1124,-87.2067C75.1581,-75.2934 82.032,-59.0634 87.8086,-45.4242\"/>\r\n",
       "<polygon fill=\"black\" stroke=\"black\" points=\"91.102,-46.6225 91.7791,-36.0493 84.6563,-43.8925 91.102,-46.6225\"/>\r\n",
       "<text text-anchor=\"middle\" x=\"99.5\" y=\"-57.8\" font-family=\"Times New Roman,serif\" font-size=\"14.00\">&gt;42.0</text>\r\n",
       "</g>\r\n",
       "</g>\r\n",
       "</svg>\r\n"
      ],
      "text/plain": [
       "<graphviz.dot.Digraph at 0x13fd50e3470>"
      ]
     },
     "execution_count": 66,
     "metadata": {},
     "output_type": "execute_result"
    }
   ],
   "source": [
    "# Exemple d'utilisation: \n",
    "un_arbre= ArbreBinaire()\n",
    "un_arbre.ajoute_feuille(1)\n",
    "un_arbre.est_feuille()\n",
    "un_arbre1 = ArbreBinaire()\n",
    "un_arbre1.ajoute_feuille(2)\n",
    "un_arbre2 = ArbreBinaire()\n",
    "un_arbre2.ajoute_fils(un_arbre,un_arbre1,\"nom\",42.0)\n",
    "\n",
    "gtree = gv.Digraph(format='png')\n",
    "un_arbre2.to_graph(gtree)"
   ]
  },
  {
   "cell_type": "markdown",
   "metadata": {},
   "source": [
    "### Construction de l'arbre de décision"
   ]
  },
  {
   "cell_type": "markdown",
   "metadata": {},
   "source": [
    "Pour construire un arbre de décision, il faut réaliser les étapes suivantes:\n",
    "- si l'entropie de Shannon de la distribution des classes de l'ensemble courant est inférieure à epsilon (réel positif fixé et qui est un paramètre de l'algorithme), alors construire une feuille avec cet ensemble, la classe associée à cette feuille est la classe majoritaire;\n",
    "- sinon, pour chaque attribut, calculer le seuil de discrétisation et l'entropie de Shannon correspondante\n",
    "    - choisir l'attribut qui donne une valeur d'entropie minimale\n",
    "    - l'attribut choisi sert à constituer un noeud de l'arbre de décision, les arcs issus de ce noeud sont labeller par un test (inférieur ou égal ou supérieur) par rapport au seuil trouvé\n",
    "    \n",
    "    \n",
    "<font size=\"+1\">**[Q]**</font> Ecrire la fonction qui construit un arbre de décision (binaire) à partir d'une base d'exemples. En plus de la base d'exemples, on utilise un argument \"epsilon\" qui est un réel >0 et qui sert pour le critère d'arrêt.\n",
    "Cette fonction a la spécification suivante:\n",
    "\n",
    "    def construit_AD(LSet,epsilon):\n",
    "        \"\"\" LSet : LabeledSet\n",
    "            epsilon : seuil d'entropie pour le critère d'arrêt \n",
    "        \"\"\"\n"
   ]
  },
  {
   "cell_type": "code",
   "execution_count": 67,
   "metadata": {
    "collapsed": true
   },
   "outputs": [],
   "source": [
    "def construit_AD(LSet, eps):\n",
    "    \n",
    "    AD = ArbreBinaire()\n",
    "    \n",
    "\n",
    "    if(entropie(LSet)<=eps):\n",
    "        AD.ajoute_feuille(classe_majoritaire(LSet))\n",
    "    else:\n",
    "        \n",
    "        entropie_min=10000\n",
    "        seuil_min=1000000\n",
    "        imin=0\n",
    "        for i in range(LSet.getInputDimension()):\n",
    "            \n",
    "            seuil , entrp = discretise(LSet,i)\n",
    "            \n",
    "            if(entropie_min>entrp):\n",
    "                entropie_min=entrp\n",
    "                seuil_min=seuil\n",
    "                imin=i\n",
    "          \n",
    "        Linf, Lsup = divise(LSet, imin, seuil_min)\n",
    "        \n",
    "        AD.ajoute_fils(construit_AD(Linf, eps), construit_AD(Lsup, eps), imin, seuil_min)\n",
    "        \n",
    "    return AD\n",
    "            "
   ]
  },
  {
   "cell_type": "code",
   "execution_count": 68,
   "metadata": {},
   "outputs": [
    {
     "data": {
      "image/png": "[encoded data removed]",
      "text/plain": [
       "<matplotlib.figure.Figure at 0x13fd624feb8>"
      ]
     },
     "metadata": {},
     "output_type": "display_data"
    }
   ],
   "source": [
    "plot2DSet(the_set)"
   ]
  },
  {
   "cell_type": "code",
   "execution_count": 69,
   "metadata": {},
   "outputs": [
    {
     "data": {
      "image/svg+xml": [
       "<?xml version=\"1.0\" encoding=\"UTF-8\" standalone=\"no\"?>\r\n",
       "<!DOCTYPE svg PUBLIC \"-//W3C//DTD SVG 1.1//EN\"\r\n",
       " \"http://www.w3.org/Graphics/SVG/1.1/DTD/svg11.dtd\">\r\n",
       "<!-- Generated by graphviz version 2.38.0 (20140413.2041)\r\n",
       " -->\r\n",
       "<!-- Title: %3 Pages: 1 -->\r\n",
       "<svg width=\"319pt\" height=\"218pt\"\r\n",
       " viewBox=\"0.00 0.00 319.00 218.00\" xmlns=\"http://www.w3.org/2000/svg\" xmlns:xlink=\"http://www.w3.org/1999/xlink\">\r\n",
       "<g id=\"graph0\" class=\"graph\" transform=\"scale(1 1) rotate(0) translate(4 214)\">\r\n",
       "<title>%3</title>\r\n",
       "<polygon fill=\"white\" stroke=\"none\" points=\"-4,4 -4,-214 315,-214 315,4 -4,4\"/>\r\n",
       "<!-- A -->\r\n",
       "<g id=\"node1\" class=\"node\"><title>A</title>\r\n",
       "<ellipse fill=\"none\" stroke=\"black\" cx=\"159\" cy=\"-192\" rx=\"27\" ry=\"18\"/>\r\n",
       "<text text-anchor=\"middle\" x=\"159\" y=\"-188.3\" font-family=\"Times New Roman,serif\" font-size=\"14.00\">1</text>\r\n",
       "</g>\r\n",
       "<!-- Ag -->\r\n",
       "<g id=\"node2\" class=\"node\"><title>Ag</title>\r\n",
       "<ellipse fill=\"none\" stroke=\"black\" cx=\"93\" cy=\"-105\" rx=\"27\" ry=\"18\"/>\r\n",
       "<text text-anchor=\"middle\" x=\"93\" y=\"-101.3\" font-family=\"Times New Roman,serif\" font-size=\"14.00\">0</text>\r\n",
       "</g>\r\n",
       "<!-- A&#45;&gt;Ag -->\r\n",
       "<g id=\"edge3\" class=\"edge\"><title>A&#45;&gt;Ag</title>\r\n",
       "<path fill=\"none\" stroke=\"black\" d=\"M134.231,-184.482C119.826,-179.291 102.82,-170.437 94,-156 89.8456,-149.2 88.5415,-140.849 88.5779,-132.933\"/>\r\n",
       "<polygon fill=\"black\" stroke=\"black\" points=\"92.0703,-133.163 89.2711,-122.945 85.0871,-132.679 92.0703,-133.163\"/>\r\n",
       "<text text-anchor=\"middle\" x=\"148.5\" y=\"-144.8\" font-family=\"Times New Roman,serif\" font-size=\"14.00\">&lt;=0.402155351358</text>\r\n",
       "</g>\r\n",
       "<!-- Ad -->\r\n",
       "<g id=\"node5\" class=\"node\"><title>Ad</title>\r\n",
       "<polygon fill=\"none\" stroke=\"black\" points=\"252,-123 198,-123 198,-87 252,-87 252,-123\"/>\r\n",
       "<text text-anchor=\"middle\" x=\"225\" y=\"-101.3\" font-family=\"Times New Roman,serif\" font-size=\"14.00\">1</text>\r\n",
       "</g>\r\n",
       "<!-- A&#45;&gt;Ad -->\r\n",
       "<g id=\"edge4\" class=\"edge\"><title>A&#45;&gt;Ad</title>\r\n",
       "<path fill=\"none\" stroke=\"black\" d=\"M177.883,-179.092C186.406,-172.995 196.088,-164.968 203,-156 208.351,-149.058 212.706,-140.611 216.086,-132.652\"/>\r\n",
       "<polygon fill=\"black\" stroke=\"black\" points=\"219.354,-133.906 219.728,-123.318 212.832,-131.362 219.354,-133.906\"/>\r\n",
       "<text text-anchor=\"middle\" x=\"261\" y=\"-144.8\" font-family=\"Times New Roman,serif\" font-size=\"14.00\">&gt;0.402155351358</text>\r\n",
       "</g>\r\n",
       "<!-- Agg -->\r\n",
       "<g id=\"node3\" class=\"node\"><title>Agg</title>\r\n",
       "<polygon fill=\"none\" stroke=\"black\" points=\"54,-36 0,-36 0,-0 54,-0 54,-36\"/>\r\n",
       "<text text-anchor=\"middle\" x=\"27\" y=\"-14.3\" font-family=\"Times New Roman,serif\" font-size=\"14.00\">&#45;1</text>\r\n",
       "</g>\r\n",
       "<!-- Ag&#45;&gt;Agg -->\r\n",
       "<g id=\"edge1\" class=\"edge\"><title>Ag&#45;&gt;Agg</title>\r\n",
       "<path fill=\"none\" stroke=\"black\" d=\"M68.2311,-97.4816C53.826,-92.2912 36.8201,-83.4369 28,-69 23.9545,-62.3782 22.6118,-54.2858 22.5779,-46.5566\"/>\r\n",
       "<polygon fill=\"black\" stroke=\"black\" points=\"26.0811,-46.6132 23.2118,-36.4143 19.0947,-46.1765 26.0811,-46.6132\"/>\r\n",
       "<text text-anchor=\"middle\" x=\"82.5\" y=\"-57.8\" font-family=\"Times New Roman,serif\" font-size=\"14.00\">&lt;=0.618348387768</text>\r\n",
       "</g>\r\n",
       "<!-- Agd -->\r\n",
       "<g id=\"node4\" class=\"node\"><title>Agd</title>\r\n",
       "<polygon fill=\"none\" stroke=\"black\" points=\"186,-36 132,-36 132,-0 186,-0 186,-36\"/>\r\n",
       "<text text-anchor=\"middle\" x=\"159\" y=\"-14.3\" font-family=\"Times New Roman,serif\" font-size=\"14.00\">1</text>\r\n",
       "</g>\r\n",
       "<!-- Ag&#45;&gt;Agd -->\r\n",
       "<g id=\"edge2\" class=\"edge\"><title>Ag&#45;&gt;Agd</title>\r\n",
       "<path fill=\"none\" stroke=\"black\" d=\"M111.883,-92.0924C120.406,-85.9949 130.088,-77.9679 137,-69 142.351,-62.0579 146.706,-53.6114 150.086,-45.6516\"/>\r\n",
       "<polygon fill=\"black\" stroke=\"black\" points=\"153.354,-46.9058 153.728,-36.3176 146.832,-44.3616 153.354,-46.9058\"/>\r\n",
       "<text text-anchor=\"middle\" x=\"196\" y=\"-57.8\" font-family=\"Times New Roman,serif\" font-size=\"14.00\">&gt;0.618348387768</text>\r\n",
       "</g>\r\n",
       "</g>\r\n",
       "</svg>\r\n"
      ],
      "text/plain": [
       "<graphviz.dot.Digraph at 0x13fd6223358>"
      ]
     },
     "execution_count": 69,
     "metadata": {},
     "output_type": "execute_result"
    }
   ],
   "source": [
    "#test de l'affichage \n",
    "abin = construit_AD(the_set,0.0)\n",
    "gtree = gv.Digraph(format='png')\n",
    "abin.to_graph(gtree)\n"
   ]
  },
  {
   "cell_type": "markdown",
   "metadata": {},
   "source": [
    "### Classification avec arbre de décision\n"
   ]
  },
  {
   "cell_type": "markdown",
   "metadata": {},
   "source": [
    "Pour classer un nouvel exemple avec un arbre de décision, il faut parcourir l'arbre, de la racine vers une feuille en respectant les tests rencontrés dans chaque arc. Une fois atteint une feuille, la classe de l'exemple est celle présente dans la feuille.\n",
    "\n",
    "La classe ArbreBinaire contient déjà une fonction <code>classifie</code> qui permet de classer un nouvel exemple et de renvoyer la classe +1 ou -1 selon le cas."
   ]
  },
  {
   "cell_type": "markdown",
   "metadata": {},
   "source": [
    "### Implémentation"
   ]
  },
  {
   "cell_type": "markdown",
   "metadata": {},
   "source": [
    "De la même façon que pour le knn, on définit le classifieur <code>ArbreDecision</code> (classe héritant de la classe Classifier vue lors du TD-TME 5) comme suit.\n",
    "\n",
    "Si toutes les fonctions précédentes ont été écrites correctement, il est maintenant possible de construire un arbre de décision à partir de la base jouet.\n"
   ]
  },
  {
   "cell_type": "markdown",
   "metadata": {},
   "source": [
    "## Applications à des données réelles"
   ]
  },
  {
   "cell_type": "code",
   "execution_count": 70,
   "metadata": {
    "collapsed": true
   },
   "outputs": [],
   "source": [
    "class ArbreDecision(Classifier):\n",
    "    # Constructeur\n",
    "    def __init__(self,epsilon):\n",
    "        # valeur seuil d'entropie pour arrêter la construction\n",
    "        self.epsilon= epsilon\n",
    "        self.racine = None\n",
    "    \n",
    "    # Permet de calculer la prediction sur x => renvoie un score\n",
    "    def predict(self,x):\n",
    "        # classification de l'exemple x avec l'arbre de décision\n",
    "        # on rend 0 (classe -1) ou 1 (classe 1)\n",
    "        classe = self.racine.classifie(x)\n",
    "        if (classe == 1):\n",
    "            return(1)\n",
    "        else:\n",
    "            return(-1)\n",
    "    \n",
    "    # Permet d'entrainer le modele sur un ensemble de données\n",
    "    def train(self,set):\n",
    "        # construction de l'arbre de décision \n",
    "        self.set=set\n",
    "        self.racine = construit_AD(set,self.epsilon)\n",
    "\n",
    "    # Permet d'afficher l'arbre\n",
    "    def plot(self):\n",
    "        gtree = gv.Digraph(format='png')\n",
    "        return self.racine.to_graph(gtree)\n",
    "        "
   ]
  },
  {
   "cell_type": "code",
   "execution_count": 71,
   "metadata": {},
   "outputs": [
    {
     "name": "stderr",
     "output_type": "stream",
     "text": [
      "C:\\Users\\togos\\Anaconda3\\lib\\site-packages\\matplotlib\\contour.py:967: UserWarning: The following kwargs were not used by contour: 'linewidth'\n",
      "  s)\n"
     ]
    },
    {
     "data": {
      "image/png": "[encoded data removed]",
      "text/plain": [
       "<matplotlib.figure.Figure at 0x13fd62b9710>"
      ]
     },
     "metadata": {},
     "output_type": "display_data"
    }
   ],
   "source": [
    "# un exemple d'utilisation:\n",
    "ad=ArbreDecision(0.0)          # initialiation d'un arbre binaire qui utilisera epsilon= 0.0\n",
    "ad.train(the_set)              # construction de l'arbre à partir de la base jouet\n",
    "plot_frontiere(dataset_test,ad,20)  # tracé graphique de la frontière de décision\n",
    "plot2DSet(dataset_test) "
   ]
  },
  {
   "cell_type": "code",
   "execution_count": 72,
   "metadata": {},
   "outputs": [
    {
     "data": {
      "image/svg+xml": [
       "<?xml version=\"1.0\" encoding=\"UTF-8\" standalone=\"no\"?>\r\n",
       "<!DOCTYPE svg PUBLIC \"-//W3C//DTD SVG 1.1//EN\"\r\n",
       " \"http://www.w3.org/Graphics/SVG/1.1/DTD/svg11.dtd\">\r\n",
       "<!-- Generated by graphviz version 2.38.0 (20140413.2041)\r\n",
       " -->\r\n",
       "<!-- Title: %3 Pages: 1 -->\r\n",
       "<svg width=\"319pt\" height=\"218pt\"\r\n",
       " viewBox=\"0.00 0.00 319.00 218.00\" xmlns=\"http://www.w3.org/2000/svg\" xmlns:xlink=\"http://www.w3.org/1999/xlink\">\r\n",
       "<g id=\"graph0\" class=\"graph\" transform=\"scale(1 1) rotate(0) translate(4 214)\">\r\n",
       "<title>%3</title>\r\n",
       "<polygon fill=\"white\" stroke=\"none\" points=\"-4,4 -4,-214 315,-214 315,4 -4,4\"/>\r\n",
       "<!-- A -->\r\n",
       "<g id=\"node1\" class=\"node\"><title>A</title>\r\n",
       "<ellipse fill=\"none\" stroke=\"black\" cx=\"159\" cy=\"-192\" rx=\"27\" ry=\"18\"/>\r\n",
       "<text text-anchor=\"middle\" x=\"159\" y=\"-188.3\" font-family=\"Times New Roman,serif\" font-size=\"14.00\">1</text>\r\n",
       "</g>\r\n",
       "<!-- Ag -->\r\n",
       "<g id=\"node2\" class=\"node\"><title>Ag</title>\r\n",
       "<ellipse fill=\"none\" stroke=\"black\" cx=\"93\" cy=\"-105\" rx=\"27\" ry=\"18\"/>\r\n",
       "<text text-anchor=\"middle\" x=\"93\" y=\"-101.3\" font-family=\"Times New Roman,serif\" font-size=\"14.00\">0</text>\r\n",
       "</g>\r\n",
       "<!-- A&#45;&gt;Ag -->\r\n",
       "<g id=\"edge3\" class=\"edge\"><title>A&#45;&gt;Ag</title>\r\n",
       "<path fill=\"none\" stroke=\"black\" d=\"M134.231,-184.482C119.826,-179.291 102.82,-170.437 94,-156 89.8456,-149.2 88.5415,-140.849 88.5779,-132.933\"/>\r\n",
       "<polygon fill=\"black\" stroke=\"black\" points=\"92.0703,-133.163 89.2711,-122.945 85.0871,-132.679 92.0703,-133.163\"/>\r\n",
       "<text text-anchor=\"middle\" x=\"148.5\" y=\"-144.8\" font-family=\"Times New Roman,serif\" font-size=\"14.00\">&lt;=0.402155351358</text>\r\n",
       "</g>\r\n",
       "<!-- Ad -->\r\n",
       "<g id=\"node5\" class=\"node\"><title>Ad</title>\r\n",
       "<polygon fill=\"none\" stroke=\"black\" points=\"252,-123 198,-123 198,-87 252,-87 252,-123\"/>\r\n",
       "<text text-anchor=\"middle\" x=\"225\" y=\"-101.3\" font-family=\"Times New Roman,serif\" font-size=\"14.00\">1</text>\r\n",
       "</g>\r\n",
       "<!-- A&#45;&gt;Ad -->\r\n",
       "<g id=\"edge4\" class=\"edge\"><title>A&#45;&gt;Ad</title>\r\n",
       "<path fill=\"none\" stroke=\"black\" d=\"M177.883,-179.092C186.406,-172.995 196.088,-164.968 203,-156 208.351,-149.058 212.706,-140.611 216.086,-132.652\"/>\r\n",
       "<polygon fill=\"black\" stroke=\"black\" points=\"219.354,-133.906 219.728,-123.318 212.832,-131.362 219.354,-133.906\"/>\r\n",
       "<text text-anchor=\"middle\" x=\"261\" y=\"-144.8\" font-family=\"Times New Roman,serif\" font-size=\"14.00\">&gt;0.402155351358</text>\r\n",
       "</g>\r\n",
       "<!-- Agg -->\r\n",
       "<g id=\"node3\" class=\"node\"><title>Agg</title>\r\n",
       "<polygon fill=\"none\" stroke=\"black\" points=\"54,-36 0,-36 0,-0 54,-0 54,-36\"/>\r\n",
       "<text text-anchor=\"middle\" x=\"27\" y=\"-14.3\" font-family=\"Times New Roman,serif\" font-size=\"14.00\">&#45;1</text>\r\n",
       "</g>\r\n",
       "<!-- Ag&#45;&gt;Agg -->\r\n",
       "<g id=\"edge1\" class=\"edge\"><title>Ag&#45;&gt;Agg</title>\r\n",
       "<path fill=\"none\" stroke=\"black\" d=\"M68.2311,-97.4816C53.826,-92.2912 36.8201,-83.4369 28,-69 23.9545,-62.3782 22.6118,-54.2858 22.5779,-46.5566\"/>\r\n",
       "<polygon fill=\"black\" stroke=\"black\" points=\"26.0811,-46.6132 23.2118,-36.4143 19.0947,-46.1765 26.0811,-46.6132\"/>\r\n",
       "<text text-anchor=\"middle\" x=\"82.5\" y=\"-57.8\" font-family=\"Times New Roman,serif\" font-size=\"14.00\">&lt;=0.618348387768</text>\r\n",
       "</g>\r\n",
       "<!-- Agd -->\r\n",
       "<g id=\"node4\" class=\"node\"><title>Agd</title>\r\n",
       "<polygon fill=\"none\" stroke=\"black\" points=\"186,-36 132,-36 132,-0 186,-0 186,-36\"/>\r\n",
       "<text text-anchor=\"middle\" x=\"159\" y=\"-14.3\" font-family=\"Times New Roman,serif\" font-size=\"14.00\">1</text>\r\n",
       "</g>\r\n",
       "<!-- Ag&#45;&gt;Agd -->\r\n",
       "<g id=\"edge2\" class=\"edge\"><title>Ag&#45;&gt;Agd</title>\r\n",
       "<path fill=\"none\" stroke=\"black\" d=\"M111.883,-92.0924C120.406,-85.9949 130.088,-77.9679 137,-69 142.351,-62.0579 146.706,-53.6114 150.086,-45.6516\"/>\r\n",
       "<polygon fill=\"black\" stroke=\"black\" points=\"153.354,-46.9058 153.728,-36.3176 146.832,-44.3616 153.354,-46.9058\"/>\r\n",
       "<text text-anchor=\"middle\" x=\"196\" y=\"-57.8\" font-family=\"Times New Roman,serif\" font-size=\"14.00\">&gt;0.618348387768</text>\r\n",
       "</g>\r\n",
       "</g>\r\n",
       "</svg>\r\n"
      ],
      "text/plain": [
       "<graphviz.dot.Digraph at 0x13fd6305668>"
      ]
     },
     "execution_count": 72,
     "metadata": {},
     "output_type": "execute_result"
    }
   ],
   "source": [
    "ad.plot()"
   ]
  },
  {
   "cell_type": "markdown",
   "metadata": {},
   "source": [
    "<font size=\"+1\">**[Q]**</font> Appliquer l'algorithme des arbres de décision à des données réelles (par exemple, celles utilisées avec les k-nn) et comparer les résultats obtenus par les 2 algorithmes.\n",
    "\n",
    "Un autre exemple d'utilisation sur une base plus grande:"
   ]
  },
  {
   "cell_type": "code",
   "execution_count": 73,
   "metadata": {
    "scrolled": true
   },
   "outputs": [
    {
     "name": "stdout",
     "output_type": "stream",
     "text": [
      "Taille de la base générée : 200 exemples\n"
     ]
    },
    {
     "name": "stderr",
     "output_type": "stream",
     "text": [
      "C:\\Users\\togos\\Anaconda3\\lib\\site-packages\\matplotlib\\contour.py:967: UserWarning: The following kwargs were not used by contour: 'linewidth'\n",
      "  s)\n"
     ]
    },
    {
     "data": {
      "image/png": "[encoded data removed]",
      "text/plain": [
       "<matplotlib.figure.Figure at 0x13fd61f2940>"
      ]
     },
     "metadata": {},
     "output_type": "display_data"
    }
   ],
   "source": [
    "gauss3=np.random.multivariate_normal([1,1],[[1,0],[0,1]],size=100)\n",
    "gauss4=np.random.multivariate_normal([-1,-1],[[1,0],[0,1]],size=100)\n",
    "\n",
    "autre_set = LabeledSet(2)\n",
    "\n",
    "for i in gauss3:\n",
    "    autre_set.addExample(i,1)\n",
    "\n",
    "for i in gauss4:\n",
    "    autre_set.addExample(i,-1)\n",
    "\n",
    "print(\"Taille de la base générée :\", autre_set.size(), \"exemples\")\n",
    "adautre=ArbreDecision(0.0)          \n",
    "adautre.train(autre_set)            \n",
    "plot_frontiere(autre_set,adautre,20)\n",
    "plot2DSet(autre_set) "
   ]
  },
  {
   "cell_type": "code",
   "execution_count": 74,
   "metadata": {},
   "outputs": [
    {
     "data": {
      "image/svg+xml": [
       "<?xml version=\"1.0\" encoding=\"UTF-8\" standalone=\"no\"?>\r\n",
       "<!DOCTYPE svg PUBLIC \"-//W3C//DTD SVG 1.1//EN\"\r\n",
       " \"http://www.w3.org/Graphics/SVG/1.1/DTD/svg11.dtd\">\r\n",
       "<!-- Generated by graphviz version 2.38.0 (20140413.2041)\r\n",
       " -->\r\n",
       "<!-- Title: %3 Pages: 1 -->\r\n",
       "<svg width=\"1183pt\" height=\"740pt\"\r\n",
       " viewBox=\"0.00 0.00 1183.00 740.00\" xmlns=\"http://www.w3.org/2000/svg\" xmlns:xlink=\"http://www.w3.org/1999/xlink\">\r\n",
       "<g id=\"graph0\" class=\"graph\" transform=\"scale(1 1) rotate(0) translate(4 736)\">\r\n",
       "<title>%3</title>\r\n",
       "<polygon fill=\"white\" stroke=\"none\" points=\"-4,4 -4,-736 1179,-736 1179,4 -4,4\"/>\r\n",
       "<!-- A -->\r\n",
       "<g id=\"node1\" class=\"node\"><title>A</title>\r\n",
       "<ellipse fill=\"none\" stroke=\"black\" cx=\"506\" cy=\"-714\" rx=\"27\" ry=\"18\"/>\r\n",
       "<text text-anchor=\"middle\" x=\"506\" y=\"-710.3\" font-family=\"Times New Roman,serif\" font-size=\"14.00\">0</text>\r\n",
       "</g>\r\n",
       "<!-- Ag -->\r\n",
       "<g id=\"node2\" class=\"node\"><title>Ag</title>\r\n",
       "<ellipse fill=\"none\" stroke=\"black\" cx=\"440\" cy=\"-627\" rx=\"27\" ry=\"18\"/>\r\n",
       "<text text-anchor=\"middle\" x=\"440\" y=\"-623.3\" font-family=\"Times New Roman,serif\" font-size=\"14.00\">1</text>\r\n",
       "</g>\r\n",
       "<!-- A&#45;&gt;Ag -->\r\n",
       "<g id=\"edge37\" class=\"edge\"><title>A&#45;&gt;Ag</title>\r\n",
       "<path fill=\"none\" stroke=\"black\" d=\"M481.231,-706.482C466.826,-701.291 449.82,-692.437 441,-678 436.846,-671.2 435.541,-662.849 435.578,-654.933\"/>\r\n",
       "<polygon fill=\"black\" stroke=\"black\" points=\"439.07,-655.163 436.271,-644.945 432.087,-654.679 439.07,-655.163\"/>\r\n",
       "<text text-anchor=\"middle\" x=\"495.5\" y=\"-666.8\" font-family=\"Times New Roman,serif\" font-size=\"14.00\">&lt;=0.337413994479</text>\r\n",
       "</g>\r\n",
       "<!-- Ad -->\r\n",
       "<g id=\"node25\" class=\"node\"><title>Ad</title>\r\n",
       "<ellipse fill=\"none\" stroke=\"black\" cx=\"572\" cy=\"-627\" rx=\"27\" ry=\"18\"/>\r\n",
       "<text text-anchor=\"middle\" x=\"572\" y=\"-623.3\" font-family=\"Times New Roman,serif\" font-size=\"14.00\">1</text>\r\n",
       "</g>\r\n",
       "<!-- A&#45;&gt;Ad -->\r\n",
       "<g id=\"edge38\" class=\"edge\"><title>A&#45;&gt;Ad</title>\r\n",
       "<path fill=\"none\" stroke=\"black\" d=\"M524.883,-701.092C533.406,-694.995 543.088,-686.968 550,-678 555.433,-670.951 559.839,-662.351 563.241,-654.285\"/>\r\n",
       "<polygon fill=\"black\" stroke=\"black\" points=\"566.548,-655.439 566.895,-644.85 560.02,-652.911 566.548,-655.439\"/>\r\n",
       "<text text-anchor=\"middle\" x=\"608\" y=\"-666.8\" font-family=\"Times New Roman,serif\" font-size=\"14.00\">&gt;0.337413994479</text>\r\n",
       "</g>\r\n",
       "<!-- Agg -->\r\n",
       "<g id=\"node3\" class=\"node\"><title>Agg</title>\r\n",
       "<ellipse fill=\"none\" stroke=\"black\" cx=\"306\" cy=\"-540\" rx=\"27\" ry=\"18\"/>\r\n",
       "<text text-anchor=\"middle\" x=\"306\" y=\"-536.3\" font-family=\"Times New Roman,serif\" font-size=\"14.00\">1</text>\r\n",
       "</g>\r\n",
       "<!-- Ag&#45;&gt;Agg -->\r\n",
       "<g id=\"edge21\" class=\"edge\"><title>Ag&#45;&gt;Agg</title>\r\n",
       "<path fill=\"none\" stroke=\"black\" d=\"M413.087,-624.065C387.972,-620.92 350.881,-612.665 327,-591 320.184,-584.816 315.511,-576.065 312.339,-567.609\"/>\r\n",
       "<polygon fill=\"black\" stroke=\"black\" points=\"315.643,-566.449 309.265,-557.988 308.975,-568.579 315.643,-566.449\"/>\r\n",
       "<text text-anchor=\"middle\" x=\"381.5\" y=\"-579.8\" font-family=\"Times New Roman,serif\" font-size=\"14.00\">&lt;=0.755770656211</text>\r\n",
       "</g>\r\n",
       "<!-- Agd -->\r\n",
       "<g id=\"node18\" class=\"node\"><title>Agd</title>\r\n",
       "<ellipse fill=\"none\" stroke=\"black\" cx=\"440\" cy=\"-540\" rx=\"27\" ry=\"18\"/>\r\n",
       "<text text-anchor=\"middle\" x=\"440\" y=\"-536.3\" font-family=\"Times New Roman,serif\" font-size=\"14.00\">1</text>\r\n",
       "</g>\r\n",
       "<!-- Ag&#45;&gt;Agd -->\r\n",
       "<g id=\"edge22\" class=\"edge\"><title>Ag&#45;&gt;Agd</title>\r\n",
       "<path fill=\"none\" stroke=\"black\" d=\"M440,-608.799C440,-597.163 440,-581.548 440,-568.237\"/>\r\n",
       "<polygon fill=\"black\" stroke=\"black\" points=\"443.5,-568.175 440,-558.175 436.5,-568.175 443.5,-568.175\"/>\r\n",
       "<text text-anchor=\"middle\" x=\"490\" y=\"-579.8\" font-family=\"Times New Roman,serif\" font-size=\"14.00\">&gt;0.755770656211</text>\r\n",
       "</g>\r\n",
       "<!-- Aggg -->\r\n",
       "<g id=\"node4\" class=\"node\"><title>Aggg</title>\r\n",
       "<polygon fill=\"none\" stroke=\"black\" points=\"197,-471 143,-471 143,-435 197,-435 197,-471\"/>\r\n",
       "<text text-anchor=\"middle\" x=\"170\" y=\"-449.3\" font-family=\"Times New Roman,serif\" font-size=\"14.00\">&#45;1</text>\r\n",
       "</g>\r\n",
       "<!-- Agg&#45;&gt;Aggg -->\r\n",
       "<g id=\"edge13\" class=\"edge\"><title>Agg&#45;&gt;Aggg</title>\r\n",
       "<path fill=\"none\" stroke=\"black\" d=\"M278.969,-537.621C252.84,-534.899 213.685,-526.958 189,-504 182.522,-497.975 178.234,-489.51 175.404,-481.256\"/>\r\n",
       "<polygon fill=\"black\" stroke=\"black\" points=\"178.723,-480.133 172.624,-471.47 171.989,-482.045 178.723,-480.133\"/>\r\n",
       "<text text-anchor=\"middle\" x=\"245.5\" y=\"-492.8\" font-family=\"Times New Roman,serif\" font-size=\"14.00\">&lt;=&#45;0.660239597343</text>\r\n",
       "</g>\r\n",
       "<!-- Aggd -->\r\n",
       "<g id=\"node5\" class=\"node\"><title>Aggd</title>\r\n",
       "<ellipse fill=\"none\" stroke=\"black\" cx=\"305\" cy=\"-453\" rx=\"27\" ry=\"18\"/>\r\n",
       "<text text-anchor=\"middle\" x=\"305\" y=\"-449.3\" font-family=\"Times New Roman,serif\" font-size=\"14.00\">0</text>\r\n",
       "</g>\r\n",
       "<!-- Agg&#45;&gt;Aggd -->\r\n",
       "<g id=\"edge14\" class=\"edge\"><title>Agg&#45;&gt;Aggd</title>\r\n",
       "<path fill=\"none\" stroke=\"black\" d=\"M305.798,-521.799C305.661,-510.163 305.477,-494.548 305.32,-481.237\"/>\r\n",
       "<polygon fill=\"black\" stroke=\"black\" points=\"308.82,-481.134 305.202,-471.175 301.82,-481.216 308.82,-481.134\"/>\r\n",
       "<text text-anchor=\"middle\" x=\"358.5\" y=\"-492.8\" font-family=\"Times New Roman,serif\" font-size=\"14.00\">&gt;&#45;0.660239597343</text>\r\n",
       "</g>\r\n",
       "<!-- Aggdg -->\r\n",
       "<g id=\"node6\" class=\"node\"><title>Aggdg</title>\r\n",
       "<polygon fill=\"none\" stroke=\"black\" points=\"196,-384 142,-384 142,-348 196,-348 196,-384\"/>\r\n",
       "<text text-anchor=\"middle\" x=\"169\" y=\"-362.3\" font-family=\"Times New Roman,serif\" font-size=\"14.00\">&#45;1</text>\r\n",
       "</g>\r\n",
       "<!-- Aggd&#45;&gt;Aggdg -->\r\n",
       "<g id=\"edge11\" class=\"edge\"><title>Aggd&#45;&gt;Aggdg</title>\r\n",
       "<path fill=\"none\" stroke=\"black\" d=\"M277.969,-450.621C251.84,-447.899 212.685,-439.958 188,-417 181.522,-410.975 177.234,-402.51 174.404,-394.256\"/>\r\n",
       "<polygon fill=\"black\" stroke=\"black\" points=\"177.723,-393.133 171.624,-384.47 170.989,-395.045 177.723,-393.133\"/>\r\n",
       "<text text-anchor=\"middle\" x=\"244.5\" y=\"-405.8\" font-family=\"Times New Roman,serif\" font-size=\"14.00\">&lt;=&#45;0.686757303487</text>\r\n",
       "</g>\r\n",
       "<!-- Aggdd -->\r\n",
       "<g id=\"node7\" class=\"node\"><title>Aggdd</title>\r\n",
       "<ellipse fill=\"none\" stroke=\"black\" cx=\"305\" cy=\"-366\" rx=\"27\" ry=\"18\"/>\r\n",
       "<text text-anchor=\"middle\" x=\"305\" y=\"-362.3\" font-family=\"Times New Roman,serif\" font-size=\"14.00\">0</text>\r\n",
       "</g>\r\n",
       "<!-- Aggd&#45;&gt;Aggdd -->\r\n",
       "<g id=\"edge12\" class=\"edge\"><title>Aggd&#45;&gt;Aggdd</title>\r\n",
       "<path fill=\"none\" stroke=\"black\" d=\"M305,-434.799C305,-423.163 305,-407.548 305,-394.237\"/>\r\n",
       "<polygon fill=\"black\" stroke=\"black\" points=\"308.5,-394.175 305,-384.175 301.5,-394.175 308.5,-394.175\"/>\r\n",
       "<text text-anchor=\"middle\" x=\"357.5\" y=\"-405.8\" font-family=\"Times New Roman,serif\" font-size=\"14.00\">&gt;&#45;0.686757303487</text>\r\n",
       "</g>\r\n",
       "<!-- Aggddg -->\r\n",
       "<g id=\"node8\" class=\"node\"><title>Aggddg</title>\r\n",
       "<polygon fill=\"none\" stroke=\"black\" points=\"196,-297 142,-297 142,-261 196,-261 196,-297\"/>\r\n",
       "<text text-anchor=\"middle\" x=\"169\" y=\"-275.3\" font-family=\"Times New Roman,serif\" font-size=\"14.00\">1</text>\r\n",
       "</g>\r\n",
       "<!-- Aggdd&#45;&gt;Aggddg -->\r\n",
       "<g id=\"edge9\" class=\"edge\"><title>Aggdd&#45;&gt;Aggddg</title>\r\n",
       "<path fill=\"none\" stroke=\"black\" d=\"M277.969,-363.621C251.84,-360.899 212.685,-352.958 188,-330 181.522,-323.975 177.234,-315.51 174.404,-307.256\"/>\r\n",
       "<polygon fill=\"black\" stroke=\"black\" points=\"177.723,-306.133 171.624,-297.47 170.989,-308.045 177.723,-306.133\"/>\r\n",
       "<text text-anchor=\"middle\" x=\"244.5\" y=\"-318.8\" font-family=\"Times New Roman,serif\" font-size=\"14.00\">&lt;=&#45;0.619829593041</text>\r\n",
       "</g>\r\n",
       "<!-- Aggddd -->\r\n",
       "<g id=\"node9\" class=\"node\"><title>Aggddd</title>\r\n",
       "<ellipse fill=\"none\" stroke=\"black\" cx=\"305\" cy=\"-279\" rx=\"27\" ry=\"18\"/>\r\n",
       "<text text-anchor=\"middle\" x=\"305\" y=\"-275.3\" font-family=\"Times New Roman,serif\" font-size=\"14.00\">0</text>\r\n",
       "</g>\r\n",
       "<!-- Aggdd&#45;&gt;Aggddd -->\r\n",
       "<g id=\"edge10\" class=\"edge\"><title>Aggdd&#45;&gt;Aggddd</title>\r\n",
       "<path fill=\"none\" stroke=\"black\" d=\"M305,-347.799C305,-336.163 305,-320.548 305,-307.237\"/>\r\n",
       "<polygon fill=\"black\" stroke=\"black\" points=\"308.5,-307.175 305,-297.175 301.5,-307.175 308.5,-307.175\"/>\r\n",
       "<text text-anchor=\"middle\" x=\"357.5\" y=\"-318.8\" font-family=\"Times New Roman,serif\" font-size=\"14.00\">&gt;&#45;0.619829593041</text>\r\n",
       "</g>\r\n",
       "<!-- Aggdddg -->\r\n",
       "<g id=\"node10\" class=\"node\"><title>Aggdddg</title>\r\n",
       "<ellipse fill=\"none\" stroke=\"black\" cx=\"238\" cy=\"-192\" rx=\"27\" ry=\"18\"/>\r\n",
       "<text text-anchor=\"middle\" x=\"238\" y=\"-188.3\" font-family=\"Times New Roman,serif\" font-size=\"14.00\">1</text>\r\n",
       "</g>\r\n",
       "<!-- Aggddd&#45;&gt;Aggdddg -->\r\n",
       "<g id=\"edge7\" class=\"edge\"><title>Aggddd&#45;&gt;Aggdddg</title>\r\n",
       "<path fill=\"none\" stroke=\"black\" d=\"M280.479,-271.136C266.435,-265.847 249.885,-257.01 241,-243 236.726,-236.26 235.131,-227.925 234.843,-220.007\"/>\r\n",
       "<polygon fill=\"black\" stroke=\"black\" points=\"238.342,-220.093 235.103,-210.005 231.344,-219.911 238.342,-220.093\"/>\r\n",
       "<text text-anchor=\"middle\" x=\"295.5\" y=\"-231.8\" font-family=\"Times New Roman,serif\" font-size=\"14.00\">&lt;=0.047318136323</text>\r\n",
       "</g>\r\n",
       "<!-- Aggdddd -->\r\n",
       "<g id=\"node15\" class=\"node\"><title>Aggdddd</title>\r\n",
       "<ellipse fill=\"none\" stroke=\"black\" cx=\"373\" cy=\"-192\" rx=\"27\" ry=\"18\"/>\r\n",
       "<text text-anchor=\"middle\" x=\"373\" y=\"-188.3\" font-family=\"Times New Roman,serif\" font-size=\"14.00\">0</text>\r\n",
       "</g>\r\n",
       "<!-- Aggddd&#45;&gt;Aggdddd -->\r\n",
       "<g id=\"edge8\" class=\"edge\"><title>Aggddd&#45;&gt;Aggdddd</title>\r\n",
       "<path fill=\"none\" stroke=\"black\" d=\"M324.254,-266.117C332.958,-260.025 342.866,-251.996 350,-243 355.571,-235.974 360.149,-227.38 363.712,-219.312\"/>\r\n",
       "<polygon fill=\"black\" stroke=\"black\" points=\"367.026,-220.454 367.555,-209.873 360.543,-217.815 367.026,-220.454\"/>\r\n",
       "<text text-anchor=\"middle\" x=\"408\" y=\"-231.8\" font-family=\"Times New Roman,serif\" font-size=\"14.00\">&gt;0.047318136323</text>\r\n",
       "</g>\r\n",
       "<!-- Aggdddgg -->\r\n",
       "<g id=\"node11\" class=\"node\"><title>Aggdddgg</title>\r\n",
       "<ellipse fill=\"none\" stroke=\"black\" cx=\"95\" cy=\"-105\" rx=\"27\" ry=\"18\"/>\r\n",
       "<text text-anchor=\"middle\" x=\"95\" y=\"-101.3\" font-family=\"Times New Roman,serif\" font-size=\"14.00\">0</text>\r\n",
       "</g>\r\n",
       "<!-- Aggdddg&#45;&gt;Aggdddgg -->\r\n",
       "<g id=\"edge3\" class=\"edge\"><title>Aggdddg&#45;&gt;Aggdddgg</title>\r\n",
       "<path fill=\"none\" stroke=\"black\" d=\"M210.933,-190.207C183.283,-187.987 140.727,-180.471 114,-156 107.378,-149.937 103.048,-141.321 100.223,-132.946\"/>\r\n",
       "<polygon fill=\"black\" stroke=\"black\" points=\"103.519,-131.736 97.4706,-123.037 96.7745,-133.609 103.519,-131.736\"/>\r\n",
       "<text text-anchor=\"middle\" x=\"174\" y=\"-144.8\" font-family=\"Times New Roman,serif\" font-size=\"14.00\">&lt;=&#45;0.0231425070107</text>\r\n",
       "</g>\r\n",
       "<!-- Aggdddgd -->\r\n",
       "<g id=\"node14\" class=\"node\"><title>Aggdddgd</title>\r\n",
       "<polygon fill=\"none\" stroke=\"black\" points=\"265,-123 211,-123 211,-87 265,-87 265,-123\"/>\r\n",
       "<text text-anchor=\"middle\" x=\"238\" y=\"-101.3\" font-family=\"Times New Roman,serif\" font-size=\"14.00\">&#45;1</text>\r\n",
       "</g>\r\n",
       "<!-- Aggdddg&#45;&gt;Aggdddgd -->\r\n",
       "<g id=\"edge4\" class=\"edge\"><title>Aggdddg&#45;&gt;Aggdddgd</title>\r\n",
       "<path fill=\"none\" stroke=\"black\" d=\"M238,-173.799C238,-162.163 238,-146.548 238,-133.237\"/>\r\n",
       "<polygon fill=\"black\" stroke=\"black\" points=\"241.5,-133.175 238,-123.175 234.5,-133.175 241.5,-133.175\"/>\r\n",
       "<text text-anchor=\"middle\" x=\"294\" y=\"-144.8\" font-family=\"Times New Roman,serif\" font-size=\"14.00\">&gt;&#45;0.0231425070107</text>\r\n",
       "</g>\r\n",
       "<!-- Aggdddggg -->\r\n",
       "<g id=\"node12\" class=\"node\"><title>Aggdddggg</title>\r\n",
       "<polygon fill=\"none\" stroke=\"black\" points=\"54,-36 0,-36 0,-0 54,-0 54,-36\"/>\r\n",
       "<text text-anchor=\"middle\" x=\"27\" y=\"-14.3\" font-family=\"Times New Roman,serif\" font-size=\"14.00\">1</text>\r\n",
       "</g>\r\n",
       "<!-- Aggdddgg&#45;&gt;Aggdddggg -->\r\n",
       "<g id=\"edge1\" class=\"edge\"><title>Aggdddgg&#45;&gt;Aggdddggg</title>\r\n",
       "<path fill=\"none\" stroke=\"black\" d=\"M70.1643,-97.9146C55.185,-92.8375 37.262,-83.9486 28,-69 23.913,-62.4037 22.5579,-54.319 22.5252,-46.589\"/>\r\n",
       "<polygon fill=\"black\" stroke=\"black\" points=\"26.0287,-46.6426 23.168,-36.4413 19.0427,-46.2 26.0287,-46.6426\"/>\r\n",
       "<text text-anchor=\"middle\" x=\"84.5\" y=\"-57.8\" font-family=\"Times New Roman,serif\" font-size=\"14.00\">&lt;=&#45;0.408357044034</text>\r\n",
       "</g>\r\n",
       "<!-- Aggdddggd -->\r\n",
       "<g id=\"node13\" class=\"node\"><title>Aggdddggd</title>\r\n",
       "<polygon fill=\"none\" stroke=\"black\" points=\"190,-36 136,-36 136,-0 190,-0 190,-36\"/>\r\n",
       "<text text-anchor=\"middle\" x=\"163\" y=\"-14.3\" font-family=\"Times New Roman,serif\" font-size=\"14.00\">&#45;1</text>\r\n",
       "</g>\r\n",
       "<!-- Aggdddgg&#45;&gt;Aggdddggd -->\r\n",
       "<g id=\"edge2\" class=\"edge\"><title>Aggdddgg&#45;&gt;Aggdddggd</title>\r\n",
       "<path fill=\"none\" stroke=\"black\" d=\"M114.76,-92.2492C123.674,-86.186 133.795,-78.1426 141,-69 146.425,-62.1159 150.801,-53.6856 154.177,-45.7227\"/>\r\n",
       "<polygon fill=\"black\" stroke=\"black\" points=\"157.449,-46.9658 157.804,-36.3769 150.923,-44.4335 157.449,-46.9658\"/>\r\n",
       "<text text-anchor=\"middle\" x=\"202.5\" y=\"-57.8\" font-family=\"Times New Roman,serif\" font-size=\"14.00\">&gt;&#45;0.408357044034</text>\r\n",
       "</g>\r\n",
       "<!-- Aggddddg -->\r\n",
       "<g id=\"node16\" class=\"node\"><title>Aggddddg</title>\r\n",
       "<polygon fill=\"none\" stroke=\"black\" points=\"400,-123 346,-123 346,-87 400,-87 400,-123\"/>\r\n",
       "<text text-anchor=\"middle\" x=\"373\" y=\"-101.3\" font-family=\"Times New Roman,serif\" font-size=\"14.00\">1</text>\r\n",
       "</g>\r\n",
       "<!-- Aggdddd&#45;&gt;Aggddddg -->\r\n",
       "<g id=\"edge5\" class=\"edge\"><title>Aggdddd&#45;&gt;Aggddddg</title>\r\n",
       "<path fill=\"none\" stroke=\"black\" d=\"M373,-173.799C373,-162.163 373,-146.548 373,-133.237\"/>\r\n",
       "<polygon fill=\"black\" stroke=\"black\" points=\"376.5,-133.175 373,-123.175 369.5,-133.175 376.5,-133.175\"/>\r\n",
       "<text text-anchor=\"middle\" x=\"427.5\" y=\"-144.8\" font-family=\"Times New Roman,serif\" font-size=\"14.00\">&lt;=0.198438573277</text>\r\n",
       "</g>\r\n",
       "<!-- Aggddddd -->\r\n",
       "<g id=\"node17\" class=\"node\"><title>Aggddddd</title>\r\n",
       "<polygon fill=\"none\" stroke=\"black\" points=\"532,-123 478,-123 478,-87 532,-87 532,-123\"/>\r\n",
       "<text text-anchor=\"middle\" x=\"505\" y=\"-101.3\" font-family=\"Times New Roman,serif\" font-size=\"14.00\">&#45;1</text>\r\n",
       "</g>\r\n",
       "<!-- Aggdddd&#45;&gt;Aggddddd -->\r\n",
       "<g id=\"edge6\" class=\"edge\"><title>Aggdddd&#45;&gt;Aggddddd</title>\r\n",
       "<path fill=\"none\" stroke=\"black\" d=\"M399.597,-188.717C423.988,-185.324 459.749,-176.899 483,-156 489.793,-149.894 494.589,-141.305 497.928,-132.966\"/>\r\n",
       "<polygon fill=\"black\" stroke=\"black\" points=\"501.257,-134.05 501.212,-123.455 494.64,-131.765 501.257,-134.05\"/>\r\n",
       "<text text-anchor=\"middle\" x=\"543\" y=\"-144.8\" font-family=\"Times New Roman,serif\" font-size=\"14.00\">&gt;0.198438573277</text>\r\n",
       "</g>\r\n",
       "<!-- Agdg -->\r\n",
       "<g id=\"node19\" class=\"node\"><title>Agdg</title>\r\n",
       "<ellipse fill=\"none\" stroke=\"black\" cx=\"438\" cy=\"-453\" rx=\"27\" ry=\"18\"/>\r\n",
       "<text text-anchor=\"middle\" x=\"438\" y=\"-449.3\" font-family=\"Times New Roman,serif\" font-size=\"14.00\">0</text>\r\n",
       "</g>\r\n",
       "<!-- Agd&#45;&gt;Agdg -->\r\n",
       "<g id=\"edge19\" class=\"edge\"><title>Agd&#45;&gt;Agdg</title>\r\n",
       "<path fill=\"none\" stroke=\"black\" d=\"M439.482,-521.911C439.318,-516.214 439.142,-509.834 439,-504 438.822,-496.652 438.652,-488.696 438.504,-481.338\"/>\r\n",
       "<polygon fill=\"black\" stroke=\"black\" points=\"442,-481.055 438.306,-471.125 435.001,-481.191 442,-481.055\"/>\r\n",
       "<text text-anchor=\"middle\" x=\"490\" y=\"-492.8\" font-family=\"Times New Roman,serif\" font-size=\"14.00\">&lt;=1.05465944507</text>\r\n",
       "</g>\r\n",
       "<!-- Agdd -->\r\n",
       "<g id=\"node24\" class=\"node\"><title>Agdd</title>\r\n",
       "<polygon fill=\"none\" stroke=\"black\" points=\"590,-471 536,-471 536,-435 590,-435 590,-471\"/>\r\n",
       "<text text-anchor=\"middle\" x=\"563\" y=\"-449.3\" font-family=\"Times New Roman,serif\" font-size=\"14.00\">1</text>\r\n",
       "</g>\r\n",
       "<!-- Agd&#45;&gt;Agdd -->\r\n",
       "<g id=\"edge20\" class=\"edge\"><title>Agd&#45;&gt;Agdd</title>\r\n",
       "<path fill=\"none\" stroke=\"black\" d=\"M466.639,-535.753C488.962,-531.76 520.4,-522.997 541,-504 547.715,-497.808 552.491,-489.198 555.837,-480.866\"/>\r\n",
       "<polygon fill=\"black\" stroke=\"black\" points=\"559.159,-481.968 559.138,-471.374 552.547,-479.669 559.159,-481.968\"/>\r\n",
       "<text text-anchor=\"middle\" x=\"598\" y=\"-492.8\" font-family=\"Times New Roman,serif\" font-size=\"14.00\">&gt;1.05465944507</text>\r\n",
       "</g>\r\n",
       "<!-- Agdgg -->\r\n",
       "<g id=\"node20\" class=\"node\"><title>Agdgg</title>\r\n",
       "<ellipse fill=\"none\" stroke=\"black\" cx=\"433\" cy=\"-366\" rx=\"27\" ry=\"18\"/>\r\n",
       "<text text-anchor=\"middle\" x=\"433\" y=\"-362.3\" font-family=\"Times New Roman,serif\" font-size=\"14.00\">1</text>\r\n",
       "</g>\r\n",
       "<!-- Agdg&#45;&gt;Agdgg -->\r\n",
       "<g id=\"edge17\" class=\"edge\"><title>Agdg&#45;&gt;Agdgg</title>\r\n",
       "<path fill=\"none\" stroke=\"black\" d=\"M435.726,-434.939C435.053,-429.245 434.392,-422.858 434,-417 433.509,-409.666 433.233,-401.715 433.084,-394.357\"/>\r\n",
       "<polygon fill=\"black\" stroke=\"black\" points=\"436.581,-394.093 432.946,-384.142 429.581,-394.188 436.581,-394.093\"/>\r\n",
       "<text text-anchor=\"middle\" x=\"490.5\" y=\"-405.8\" font-family=\"Times New Roman,serif\" font-size=\"14.00\">&lt;=&#45;0.146304126465</text>\r\n",
       "</g>\r\n",
       "<!-- Agdgd -->\r\n",
       "<g id=\"node23\" class=\"node\"><title>Agdgd</title>\r\n",
       "<polygon fill=\"none\" stroke=\"black\" points=\"596,-384 542,-384 542,-348 596,-348 596,-384\"/>\r\n",
       "<text text-anchor=\"middle\" x=\"569\" y=\"-362.3\" font-family=\"Times New Roman,serif\" font-size=\"14.00\">1</text>\r\n",
       "</g>\r\n",
       "<!-- Agdg&#45;&gt;Agdgd -->\r\n",
       "<g id=\"edge18\" class=\"edge\"><title>Agdg&#45;&gt;Agdgd</title>\r\n",
       "<path fill=\"none\" stroke=\"black\" d=\"M464.825,-449.586C488.984,-446.104 524.116,-437.624 547,-417 553.785,-410.885 558.579,-402.294 561.919,-393.956\"/>\r\n",
       "<polygon fill=\"black\" stroke=\"black\" points=\"565.247,-395.042 565.205,-384.447 558.631,-392.755 565.247,-395.042\"/>\r\n",
       "<text text-anchor=\"middle\" x=\"609.5\" y=\"-405.8\" font-family=\"Times New Roman,serif\" font-size=\"14.00\">&gt;&#45;0.146304126465</text>\r\n",
       "</g>\r\n",
       "<!-- Agdggg -->\r\n",
       "<g id=\"node21\" class=\"node\"><title>Agdggg</title>\r\n",
       "<polygon fill=\"none\" stroke=\"black\" points=\"460,-297 406,-297 406,-261 460,-261 460,-297\"/>\r\n",
       "<text text-anchor=\"middle\" x=\"433\" y=\"-275.3\" font-family=\"Times New Roman,serif\" font-size=\"14.00\">1</text>\r\n",
       "</g>\r\n",
       "<!-- Agdgg&#45;&gt;Agdggg -->\r\n",
       "<g id=\"edge15\" class=\"edge\"><title>Agdgg&#45;&gt;Agdggg</title>\r\n",
       "<path fill=\"none\" stroke=\"black\" d=\"M433,-347.799C433,-336.163 433,-320.548 433,-307.237\"/>\r\n",
       "<polygon fill=\"black\" stroke=\"black\" points=\"436.5,-307.175 433,-297.175 429.5,-307.175 436.5,-307.175\"/>\r\n",
       "<text text-anchor=\"middle\" x=\"487.5\" y=\"-318.8\" font-family=\"Times New Roman,serif\" font-size=\"14.00\">&lt;=0.814591643654</text>\r\n",
       "</g>\r\n",
       "<!-- Agdggd -->\r\n",
       "<g id=\"node22\" class=\"node\"><title>Agdggd</title>\r\n",
       "<polygon fill=\"none\" stroke=\"black\" points=\"592,-297 538,-297 538,-261 592,-261 592,-297\"/>\r\n",
       "<text text-anchor=\"middle\" x=\"565\" y=\"-275.3\" font-family=\"Times New Roman,serif\" font-size=\"14.00\">&#45;1</text>\r\n",
       "</g>\r\n",
       "<!-- Agdgg&#45;&gt;Agdggd -->\r\n",
       "<g id=\"edge16\" class=\"edge\"><title>Agdgg&#45;&gt;Agdggd</title>\r\n",
       "<path fill=\"none\" stroke=\"black\" d=\"M459.597,-362.717C483.988,-359.324 519.749,-350.899 543,-330 549.793,-323.894 554.589,-315.305 557.928,-306.966\"/>\r\n",
       "<polygon fill=\"black\" stroke=\"black\" points=\"561.257,-308.05 561.212,-297.455 554.64,-305.765 561.257,-308.05\"/>\r\n",
       "<text text-anchor=\"middle\" x=\"603\" y=\"-318.8\" font-family=\"Times New Roman,serif\" font-size=\"14.00\">&gt;0.814591643654</text>\r\n",
       "</g>\r\n",
       "<!-- Adg -->\r\n",
       "<g id=\"node26\" class=\"node\"><title>Adg</title>\r\n",
       "<polygon fill=\"none\" stroke=\"black\" points=\"599,-558 545,-558 545,-522 599,-522 599,-558\"/>\r\n",
       "<text text-anchor=\"middle\" x=\"572\" y=\"-536.3\" font-family=\"Times New Roman,serif\" font-size=\"14.00\">&#45;1</text>\r\n",
       "</g>\r\n",
       "<!-- Ad&#45;&gt;Adg -->\r\n",
       "<g id=\"edge35\" class=\"edge\"><title>Ad&#45;&gt;Adg</title>\r\n",
       "<path fill=\"none\" stroke=\"black\" d=\"M572,-608.799C572,-597.163 572,-581.548 572,-568.237\"/>\r\n",
       "<polygon fill=\"black\" stroke=\"black\" points=\"575.5,-568.175 572,-558.175 568.5,-568.175 575.5,-568.175\"/>\r\n",
       "<text text-anchor=\"middle\" x=\"622\" y=\"-579.8\" font-family=\"Times New Roman,serif\" font-size=\"14.00\">&lt;=&#45;1.0506721483</text>\r\n",
       "</g>\r\n",
       "<!-- Add -->\r\n",
       "<g id=\"node27\" class=\"node\"><title>Add</title>\r\n",
       "<ellipse fill=\"none\" stroke=\"black\" cx=\"697\" cy=\"-540\" rx=\"27\" ry=\"18\"/>\r\n",
       "<text text-anchor=\"middle\" x=\"697\" y=\"-536.3\" font-family=\"Times New Roman,serif\" font-size=\"14.00\">0</text>\r\n",
       "</g>\r\n",
       "<!-- Ad&#45;&gt;Add -->\r\n",
       "<g id=\"edge36\" class=\"edge\"><title>Ad&#45;&gt;Add</title>\r\n",
       "<path fill=\"none\" stroke=\"black\" d=\"M598.482,-622.581C620.707,-618.479 652.089,-609.654 673,-591 680.024,-584.734 685.183,-575.964 688.877,-567.515\"/>\r\n",
       "<polygon fill=\"black\" stroke=\"black\" points=\"692.246,-568.503 692.565,-557.913 685.712,-565.993 692.246,-568.503\"/>\r\n",
       "<text text-anchor=\"middle\" x=\"729.5\" y=\"-579.8\" font-family=\"Times New Roman,serif\" font-size=\"14.00\">&gt;&#45;1.0506721483</text>\r\n",
       "</g>\r\n",
       "<!-- Addg -->\r\n",
       "<g id=\"node28\" class=\"node\"><title>Addg</title>\r\n",
       "<ellipse fill=\"none\" stroke=\"black\" cx=\"697\" cy=\"-453\" rx=\"27\" ry=\"18\"/>\r\n",
       "<text text-anchor=\"middle\" x=\"697\" y=\"-449.3\" font-family=\"Times New Roman,serif\" font-size=\"14.00\">0</text>\r\n",
       "</g>\r\n",
       "<!-- Add&#45;&gt;Addg -->\r\n",
       "<g id=\"edge33\" class=\"edge\"><title>Add&#45;&gt;Addg</title>\r\n",
       "<path fill=\"none\" stroke=\"black\" d=\"M697,-521.799C697,-510.163 697,-494.548 697,-481.237\"/>\r\n",
       "<polygon fill=\"black\" stroke=\"black\" points=\"700.5,-481.175 697,-471.175 693.5,-481.175 700.5,-481.175\"/>\r\n",
       "<text text-anchor=\"middle\" x=\"751.5\" y=\"-492.8\" font-family=\"Times New Roman,serif\" font-size=\"14.00\">&lt;=0.960808345654</text>\r\n",
       "</g>\r\n",
       "<!-- Addd -->\r\n",
       "<g id=\"node39\" class=\"node\"><title>Addd</title>\r\n",
       "<polygon fill=\"none\" stroke=\"black\" points=\"856,-471 802,-471 802,-435 856,-435 856,-471\"/>\r\n",
       "<text text-anchor=\"middle\" x=\"829\" y=\"-449.3\" font-family=\"Times New Roman,serif\" font-size=\"14.00\">1</text>\r\n",
       "</g>\r\n",
       "<!-- Add&#45;&gt;Addd -->\r\n",
       "<g id=\"edge34\" class=\"edge\"><title>Add&#45;&gt;Addd</title>\r\n",
       "<path fill=\"none\" stroke=\"black\" d=\"M723.597,-536.717C747.988,-533.324 783.749,-524.899 807,-504 813.793,-497.894 818.589,-489.305 821.928,-480.966\"/>\r\n",
       "<polygon fill=\"black\" stroke=\"black\" points=\"825.257,-482.05 825.212,-471.455 818.64,-479.765 825.257,-482.05\"/>\r\n",
       "<text text-anchor=\"middle\" x=\"867\" y=\"-492.8\" font-family=\"Times New Roman,serif\" font-size=\"14.00\">&gt;0.960808345654</text>\r\n",
       "</g>\r\n",
       "<!-- Addgg -->\r\n",
       "<g id=\"node29\" class=\"node\"><title>Addgg</title>\r\n",
       "<polygon fill=\"none\" stroke=\"black\" points=\"724,-384 670,-384 670,-348 724,-348 724,-384\"/>\r\n",
       "<text text-anchor=\"middle\" x=\"697\" y=\"-362.3\" font-family=\"Times New Roman,serif\" font-size=\"14.00\">1</text>\r\n",
       "</g>\r\n",
       "<!-- Addg&#45;&gt;Addgg -->\r\n",
       "<g id=\"edge31\" class=\"edge\"><title>Addg&#45;&gt;Addgg</title>\r\n",
       "<path fill=\"none\" stroke=\"black\" d=\"M697,-434.799C697,-423.163 697,-407.548 697,-394.237\"/>\r\n",
       "<polygon fill=\"black\" stroke=\"black\" points=\"700.5,-394.175 697,-384.175 693.5,-394.175 700.5,-394.175\"/>\r\n",
       "<text text-anchor=\"middle\" x=\"751.5\" y=\"-405.8\" font-family=\"Times New Roman,serif\" font-size=\"14.00\">&lt;=0.711737671197</text>\r\n",
       "</g>\r\n",
       "<!-- Addgd -->\r\n",
       "<g id=\"node30\" class=\"node\"><title>Addgd</title>\r\n",
       "<ellipse fill=\"none\" stroke=\"black\" cx=\"829\" cy=\"-366\" rx=\"27\" ry=\"18\"/>\r\n",
       "<text text-anchor=\"middle\" x=\"829\" y=\"-362.3\" font-family=\"Times New Roman,serif\" font-size=\"14.00\">0</text>\r\n",
       "</g>\r\n",
       "<!-- Addg&#45;&gt;Addgd -->\r\n",
       "<g id=\"edge32\" class=\"edge\"><title>Addg&#45;&gt;Addgd</title>\r\n",
       "<path fill=\"none\" stroke=\"black\" d=\"M723.597,-449.717C747.988,-446.324 783.749,-437.899 807,-417 813.895,-410.803 818.731,-402.048 822.077,-393.593\"/>\r\n",
       "<polygon fill=\"black\" stroke=\"black\" points=\"825.442,-394.57 825.353,-383.976 818.815,-392.313 825.442,-394.57\"/>\r\n",
       "<text text-anchor=\"middle\" x=\"867\" y=\"-405.8\" font-family=\"Times New Roman,serif\" font-size=\"14.00\">&gt;0.711737671197</text>\r\n",
       "</g>\r\n",
       "<!-- Addgdg -->\r\n",
       "<g id=\"node31\" class=\"node\"><title>Addgdg</title>\r\n",
       "<polygon fill=\"none\" stroke=\"black\" points=\"790,-297 736,-297 736,-261 790,-261 790,-297\"/>\r\n",
       "<text text-anchor=\"middle\" x=\"763\" y=\"-275.3\" font-family=\"Times New Roman,serif\" font-size=\"14.00\">&#45;1</text>\r\n",
       "</g>\r\n",
       "<!-- Addgd&#45;&gt;Addgdg -->\r\n",
       "<g id=\"edge29\" class=\"edge\"><title>Addgd&#45;&gt;Addgdg</title>\r\n",
       "<path fill=\"none\" stroke=\"black\" d=\"M804.231,-358.482C789.826,-353.291 772.82,-344.437 764,-330 759.954,-323.378 758.612,-315.286 758.578,-307.557\"/>\r\n",
       "<polygon fill=\"black\" stroke=\"black\" points=\"762.081,-307.613 759.212,-297.414 755.095,-307.176 762.081,-307.613\"/>\r\n",
       "<text text-anchor=\"middle\" x=\"818.5\" y=\"-318.8\" font-family=\"Times New Roman,serif\" font-size=\"14.00\">&lt;=0.752166160165</text>\r\n",
       "</g>\r\n",
       "<!-- Addgdd -->\r\n",
       "<g id=\"node32\" class=\"node\"><title>Addgdd</title>\r\n",
       "<ellipse fill=\"none\" stroke=\"black\" cx=\"895\" cy=\"-279\" rx=\"27\" ry=\"18\"/>\r\n",
       "<text text-anchor=\"middle\" x=\"895\" y=\"-275.3\" font-family=\"Times New Roman,serif\" font-size=\"14.00\">0</text>\r\n",
       "</g>\r\n",
       "<!-- Addgd&#45;&gt;Addgdd -->\r\n",
       "<g id=\"edge30\" class=\"edge\"><title>Addgd&#45;&gt;Addgdd</title>\r\n",
       "<path fill=\"none\" stroke=\"black\" d=\"M847.883,-353.092C856.406,-346.995 866.088,-338.968 873,-330 878.433,-322.951 882.839,-314.351 886.241,-306.285\"/>\r\n",
       "<polygon fill=\"black\" stroke=\"black\" points=\"889.548,-307.439 889.895,-296.85 883.02,-304.911 889.548,-307.439\"/>\r\n",
       "<text text-anchor=\"middle\" x=\"931\" y=\"-318.8\" font-family=\"Times New Roman,serif\" font-size=\"14.00\">&gt;0.752166160165</text>\r\n",
       "</g>\r\n",
       "<!-- Addgddg -->\r\n",
       "<g id=\"node33\" class=\"node\"><title>Addgddg</title>\r\n",
       "<polygon fill=\"none\" stroke=\"black\" points=\"859,-210 805,-210 805,-174 859,-174 859,-210\"/>\r\n",
       "<text text-anchor=\"middle\" x=\"832\" y=\"-188.3\" font-family=\"Times New Roman,serif\" font-size=\"14.00\">1</text>\r\n",
       "</g>\r\n",
       "<!-- Addgdd&#45;&gt;Addgddg -->\r\n",
       "<g id=\"edge27\" class=\"edge\"><title>Addgdd&#45;&gt;Addgddg</title>\r\n",
       "<path fill=\"none\" stroke=\"black\" d=\"M870.091,-271.762C855.359,-266.651 837.892,-257.781 829,-243 824.993,-236.34 824.15,-228.236 824.75,-220.508\"/>\r\n",
       "<polygon fill=\"black\" stroke=\"black\" points=\"828.247,-220.788 826.3,-210.374 821.328,-219.73 828.247,-220.788\"/>\r\n",
       "<text text-anchor=\"middle\" x=\"880\" y=\"-231.8\" font-family=\"Times New Roman,serif\" font-size=\"14.00\">&lt;=0.85751117247</text>\r\n",
       "</g>\r\n",
       "<!-- Addgddd -->\r\n",
       "<g id=\"node34\" class=\"node\"><title>Addgddd</title>\r\n",
       "<ellipse fill=\"none\" stroke=\"black\" cx=\"957\" cy=\"-192\" rx=\"27\" ry=\"18\"/>\r\n",
       "<text text-anchor=\"middle\" x=\"957\" y=\"-188.3\" font-family=\"Times New Roman,serif\" font-size=\"14.00\">0</text>\r\n",
       "</g>\r\n",
       "<!-- Addgdd&#45;&gt;Addgddd -->\r\n",
       "<g id=\"edge28\" class=\"edge\"><title>Addgdd&#45;&gt;Addgddd</title>\r\n",
       "<path fill=\"none\" stroke=\"black\" d=\"M912.925,-265.144C920.464,-259.072 928.884,-251.331 935,-243 940.267,-235.826 944.628,-227.192 948.041,-219.134\"/>\r\n",
       "<polygon fill=\"black\" stroke=\"black\" points=\"951.338,-220.313 951.73,-209.726 944.821,-217.758 951.338,-220.313\"/>\r\n",
       "<text text-anchor=\"middle\" x=\"990\" y=\"-231.8\" font-family=\"Times New Roman,serif\" font-size=\"14.00\">&gt;0.85751117247</text>\r\n",
       "</g>\r\n",
       "<!-- Addgdddg -->\r\n",
       "<g id=\"node35\" class=\"node\"><title>Addgdddg</title>\r\n",
       "<polygon fill=\"none\" stroke=\"black\" points=\"918,-123 864,-123 864,-87 918,-87 918,-123\"/>\r\n",
       "<text text-anchor=\"middle\" x=\"891\" y=\"-101.3\" font-family=\"Times New Roman,serif\" font-size=\"14.00\">&#45;1</text>\r\n",
       "</g>\r\n",
       "<!-- Addgddd&#45;&gt;Addgdddg -->\r\n",
       "<g id=\"edge25\" class=\"edge\"><title>Addgddd&#45;&gt;Addgdddg</title>\r\n",
       "<path fill=\"none\" stroke=\"black\" d=\"M932.231,-184.482C917.826,-179.291 900.82,-170.437 892,-156 887.954,-149.378 886.612,-141.286 886.578,-133.557\"/>\r\n",
       "<polygon fill=\"black\" stroke=\"black\" points=\"890.081,-133.613 887.212,-123.414 883.095,-133.176 890.081,-133.613\"/>\r\n",
       "<text text-anchor=\"middle\" x=\"946.5\" y=\"-144.8\" font-family=\"Times New Roman,serif\" font-size=\"14.00\">&lt;=0.865859010219</text>\r\n",
       "</g>\r\n",
       "<!-- Addgdddd -->\r\n",
       "<g id=\"node36\" class=\"node\"><title>Addgdddd</title>\r\n",
       "<ellipse fill=\"none\" stroke=\"black\" cx=\"1023\" cy=\"-105\" rx=\"27\" ry=\"18\"/>\r\n",
       "<text text-anchor=\"middle\" x=\"1023\" y=\"-101.3\" font-family=\"Times New Roman,serif\" font-size=\"14.00\">0</text>\r\n",
       "</g>\r\n",
       "<!-- Addgddd&#45;&gt;Addgdddd -->\r\n",
       "<g id=\"edge26\" class=\"edge\"><title>Addgddd&#45;&gt;Addgdddd</title>\r\n",
       "<path fill=\"none\" stroke=\"black\" d=\"M975.883,-179.092C984.406,-172.995 994.088,-164.968 1001,-156 1006.43,-148.951 1010.84,-140.351 1014.24,-132.285\"/>\r\n",
       "<polygon fill=\"black\" stroke=\"black\" points=\"1017.55,-133.439 1017.89,-122.85 1011.02,-130.911 1017.55,-133.439\"/>\r\n",
       "<text text-anchor=\"middle\" x=\"1059\" y=\"-144.8\" font-family=\"Times New Roman,serif\" font-size=\"14.00\">&gt;0.865859010219</text>\r\n",
       "</g>\r\n",
       "<!-- Addgddddg -->\r\n",
       "<g id=\"node37\" class=\"node\"><title>Addgddddg</title>\r\n",
       "<polygon fill=\"none\" stroke=\"black\" points=\"984,-36 930,-36 930,-0 984,-0 984,-36\"/>\r\n",
       "<text text-anchor=\"middle\" x=\"957\" y=\"-14.3\" font-family=\"Times New Roman,serif\" font-size=\"14.00\">1</text>\r\n",
       "</g>\r\n",
       "<!-- Addgdddd&#45;&gt;Addgddddg -->\r\n",
       "<g id=\"edge23\" class=\"edge\"><title>Addgdddd&#45;&gt;Addgddddg</title>\r\n",
       "<path fill=\"none\" stroke=\"black\" d=\"M998.231,-97.4816C983.826,-92.2912 966.82,-83.4369 958,-69 953.954,-62.3782 952.612,-54.2858 952.578,-46.5566\"/>\r\n",
       "<polygon fill=\"black\" stroke=\"black\" points=\"956.081,-46.6132 953.212,-36.4143 949.095,-46.1765 956.081,-46.6132\"/>\r\n",
       "<text text-anchor=\"middle\" x=\"1012.5\" y=\"-57.8\" font-family=\"Times New Roman,serif\" font-size=\"14.00\">&lt;=0.924143744143</text>\r\n",
       "</g>\r\n",
       "<!-- Addgddddd -->\r\n",
       "<g id=\"node38\" class=\"node\"><title>Addgddddd</title>\r\n",
       "<polygon fill=\"none\" stroke=\"black\" points=\"1116,-36 1062,-36 1062,-0 1116,-0 1116,-36\"/>\r\n",
       "<text text-anchor=\"middle\" x=\"1089\" y=\"-14.3\" font-family=\"Times New Roman,serif\" font-size=\"14.00\">&#45;1</text>\r\n",
       "</g>\r\n",
       "<!-- Addgdddd&#45;&gt;Addgddddd -->\r\n",
       "<g id=\"edge24\" class=\"edge\"><title>Addgdddd&#45;&gt;Addgddddd</title>\r\n",
       "<path fill=\"none\" stroke=\"black\" d=\"M1041.88,-92.0924C1050.41,-85.9949 1060.09,-77.9679 1067,-69 1072.35,-62.0579 1076.71,-53.6114 1080.09,-45.6516\"/>\r\n",
       "<polygon fill=\"black\" stroke=\"black\" points=\"1083.35,-46.9058 1083.73,-36.3176 1076.83,-44.3616 1083.35,-46.9058\"/>\r\n",
       "<text text-anchor=\"middle\" x=\"1125\" y=\"-57.8\" font-family=\"Times New Roman,serif\" font-size=\"14.00\">&gt;0.924143744143</text>\r\n",
       "</g>\r\n",
       "</g>\r\n",
       "</svg>\r\n"
      ],
      "text/plain": [
       "<graphviz.dot.Digraph at 0x13fd62b9470>"
      ]
     },
     "execution_count": 74,
     "metadata": {},
     "output_type": "execute_result"
    }
   ],
   "source": [
    "adautre.plot()"
   ]
  },
  {
   "cell_type": "markdown",
   "metadata": {},
   "source": [
    "### Améliorations (facultatif)"
   ]
  },
  {
   "cell_type": "markdown",
   "metadata": {},
   "source": [
    "Adapter votre algorithme afin de pouvoir construire des arbres de décision avec des attributs catégoriels."
   ]
  },
  {
   "cell_type": "markdown",
   "metadata": {},
   "source": [
    "## Etape 3: Expérimentation"
   ]
  },
  {
   "cell_type": "markdown",
   "metadata": {
    "collapsed": true
   },
   "source": [
    "Comparez le résultat obtenu avec ceux obtenus avec les 2 classifiers implémentés lors des TD-TME précédents. Ensuite, utilisez votre implémentation sur d'autres bases de données que vous avez déjà trouvées ou que vous pourrez trouver sur le web."
   ]
  },
  {
   "cell_type": "code",
   "execution_count": 75,
   "metadata": {},
   "outputs": [
    {
     "name": "stdout",
     "output_type": "stream",
     "text": [
      "(683, 10)\n"
     ]
    }
   ],
   "source": [
    "from sklearn.datasets import fetch_mldata\n",
    "\n",
    "def loadFile(name):\n",
    "    data = fetch_mldata(name, data_home='.')\n",
    "    print(data.data.shape)\n",
    "    unique=np.unique(data.target)\n",
    "    for i in range(len(data.target)):\n",
    "        if (data.target[i]==unique[0]):\n",
    "            data.target[i]=1\n",
    "        else:\n",
    "            data.target[i]=-1\n",
    "    return data\n",
    "            \n",
    "data = loadFile('breast-cancer_scale')\n",
    "#Les donnees sont dans data.data et data.target\n",
    "\n"
   ]
  },
  {
   "cell_type": "code",
   "execution_count": 77,
   "metadata": {
    "collapsed": true
   },
   "outputs": [],
   "source": [
    "def split(dataset, percent):\n",
    "    \n",
    "    dataset1 = LabeledSet(dataset.data.shape[1])\n",
    "    dataset2 = LabeledSet(dataset.data.shape[1])\n",
    "    \n",
    "    for i in range(int(dataset.data.shape[0]*percent)):\n",
    "        dataset1.addExample(dataset.data[i], dataset.target[i])\n",
    "        \n",
    "        \n",
    "    for i in range(int(dataset.data.shape[0]*percent), dataset.data.shape[0]):\n",
    "        dataset2.addExample(dataset.data[i], dataset.target[i])\n",
    "\n",
    "    return dataset1, dataset2\n",
    "\n",
    "\n",
    "    "
   ]
  },
  {
   "cell_type": "code",
   "execution_count": 78,
   "metadata": {},
   "outputs": [
    {
     "name": "stdout",
     "output_type": "stream",
     "text": [
      "136\n"
     ]
    },
    {
     "data": {
      "image/svg+xml": [
       "<?xml version=\"1.0\" encoding=\"UTF-8\" standalone=\"no\"?>\r\n",
       "<!DOCTYPE svg PUBLIC \"-//W3C//DTD SVG 1.1//EN\"\r\n",
       " \"http://www.w3.org/Graphics/SVG/1.1/DTD/svg11.dtd\">\r\n",
       "<!-- Generated by graphviz version 2.38.0 (20140413.2041)\r\n",
       " -->\r\n",
       "<!-- Title: %3 Pages: 1 -->\r\n",
       "<svg width=\"472pt\" height=\"566pt\"\r\n",
       " viewBox=\"0.00 0.00 472.00 566.00\" xmlns=\"http://www.w3.org/2000/svg\" xmlns:xlink=\"http://www.w3.org/1999/xlink\">\r\n",
       "<g id=\"graph0\" class=\"graph\" transform=\"scale(1 1) rotate(0) translate(4 562)\">\r\n",
       "<title>%3</title>\r\n",
       "<polygon fill=\"white\" stroke=\"none\" points=\"-4,4 -4,-562 468,-562 468,4 -4,4\"/>\r\n",
       "<!-- A -->\r\n",
       "<g id=\"node1\" class=\"node\"><title>A</title>\r\n",
       "<ellipse fill=\"none\" stroke=\"black\" cx=\"80\" cy=\"-540\" rx=\"27\" ry=\"18\"/>\r\n",
       "<text text-anchor=\"middle\" x=\"80\" y=\"-536.3\" font-family=\"Times New Roman,serif\" font-size=\"14.00\">2</text>\r\n",
       "</g>\r\n",
       "<!-- Ag -->\r\n",
       "<g id=\"node2\" class=\"node\"><title>Ag</title>\r\n",
       "<polygon fill=\"none\" stroke=\"black\" points=\"59,-471 5,-471 5,-435 59,-435 59,-471\"/>\r\n",
       "<text text-anchor=\"middle\" x=\"32\" y=\"-449.3\" font-family=\"Times New Roman,serif\" font-size=\"14.00\">1</text>\r\n",
       "</g>\r\n",
       "<!-- A&#45;&gt;Ag -->\r\n",
       "<g id=\"edge15\" class=\"edge\"><title>A&#45;&gt;Ag</title>\r\n",
       "<path fill=\"none\" stroke=\"black\" d=\"M58.5412,-528.759C48.9091,-522.944 38.4941,-514.674 33,-504 29.4487,-497.101 28.2552,-488.924 28.206,-481.204\"/>\r\n",
       "<polygon fill=\"black\" stroke=\"black\" points=\"31.7062,-481.29 28.7343,-471.121 24.7158,-480.924 31.7062,-481.29\"/>\r\n",
       "<text text-anchor=\"middle\" x=\"69.5\" y=\"-492.8\" font-family=\"Times New Roman,serif\" font-size=\"14.00\">&lt;=&#45;0.777778</text>\r\n",
       "</g>\r\n",
       "<!-- Ad -->\r\n",
       "<g id=\"node3\" class=\"node\"><title>Ad</title>\r\n",
       "<ellipse fill=\"none\" stroke=\"black\" cx=\"128\" cy=\"-453\" rx=\"27\" ry=\"18\"/>\r\n",
       "<text text-anchor=\"middle\" x=\"128\" y=\"-449.3\" font-family=\"Times New Roman,serif\" font-size=\"14.00\">3</text>\r\n",
       "</g>\r\n",
       "<!-- A&#45;&gt;Ad -->\r\n",
       "<g id=\"edge16\" class=\"edge\"><title>A&#45;&gt;Ad</title>\r\n",
       "<path fill=\"none\" stroke=\"black\" d=\"M92.428,-523.833C97.0096,-517.858 102.043,-510.805 106,-504 110.358,-496.506 114.408,-487.989 117.815,-480.135\"/>\r\n",
       "<polygon fill=\"black\" stroke=\"black\" points=\"121.145,-481.245 121.762,-470.669 114.684,-478.552 121.145,-481.245\"/>\r\n",
       "<text text-anchor=\"middle\" x=\"146\" y=\"-492.8\" font-family=\"Times New Roman,serif\" font-size=\"14.00\">&gt;&#45;0.777778</text>\r\n",
       "</g>\r\n",
       "<!-- Adg -->\r\n",
       "<g id=\"node4\" class=\"node\"><title>Adg</title>\r\n",
       "<polygon fill=\"none\" stroke=\"black\" points=\"107,-384 53,-384 53,-348 107,-348 107,-384\"/>\r\n",
       "<text text-anchor=\"middle\" x=\"80\" y=\"-362.3\" font-family=\"Times New Roman,serif\" font-size=\"14.00\">1</text>\r\n",
       "</g>\r\n",
       "<!-- Ad&#45;&gt;Adg -->\r\n",
       "<g id=\"edge13\" class=\"edge\"><title>Ad&#45;&gt;Adg</title>\r\n",
       "<path fill=\"none\" stroke=\"black\" d=\"M106.541,-441.759C96.9091,-435.944 86.4941,-427.674 81,-417 77.4487,-410.101 76.2552,-401.924 76.206,-394.204\"/>\r\n",
       "<polygon fill=\"black\" stroke=\"black\" points=\"79.7062,-394.29 76.7343,-384.121 72.7158,-393.924 79.7062,-394.29\"/>\r\n",
       "<text text-anchor=\"middle\" x=\"117.5\" y=\"-405.8\" font-family=\"Times New Roman,serif\" font-size=\"14.00\">&lt;=&#45;0.777778</text>\r\n",
       "</g>\r\n",
       "<!-- Add -->\r\n",
       "<g id=\"node5\" class=\"node\"><title>Add</title>\r\n",
       "<ellipse fill=\"none\" stroke=\"black\" cx=\"176\" cy=\"-366\" rx=\"27\" ry=\"18\"/>\r\n",
       "<text text-anchor=\"middle\" x=\"176\" y=\"-362.3\" font-family=\"Times New Roman,serif\" font-size=\"14.00\">8</text>\r\n",
       "</g>\r\n",
       "<!-- Ad&#45;&gt;Add -->\r\n",
       "<g id=\"edge14\" class=\"edge\"><title>Ad&#45;&gt;Add</title>\r\n",
       "<path fill=\"none\" stroke=\"black\" d=\"M140.428,-436.833C145.01,-430.858 150.043,-423.805 154,-417 158.358,-409.506 162.408,-400.989 165.815,-393.135\"/>\r\n",
       "<polygon fill=\"black\" stroke=\"black\" points=\"169.145,-394.245 169.762,-383.669 162.684,-391.552 169.145,-394.245\"/>\r\n",
       "<text text-anchor=\"middle\" x=\"194\" y=\"-405.8\" font-family=\"Times New Roman,serif\" font-size=\"14.00\">&gt;&#45;0.777778</text>\r\n",
       "</g>\r\n",
       "<!-- Addg -->\r\n",
       "<g id=\"node6\" class=\"node\"><title>Addg</title>\r\n",
       "<ellipse fill=\"none\" stroke=\"black\" cx=\"128\" cy=\"-279\" rx=\"27\" ry=\"18\"/>\r\n",
       "<text text-anchor=\"middle\" x=\"128\" y=\"-275.3\" font-family=\"Times New Roman,serif\" font-size=\"14.00\">1</text>\r\n",
       "</g>\r\n",
       "<!-- Add&#45;&gt;Addg -->\r\n",
       "<g id=\"edge11\" class=\"edge\"><title>Add&#45;&gt;Addg</title>\r\n",
       "<path fill=\"none\" stroke=\"black\" d=\"M154.541,-354.759C144.909,-348.944 134.494,-340.674 129,-330 125.449,-323.101 124.255,-314.924 124.206,-307.204\"/>\r\n",
       "<polygon fill=\"black\" stroke=\"black\" points=\"127.706,-307.29 124.734,-297.121 120.716,-306.924 127.706,-307.29\"/>\r\n",
       "<text text-anchor=\"middle\" x=\"165.5\" y=\"-318.8\" font-family=\"Times New Roman,serif\" font-size=\"14.00\">&lt;=&#45;0.777778</text>\r\n",
       "</g>\r\n",
       "<!-- Addd -->\r\n",
       "<g id=\"node9\" class=\"node\"><title>Addd</title>\r\n",
       "<ellipse fill=\"none\" stroke=\"black\" cx=\"224\" cy=\"-279\" rx=\"27\" ry=\"18\"/>\r\n",
       "<text text-anchor=\"middle\" x=\"224\" y=\"-275.3\" font-family=\"Times New Roman,serif\" font-size=\"14.00\">8</text>\r\n",
       "</g>\r\n",
       "<!-- Add&#45;&gt;Addd -->\r\n",
       "<g id=\"edge12\" class=\"edge\"><title>Add&#45;&gt;Addd</title>\r\n",
       "<path fill=\"none\" stroke=\"black\" d=\"M188.428,-349.833C193.01,-343.858 198.043,-336.805 202,-330 206.358,-322.506 210.408,-313.989 213.815,-306.135\"/>\r\n",
       "<polygon fill=\"black\" stroke=\"black\" points=\"217.145,-307.245 217.762,-296.669 210.684,-304.552 217.145,-307.245\"/>\r\n",
       "<text text-anchor=\"middle\" x=\"242\" y=\"-318.8\" font-family=\"Times New Roman,serif\" font-size=\"14.00\">&gt;&#45;0.777778</text>\r\n",
       "</g>\r\n",
       "<!-- Addgg -->\r\n",
       "<g id=\"node7\" class=\"node\"><title>Addgg</title>\r\n",
       "<polygon fill=\"none\" stroke=\"black\" points=\"54,-210 0,-210 0,-174 54,-174 54,-210\"/>\r\n",
       "<text text-anchor=\"middle\" x=\"27\" y=\"-188.3\" font-family=\"Times New Roman,serif\" font-size=\"14.00\">1</text>\r\n",
       "</g>\r\n",
       "<!-- Addg&#45;&gt;Addgg -->\r\n",
       "<g id=\"edge1\" class=\"edge\"><title>Addg&#45;&gt;Addgg</title>\r\n",
       "<path fill=\"none\" stroke=\"black\" d=\"M102.377,-272.686C84.4587,-267.759 61.1187,-258.74 46,-243 39.8718,-236.62 35.6734,-228.064 32.8172,-219.836\"/>\r\n",
       "<polygon fill=\"black\" stroke=\"black\" points=\"36.1413,-218.733 29.9595,-210.129 29.4263,-220.71 36.1413,-218.733\"/>\r\n",
       "<text text-anchor=\"middle\" x=\"85.5\" y=\"-231.8\" font-family=\"Times New Roman,serif\" font-size=\"14.00\">&lt;=&#45;0.3333335</text>\r\n",
       "</g>\r\n",
       "<!-- Addgd -->\r\n",
       "<g id=\"node8\" class=\"node\"><title>Addgd</title>\r\n",
       "<polygon fill=\"none\" stroke=\"black\" points=\"156,-210 102,-210 102,-174 156,-174 156,-210\"/>\r\n",
       "<text text-anchor=\"middle\" x=\"129\" y=\"-188.3\" font-family=\"Times New Roman,serif\" font-size=\"14.00\">&#45;1</text>\r\n",
       "</g>\r\n",
       "<!-- Addg&#45;&gt;Addgd -->\r\n",
       "<g id=\"edge2\" class=\"edge\"><title>Addg&#45;&gt;Addgd</title>\r\n",
       "<path fill=\"none\" stroke=\"black\" d=\"M128.202,-260.799C128.339,-249.163 128.523,-233.548 128.68,-220.237\"/>\r\n",
       "<polygon fill=\"black\" stroke=\"black\" points=\"132.18,-220.216 128.798,-210.175 125.18,-220.134 132.18,-220.216\"/>\r\n",
       "<text text-anchor=\"middle\" x=\"164.5\" y=\"-231.8\" font-family=\"Times New Roman,serif\" font-size=\"14.00\">&gt;&#45;0.3333335</text>\r\n",
       "</g>\r\n",
       "<!-- Adddg -->\r\n",
       "<g id=\"node10\" class=\"node\"><title>Adddg</title>\r\n",
       "<ellipse fill=\"none\" stroke=\"black\" cx=\"224\" cy=\"-192\" rx=\"27\" ry=\"18\"/>\r\n",
       "<text text-anchor=\"middle\" x=\"224\" y=\"-188.3\" font-family=\"Times New Roman,serif\" font-size=\"14.00\">3</text>\r\n",
       "</g>\r\n",
       "<!-- Addd&#45;&gt;Adddg -->\r\n",
       "<g id=\"edge9\" class=\"edge\"><title>Addd&#45;&gt;Adddg</title>\r\n",
       "<path fill=\"none\" stroke=\"black\" d=\"M224,-260.799C224,-249.163 224,-233.548 224,-220.237\"/>\r\n",
       "<polygon fill=\"black\" stroke=\"black\" points=\"227.5,-220.175 224,-210.175 220.5,-220.175 227.5,-220.175\"/>\r\n",
       "<text text-anchor=\"middle\" x=\"260.5\" y=\"-231.8\" font-family=\"Times New Roman,serif\" font-size=\"14.00\">&lt;=&#45;0.666667</text>\r\n",
       "</g>\r\n",
       "<!-- Adddd -->\r\n",
       "<g id=\"node15\" class=\"node\"><title>Adddd</title>\r\n",
       "<ellipse fill=\"none\" stroke=\"black\" cx=\"320\" cy=\"-192\" rx=\"27\" ry=\"18\"/>\r\n",
       "<text text-anchor=\"middle\" x=\"320\" y=\"-188.3\" font-family=\"Times New Roman,serif\" font-size=\"14.00\">0</text>\r\n",
       "</g>\r\n",
       "<!-- Addd&#45;&gt;Adddd -->\r\n",
       "<g id=\"edge10\" class=\"edge\"><title>Addd&#45;&gt;Adddd</title>\r\n",
       "<path fill=\"none\" stroke=\"black\" d=\"M248.651,-271.27C264.478,-265.864 284.521,-256.852 298,-243 304.37,-236.454 309.061,-227.756 312.434,-219.452\"/>\r\n",
       "<polygon fill=\"black\" stroke=\"black\" points=\"315.729,-220.633 315.811,-210.038 309.14,-218.269 315.729,-220.633\"/>\r\n",
       "<text text-anchor=\"middle\" x=\"340\" y=\"-231.8\" font-family=\"Times New Roman,serif\" font-size=\"14.00\">&gt;&#45;0.666667</text>\r\n",
       "</g>\r\n",
       "<!-- Adddgg -->\r\n",
       "<g id=\"node11\" class=\"node\"><title>Adddgg</title>\r\n",
       "<polygon fill=\"none\" stroke=\"black\" points=\"157,-123 103,-123 103,-87 157,-87 157,-123\"/>\r\n",
       "<text text-anchor=\"middle\" x=\"130\" y=\"-101.3\" font-family=\"Times New Roman,serif\" font-size=\"14.00\">1</text>\r\n",
       "</g>\r\n",
       "<!-- Adddg&#45;&gt;Adddgg -->\r\n",
       "<g id=\"edge5\" class=\"edge\"><title>Adddg&#45;&gt;Adddgg</title>\r\n",
       "<path fill=\"none\" stroke=\"black\" d=\"M198.673,-185.12C181.916,-180.017 160.603,-171.02 147,-156 141.201,-149.597 137.368,-141.135 134.839,-132.996\"/>\r\n",
       "<polygon fill=\"black\" stroke=\"black\" points=\"138.16,-131.855 132.284,-123.039 131.379,-133.595 138.16,-131.855\"/>\r\n",
       "<text text-anchor=\"middle\" x=\"183.5\" y=\"-144.8\" font-family=\"Times New Roman,serif\" font-size=\"14.00\">&lt;=&#45;0.333333</text>\r\n",
       "</g>\r\n",
       "<!-- Adddgd -->\r\n",
       "<g id=\"node12\" class=\"node\"><title>Adddgd</title>\r\n",
       "<ellipse fill=\"none\" stroke=\"black\" cx=\"226\" cy=\"-105\" rx=\"27\" ry=\"18\"/>\r\n",
       "<text text-anchor=\"middle\" x=\"226\" y=\"-101.3\" font-family=\"Times New Roman,serif\" font-size=\"14.00\">0</text>\r\n",
       "</g>\r\n",
       "<!-- Adddg&#45;&gt;Adddgd -->\r\n",
       "<g id=\"edge6\" class=\"edge\"><title>Adddg&#45;&gt;Adddgd</title>\r\n",
       "<path fill=\"none\" stroke=\"black\" d=\"M224.405,-173.799C224.679,-162.163 225.046,-146.548 225.359,-133.237\"/>\r\n",
       "<polygon fill=\"black\" stroke=\"black\" points=\"228.86,-133.255 225.596,-123.175 221.862,-133.09 228.86,-133.255\"/>\r\n",
       "<text text-anchor=\"middle\" x=\"257\" y=\"-144.8\" font-family=\"Times New Roman,serif\" font-size=\"14.00\">&gt;&#45;0.333333</text>\r\n",
       "</g>\r\n",
       "<!-- Adddgdg -->\r\n",
       "<g id=\"node13\" class=\"node\"><title>Adddgdg</title>\r\n",
       "<polygon fill=\"none\" stroke=\"black\" points=\"202,-36 148,-36 148,-0 202,-0 202,-36\"/>\r\n",
       "<text text-anchor=\"middle\" x=\"175\" y=\"-14.3\" font-family=\"Times New Roman,serif\" font-size=\"14.00\">1</text>\r\n",
       "</g>\r\n",
       "<!-- Adddgd&#45;&gt;Adddgdg -->\r\n",
       "<g id=\"edge3\" class=\"edge\"><title>Adddgd&#45;&gt;Adddgdg</title>\r\n",
       "<path fill=\"none\" stroke=\"black\" d=\"M203.986,-94.5034C193.535,-88.7501 182.034,-80.3123 176,-69 172.348,-62.1534 171.124,-53.9931 171.078,-46.2709\"/>\r\n",
       "<polygon fill=\"black\" stroke=\"black\" points=\"174.578,-46.3523 171.628,-36.1767 167.589,-45.9715 174.578,-46.3523\"/>\r\n",
       "<text text-anchor=\"middle\" x=\"215.5\" y=\"-57.8\" font-family=\"Times New Roman,serif\" font-size=\"14.00\">&lt;=&#45;0.8504505</text>\r\n",
       "</g>\r\n",
       "<!-- Adddgdd -->\r\n",
       "<g id=\"node14\" class=\"node\"><title>Adddgdd</title>\r\n",
       "<polygon fill=\"none\" stroke=\"black\" points=\"304,-36 250,-36 250,-0 304,-0 304,-36\"/>\r\n",
       "<text text-anchor=\"middle\" x=\"277\" y=\"-14.3\" font-family=\"Times New Roman,serif\" font-size=\"14.00\">&#45;1</text>\r\n",
       "</g>\r\n",
       "<!-- Adddgd&#45;&gt;Adddgdd -->\r\n",
       "<g id=\"edge4\" class=\"edge\"><title>Adddgd&#45;&gt;Adddgdd</title>\r\n",
       "<path fill=\"none\" stroke=\"black\" d=\"M239.675,-89.363C244.878,-83.3409 250.605,-76.117 255,-69 259.485,-61.7378 263.535,-53.402 266.902,-45.6451\"/>\r\n",
       "<polygon fill=\"black\" stroke=\"black\" points=\"270.199,-46.8324 270.784,-36.2537 263.73,-44.1588 270.199,-46.8324\"/>\r\n",
       "<text text-anchor=\"middle\" x=\"297.5\" y=\"-57.8\" font-family=\"Times New Roman,serif\" font-size=\"14.00\">&gt;&#45;0.8504505</text>\r\n",
       "</g>\r\n",
       "<!-- Addddg -->\r\n",
       "<g id=\"node16\" class=\"node\"><title>Addddg</title>\r\n",
       "<polygon fill=\"none\" stroke=\"black\" points=\"343,-123 289,-123 289,-87 343,-87 343,-123\"/>\r\n",
       "<text text-anchor=\"middle\" x=\"316\" y=\"-101.3\" font-family=\"Times New Roman,serif\" font-size=\"14.00\">1</text>\r\n",
       "</g>\r\n",
       "<!-- Adddd&#45;&gt;Addddg -->\r\n",
       "<g id=\"edge7\" class=\"edge\"><title>Adddd&#45;&gt;Addddg</title>\r\n",
       "<path fill=\"none\" stroke=\"black\" d=\"M318.311,-173.926C317.808,-168.23 317.309,-161.847 317,-156 316.612,-148.66 316.372,-140.707 316.223,-133.349\"/>\r\n",
       "<polygon fill=\"black\" stroke=\"black\" points=\"319.72,-133.079 316.065,-123.134 312.721,-133.187 319.72,-133.079\"/>\r\n",
       "<text text-anchor=\"middle\" x=\"353.5\" y=\"-144.8\" font-family=\"Times New Roman,serif\" font-size=\"14.00\">&lt;=&#45;0.857617</text>\r\n",
       "</g>\r\n",
       "<!-- Addddd -->\r\n",
       "<g id=\"node17\" class=\"node\"><title>Addddd</title>\r\n",
       "<polygon fill=\"none\" stroke=\"black\" points=\"439,-123 385,-123 385,-87 439,-87 439,-123\"/>\r\n",
       "<text text-anchor=\"middle\" x=\"412\" y=\"-101.3\" font-family=\"Times New Roman,serif\" font-size=\"14.00\">&#45;1</text>\r\n",
       "</g>\r\n",
       "<!-- Adddd&#45;&gt;Addddd -->\r\n",
       "<g id=\"edge8\" class=\"edge\"><title>Adddd&#45;&gt;Addddd</title>\r\n",
       "<path fill=\"none\" stroke=\"black\" d=\"M343.987,-183.714C358.855,-178.158 377.446,-169.187 390,-156 396.137,-149.554 400.73,-141.115 404.088,-133.011\"/>\r\n",
       "<polygon fill=\"black\" stroke=\"black\" points=\"407.438,-134.041 407.591,-123.447 400.865,-131.633 407.438,-134.041\"/>\r\n",
       "<text text-anchor=\"middle\" x=\"432\" y=\"-144.8\" font-family=\"Times New Roman,serif\" font-size=\"14.00\">&gt;&#45;0.857617</text>\r\n",
       "</g>\r\n",
       "</g>\r\n",
       "</svg>\r\n"
      ],
      "text/plain": [
       "<graphviz.dot.Digraph at 0x13fd51a24a8>"
      ]
     },
     "execution_count": 78,
     "metadata": {},
     "output_type": "execute_result"
    }
   ],
   "source": [
    "dataset_train , dataset_test = split(data, 0.20)\n",
    "\n",
    "print(dataset_train.size())\n",
    "ad=ArbreDecision(0.0)          \n",
    "ad.train(dataset_train)\n",
    "\n",
    "\n",
    "ad.plot()\n",
    "\n",
    "    "
   ]
  },
  {
   "cell_type": "code",
   "execution_count": 79,
   "metadata": {},
   "outputs": [
    {
     "data": {
      "image/png": "[encoded data removed]",
      "text/plain": [
       "<matplotlib.figure.Figure at 0x13fd63251d0>"
      ]
     },
     "metadata": {},
     "output_type": "display_data"
    }
   ],
   "source": [
    "plot2DSet(dataset_test) "
   ]
  },
  {
   "cell_type": "code",
   "execution_count": 44,
   "metadata": {},
   "outputs": [
    {
     "data": {
      "text/plain": [
       "0.8464351005484461"
      ]
     },
     "execution_count": 44,
     "metadata": {},
     "output_type": "execute_result"
    }
   ],
   "source": [
    "ad.accuracy(dataset_test)"
   ]
  },
  {
   "cell_type": "code",
   "execution_count": null,
   "metadata": {
    "collapsed": true
   },
   "outputs": [],
   "source": []
  }
 ],
 "metadata": {
  "kernelspec": {
   "display_name": "Python 3",
   "language": "python",
   "name": "python3"
  },
  "language_info": {
   "codemirror_mode": {
    "name": "ipython",
    "version": 3
   },
   "file_extension": ".py",
   "mimetype": "text/x-python",
   "name": "python",
   "nbconvert_exporter": "python",
   "pygments_lexer": "ipython3",
   "version": "3.6.3"
  }
 },
 "nbformat": 4,
 "nbformat_minor": 1
}
