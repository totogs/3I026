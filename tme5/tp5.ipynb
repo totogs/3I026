{
 "cells": [
  {
   "cell_type": "markdown",
   "metadata": {},
   "source": [
    "IA & Data science -- 2017-2018\n",
    "--------\n",
    "*&copy; Equipe pédagogique: Ludovic Denoyer, Thibault Laugel, Marie-Jeanne Lesot, Christophe Marsala, Olivier Schwander*"
   ]
  },
  {
   "cell_type": "markdown",
   "metadata": {},
   "source": [
    "# TD-TME05: les arbres de décision\n",
    "\n",
    "L'objectif de ce TP est d'implémenter un algorithme d'apprentissage supervisé, l'algorithme de construction d'arbres de décision (cours 6).\n",
    "\n",
    "Comme pour les k-nn, nous allons nous restreindre à un cas binaire où les données sont étiquetées $+1$ ou $-1$. De plus, nous allons ne considérer que le cas où les attributs sont tous numériques."
   ]
  },
  {
   "cell_type": "markdown",
   "metadata": {},
   "source": [
    "<font size=\"+1\">**[Q]**</font> **Indiquer dans la boîte ci-dessous vos noms et prénoms :**"
   ]
  },
  {
   "cell_type": "markdown",
   "metadata": {},
   "source": [
    "*Double-cliquer ici et insérer les noms et prénoms de votre binôme*"
   ]
  },
  {
   "cell_type": "markdown",
   "metadata": {},
   "source": [
    "<font color=\"RED\" size=\"+1\">IMPORTANT: soumission de votre fichier final</font>\n",
    "\n",
    "**Nom à donner au fichier à poster** : *Nom1_Nom2.ipynb* \n",
    "- *Nom1* et *Nom2* : noms des membres du binôme\n",
    "- ne pas compresser ou faire une archive: envoyer le fichier ipython tel quel, éventuellement, si vous avez d'autres fichiers à envoyer, vous les joignez au message."
   ]
  },
  {
   "cell_type": "markdown",
   "metadata": {},
   "source": [
    "## Préparation\n",
    "\n",
    "Copier l'archive dans votre répertoire de travail: <code>/users/Enseignants/marsala/iads/tp5.tgz</code>\n",
    "\n",
    "Décompresser l'archive, elle crée le répertoire \"tp5\" qui contient un fichier ipython à ouvrir (ce fichier-ci) et un sous-répertoire \"data\" contenant les bases d'apprentissage utilisées dans ce TP.\n",
    "\n",
    "Le but de ce TP est de compléter ce document ipython en ajoutant les fonctions demandées. Avant de commencer, exécuter le bloc suivant afin de pouvoir initialiser des variables utiles \n"
   ]
  },
  {
   "cell_type": "code",
   "execution_count": 78,
   "metadata": {
    "collapsed": true
   },
   "outputs": [],
   "source": [
    "# imports utiles\n",
    "import numpy as np\n",
    "import pandas as pd"
   ]
  },
  {
   "cell_type": "markdown",
   "metadata": {
    "collapsed": true
   },
   "source": [
    "## Etape 1: Retour sur les TD-TME précédents\n",
    "\n",
    "Cette partie a été réalisée lors du TD-TME précédent, reprenez ce que vous avez fait en copier-collant votre travail de la semaine dernière.\n",
    "\n",
    "Reprendre la classe <code>LabeledSet</code> du TD_TME précédent pour stocker les données d'apprentissage, de validation et de test. Cette classe permet de stocker des couples $\\{(x_1,y_1),...,(x_n,y_n)\\}$. Les $x_i$ et $y_i$ seront des tableaux numpy. "
   ]
  },
  {
   "cell_type": "markdown",
   "metadata": {},
   "source": [
    "### Génération de données ''Jouet''\n",
    "\n",
    "Comme lors des TD_TME précédents, les fonctions seront testées sur des données \"jouet\" générées selon des distributions choisies à la main. Commençons par un dataset en 2 dimensions (entrée) et 1 dimension (sortie): $x_i \\in \\mathbb{R}^2$, $y_i \\in [-1;+1]$ telles que les données sont généres selon deux Gaussiennes. Pour cela, nous utiliserons la fonction numpy.random.multivariate_normal  - http://docs.scipy.org/doc/numpy/reference/generated/numpy.random.multivariate_normal.html \n",
    "\n",
    "* ''positive_center'' est le centre de la gaussienne des points positifs (vecteur de taille 2)\n",
    "* ''positive_sigma'' est la variance de la gaussienne (sous forme de matrice 2*2)\n",
    "* Idem pour ''negative''\n",
    "\n",
    "* Générer une premiere gaussienne associée au label $+1$\n",
    "* Y rajouter une seconde gaussienne associée au label $-1$\n",
    "\n",
    "<font size=\"+1\">**[Q]**</font>  Dans un premier temps, pour mettre au point les fonctions, génerer une base jouet assez petite (par exemple, 10 exemples de chaque classe)."
   ]
  },
  {
   "cell_type": "code",
   "execution_count": 79,
   "metadata": {
    "collapsed": true
   },
   "outputs": [],
   "source": [
    "class LabeledSet:  \n",
    "    \n",
    "    def __init__(self, input_dimension):\n",
    "        self.input_dimension = input_dimension\n",
    "        self.nb_examples = 0\n",
    "    \n",
    "    def addExample(self,vector,label):\n",
    "        if (self.nb_examples == 0):\n",
    "            self.x = np.array([vector])\n",
    "            self.y = np.array([label])\n",
    "        else:\n",
    "            self.x = np.vstack((self.x, vector))\n",
    "            self.y = np.vstack((self.y, label))\n",
    "        \n",
    "        self.nb_examples = self.nb_examples + 1\n",
    "    \n",
    "    #Renvoie la dimension de l'espace d'entrée\n",
    "    def getInputDimension(self):\n",
    "        return self.input_dimension\n",
    "    \n",
    "    #Renvoie le nombre d'exemples dans le set\n",
    "    def size(self):\n",
    "        return self.nb_examples\n",
    "    \n",
    "    #Renvoie la valeur de x_i\n",
    "    def getX(self, i):\n",
    "        return self.x[i]\n",
    "        \n",
    "    \n",
    "    #Renvouie la valeur de y_i\n",
    "    def getY(self, i):\n",
    "        return(self.y[i])"
   ]
  },
  {
   "cell_type": "code",
   "execution_count": 80,
   "metadata": {
    "collapsed": true
   },
   "outputs": [],
   "source": [
    "gauss1=np.random.multivariate_normal([1,1],[[1,0],[0,1]],size=10)\n",
    "gauss2=np.random.multivariate_normal([-1,-1],[[1,0],[0,1]],size=10)\n",
    "\n",
    "the_set = LabeledSet(2)\n",
    "\n",
    "for i in gauss1:\n",
    "    the_set.addExample(i,1)\n",
    "\n",
    "for i in gauss2:\n",
    "    the_set.addExample(i,-1)\n",
    "    \n",
    "    \n",
    "gauss3=np.random.multivariate_normal([1,1],[[1,0],[0,1]],size=50)\n",
    "gauss4=np.random.multivariate_normal([-1,-1],[[1,0],[0,1]],size=50)\n",
    "\n",
    "dataset_test = LabeledSet(2)\n",
    "\n",
    "for i in gauss3:\n",
    "    dataset_test.addExample(i,1)\n",
    "\n",
    "for i in gauss4:\n",
    "    dataset_test.addExample(i,-1)"
   ]
  },
  {
   "cell_type": "code",
   "execution_count": 81,
   "metadata": {},
   "outputs": [
    {
     "data": {
      "text/plain": [
       "array([[ 1.62626679,  0.52693461],\n",
       "       [ 0.35320276, -0.46929691],\n",
       "       [-0.12209155,  3.97291461],\n",
       "       [ 2.98578652,  0.88019725],\n",
       "       [ 0.88603728, -0.04448082],\n",
       "       [ 1.38360213,  1.19067067],\n",
       "       [ 0.9948029 ,  1.25670832],\n",
       "       [ 2.40247599,  1.82510517],\n",
       "       [ 1.20982458,  1.48681554],\n",
       "       [ 1.46957405,  1.22092213]])"
      ]
     },
     "execution_count": 81,
     "metadata": {},
     "output_type": "execute_result"
    }
   ],
   "source": [
    "# the_set = ... # définition d'un LabeledSet avec la fonction précédente\n",
    "\n",
    "S= the_set.x[np.where(the_set.y == 1),:]\n",
    "S[0]\n"
   ]
  },
  {
   "cell_type": "markdown",
   "metadata": {},
   "source": [
    "Le dataset peut être affiché en utilisant matplotlib (pour vérifier). Nous utiliserons la commande matplotlib.pyplot.scatter permettant de dessiner un nuage de points - http://matplotlib.org/api/pyplot_api.html#matplotlib.pyplot.scatter -"
   ]
  },
  {
   "cell_type": "code",
   "execution_count": 82,
   "metadata": {
    "collapsed": true
   },
   "outputs": [],
   "source": [
    "import matplotlib.pyplot as plt\n",
    "%matplotlib inline \n",
    "\n",
    "def plot2DSet(set):\n",
    "    \"\"\" LabeledSet -> NoneType\n",
    "        Hypothèse: set est de dimension 2\n",
    "        affiche une représentation graphique du LabeledSet\n",
    "        remarque: l'ordre des labels dans set peut être quelconque\n",
    "    \"\"\"\n",
    "    S_pos = set.x[np.where(set.y == 1),:][0]      # tous les exemples de label +1\n",
    "    S_neg = set.x[np.where(set.y == -1),:][0]     # tous les exemples de label -1\n",
    "    plt.scatter(S_pos[:,0],S_pos[:,1],marker='o')\n",
    "    plt.scatter(S_neg[:,0],S_neg[:,1],marker='x')"
   ]
  },
  {
   "cell_type": "code",
   "execution_count": 83,
   "metadata": {},
   "outputs": [
    {
     "data": {
      "image/png": "[encoded data removed]",
      "text/plain": [
       "<matplotlib.figure.Figure at 0x7f9b04d8c750>"
      ]
     },
     "metadata": {},
     "output_type": "display_data"
    }
   ],
   "source": [
    "# Essai de la fonction : (the_set : variable du dataset généré précédemment)\n",
    "plot2DSet(the_set)"
   ]
  },
  {
   "cell_type": "markdown",
   "metadata": {},
   "source": [
    "### Les classifieurs\n",
    "\n",
    "La classe <code>Classifier</code> sert toujours de classe de base: l'algorithme d'apprentissage par arbres de décision est un nouveau type de Classifier que l'on va créer.\n"
   ]
  },
  {
   "cell_type": "code",
   "execution_count": 84,
   "metadata": {
    "collapsed": true
   },
   "outputs": [],
   "source": [
    "class Classifier:\n",
    "    def __init__(self,input_dimension):\n",
    "        \"\"\" Constructeur \"\"\"\n",
    "        raise NotImplementedError(\"Please Implement this method\")\n",
    "    \n",
    "    \n",
    "    # Permet de calculer la prediction sur x => renvoie un score\n",
    "    def predict(self,x):\n",
    "        raise NotImplementedError(\"Please Implement this method\")\n",
    "\n",
    "    \n",
    "    # Permet d'entrainer le modele sur un ensemble de données\n",
    "    def train(self,labeledSet):\n",
    "        raise NotImplementedError(\"Please Implement this method\")\n",
    "    \n",
    "    #Permet de calculer la qualité du système \n",
    "    def accuracy(self, dataset):\n",
    "        nb_ok = 0\n",
    "        for i in range(dataset.size()):\n",
    "            output = self.predict(dataset.getX(i))\n",
    "            if (output * dataset.getY(i) > 0):\n",
    "                nb_ok = nb_ok + 1\n",
    "        acc = nb_ok / (dataset.size() * 1.0)\n",
    "        return acc    "
   ]
  },
  {
   "cell_type": "code",
   "execution_count": 85,
   "metadata": {
    "collapsed": true
   },
   "outputs": [],
   "source": [
    "class ClassifierRandom(Classifier):\n",
    "    \n",
    "    def __init__(self,input_dimension):\n",
    "        self.input_dimension=input_dimension\n",
    "        self.labeledset=None\n",
    "\n",
    "    \n",
    "    def predict(self,x):\n",
    "        scal=0;\n",
    "        for i in range(0,self.input_dimension):\n",
    "            scal=scal+x[i]*self.w[i]\n",
    "        \n",
    "        return scal\n",
    "    \n",
    "    def train(self, labeledset):\n",
    "        self.labeledset=labeledset\n",
    "        self.w=np.random.rand(self.input_dimension)\n",
    "        \n",
    "        \n",
    "        for i in range(0,self.input_dimension):\n",
    "            self.w[i]=(self.w[i]*2)-1"
   ]
  },
  {
   "cell_type": "markdown",
   "metadata": {},
   "source": [
    "On reprend la fonction suivante, utilisée lors des TD-TME précédent, pour dessiner la frontière de décision d'un classifieur."
   ]
  },
  {
   "cell_type": "code",
   "execution_count": 86,
   "metadata": {
    "collapsed": true,
    "scrolled": true
   },
   "outputs": [],
   "source": [
    "def plot_frontiere(set,classifier,step=20):\n",
    "    \"\"\" LabeledSet * Classifier * int -> NoneType\n",
    "        Remarque: le 3e argument est optionnel et donne la \"résolution\" du tracé\n",
    "        affiche la frontière de décision associée au classifieur\n",
    "    \"\"\"\n",
    "    mmax = set.x.max(0)\n",
    "    mmin = set.x.min(0)\n",
    "    x1grid, x2grid = np.meshgrid(np.linspace(mmin[0], mmax[0], step), np.linspace(mmin[1], mmax[1], step))\n",
    "    grid = np.hstack((x1grid.reshape(x1grid.size, 1), x2grid.reshape(x2grid.size, 1)))\n",
    "    \n",
    "    # calcul de la prediction pour chaque point de la grille\n",
    "    res = np.array([classifier.predict(grid[i,:]) for i in range(len(grid)) ])\n",
    "    res = res.reshape(x1grid.shape)\n",
    "    # tracé des frontieres\n",
    "    plt.contourf(x1grid, x2grid, res, colors=[\"red\", \"cyan\"], levels=[-1000,0,1000], linewidth=2)    "
   ]
  },
  {
   "cell_type": "code",
   "execution_count": 87,
   "metadata": {},
   "outputs": [
    {
     "data": {
      "image/png": "[encoded data removed]",
      "text/plain": [
       "<matplotlib.figure.Figure at 0x7f9b04d5d550>"
      ]
     },
     "metadata": {},
     "output_type": "display_data"
    }
   ],
   "source": [
    "# Exemple d'utilisation:\n",
    "classifieur_random=ClassifierRandom(2)   # test avec la classe écrite dans les séances précédentes\n",
    "\n",
    "classifieur_random.train(the_set)        # the_set a été initialisé précédemment\n",
    "\n",
    "plot_frontiere(dataset_test,classifieur_random)   # on trace la frontière\n",
    "plot2DSet(dataset_test)                           # on affiche le LabeledSet dessus\n"
   ]
  },
  {
   "cell_type": "markdown",
   "metadata": {},
   "source": [
    "<font size=\"+1\">**[Q]**</font> Ecrire la fonction <code>classe_majoritaire()</code> qui, étant donné un LabeledSet rend la classe majoritaire dans l'ensemble (celle qui est possédée par le plus grand nombre d'exemples donc...). En cas d'égalité, cette fonction rend la classe +1."
   ]
  },
  {
   "cell_type": "code",
   "execution_count": 88,
   "metadata": {
    "collapsed": true
   },
   "outputs": [],
   "source": [
    "def classe_majoritaire(labeledset):\n",
    "    \n",
    "    cpt=0\n",
    "    \n",
    "    for i in range(labeledset.size()):\n",
    "        if(labeledset.getY(i)==1):\n",
    "            cpt+=1\n",
    "            \n",
    "    if(cpt>=labeledset.size()/2):\n",
    "        return 1\n",
    "    else:\n",
    "        return -1"
   ]
  },
  {
   "cell_type": "code",
   "execution_count": 89,
   "metadata": {},
   "outputs": [
    {
     "data": {
      "text/plain": [
       "1"
      ]
     },
     "execution_count": 89,
     "metadata": {},
     "output_type": "execute_result"
    }
   ],
   "source": [
    "classe_majoritaire(the_set)"
   ]
  },
  {
   "cell_type": "markdown",
   "metadata": {},
   "source": [
    "## Etape 2: Arbres de décision\n",
    "\n",
    "Dans cet étape, on réalise l'implémentation de l'algorithme de construction d'un arbre de décision."
   ]
  },
  {
   "cell_type": "markdown",
   "metadata": {},
   "source": [
    "### Entropie et gain d'information\n",
    "\n",
    "Dans un premier temps, il est nécessaire écrire des fonctions pour calculer l'entropie et le gain d'information vus dans le cours 6.\n",
    "\n",
    "Etant donné une distribution de probabilités $P=(p_1, p_2,..., p_k)$, l'entropie de Shannon de cette distribution est donnée par:\n",
    "\n",
    "$ H_S(P) = -\\sum_{i=1}^{k} p_i \\log_k(p_i)$\n",
    "\n",
    "Par convention, on considère que $0\\log_k(0) = 0$. \n",
    "\n",
    "Le logarithme utilisé est le logarithme en base $k$ afin d'obtenir une valeur normalisée de l'entropie. La base du logarithme est donc $k$, le nombre de classes présentes dans la base au maximum.\n",
    "\n",
    "Dans ce qui suit, en Python, une *distribution de probabilités* est représentée par une liste $P=[p_1,...,p_k]$ de valeurs réelles telle que\n",
    "* pour tout $i=1,..., k$ : $0 \\leq p_i \\leq 1$\n",
    "* $\\sum_{i=1}^{k}p_i = 1$\n"
   ]
  },
  {
   "cell_type": "markdown",
   "metadata": {},
   "source": [
    "<font size=\"+1\">**[Q]**</font> Ecrire la fonction <code>shannon()</code> qui, étant donné une distribution de probabilités $P$, rend la valeur de l'entropie de Shannon correspondante.\n",
    "\n",
    "Remarque: pour nous, en Python, $P$ est représentée par une liste de $k$ valeurs de $[0, 1]$ telle que la somme de toutes les valeurs vaut $1$."
   ]
  },
  {
   "cell_type": "code",
   "execution_count": 90,
   "metadata": {
    "collapsed": true
   },
   "outputs": [],
   "source": [
    "import math\n",
    "\n",
    "def shannon(P):\n",
    "    k=len(P)\n",
    "    HsP=0\n",
    "    if(k==1):\n",
    "        return 0.0\n",
    "    \n",
    "    for pi in P:\n",
    "        if(pi>0.0):\n",
    "            HsP+=pi*math.log(pi,k)\n",
    "        \n",
    "    return -HsP\n",
    "\n",
    "\n",
    "        "
   ]
  },
  {
   "cell_type": "code",
   "execution_count": 91,
   "metadata": {},
   "outputs": [
    {
     "data": {
      "text/plain": [
       "-0.0"
      ]
     },
     "execution_count": 91,
     "metadata": {},
     "output_type": "execute_result"
    }
   ],
   "source": [
    "shannon([1, 0])"
   ]
  },
  {
   "cell_type": "code",
   "execution_count": 92,
   "metadata": {},
   "outputs": [
    {
     "data": {
      "text/plain": [
       "1.0"
      ]
     },
     "execution_count": 92,
     "metadata": {},
     "output_type": "execute_result"
    }
   ],
   "source": [
    "shannon([0.5, 0.5])"
   ]
  },
  {
   "cell_type": "code",
   "execution_count": 93,
   "metadata": {},
   "outputs": [
    {
     "data": {
      "text/plain": [
       "1.0"
      ]
     },
     "execution_count": 93,
     "metadata": {},
     "output_type": "execute_result"
    }
   ],
   "source": [
    "shannon([0.25, 0.25, 0.25, 0.25])"
   ]
  },
  {
   "cell_type": "code",
   "execution_count": 94,
   "metadata": {},
   "outputs": [
    {
     "data": {
      "text/plain": [
       "0.5783898247235197"
      ]
     },
     "execution_count": 94,
     "metadata": {},
     "output_type": "execute_result"
    }
   ],
   "source": [
    "shannon([0.7, 0.1, 0.2, 0.0])"
   ]
  },
  {
   "cell_type": "code",
   "execution_count": 95,
   "metadata": {},
   "outputs": [
    {
     "data": {
      "text/plain": [
       "0.9182958340544896"
      ]
     },
     "execution_count": 95,
     "metadata": {},
     "output_type": "execute_result"
    }
   ],
   "source": [
    "shannon([1.0/3, 2.0/3])"
   ]
  },
  {
   "cell_type": "markdown",
   "metadata": {},
   "source": [
    "<font size=\"+1\">**[Q]**</font> A l'aide de la fonction <code>shannon()</code>, écrire la fonction <code>entropie()</code> qui prend un LabeledSet en argument et renvoie l'entropie de sa distribution des classes dans cet ensemble."
   ]
  },
  {
   "cell_type": "code",
   "execution_count": 96,
   "metadata": {
    "collapsed": true
   },
   "outputs": [],
   "source": [
    "def entropie(dataset):\n",
    "    \n",
    "    card = dataset.size()\n",
    "    dimension = dataset.getInputDimension()\n",
    "    \n",
    "    distrib = dict()\n",
    "    \n",
    "    for i in range(dataset.size()):\n",
    "        yi=dataset.getY(i)[0]\n",
    "        \n",
    "        if(yi in distrib):\n",
    "            distrib[yi] +=1\n",
    "        else:\n",
    "            distrib[yi] = 1\n",
    "        \n",
    "    sha = [float(val)/card for val in distrib.values()]\n",
    "    \n",
    "    return shannon(sha)\n",
    "        "
   ]
  },
  {
   "cell_type": "code",
   "execution_count": 97,
   "metadata": {},
   "outputs": [
    {
     "data": {
      "text/plain": [
       "1.0"
      ]
     },
     "execution_count": 97,
     "metadata": {},
     "output_type": "execute_result"
    }
   ],
   "source": [
    "entropie(the_set)"
   ]
  },
  {
   "cell_type": "markdown",
   "metadata": {},
   "source": [
    "### Discrétisation des attributs numériques"
   ]
  },
  {
   "cell_type": "markdown",
   "metadata": {
    "collapsed": true
   },
   "source": [
    "Discrétiser un attribut numérique consiste en trouver un seuil de coupure dans son ensemble de valeurs. Pour trouver ce seuil, on sélectionne le point de coupure qui optimise la distribution des classes des exemples de chaque côté du seuil.\n",
    "\n",
    "Par exemple, soit l'attribut Age contenant les valeurs 17, 18, 20, 27, 35, 37, 40. On discrétise cet attribut en 2 valeurs en déterminant un seuil de coupure comme, par exemple, le seuil 30: cela permet de séparer d'un côté les valeurs inférieures ou égales à 30, et de l'autre les valeurs strictement supérieures à 30.\n",
    "\n",
    "Soit $E$ un ensemble d'exemples, et soit $X$ un attribut que l'on veut discrétiser. Pour cela, on constitue l'ensemble des valeurs prises par les exemples de $E$ pour l'attribut $X$. Soit $X_E$ cet ensemble de valeurs.\n",
    "La discrétisation de $X_E$ s'effectue par les étapes suivantes:\n",
    "- Etape 1: ordonner de façon croissante les valeurs de $X_E$;\n",
    "- Etape 2: regarder tous les seuils possibles de coupure entre 2 valeurs consécutives de $X_E$ (on prend comme seuil de coupure la valeur entre ces 2 valeurs). Chaque seuil trouvé créé 2 intervalles qui générent 2 sous-ensembles de $E$: \n",
    "    1) l'ensemble $E_1$ des exemples dont la valeur pour l'attribut considéré et inférieure ou égale au seuil, et 2) l'ensemble $E_2$ des exemples dont la valeur pour l'attribut considéré et supérieure au seuil;\n",
    "    - pour chacun des seuils trouvés: \n",
    "        - calculer l'entropie de la distribution des classes pour les exemples de l'ensemble $E_1$, et l'entropie de la distribution des classes  pour les exemples de $E_2$;\n",
    "        - calculer l'entropie moyenne de la coupure engendrée par le seuil considéré:\n",
    "$$H_{moy}(coupure) = \\frac{|E_1|}{|E|} H_S(E_1) + \\frac{|E_2|}{|E|} H_S(E_2);$$\n",
    "\n",
    "\n",
    "La meilleure coupure pour discrétiser $X_E$ est celle qui minimise la valeur $H_{moy}(coupure)$.\n",
    "\n",
    "\n",
    "Par exemple, soit $E=\\{17, 18, 20, 27, 35, 37, 40\\}$, chaque valeur étant associées aux classes +1, +1, -1, -1, +1, +1, -1 respectivement. Un seuil de coupure possible est $31$ ($31 = \\frac{27+35}{2}$). Ce seuil coupe $E$ en $E_1=\\{17, 18, 20, 27\\}$ et $E_2=\\{35, 37, 40\\}$.\n",
    "\n",
    "- pour $E_1$, la probabilité de chaque classe est: $p(+1)= 0.5$ et $p(-1)=0.5$ donc, $H_S(E_1)=1$;\n",
    "- pour $E_2$, la probabilité de chaque classe est: $p(+1)= \\frac{1}{3}$ et $p(-1)=\\frac{2}{3}$ donc, $H_S(E_2)=0.9182958340544896$;\n",
    "- on a donc: $$H_{moy}(coupure par 31) = \\frac{4}{7} H_S(E_1) + \\frac{3}{7} H_S(E_2);$$\n",
    "soit $H_{moy}(coupure par 31) = 0.9182958340544896$"
   ]
  },
  {
   "cell_type": "markdown",
   "metadata": {},
   "source": [
    "On considère que the_set est un LabeledSet construit précédement. Il contient deux variables de type array: x et y.\n",
    "\n",
    "Regarder et tester les instructions suivantes, il faut bien comprendre comment elles fonctionnent car on va utiliser les mêmes principes dans les fonctions à écrire."
   ]
  },
  {
   "cell_type": "code",
   "execution_count": 98,
   "metadata": {},
   "outputs": [
    {
     "data": {
      "text/plain": [
       "array([[15, 18],\n",
       "       [17, 19],\n",
       "       [12, 16],\n",
       "       [10, 11],\n",
       "       [13, 13],\n",
       "       [11, 14],\n",
       "       [18,  1],\n",
       "       [ 2, 15],\n",
       "       [14, 12],\n",
       "       [ 1,  4],\n",
       "       [19, 10],\n",
       "       [16, 17],\n",
       "       [ 4,  0],\n",
       "       [ 6,  3],\n",
       "       [ 8,  5],\n",
       "       [ 5,  9],\n",
       "       [ 9,  6],\n",
       "       [ 0,  8],\n",
       "       [ 7,  7],\n",
       "       [ 3,  2]])"
      ]
     },
     "execution_count": 98,
     "metadata": {},
     "output_type": "execute_result"
    }
   ],
   "source": [
    "ind= np.argsort(the_set.x,axis=0)   # Tri des valeurs de the_set.x selon les colonnes. \n",
    "                                    # La fonction rend un numpy.ndarray contenant autant de \n",
    "                                    # colonnes que the_set.x et dans chaque colonne, on a \n",
    "                                    # la position de l'exemple dans l'ordonnancement croissant.\n",
    "ind # pour afficher"
   ]
  },
  {
   "cell_type": "code",
   "execution_count": null,
   "metadata": {
    "collapsed": true
   },
   "outputs": [],
   "source": []
  },
  {
   "cell_type": "code",
   "execution_count": 99,
   "metadata": {},
   "outputs": [
    {
     "data": {
      "text/plain": [
       "array([[-2.74023514, -0.0823571 ],\n",
       "       [-2.26063506,  0.41030618],\n",
       "       [-1.49340969, -0.08230841],\n",
       "       [-1.46069947,  0.06670007],\n",
       "       [-1.06929289, -1.02783262],\n",
       "       [-0.91354087, -1.05360566],\n",
       "       [-0.6324947 , -2.13065327],\n",
       "       [-0.12209155,  3.97291461],\n",
       "       [-0.09154475, -0.66222902],\n",
       "       [ 0.35320276, -0.46929691],\n",
       "       [ 0.55953652, -1.65752636],\n",
       "       [ 0.76006932, -1.6313479 ],\n",
       "       [ 0.88603728, -0.04448082],\n",
       "       [ 0.9948029 ,  1.25670832],\n",
       "       [ 1.20982458,  1.48681554],\n",
       "       [ 1.38360213,  1.19067067],\n",
       "       [ 1.46957405,  1.22092213],\n",
       "       [ 1.62626679,  0.52693461],\n",
       "       [ 2.40247599,  1.82510517],\n",
       "       [ 2.98578652,  0.88019725]])"
      ]
     },
     "execution_count": 99,
     "metadata": {},
     "output_type": "execute_result"
    }
   ],
   "source": [
    "the_set.x[ind[0:len(the_set.x),0]]  # Rend le numpy.array des exemples de the_set.x ordonnés\n",
    "                                    # selon les indices donnés dans ind (colonne 0)\n"
   ]
  },
  {
   "cell_type": "code",
   "execution_count": 100,
   "metadata": {},
   "outputs": [
    {
     "data": {
      "text/plain": [
       "array([[-1],\n",
       "       [-1],\n",
       "       [-1],\n",
       "       [-1],\n",
       "       [-1],\n",
       "       [-1],\n",
       "       [-1],\n",
       "       [ 1],\n",
       "       [-1],\n",
       "       [ 1],\n",
       "       [-1],\n",
       "       [-1],\n",
       "       [ 1],\n",
       "       [ 1],\n",
       "       [ 1],\n",
       "       [ 1],\n",
       "       [ 1],\n",
       "       [ 1],\n",
       "       [ 1],\n",
       "       [ 1]])"
      ]
     },
     "execution_count": 100,
     "metadata": {},
     "output_type": "execute_result"
    }
   ],
   "source": [
    "the_set.y[ind[0:len(the_set.y),0]]  # Rend le numpy.array des exemples de the_set.y ordonnés\n",
    "                                    # selon les indices donnés dans ind (colonne 0)"
   ]
  },
  {
   "cell_type": "code",
   "execution_count": 101,
   "metadata": {},
   "outputs": [
    {
     "name": "stdout",
     "output_type": "stream",
     "text": [
      "('valeur=', -2.1306532661653437, 'classe= ', -1)\n",
      "('valeur=', -1.6575263576937895, 'classe= ', -1)\n",
      "('valeur=', -1.6313478971968598, 'classe= ', -1)\n",
      "('valeur=', -1.0536056629452264, 'classe= ', -1)\n",
      "('valeur=', -1.027832619397449, 'classe= ', -1)\n",
      "('valeur=', -0.66222901868023643, 'classe= ', -1)\n",
      "('valeur=', -0.46929690965819959, 'classe= ', 1)\n",
      "('valeur=', -0.082357096055709622, 'classe= ', -1)\n",
      "('valeur=', -0.082308408139697975, 'classe= ', -1)\n",
      "('valeur=', -0.04448081693121364, 'classe= ', 1)\n",
      "('valeur=', 0.066700069235714476, 'classe= ', -1)\n",
      "('valeur=', 0.41030617625374655, 'classe= ', -1)\n",
      "('valeur=', 0.52693460519048352, 'classe= ', 1)\n",
      "('valeur=', 0.88019725156996043, 'classe= ', 1)\n",
      "('valeur=', 1.1906706684257526, 'classe= ', 1)\n",
      "('valeur=', 1.2209221284810177, 'classe= ', 1)\n",
      "('valeur=', 1.2567083158395973, 'classe= ', 1)\n",
      "('valeur=', 1.4868155396002645, 'classe= ', 1)\n",
      "('valeur=', 1.8251051664772491, 'classe= ', 1)\n",
      "('valeur=', 3.9729146104222544, 'classe= ', 1)\n"
     ]
    }
   ],
   "source": [
    "colonne = 1    # numéro de la colonne de the_set.x à considérer\n",
    "for v_i in ind[0:len(the_set.x)]:\n",
    "    i = v_i[colonne]\n",
    "    exem = the_set.getX(i)\n",
    "    clas = the_set.getY(i)\n",
    "    print(\"valeur=\",exem[colonne], \"classe= \", clas[0])"
   ]
  },
  {
   "cell_type": "markdown",
   "metadata": {},
   "source": [
    "Etant donné un LabeledSet, ainsi qu'un numéro de colonne à considérer (qui correspond à un des attributs de description), la fonction <code>discrétise()</code> rend un tuple constitué de la valeur de coupure qui minimise l'entropie de Shannon moyenne, et de la valeur de l'entropie trouvée."
   ]
  },
  {
   "cell_type": "code",
   "execution_count": 102,
   "metadata": {
    "collapsed": true
   },
   "outputs": [],
   "source": [
    "def discretise(LSet, col):\n",
    "    \"\"\" LabelledSet * int -> tuple[float, float]\n",
    "        col est le numéro de colonne sur X à discrétiser\n",
    "        rend la valeur de coupure qui minimise l'entropie ainsi que son entropie.\n",
    "    \"\"\"\n",
    "    # initialisation:\n",
    "    min_entropie = 1.1  # on met à une valeur max car on veut minimiser\n",
    "    min_seuil = 0.0     \n",
    "    # trie des valeurs:\n",
    "    ind= np.argsort(LSet.x,axis=0)\n",
    "    \n",
    "    # calcul des distributions des classes pour E1 et E2:\n",
    "    inf_plus  = 0               # nombre de +1 dans E1\n",
    "    inf_moins = 0               # nombre de -1 dans E1\n",
    "    sup_plus  = 0               # nombre de +1 dans E2\n",
    "    sup_moins = 0               # nombre de -1 dans E2       \n",
    "    # remarque: au départ on considère que E1 est vide et donc E2 correspond à E. \n",
    "    # Ainsi inf_plus et inf_moins valent 0. Il reste à calculer sup_plus et sup_moins \n",
    "    # dans E.\n",
    "    for j in range(0,LSet.size()):\n",
    "        if (LSet.getY(j) == -1):\n",
    "            sup_moins += 1\n",
    "        else:\n",
    "            sup_plus += 1\n",
    "    nb_total = (sup_plus + sup_moins) # nombre d'exemples total dans E\n",
    "    \n",
    "    # parcours pour trouver le meilleur seuil:\n",
    "    for i in range(len(LSet.x)-1):\n",
    "        v_ind_i = ind[i]   # vecteur d'indices\n",
    "        courant = LSet.getX(v_ind_i[col])[col]\n",
    "        lookahead = LSet.getX(ind[i+1][col])[col]\n",
    "        val_seuil = (courant + lookahead) / 2.0;\n",
    "        # M-A-J de la distrib. des classes:\n",
    "        # pour réduire les traitements: on retire un exemple de E2 et on le place\n",
    "        # dans E1, c'est ainsi que l'on déplace donc le seuil de coupure.\n",
    "        if LSet.getY(ind[i][col])[0] == -1:\n",
    "            inf_moins += 1\n",
    "            sup_moins -= 1\n",
    "        else:\n",
    "            inf_plus += 1\n",
    "            sup_plus -= 1\n",
    "        # calcul de la distribution des classes de chaque côté du seuil:\n",
    "        nb_inf = (inf_moins + inf_plus)*1.0     # rem: on en fait un float pour éviter\n",
    "        nb_sup = (sup_moins + sup_plus)*1.0     # que ce soit une division entière.\n",
    "        # calcul de l'entropie de la coupure\n",
    "        val_entropie_inf = shannon([inf_moins / nb_inf, inf_plus  / nb_inf])\n",
    "        val_entropie_sup = shannon([sup_moins / nb_sup, sup_plus  / nb_sup])\n",
    "        val_entropie = (nb_inf / nb_total) * val_entropie_inf + (nb_sup / nb_total) * val_entropie_sup\n",
    "        # si cette coupure minimise l'entropie, on mémorise ce seuil et son entropie:\n",
    "        if (min_entropie > val_entropie):\n",
    "            min_entropie = val_entropie\n",
    "            min_seuil = val_seuil\n",
    "    return (min_seuil, min_entropie)"
   ]
  },
  {
   "cell_type": "code",
   "execution_count": 103,
   "metadata": {},
   "outputs": [
    {
     "data": {
      "text/plain": [
       "(0.82305329737671729, 0.39001345298901247)"
      ]
     },
     "execution_count": 103,
     "metadata": {},
     "output_type": "execute_result"
    }
   ],
   "source": [
    "discretise(the_set,0) # le résultat dépend, bien sûr, de la base jouet"
   ]
  },
  {
   "cell_type": "code",
   "execution_count": 104,
   "metadata": {},
   "outputs": [
    {
     "data": {
      "text/plain": [
       "(0.46862039072211503, 0.39001345298901247)"
      ]
     },
     "execution_count": 104,
     "metadata": {},
     "output_type": "execute_result"
    }
   ],
   "source": [
    "discretise(the_set,1) # le résultat dépend, bien sûr, de la base jouet"
   ]
  },
  {
   "cell_type": "markdown",
   "metadata": {},
   "source": [
    "Une dernière fonction utile permet de diviser une base d'exemples en 2 sous-bases en utilisant un seuil sur la valeur d'un attribut donné.\n",
    "\n",
    "<font size=\"+1\">**[Q]**</font> Ecrire la fonction divise() dont la spécification est:\n",
    "\n",
    "    def divise(LSet,att,seuil):\n",
    "        \"\"\" LSet: LabeledSet\n",
    "            att : numéro d'attribut\n",
    "            seuil : valeur de seuil\n",
    "            rend le tuple contenant les 2 sous-LabeledSet obtenus par la\n",
    "            division de LSet selon le seuil sur l'attribut att\n",
    "        \"\"\"\n",
    "\n"
   ]
  },
  {
   "cell_type": "code",
   "execution_count": 105,
   "metadata": {
    "collapsed": true
   },
   "outputs": [],
   "source": [
    "def divise(LSet,att,seuil):\n",
    "    \n",
    "    Linf = LabeledSet(LSet.getInputDimension());\n",
    "    Lsup = LabeledSet(LSet.getInputDimension());\n",
    "    \n",
    "    for i in range(len(LSet.x)):\n",
    "        \n",
    "        if(LSet.getX(i)[att]<seuil):\n",
    "            \n",
    "            Linf.addExample(LSet.getX(i),LSet.getY(i))\n",
    "            \n",
    "        else:\n",
    "            \n",
    "            Lsup.addExample(LSet.getX(i), LSet.getY(i))\n",
    "            \n",
    "        \n",
    "    return Linf, Lsup\n",
    "        "
   ]
  },
  {
   "cell_type": "code",
   "execution_count": 106,
   "metadata": {},
   "outputs": [
    {
     "name": "stdout",
     "output_type": "stream",
     "text": [
      "('entropie inferieur:', 0.0, ' / entropie superieur:', 0.7793498372920852)\n"
     ]
    }
   ],
   "source": [
    "Linf, Lsup = divise(the_set,0,-0.5)\n",
    "print(\"entropie inferieur:\",entropie(Linf),\" / entropie superieur:\", entropie(Lsup))\n",
    "# remarque: les résultats dépendent de votre base jouet..."
   ]
  },
  {
   "cell_type": "markdown",
   "metadata": {},
   "source": [
    "### Représentation d'un arbre en Python"
   ]
  },
  {
   "cell_type": "markdown",
   "metadata": {},
   "source": [
    "Un arbre de décision est doit être représenté en Python, pour cela, on utilise la classe <code>ArbreBinaire</code> suivante:"
   ]
  },
  {
   "cell_type": "code",
   "execution_count": 107,
   "metadata": {
    "collapsed": true
   },
   "outputs": [],
   "source": [
    "import graphviz as gv\n",
    "\n",
    "class ArbreBinaire:\n",
    "    def __init__(self):\n",
    "        self.attribut = None   # numéro de l'attribut\n",
    "        self.seuil = None\n",
    "        self.inferieur = None # ArbreBinaire Gauche (valeurs <= au seuil)\n",
    "        self.superieur = None # ArbreBinaire Gauche (valeurs > au seuil)\n",
    "        self.classe = None # Classe si c'est une feuille: -1 ou +1\n",
    "        \n",
    "    def est_feuille(self):\n",
    "        \"\"\" rend True si l'arbre est une feuille \"\"\"\n",
    "        return self.seuil == None\n",
    "    \n",
    "    def ajoute_fils(self,ABinf,ABsup,att,seuil):\n",
    "        \"\"\" ABinf, ABsup: 2 arbres binaires\n",
    "            att: numéro d'attribut\n",
    "            seuil: valeur de seuil\n",
    "        \"\"\"\n",
    "        self.attribut = att\n",
    "        self.seuil = seuil\n",
    "        self.inferieur = ABinf\n",
    "        self.superieur = ABsup\n",
    "    \n",
    "    def ajoute_feuille(self,classe):\n",
    "        \"\"\" classe: -1 ou + 1\n",
    "        \"\"\"\n",
    "        self.classe = classe\n",
    "        \n",
    "    def classifie(self,exemple):\n",
    "        \"\"\" exemple : numpy.array\n",
    "            rend la classe de l'exemple: +1 ou -1\n",
    "        \"\"\"\n",
    "        if self.est_feuille():\n",
    "            return self.classe\n",
    "        if exemple[self.attribut] <= self.seuil:\n",
    "            return self.inferieur.classifie(exemple)\n",
    "        return self.superieur.classifie(exemple)\n",
    "    \n",
    "    def to_graph(self, g, prefixe='A'):\n",
    "        \"\"\" construit une représentation de l'arbre pour pouvoir\n",
    "            l'afficher\n",
    "        \"\"\"\n",
    "        if self.est_feuille():\n",
    "            g.node(prefixe,str(self.classe),shape='box')\n",
    "        else:\n",
    "            g.node(prefixe, str(self.attribut))\n",
    "            self.inferieur.to_graph(g,prefixe+\"g\")\n",
    "            self.superieur.to_graph(g,prefixe+\"d\")\n",
    "            g.edge(prefixe,prefixe+\"g\", '<='+ str(self.seuil))\n",
    "            g.edge(prefixe,prefixe+\"d\", '>'+ str(self.seuil))\n",
    "        \n",
    "        return g"
   ]
  },
  {
   "cell_type": "code",
   "execution_count": null,
   "metadata": {
    "collapsed": true
   },
   "outputs": [],
   "source": []
  },
  {
   "cell_type": "code",
   "execution_count": 108,
   "metadata": {},
   "outputs": [
    {
     "data": {
      "image/svg+xml": [
       "<?xml version=\"1.0\" encoding=\"UTF-8\" standalone=\"no\"?>\n",
       "<!DOCTYPE svg PUBLIC \"-//W3C//DTD SVG 1.1//EN\"\n",
       " \"http://www.w3.org/Graphics/SVG/1.1/DTD/svg11.dtd\">\n",
       "<!-- Generated by graphviz version 2.38.0 (20140413.2041)\n",
       " -->\n",
       "<!-- Title: %3 Pages: 1 -->\n",
       "<svg width=\"134pt\" height=\"131pt\"\n",
       " viewBox=\"0.00 0.00 134.00 131.00\" xmlns=\"http://www.w3.org/2000/svg\" xmlns:xlink=\"http://www.w3.org/1999/xlink\">\n",
       "<g id=\"graph0\" class=\"graph\" transform=\"scale(1 1) rotate(0) translate(4 127)\">\n",
       "<title>%3</title>\n",
       "<polygon fill=\"white\" stroke=\"none\" points=\"-4,4 -4,-127 130,-127 130,4 -4,4\"/>\n",
       "<!-- A -->\n",
       "<g id=\"node1\" class=\"node\"><title>A</title>\n",
       "<ellipse fill=\"none\" stroke=\"black\" cx=\"63\" cy=\"-105\" rx=\"27\" ry=\"18\"/>\n",
       "<text text-anchor=\"middle\" x=\"63\" y=\"-101.3\" font-family=\"Times,serif\" font-size=\"14.00\">nom</text>\n",
       "</g>\n",
       "<!-- Ag -->\n",
       "<g id=\"node2\" class=\"node\"><title>Ag</title>\n",
       "<polygon fill=\"none\" stroke=\"black\" points=\"54,-36 0,-36 0,-0 54,-0 54,-36\"/>\n",
       "<text text-anchor=\"middle\" x=\"27\" y=\"-14.3\" font-family=\"Times,serif\" font-size=\"14.00\">1</text>\n",
       "</g>\n",
       "<!-- A&#45;&gt;Ag -->\n",
       "<g id=\"edge1\" class=\"edge\"><title>A&#45;&gt;Ag</title>\n",
       "<path fill=\"none\" stroke=\"black\" d=\"M49.171,-89.3516C44.2998,-83.4397 39.2368,-76.2955 36,-69 32.8522,-61.9053 30.8051,-53.78 29.4738,-46.171\"/>\n",
       "<polygon fill=\"black\" stroke=\"black\" points=\"32.9377,-45.6687 28.0661,-36.2603 26.0073,-46.6532 32.9377,-45.6687\"/>\n",
       "<text text-anchor=\"middle\" x=\"56.5\" y=\"-57.8\" font-family=\"Times,serif\" font-size=\"14.00\">&lt;=42.0</text>\n",
       "</g>\n",
       "<!-- Ad -->\n",
       "<g id=\"node3\" class=\"node\"><title>Ad</title>\n",
       "<polygon fill=\"none\" stroke=\"black\" points=\"126,-36 72,-36 72,-0 126,-0 126,-36\"/>\n",
       "<text text-anchor=\"middle\" x=\"99\" y=\"-14.3\" font-family=\"Times,serif\" font-size=\"14.00\">2</text>\n",
       "</g>\n",
       "<!-- A&#45;&gt;Ad -->\n",
       "<g id=\"edge2\" class=\"edge\"><title>A&#45;&gt;Ad</title>\n",
       "<path fill=\"none\" stroke=\"black\" d=\"M70.1124,-87.2067C75.1581,-75.2934 82.032,-59.0634 87.8086,-45.4242\"/>\n",
       "<polygon fill=\"black\" stroke=\"black\" points=\"91.102,-46.6225 91.7791,-36.0493 84.6563,-43.8925 91.102,-46.6225\"/>\n",
       "<text text-anchor=\"middle\" x=\"99.5\" y=\"-57.8\" font-family=\"Times,serif\" font-size=\"14.00\">&gt;42.0</text>\n",
       "</g>\n",
       "</g>\n",
       "</svg>\n"
      ],
      "text/plain": [
       "<graphviz.dot.Digraph at 0x7f9b04f93250>"
      ]
     },
     "execution_count": 108,
     "metadata": {},
     "output_type": "execute_result"
    }
   ],
   "source": [
    "# Exemple d'utilisation: \n",
    "un_arbre= ArbreBinaire()\n",
    "un_arbre.ajoute_feuille(1)\n",
    "un_arbre.est_feuille()\n",
    "un_arbre1 = ArbreBinaire()\n",
    "un_arbre1.ajoute_feuille(2)\n",
    "un_arbre2 = ArbreBinaire()\n",
    "un_arbre2.ajoute_fils(un_arbre,un_arbre1,\"nom\",42.0)\n",
    "\n",
    "gtree = gv.Digraph(format='png')\n",
    "un_arbre2.to_graph(gtree)"
   ]
  },
  {
   "cell_type": "markdown",
   "metadata": {},
   "source": [
    "### Construction de l'arbre de décision"
   ]
  },
  {
   "cell_type": "markdown",
   "metadata": {},
   "source": [
    "Pour construire un arbre de décision, il faut réaliser les étapes suivantes:\n",
    "- si l'entropie de Shannon de la distribution des classes de l'ensemble courant est inférieure à epsilon (réel positif fixé et qui est un paramètre de l'algorithme), alors construire une feuille avec cet ensemble, la classe associée à cette feuille est la classe majoritaire;\n",
    "- sinon, pour chaque attribut, calculer le seuil de discrétisation et l'entropie de Shannon correspondante\n",
    "    - choisir l'attribut qui donne une valeur d'entropie minimale\n",
    "    - l'attribut choisi sert à constituer un noeud de l'arbre de décision, les arcs issus de ce noeud sont labeller par un test (inférieur ou égal ou supérieur) par rapport au seuil trouvé\n",
    "    \n",
    "    \n",
    "<font size=\"+1\">**[Q]**</font> Ecrire la fonction qui construit un arbre de décision (binaire) à partir d'une base d'exemples. En plus de la base d'exemples, on utilise un argument \"epsilon\" qui est un réel >0 et qui sert pour le critère d'arrêt.\n",
    "Cette fonction a la spécification suivante:\n",
    "\n",
    "    def construit_AD(LSet,epsilon):\n",
    "        \"\"\" LSet : LabeledSet\n",
    "            epsilon : seuil d'entropie pour le critère d'arrêt \n",
    "        \"\"\"\n"
   ]
  },
  {
   "cell_type": "code",
   "execution_count": 109,
   "metadata": {
    "collapsed": true
   },
   "outputs": [],
   "source": [
    "def construit_AD(LSet, eps):\n",
    "    \n",
    "    AD = ArbreBinaire()\n",
    "    \n",
    "\n",
    "    if(entropie(LSet)<=eps):\n",
    "        AD.ajoute_feuille(classe_majoritaire(LSet))\n",
    "    else:\n",
    "        \n",
    "        entropie_min=10000\n",
    "        seuil_min=1000000\n",
    "        imin=0\n",
    "        for i in range(LSet.getInputDimension()):\n",
    "            \n",
    "            seuil , entrp = discretise(LSet,i)\n",
    "            \n",
    "            if(entropie_min>entrp):\n",
    "                entropie_min=entrp\n",
    "                seuil_min=seuil\n",
    "                imin=i\n",
    "          \n",
    "        Linf, Lsup = divise(LSet, imin, seuil_min)\n",
    "        \n",
    "        AD.ajoute_fils(construit_AD(Linf, eps), construit_AD(Lsup, eps), imin, seuil_min)\n",
    "        \n",
    "    return AD\n",
    "            "
   ]
  },
  {
   "cell_type": "code",
   "execution_count": 110,
   "metadata": {},
   "outputs": [
    {
     "data": {
      "image/png": "[encoded data removed]",
      "text/plain": [
       "<matplotlib.figure.Figure at 0x7f9b04dbb8d0>"
      ]
     },
     "metadata": {},
     "output_type": "display_data"
    }
   ],
   "source": [
    "plot2DSet(the_set)"
   ]
  },
  {
   "cell_type": "code",
   "execution_count": 111,
   "metadata": {},
   "outputs": [
    {
     "data": {
      "image/svg+xml": [
       "<?xml version=\"1.0\" encoding=\"UTF-8\" standalone=\"no\"?>\n",
       "<!DOCTYPE svg PUBLIC \"-//W3C//DTD SVG 1.1//EN\"\n",
       " \"http://www.w3.org/Graphics/SVG/1.1/DTD/svg11.dtd\">\n",
       "<!-- Generated by graphviz version 2.38.0 (20140413.2041)\n",
       " -->\n",
       "<!-- Title: %3 Pages: 1 -->\n",
       "<svg width=\"377pt\" height=\"392pt\"\n",
       " viewBox=\"0.00 0.00 377.00 392.00\" xmlns=\"http://www.w3.org/2000/svg\" xmlns:xlink=\"http://www.w3.org/1999/xlink\">\n",
       "<g id=\"graph0\" class=\"graph\" transform=\"scale(1 1) rotate(0) translate(4 388)\">\n",
       "<title>%3</title>\n",
       "<polygon fill=\"white\" stroke=\"none\" points=\"-4,4 -4,-388 373,-388 373,4 -4,4\"/>\n",
       "<!-- A -->\n",
       "<g id=\"node1\" class=\"node\"><title>A</title>\n",
       "<ellipse fill=\"none\" stroke=\"black\" cx=\"217\" cy=\"-366\" rx=\"27\" ry=\"18\"/>\n",
       "<text text-anchor=\"middle\" x=\"217\" y=\"-362.3\" font-family=\"Times,serif\" font-size=\"14.00\">0</text>\n",
       "</g>\n",
       "<!-- Ag -->\n",
       "<g id=\"node2\" class=\"node\"><title>Ag</title>\n",
       "<ellipse fill=\"none\" stroke=\"black\" cx=\"151\" cy=\"-279\" rx=\"27\" ry=\"18\"/>\n",
       "<text text-anchor=\"middle\" x=\"151\" y=\"-275.3\" font-family=\"Times,serif\" font-size=\"14.00\">1</text>\n",
       "</g>\n",
       "<!-- A&#45;&gt;Ag -->\n",
       "<g id=\"edge7\" class=\"edge\"><title>A&#45;&gt;Ag</title>\n",
       "<path fill=\"none\" stroke=\"black\" d=\"M192.231,-358.482C177.826,-353.291 160.82,-344.437 152,-330 147.846,-323.2 146.541,-314.849 146.578,-306.933\"/>\n",
       "<polygon fill=\"black\" stroke=\"black\" points=\"150.07,-307.163 147.271,-296.945 143.087,-306.679 150.07,-307.163\"/>\n",
       "<text text-anchor=\"middle\" x=\"206.5\" y=\"-318.8\" font-family=\"Times,serif\" font-size=\"14.00\">&lt;=0.823053297377</text>\n",
       "</g>\n",
       "<!-- Ad -->\n",
       "<g id=\"node9\" class=\"node\"><title>Ad</title>\n",
       "<polygon fill=\"none\" stroke=\"black\" points=\"310,-297 256,-297 256,-261 310,-261 310,-297\"/>\n",
       "<text text-anchor=\"middle\" x=\"283\" y=\"-275.3\" font-family=\"Times,serif\" font-size=\"14.00\">1</text>\n",
       "</g>\n",
       "<!-- A&#45;&gt;Ad -->\n",
       "<g id=\"edge8\" class=\"edge\"><title>A&#45;&gt;Ad</title>\n",
       "<path fill=\"none\" stroke=\"black\" d=\"M235.883,-353.092C244.406,-346.995 254.088,-338.968 261,-330 266.351,-323.058 270.706,-314.611 274.086,-306.652\"/>\n",
       "<polygon fill=\"black\" stroke=\"black\" points=\"277.354,-307.906 277.728,-297.318 270.832,-305.362 277.354,-307.906\"/>\n",
       "<text text-anchor=\"middle\" x=\"319\" y=\"-318.8\" font-family=\"Times,serif\" font-size=\"14.00\">&gt;0.823053297377</text>\n",
       "</g>\n",
       "<!-- Agg -->\n",
       "<g id=\"node3\" class=\"node\"><title>Agg</title>\n",
       "<ellipse fill=\"none\" stroke=\"black\" cx=\"89\" cy=\"-192\" rx=\"27\" ry=\"18\"/>\n",
       "<text text-anchor=\"middle\" x=\"89\" y=\"-188.3\" font-family=\"Times,serif\" font-size=\"14.00\">0</text>\n",
       "</g>\n",
       "<!-- Ag&#45;&gt;Agg -->\n",
       "<g id=\"edge5\" class=\"edge\"><title>Ag&#45;&gt;Agg</title>\n",
       "<path fill=\"none\" stroke=\"black\" d=\"M126.786,-270.709C113.456,-265.332 98.0295,-256.55 90,-243 85.9833,-236.222 84.6887,-227.966 84.691,-220.132\"/>\n",
       "<polygon fill=\"black\" stroke=\"black\" points=\"88.2008,-220.097 85.3643,-209.889 81.2158,-219.638 88.2008,-220.097\"/>\n",
       "<text text-anchor=\"middle\" x=\"141\" y=\"-231.8\" font-family=\"Times,serif\" font-size=\"14.00\">&lt;=2.19161039334</text>\n",
       "</g>\n",
       "<!-- Agd -->\n",
       "<g id=\"node8\" class=\"node\"><title>Agd</title>\n",
       "<polygon fill=\"none\" stroke=\"black\" points=\"241,-210 187,-210 187,-174 241,-174 241,-210\"/>\n",
       "<text text-anchor=\"middle\" x=\"214\" y=\"-188.3\" font-family=\"Times,serif\" font-size=\"14.00\">1</text>\n",
       "</g>\n",
       "<!-- Ag&#45;&gt;Agd -->\n",
       "<g id=\"edge6\" class=\"edge\"><title>Ag&#45;&gt;Agd</title>\n",
       "<path fill=\"none\" stroke=\"black\" d=\"M168.974,-265.543C176.807,-259.439 185.634,-251.562 192,-243 197.23,-235.966 201.551,-227.494 204.938,-219.539\"/>\n",
       "<polygon fill=\"black\" stroke=\"black\" points=\"208.199,-220.811 208.604,-210.224 201.685,-218.247 208.199,-220.811\"/>\n",
       "<text text-anchor=\"middle\" x=\"247\" y=\"-231.8\" font-family=\"Times,serif\" font-size=\"14.00\">&gt;2.19161039334</text>\n",
       "</g>\n",
       "<!-- Aggg -->\n",
       "<g id=\"node4\" class=\"node\"><title>Aggg</title>\n",
       "<polygon fill=\"none\" stroke=\"black\" points=\"54,-123 0,-123 0,-87 54,-87 54,-123\"/>\n",
       "<text text-anchor=\"middle\" x=\"27\" y=\"-101.3\" font-family=\"Times,serif\" font-size=\"14.00\">&#45;1</text>\n",
       "</g>\n",
       "<!-- Agg&#45;&gt;Aggg -->\n",
       "<g id=\"edge3\" class=\"edge\"><title>Agg&#45;&gt;Aggg</title>\n",
       "<path fill=\"none\" stroke=\"black\" d=\"M64.7858,-183.709C51.4559,-178.332 36.0295,-169.55 28,-156 24.0441,-149.324 22.7285,-141.216 22.6918,-133.488\"/>\n",
       "<polygon fill=\"black\" stroke=\"black\" points=\"26.1943,-133.551 23.3066,-123.357 19.2072,-133.127 26.1943,-133.551\"/>\n",
       "<text text-anchor=\"middle\" x=\"79\" y=\"-144.8\" font-family=\"Times,serif\" font-size=\"14.00\">&lt;=0.13082900447</text>\n",
       "</g>\n",
       "<!-- Aggd -->\n",
       "<g id=\"node5\" class=\"node\"><title>Aggd</title>\n",
       "<ellipse fill=\"none\" stroke=\"black\" cx=\"152\" cy=\"-105\" rx=\"27\" ry=\"18\"/>\n",
       "<text text-anchor=\"middle\" x=\"152\" y=\"-101.3\" font-family=\"Times,serif\" font-size=\"14.00\">0</text>\n",
       "</g>\n",
       "<!-- Agg&#45;&gt;Aggd -->\n",
       "<g id=\"edge4\" class=\"edge\"><title>Agg&#45;&gt;Aggd</title>\n",
       "<path fill=\"none\" stroke=\"black\" d=\"M106.974,-178.543C114.807,-172.439 123.634,-164.562 130,-156 135.31,-148.858 139.684,-140.233 143.093,-132.173\"/>\n",
       "<polygon fill=\"black\" stroke=\"black\" points=\"146.393,-133.346 146.773,-122.758 139.873,-130.798 146.393,-133.346\"/>\n",
       "<text text-anchor=\"middle\" x=\"186\" y=\"-144.8\" font-family=\"Times,serif\" font-size=\"14.00\">&gt;0.13082900447</text>\n",
       "</g>\n",
       "<!-- Aggdg -->\n",
       "<g id=\"node6\" class=\"node\"><title>Aggdg</title>\n",
       "<polygon fill=\"none\" stroke=\"black\" points=\"116,-36 62,-36 62,-0 116,-0 116,-36\"/>\n",
       "<text text-anchor=\"middle\" x=\"89\" y=\"-14.3\" font-family=\"Times,serif\" font-size=\"14.00\">1</text>\n",
       "</g>\n",
       "<!-- Aggd&#45;&gt;Aggdg -->\n",
       "<g id=\"edge1\" class=\"edge\"><title>Aggd&#45;&gt;Aggdg</title>\n",
       "<path fill=\"none\" stroke=\"black\" d=\"M127.091,-97.7615C112.359,-92.6507 94.8924,-83.7811 86,-69 81.9934,-62.3401 81.15,-54.2362 81.7495,-46.5082\"/>\n",
       "<polygon fill=\"black\" stroke=\"black\" points=\"85.2473,-46.7884 83.2998,-36.3741 78.3278,-45.7298 85.2473,-46.7884\"/>\n",
       "<text text-anchor=\"middle\" x=\"137\" y=\"-57.8\" font-family=\"Times,serif\" font-size=\"14.00\">&lt;=0.45636963925</text>\n",
       "</g>\n",
       "<!-- Aggdd -->\n",
       "<g id=\"node7\" class=\"node\"><title>Aggdd</title>\n",
       "<polygon fill=\"none\" stroke=\"black\" points=\"241,-36 187,-36 187,-0 241,-0 241,-36\"/>\n",
       "<text text-anchor=\"middle\" x=\"214\" y=\"-14.3\" font-family=\"Times,serif\" font-size=\"14.00\">&#45;1</text>\n",
       "</g>\n",
       "<!-- Aggd&#45;&gt;Aggdd -->\n",
       "<g id=\"edge2\" class=\"edge\"><title>Aggd&#45;&gt;Aggdd</title>\n",
       "<path fill=\"none\" stroke=\"black\" d=\"M169.925,-91.1439C177.464,-85.0717 185.884,-77.3311 192,-69 197.187,-61.9344 201.496,-53.4536 204.885,-45.5004\"/>\n",
       "<polygon fill=\"black\" stroke=\"black\" points=\"208.143,-46.778 208.56,-36.1914 201.632,-44.2077 208.143,-46.778\"/>\n",
       "<text text-anchor=\"middle\" x=\"247\" y=\"-57.8\" font-family=\"Times,serif\" font-size=\"14.00\">&gt;0.45636963925</text>\n",
       "</g>\n",
       "</g>\n",
       "</svg>\n"
      ],
      "text/plain": [
       "<graphviz.dot.Digraph at 0x7f9b057e6150>"
      ]
     },
     "execution_count": 111,
     "metadata": {},
     "output_type": "execute_result"
    }
   ],
   "source": [
    "#test de l'affichage \n",
    "abin = construit_AD(the_set,0.0)\n",
    "gtree = gv.Digraph(format='png')\n",
    "abin.to_graph(gtree)\n"
   ]
  },
  {
   "cell_type": "markdown",
   "metadata": {},
   "source": [
    "### Classification avec arbre de décision\n"
   ]
  },
  {
   "cell_type": "markdown",
   "metadata": {},
   "source": [
    "Pour classer un nouvel exemple avec un arbre de décision, il faut parcourir l'arbre, de la racine vers une feuille en respectant les tests rencontrés dans chaque arc. Une fois atteint une feuille, la classe de l'exemple est celle présente dans la feuille.\n",
    "\n",
    "La classe ArbreBinaire contient déjà une fonction <code>classifie</code> qui permet de classer un nouvel exemple et de renvoyer la classe +1 ou -1 selon le cas."
   ]
  },
  {
   "cell_type": "markdown",
   "metadata": {},
   "source": [
    "### Implémentation"
   ]
  },
  {
   "cell_type": "markdown",
   "metadata": {},
   "source": [
    "De la même façon que pour le knn, on définit le classifieur <code>ArbreDecision</code> (classe héritant de la classe Classifier vue lors du TD-TME 5) comme suit.\n",
    "\n",
    "Si toutes les fonctions précédentes ont été écrites correctement, il est maintenant possible de construire un arbre de décision à partir de la base jouet.\n"
   ]
  },
  {
   "cell_type": "markdown",
   "metadata": {},
   "source": [
    "## Applications à des données réelles"
   ]
  },
  {
   "cell_type": "code",
   "execution_count": 113,
   "metadata": {
    "collapsed": true
   },
   "outputs": [],
   "source": [
    "class ArbreDecision(Classifier):\n",
    "    # Constructeur\n",
    "    def __init__(self,epsilon):\n",
    "        # valeur seuil d'entropie pour arrêter la construction\n",
    "        self.epsilon= epsilon\n",
    "        self.racine = None\n",
    "    \n",
    "    # Permet de calculer la prediction sur x => renvoie un score\n",
    "    def predict(self,x):\n",
    "        # classification de l'exemple x avec l'arbre de décision\n",
    "        # on rend 0 (classe -1) ou 1 (classe 1)\n",
    "        classe = self.racine.classifie(x)\n",
    "        if (classe == 1):\n",
    "            return(1)\n",
    "        else:\n",
    "            return(-1)\n",
    "    \n",
    "    # Permet d'entrainer le modele sur un ensemble de données\n",
    "    def train(self,set):\n",
    "        # construction de l'arbre de décision \n",
    "        self.set=set\n",
    "        self.racine = construit_AD(set,self.epsilon)\n",
    "\n",
    "    # Permet d'afficher l'arbre\n",
    "    def plot(self):\n",
    "        gtree = gv.Digraph(format='png')\n",
    "        return self.racine.to_graph(gtree)\n",
    "        "
   ]
  },
  {
   "cell_type": "code",
   "execution_count": 114,
   "metadata": {},
   "outputs": [
    {
     "data": {
      "image/png": "[encoded data removed]",
      "text/plain": [
       "<matplotlib.figure.Figure at 0x7f9b04f93850>"
      ]
     },
     "metadata": {},
     "output_type": "display_data"
    }
   ],
   "source": [
    "# un exemple d'utilisation:\n",
    "ad=ArbreDecision(0.0)          # initialiation d'un arbre binaire qui utilisera epsilon= 0.0\n",
    "ad.train(the_set)              # construction de l'arbre à partir de la base jouet\n",
    "plot_frontiere(dataset_test,ad,20)  # tracé graphique de la frontière de décision\n",
    "plot2DSet(dataset_test) "
   ]
  },
  {
   "cell_type": "code",
   "execution_count": 115,
   "metadata": {},
   "outputs": [
    {
     "data": {
      "image/svg+xml": [
       "<?xml version=\"1.0\" encoding=\"UTF-8\" standalone=\"no\"?>\n",
       "<!DOCTYPE svg PUBLIC \"-//W3C//DTD SVG 1.1//EN\"\n",
       " \"http://www.w3.org/Graphics/SVG/1.1/DTD/svg11.dtd\">\n",
       "<!-- Generated by graphviz version 2.38.0 (20140413.2041)\n",
       " -->\n",
       "<!-- Title: %3 Pages: 1 -->\n",
       "<svg width=\"377pt\" height=\"392pt\"\n",
       " viewBox=\"0.00 0.00 377.00 392.00\" xmlns=\"http://www.w3.org/2000/svg\" xmlns:xlink=\"http://www.w3.org/1999/xlink\">\n",
       "<g id=\"graph0\" class=\"graph\" transform=\"scale(1 1) rotate(0) translate(4 388)\">\n",
       "<title>%3</title>\n",
       "<polygon fill=\"white\" stroke=\"none\" points=\"-4,4 -4,-388 373,-388 373,4 -4,4\"/>\n",
       "<!-- A -->\n",
       "<g id=\"node1\" class=\"node\"><title>A</title>\n",
       "<ellipse fill=\"none\" stroke=\"black\" cx=\"217\" cy=\"-366\" rx=\"27\" ry=\"18\"/>\n",
       "<text text-anchor=\"middle\" x=\"217\" y=\"-362.3\" font-family=\"Times,serif\" font-size=\"14.00\">0</text>\n",
       "</g>\n",
       "<!-- Ag -->\n",
       "<g id=\"node2\" class=\"node\"><title>Ag</title>\n",
       "<ellipse fill=\"none\" stroke=\"black\" cx=\"151\" cy=\"-279\" rx=\"27\" ry=\"18\"/>\n",
       "<text text-anchor=\"middle\" x=\"151\" y=\"-275.3\" font-family=\"Times,serif\" font-size=\"14.00\">1</text>\n",
       "</g>\n",
       "<!-- A&#45;&gt;Ag -->\n",
       "<g id=\"edge7\" class=\"edge\"><title>A&#45;&gt;Ag</title>\n",
       "<path fill=\"none\" stroke=\"black\" d=\"M192.231,-358.482C177.826,-353.291 160.82,-344.437 152,-330 147.846,-323.2 146.541,-314.849 146.578,-306.933\"/>\n",
       "<polygon fill=\"black\" stroke=\"black\" points=\"150.07,-307.163 147.271,-296.945 143.087,-306.679 150.07,-307.163\"/>\n",
       "<text text-anchor=\"middle\" x=\"206.5\" y=\"-318.8\" font-family=\"Times,serif\" font-size=\"14.00\">&lt;=0.823053297377</text>\n",
       "</g>\n",
       "<!-- Ad -->\n",
       "<g id=\"node9\" class=\"node\"><title>Ad</title>\n",
       "<polygon fill=\"none\" stroke=\"black\" points=\"310,-297 256,-297 256,-261 310,-261 310,-297\"/>\n",
       "<text text-anchor=\"middle\" x=\"283\" y=\"-275.3\" font-family=\"Times,serif\" font-size=\"14.00\">1</text>\n",
       "</g>\n",
       "<!-- A&#45;&gt;Ad -->\n",
       "<g id=\"edge8\" class=\"edge\"><title>A&#45;&gt;Ad</title>\n",
       "<path fill=\"none\" stroke=\"black\" d=\"M235.883,-353.092C244.406,-346.995 254.088,-338.968 261,-330 266.351,-323.058 270.706,-314.611 274.086,-306.652\"/>\n",
       "<polygon fill=\"black\" stroke=\"black\" points=\"277.354,-307.906 277.728,-297.318 270.832,-305.362 277.354,-307.906\"/>\n",
       "<text text-anchor=\"middle\" x=\"319\" y=\"-318.8\" font-family=\"Times,serif\" font-size=\"14.00\">&gt;0.823053297377</text>\n",
       "</g>\n",
       "<!-- Agg -->\n",
       "<g id=\"node3\" class=\"node\"><title>Agg</title>\n",
       "<ellipse fill=\"none\" stroke=\"black\" cx=\"89\" cy=\"-192\" rx=\"27\" ry=\"18\"/>\n",
       "<text text-anchor=\"middle\" x=\"89\" y=\"-188.3\" font-family=\"Times,serif\" font-size=\"14.00\">0</text>\n",
       "</g>\n",
       "<!-- Ag&#45;&gt;Agg -->\n",
       "<g id=\"edge5\" class=\"edge\"><title>Ag&#45;&gt;Agg</title>\n",
       "<path fill=\"none\" stroke=\"black\" d=\"M126.786,-270.709C113.456,-265.332 98.0295,-256.55 90,-243 85.9833,-236.222 84.6887,-227.966 84.691,-220.132\"/>\n",
       "<polygon fill=\"black\" stroke=\"black\" points=\"88.2008,-220.097 85.3643,-209.889 81.2158,-219.638 88.2008,-220.097\"/>\n",
       "<text text-anchor=\"middle\" x=\"141\" y=\"-231.8\" font-family=\"Times,serif\" font-size=\"14.00\">&lt;=2.19161039334</text>\n",
       "</g>\n",
       "<!-- Agd -->\n",
       "<g id=\"node8\" class=\"node\"><title>Agd</title>\n",
       "<polygon fill=\"none\" stroke=\"black\" points=\"241,-210 187,-210 187,-174 241,-174 241,-210\"/>\n",
       "<text text-anchor=\"middle\" x=\"214\" y=\"-188.3\" font-family=\"Times,serif\" font-size=\"14.00\">1</text>\n",
       "</g>\n",
       "<!-- Ag&#45;&gt;Agd -->\n",
       "<g id=\"edge6\" class=\"edge\"><title>Ag&#45;&gt;Agd</title>\n",
       "<path fill=\"none\" stroke=\"black\" d=\"M168.974,-265.543C176.807,-259.439 185.634,-251.562 192,-243 197.23,-235.966 201.551,-227.494 204.938,-219.539\"/>\n",
       "<polygon fill=\"black\" stroke=\"black\" points=\"208.199,-220.811 208.604,-210.224 201.685,-218.247 208.199,-220.811\"/>\n",
       "<text text-anchor=\"middle\" x=\"247\" y=\"-231.8\" font-family=\"Times,serif\" font-size=\"14.00\">&gt;2.19161039334</text>\n",
       "</g>\n",
       "<!-- Aggg -->\n",
       "<g id=\"node4\" class=\"node\"><title>Aggg</title>\n",
       "<polygon fill=\"none\" stroke=\"black\" points=\"54,-123 0,-123 0,-87 54,-87 54,-123\"/>\n",
       "<text text-anchor=\"middle\" x=\"27\" y=\"-101.3\" font-family=\"Times,serif\" font-size=\"14.00\">&#45;1</text>\n",
       "</g>\n",
       "<!-- Agg&#45;&gt;Aggg -->\n",
       "<g id=\"edge3\" class=\"edge\"><title>Agg&#45;&gt;Aggg</title>\n",
       "<path fill=\"none\" stroke=\"black\" d=\"M64.7858,-183.709C51.4559,-178.332 36.0295,-169.55 28,-156 24.0441,-149.324 22.7285,-141.216 22.6918,-133.488\"/>\n",
       "<polygon fill=\"black\" stroke=\"black\" points=\"26.1943,-133.551 23.3066,-123.357 19.2072,-133.127 26.1943,-133.551\"/>\n",
       "<text text-anchor=\"middle\" x=\"79\" y=\"-144.8\" font-family=\"Times,serif\" font-size=\"14.00\">&lt;=0.13082900447</text>\n",
       "</g>\n",
       "<!-- Aggd -->\n",
       "<g id=\"node5\" class=\"node\"><title>Aggd</title>\n",
       "<ellipse fill=\"none\" stroke=\"black\" cx=\"152\" cy=\"-105\" rx=\"27\" ry=\"18\"/>\n",
       "<text text-anchor=\"middle\" x=\"152\" y=\"-101.3\" font-family=\"Times,serif\" font-size=\"14.00\">0</text>\n",
       "</g>\n",
       "<!-- Agg&#45;&gt;Aggd -->\n",
       "<g id=\"edge4\" class=\"edge\"><title>Agg&#45;&gt;Aggd</title>\n",
       "<path fill=\"none\" stroke=\"black\" d=\"M106.974,-178.543C114.807,-172.439 123.634,-164.562 130,-156 135.31,-148.858 139.684,-140.233 143.093,-132.173\"/>\n",
       "<polygon fill=\"black\" stroke=\"black\" points=\"146.393,-133.346 146.773,-122.758 139.873,-130.798 146.393,-133.346\"/>\n",
       "<text text-anchor=\"middle\" x=\"186\" y=\"-144.8\" font-family=\"Times,serif\" font-size=\"14.00\">&gt;0.13082900447</text>\n",
       "</g>\n",
       "<!-- Aggdg -->\n",
       "<g id=\"node6\" class=\"node\"><title>Aggdg</title>\n",
       "<polygon fill=\"none\" stroke=\"black\" points=\"116,-36 62,-36 62,-0 116,-0 116,-36\"/>\n",
       "<text text-anchor=\"middle\" x=\"89\" y=\"-14.3\" font-family=\"Times,serif\" font-size=\"14.00\">1</text>\n",
       "</g>\n",
       "<!-- Aggd&#45;&gt;Aggdg -->\n",
       "<g id=\"edge1\" class=\"edge\"><title>Aggd&#45;&gt;Aggdg</title>\n",
       "<path fill=\"none\" stroke=\"black\" d=\"M127.091,-97.7615C112.359,-92.6507 94.8924,-83.7811 86,-69 81.9934,-62.3401 81.15,-54.2362 81.7495,-46.5082\"/>\n",
       "<polygon fill=\"black\" stroke=\"black\" points=\"85.2473,-46.7884 83.2998,-36.3741 78.3278,-45.7298 85.2473,-46.7884\"/>\n",
       "<text text-anchor=\"middle\" x=\"137\" y=\"-57.8\" font-family=\"Times,serif\" font-size=\"14.00\">&lt;=0.45636963925</text>\n",
       "</g>\n",
       "<!-- Aggdd -->\n",
       "<g id=\"node7\" class=\"node\"><title>Aggdd</title>\n",
       "<polygon fill=\"none\" stroke=\"black\" points=\"241,-36 187,-36 187,-0 241,-0 241,-36\"/>\n",
       "<text text-anchor=\"middle\" x=\"214\" y=\"-14.3\" font-family=\"Times,serif\" font-size=\"14.00\">&#45;1</text>\n",
       "</g>\n",
       "<!-- Aggd&#45;&gt;Aggdd -->\n",
       "<g id=\"edge2\" class=\"edge\"><title>Aggd&#45;&gt;Aggdd</title>\n",
       "<path fill=\"none\" stroke=\"black\" d=\"M169.925,-91.1439C177.464,-85.0717 185.884,-77.3311 192,-69 197.187,-61.9344 201.496,-53.4536 204.885,-45.5004\"/>\n",
       "<polygon fill=\"black\" stroke=\"black\" points=\"208.143,-46.778 208.56,-36.1914 201.632,-44.2077 208.143,-46.778\"/>\n",
       "<text text-anchor=\"middle\" x=\"247\" y=\"-57.8\" font-family=\"Times,serif\" font-size=\"14.00\">&gt;0.45636963925</text>\n",
       "</g>\n",
       "</g>\n",
       "</svg>\n"
      ],
      "text/plain": [
       "<graphviz.dot.Digraph at 0x7f9adab74c50>"
      ]
     },
     "execution_count": 115,
     "metadata": {},
     "output_type": "execute_result"
    }
   ],
   "source": [
    "ad.plot()"
   ]
  },
  {
   "cell_type": "markdown",
   "metadata": {},
   "source": [
    "<font size=\"+1\">**[Q]**</font> Appliquer l'algorithme des arbres de décision à des données réelles (par exemple, celles utilisées avec les k-nn) et comparer les résultats obtenus par les 2 algorithmes.\n",
    "\n",
    "Un autre exemple d'utilisation sur une base plus grande:"
   ]
  },
  {
   "cell_type": "code",
   "execution_count": 117,
   "metadata": {
    "scrolled": true
   },
   "outputs": [
    {
     "name": "stdout",
     "output_type": "stream",
     "text": [
      "('Taille de la base g\\xc3\\xa9n\\xc3\\xa9r\\xc3\\xa9e :', 200, 'exemples')\n"
     ]
    },
    {
     "data": {
      "image/png": "[encoded data removed]",
      "text/plain": [
       "<matplotlib.figure.Figure at 0x7f9ae203f4d0>"
      ]
     },
     "metadata": {},
     "output_type": "display_data"
    }
   ],
   "source": [
    "gauss3=np.random.multivariate_normal([1,1],[[1,0],[0,1]],size=100)\n",
    "gauss4=np.random.multivariate_normal([-1,-1],[[1,0],[0,1]],size=100)\n",
    "\n",
    "autre_set = LabeledSet(2)\n",
    "\n",
    "for i in gauss3:\n",
    "    autre_set.addExample(i,1)\n",
    "\n",
    "for i in gauss4:\n",
    "    autre_set.addExample(i,-1)\n",
    "\n",
    "print(\"Taille de la base générée :\", autre_set.size(), \"exemples\")\n",
    "adautre=ArbreDecision(0.0)          \n",
    "adautre.train(autre_set)            \n",
    "plot_frontiere(autre_set,adautre,20)\n",
    "plot2DSet(autre_set) "
   ]
  },
  {
   "cell_type": "code",
   "execution_count": 118,
   "metadata": {},
   "outputs": [
    {
     "data": {
      "image/svg+xml": [
       "<?xml version=\"1.0\" encoding=\"UTF-8\" standalone=\"no\"?>\n",
       "<!DOCTYPE svg PUBLIC \"-//W3C//DTD SVG 1.1//EN\"\n",
       " \"http://www.w3.org/Graphics/SVG/1.1/DTD/svg11.dtd\">\n",
       "<!-- Generated by graphviz version 2.38.0 (20140413.2041)\n",
       " -->\n",
       "<!-- Title: %3 Pages: 1 -->\n",
       "<svg width=\"902pt\" height=\"914pt\"\n",
       " viewBox=\"0.00 0.00 902.00 914.00\" xmlns=\"http://www.w3.org/2000/svg\" xmlns:xlink=\"http://www.w3.org/1999/xlink\">\n",
       "<g id=\"graph0\" class=\"graph\" transform=\"scale(1 1) rotate(0) translate(4 910)\">\n",
       "<title>%3</title>\n",
       "<polygon fill=\"white\" stroke=\"none\" points=\"-4,4 -4,-910 898,-910 898,4 -4,4\"/>\n",
       "<!-- A -->\n",
       "<g id=\"node1\" class=\"node\"><title>A</title>\n",
       "<ellipse fill=\"none\" stroke=\"black\" cx=\"421\" cy=\"-888\" rx=\"27\" ry=\"18\"/>\n",
       "<text text-anchor=\"middle\" x=\"421\" y=\"-884.3\" font-family=\"Times,serif\" font-size=\"14.00\">1</text>\n",
       "</g>\n",
       "<!-- Ag -->\n",
       "<g id=\"node2\" class=\"node\"><title>Ag</title>\n",
       "<ellipse fill=\"none\" stroke=\"black\" cx=\"343\" cy=\"-801\" rx=\"27\" ry=\"18\"/>\n",
       "<text text-anchor=\"middle\" x=\"343\" y=\"-797.3\" font-family=\"Times,serif\" font-size=\"14.00\">0</text>\n",
       "</g>\n",
       "<!-- A&#45;&gt;Ag -->\n",
       "<g id=\"edge43\" class=\"edge\"><title>A&#45;&gt;Ag</title>\n",
       "<path fill=\"none\" stroke=\"black\" d=\"M397.492,-878.702C384.489,-873.02 368.989,-864.27 359,-852 353.659,-845.44 350.088,-837.065 347.705,-829.052\"/>\n",
       "<polygon fill=\"black\" stroke=\"black\" points=\"351.082,-828.126 345.279,-819.262 344.287,-829.81 351.082,-828.126\"/>\n",
       "<text text-anchor=\"middle\" x=\"413.5\" y=\"-840.8\" font-family=\"Times,serif\" font-size=\"14.00\">&lt;=0.349061943617</text>\n",
       "</g>\n",
       "<!-- Ad -->\n",
       "<g id=\"node41\" class=\"node\"><title>Ad</title>\n",
       "<ellipse fill=\"none\" stroke=\"black\" cx=\"509\" cy=\"-801\" rx=\"27\" ry=\"18\"/>\n",
       "<text text-anchor=\"middle\" x=\"509\" y=\"-797.3\" font-family=\"Times,serif\" font-size=\"14.00\">0</text>\n",
       "</g>\n",
       "<!-- A&#45;&gt;Ad -->\n",
       "<g id=\"edge44\" class=\"edge\"><title>A&#45;&gt;Ad</title>\n",
       "<path fill=\"none\" stroke=\"black\" d=\"M439.677,-874.679C448.651,-868.372 459.315,-860.288 468,-852 476.37,-844.012 484.646,-834.352 491.547,-825.661\"/>\n",
       "<polygon fill=\"black\" stroke=\"black\" points=\"494.347,-827.762 497.7,-817.711 488.811,-823.477 494.347,-827.762\"/>\n",
       "<text text-anchor=\"middle\" x=\"531\" y=\"-840.8\" font-family=\"Times,serif\" font-size=\"14.00\">&gt;0.349061943617</text>\n",
       "</g>\n",
       "<!-- Agg -->\n",
       "<g id=\"node3\" class=\"node\"><title>Agg</title>\n",
       "<ellipse fill=\"none\" stroke=\"black\" cx=\"163\" cy=\"-714\" rx=\"27\" ry=\"18\"/>\n",
       "<text text-anchor=\"middle\" x=\"163\" y=\"-710.3\" font-family=\"Times,serif\" font-size=\"14.00\">1</text>\n",
       "</g>\n",
       "<!-- Ag&#45;&gt;Agg -->\n",
       "<g id=\"edge37\" class=\"edge\"><title>Ag&#45;&gt;Agg</title>\n",
       "<path fill=\"none\" stroke=\"black\" d=\"M317.282,-795.252C292.832,-790.07 255.514,-780.394 226,-765 211.455,-757.413 196.991,-746.26 185.598,-736.411\"/>\n",
       "<polygon fill=\"black\" stroke=\"black\" points=\"187.682,-733.579 177.887,-729.539 183.024,-738.805 187.682,-733.579\"/>\n",
       "<text text-anchor=\"middle\" x=\"282.5\" y=\"-753.8\" font-family=\"Times,serif\" font-size=\"14.00\">&lt;=&#45;0.427417040609</text>\n",
       "</g>\n",
       "<!-- Agd -->\n",
       "<g id=\"node12\" class=\"node\"><title>Agd</title>\n",
       "<ellipse fill=\"none\" stroke=\"black\" cx=\"343\" cy=\"-714\" rx=\"27\" ry=\"18\"/>\n",
       "<text text-anchor=\"middle\" x=\"343\" y=\"-710.3\" font-family=\"Times,serif\" font-size=\"14.00\">1</text>\n",
       "</g>\n",
       "<!-- Ag&#45;&gt;Agd -->\n",
       "<g id=\"edge38\" class=\"edge\"><title>Ag&#45;&gt;Agd</title>\n",
       "<path fill=\"none\" stroke=\"black\" d=\"M343,-782.799C343,-771.163 343,-755.548 343,-742.237\"/>\n",
       "<polygon fill=\"black\" stroke=\"black\" points=\"346.5,-742.175 343,-732.175 339.5,-742.175 346.5,-742.175\"/>\n",
       "<text text-anchor=\"middle\" x=\"395.5\" y=\"-753.8\" font-family=\"Times,serif\" font-size=\"14.00\">&gt;&#45;0.427417040609</text>\n",
       "</g>\n",
       "<!-- Aggg -->\n",
       "<g id=\"node4\" class=\"node\"><title>Aggg</title>\n",
       "<polygon fill=\"none\" stroke=\"black\" points=\"54,-645 0,-645 0,-609 54,-609 54,-645\"/>\n",
       "<text text-anchor=\"middle\" x=\"27\" y=\"-623.3\" font-family=\"Times,serif\" font-size=\"14.00\">&#45;1</text>\n",
       "</g>\n",
       "<!-- Agg&#45;&gt;Aggg -->\n",
       "<g id=\"edge7\" class=\"edge\"><title>Agg&#45;&gt;Aggg</title>\n",
       "<path fill=\"none\" stroke=\"black\" d=\"M135.969,-711.621C109.84,-708.899 70.6852,-700.958 46,-678 39.522,-671.975 35.2342,-663.51 32.4036,-655.256\"/>\n",
       "<polygon fill=\"black\" stroke=\"black\" points=\"35.7232,-654.133 29.6243,-645.47 28.9895,-656.045 35.7232,-654.133\"/>\n",
       "<text text-anchor=\"middle\" x=\"102.5\" y=\"-666.8\" font-family=\"Times,serif\" font-size=\"14.00\">&lt;=&#45;0.691217683587</text>\n",
       "</g>\n",
       "<!-- Aggd -->\n",
       "<g id=\"node5\" class=\"node\"><title>Aggd</title>\n",
       "<ellipse fill=\"none\" stroke=\"black\" cx=\"163\" cy=\"-627\" rx=\"27\" ry=\"18\"/>\n",
       "<text text-anchor=\"middle\" x=\"163\" y=\"-623.3\" font-family=\"Times,serif\" font-size=\"14.00\">1</text>\n",
       "</g>\n",
       "<!-- Agg&#45;&gt;Aggd -->\n",
       "<g id=\"edge8\" class=\"edge\"><title>Agg&#45;&gt;Aggd</title>\n",
       "<path fill=\"none\" stroke=\"black\" d=\"M163,-695.799C163,-684.163 163,-668.548 163,-655.237\"/>\n",
       "<polygon fill=\"black\" stroke=\"black\" points=\"166.5,-655.175 163,-645.175 159.5,-655.175 166.5,-655.175\"/>\n",
       "<text text-anchor=\"middle\" x=\"215.5\" y=\"-666.8\" font-family=\"Times,serif\" font-size=\"14.00\">&gt;&#45;0.691217683587</text>\n",
       "</g>\n",
       "<!-- Aggdg -->\n",
       "<g id=\"node6\" class=\"node\"><title>Aggdg</title>\n",
       "<polygon fill=\"none\" stroke=\"black\" points=\"54,-558 0,-558 0,-522 54,-522 54,-558\"/>\n",
       "<text text-anchor=\"middle\" x=\"27\" y=\"-536.3\" font-family=\"Times,serif\" font-size=\"14.00\">1</text>\n",
       "</g>\n",
       "<!-- Aggd&#45;&gt;Aggdg -->\n",
       "<g id=\"edge5\" class=\"edge\"><title>Aggd&#45;&gt;Aggdg</title>\n",
       "<path fill=\"none\" stroke=\"black\" d=\"M135.969,-624.621C109.84,-621.899 70.6852,-613.958 46,-591 39.522,-584.975 35.2342,-576.51 32.4036,-568.256\"/>\n",
       "<polygon fill=\"black\" stroke=\"black\" points=\"35.7232,-567.133 29.6243,-558.47 28.9895,-569.045 35.7232,-567.133\"/>\n",
       "<text text-anchor=\"middle\" x=\"102.5\" y=\"-579.8\" font-family=\"Times,serif\" font-size=\"14.00\">&lt;=&#45;0.650685373805</text>\n",
       "</g>\n",
       "<!-- Aggdd -->\n",
       "<g id=\"node7\" class=\"node\"><title>Aggdd</title>\n",
       "<ellipse fill=\"none\" stroke=\"black\" cx=\"163\" cy=\"-540\" rx=\"27\" ry=\"18\"/>\n",
       "<text text-anchor=\"middle\" x=\"163\" y=\"-536.3\" font-family=\"Times,serif\" font-size=\"14.00\">1</text>\n",
       "</g>\n",
       "<!-- Aggd&#45;&gt;Aggdd -->\n",
       "<g id=\"edge6\" class=\"edge\"><title>Aggd&#45;&gt;Aggdd</title>\n",
       "<path fill=\"none\" stroke=\"black\" d=\"M163,-608.799C163,-597.163 163,-581.548 163,-568.237\"/>\n",
       "<polygon fill=\"black\" stroke=\"black\" points=\"166.5,-568.175 163,-558.175 159.5,-568.175 166.5,-568.175\"/>\n",
       "<text text-anchor=\"middle\" x=\"215.5\" y=\"-579.8\" font-family=\"Times,serif\" font-size=\"14.00\">&gt;&#45;0.650685373805</text>\n",
       "</g>\n",
       "<!-- Aggddg -->\n",
       "<g id=\"node8\" class=\"node\"><title>Aggddg</title>\n",
       "<polygon fill=\"none\" stroke=\"black\" points=\"58,-471 4,-471 4,-435 58,-435 58,-471\"/>\n",
       "<text text-anchor=\"middle\" x=\"31\" y=\"-449.3\" font-family=\"Times,serif\" font-size=\"14.00\">&#45;1</text>\n",
       "</g>\n",
       "<!-- Aggdd&#45;&gt;Aggddg -->\n",
       "<g id=\"edge3\" class=\"edge\"><title>Aggdd&#45;&gt;Aggddg</title>\n",
       "<path fill=\"none\" stroke=\"black\" d=\"M135.918,-537.249C110.68,-534.236 73.5043,-526.073 50,-504 43.5513,-497.944 39.271,-489.471 36.4382,-481.219\"/>\n",
       "<polygon fill=\"black\" stroke=\"black\" points=\"39.7582,-480.098 33.6523,-471.44 33.0261,-482.016 39.7582,-480.098\"/>\n",
       "<text text-anchor=\"middle\" x=\"104.5\" y=\"-492.8\" font-family=\"Times,serif\" font-size=\"14.00\">&lt;=0.246596464149</text>\n",
       "</g>\n",
       "<!-- Aggddd -->\n",
       "<g id=\"node9\" class=\"node\"><title>Aggddd</title>\n",
       "<ellipse fill=\"none\" stroke=\"black\" cx=\"163\" cy=\"-453\" rx=\"27\" ry=\"18\"/>\n",
       "<text text-anchor=\"middle\" x=\"163\" y=\"-449.3\" font-family=\"Times,serif\" font-size=\"14.00\">1</text>\n",
       "</g>\n",
       "<!-- Aggdd&#45;&gt;Aggddd -->\n",
       "<g id=\"edge4\" class=\"edge\"><title>Aggdd&#45;&gt;Aggddd</title>\n",
       "<path fill=\"none\" stroke=\"black\" d=\"M163,-521.799C163,-510.163 163,-494.548 163,-481.237\"/>\n",
       "<polygon fill=\"black\" stroke=\"black\" points=\"166.5,-481.175 163,-471.175 159.5,-481.175 166.5,-481.175\"/>\n",
       "<text text-anchor=\"middle\" x=\"213\" y=\"-492.8\" font-family=\"Times,serif\" font-size=\"14.00\">&gt;0.246596464149</text>\n",
       "</g>\n",
       "<!-- Aggdddg -->\n",
       "<g id=\"node10\" class=\"node\"><title>Aggdddg</title>\n",
       "<polygon fill=\"none\" stroke=\"black\" points=\"68,-384 14,-384 14,-348 68,-348 68,-384\"/>\n",
       "<text text-anchor=\"middle\" x=\"41\" y=\"-362.3\" font-family=\"Times,serif\" font-size=\"14.00\">1</text>\n",
       "</g>\n",
       "<!-- Aggddd&#45;&gt;Aggdddg -->\n",
       "<g id=\"edge1\" class=\"edge\"><title>Aggddd&#45;&gt;Aggdddg</title>\n",
       "<path fill=\"none\" stroke=\"black\" d=\"M136.154,-449.466C112.906,-445.912 79.8248,-437.394 59,-417 52.7205,-410.85 48.6219,-402.354 45.9507,-394.108\"/>\n",
       "<polygon fill=\"black\" stroke=\"black\" points=\"49.3071,-393.111 43.3496,-384.35 42.5433,-394.914 49.3071,-393.111\"/>\n",
       "<text text-anchor=\"middle\" x=\"110\" y=\"-405.8\" font-family=\"Times,serif\" font-size=\"14.00\">&lt;=0.27274520609</text>\n",
       "</g>\n",
       "<!-- Aggdddd -->\n",
       "<g id=\"node11\" class=\"node\"><title>Aggdddd</title>\n",
       "<polygon fill=\"none\" stroke=\"black\" points=\"193,-384 139,-384 139,-348 193,-348 193,-384\"/>\n",
       "<text text-anchor=\"middle\" x=\"166\" y=\"-362.3\" font-family=\"Times,serif\" font-size=\"14.00\">&#45;1</text>\n",
       "</g>\n",
       "<!-- Aggddd&#45;&gt;Aggdddd -->\n",
       "<g id=\"edge2\" class=\"edge\"><title>Aggddd&#45;&gt;Aggdddd</title>\n",
       "<path fill=\"none\" stroke=\"black\" d=\"M163.607,-434.799C164.018,-423.163 164.569,-407.548 165.039,-394.237\"/>\n",
       "<polygon fill=\"black\" stroke=\"black\" points=\"168.539,-394.293 165.394,-384.175 161.543,-394.046 168.539,-394.293\"/>\n",
       "<text text-anchor=\"middle\" x=\"212\" y=\"-405.8\" font-family=\"Times,serif\" font-size=\"14.00\">&gt;0.27274520609</text>\n",
       "</g>\n",
       "<!-- Agdg -->\n",
       "<g id=\"node13\" class=\"node\"><title>Agdg</title>\n",
       "<polygon fill=\"none\" stroke=\"black\" points=\"318,-645 264,-645 264,-609 318,-609 318,-645\"/>\n",
       "<text text-anchor=\"middle\" x=\"291\" y=\"-623.3\" font-family=\"Times,serif\" font-size=\"14.00\">&#45;1</text>\n",
       "</g>\n",
       "<!-- Agd&#45;&gt;Agdg -->\n",
       "<g id=\"edge35\" class=\"edge\"><title>Agd&#45;&gt;Agdg</title>\n",
       "<path fill=\"none\" stroke=\"black\" d=\"M320.557,-703.607C309.9,-697.881 298.169,-689.436 292,-678 288.316,-671.17 287.083,-663.015 287.037,-655.293\"/>\n",
       "<polygon fill=\"black\" stroke=\"black\" points=\"290.538,-655.372 287.594,-645.195 283.549,-654.987 290.538,-655.372\"/>\n",
       "<text text-anchor=\"middle\" x=\"345\" y=\"-666.8\" font-family=\"Times,serif\" font-size=\"14.00\">&lt;=&#45;1.05576089335</text>\n",
       "</g>\n",
       "<!-- Agdd -->\n",
       "<g id=\"node14\" class=\"node\"><title>Agdd</title>\n",
       "<ellipse fill=\"none\" stroke=\"black\" cx=\"420\" cy=\"-627\" rx=\"27\" ry=\"18\"/>\n",
       "<text text-anchor=\"middle\" x=\"420\" y=\"-623.3\" font-family=\"Times,serif\" font-size=\"14.00\">0</text>\n",
       "</g>\n",
       "<!-- Agd&#45;&gt;Agdd -->\n",
       "<g id=\"edge36\" class=\"edge\"><title>Agd&#45;&gt;Agdd</title>\n",
       "<path fill=\"none\" stroke=\"black\" d=\"M364.769,-703.029C375.882,-697.056 388.933,-688.564 398,-678 403.796,-671.247 408.299,-662.725 411.679,-654.64\"/>\n",
       "<polygon fill=\"black\" stroke=\"black\" points=\"415.006,-655.734 415.254,-645.142 408.455,-653.268 415.006,-655.734\"/>\n",
       "<text text-anchor=\"middle\" x=\"456\" y=\"-666.8\" font-family=\"Times,serif\" font-size=\"14.00\">&gt;&#45;1.05576089335</text>\n",
       "</g>\n",
       "<!-- Agddg -->\n",
       "<g id=\"node15\" class=\"node\"><title>Agddg</title>\n",
       "<ellipse fill=\"none\" stroke=\"black\" cx=\"418\" cy=\"-540\" rx=\"27\" ry=\"18\"/>\n",
       "<text text-anchor=\"middle\" x=\"418\" y=\"-536.3\" font-family=\"Times,serif\" font-size=\"14.00\">0</text>\n",
       "</g>\n",
       "<!-- Agdd&#45;&gt;Agddg -->\n",
       "<g id=\"edge33\" class=\"edge\"><title>Agdd&#45;&gt;Agddg</title>\n",
       "<path fill=\"none\" stroke=\"black\" d=\"M419.482,-608.911C419.318,-603.214 419.142,-596.834 419,-591 418.822,-583.652 418.652,-575.696 418.504,-568.338\"/>\n",
       "<polygon fill=\"black\" stroke=\"black\" points=\"422,-568.055 418.306,-558.125 415.001,-568.191 422,-568.055\"/>\n",
       "<text text-anchor=\"middle\" x=\"470\" y=\"-579.8\" font-family=\"Times,serif\" font-size=\"14.00\">&lt;=1.01587744406</text>\n",
       "</g>\n",
       "<!-- Agddd -->\n",
       "<g id=\"node32\" class=\"node\"><title>Agddd</title>\n",
       "<ellipse fill=\"none\" stroke=\"black\" cx=\"543\" cy=\"-540\" rx=\"27\" ry=\"18\"/>\n",
       "<text text-anchor=\"middle\" x=\"543\" y=\"-536.3\" font-family=\"Times,serif\" font-size=\"14.00\">0</text>\n",
       "</g>\n",
       "<!-- Agdd&#45;&gt;Agddd -->\n",
       "<g id=\"edge34\" class=\"edge\"><title>Agdd&#45;&gt;Agddd</title>\n",
       "<path fill=\"none\" stroke=\"black\" d=\"M446.639,-622.753C468.962,-618.76 500.4,-609.997 521,-591 527.815,-584.715 532.633,-575.94 535.986,-567.493\"/>\n",
       "<polygon fill=\"black\" stroke=\"black\" points=\"539.344,-568.49 539.28,-557.896 532.723,-566.218 539.344,-568.49\"/>\n",
       "<text text-anchor=\"middle\" x=\"578\" y=\"-579.8\" font-family=\"Times,serif\" font-size=\"14.00\">&gt;1.01587744406</text>\n",
       "</g>\n",
       "<!-- Agddgg -->\n",
       "<g id=\"node16\" class=\"node\"><title>Agddgg</title>\n",
       "<ellipse fill=\"none\" stroke=\"black\" cx=\"287\" cy=\"-453\" rx=\"27\" ry=\"18\"/>\n",
       "<text text-anchor=\"middle\" x=\"287\" y=\"-449.3\" font-family=\"Times,serif\" font-size=\"14.00\">1</text>\n",
       "</g>\n",
       "<!-- Agddg&#45;&gt;Agddgg -->\n",
       "<g id=\"edge23\" class=\"edge\"><title>Agddg&#45;&gt;Agddgg</title>\n",
       "<path fill=\"none\" stroke=\"black\" d=\"M390.83,-537.341C365.529,-534.395 328.309,-526.279 305,-504 298.551,-497.837 294.406,-489.196 291.745,-480.83\"/>\n",
       "<polygon fill=\"black\" stroke=\"black\" points=\"295.079,-479.744 289.178,-470.945 288.303,-481.503 295.079,-479.744\"/>\n",
       "<text text-anchor=\"middle\" x=\"359.5\" y=\"-492.8\" font-family=\"Times,serif\" font-size=\"14.00\">&lt;=0.865246777545</text>\n",
       "</g>\n",
       "<!-- Agddgd -->\n",
       "<g id=\"node31\" class=\"node\"><title>Agddgd</title>\n",
       "<polygon fill=\"none\" stroke=\"black\" points=\"446,-471 392,-471 392,-435 446,-435 446,-471\"/>\n",
       "<text text-anchor=\"middle\" x=\"419\" y=\"-449.3\" font-family=\"Times,serif\" font-size=\"14.00\">&#45;1</text>\n",
       "</g>\n",
       "<!-- Agddg&#45;&gt;Agddgd -->\n",
       "<g id=\"edge24\" class=\"edge\"><title>Agddg&#45;&gt;Agddgd</title>\n",
       "<path fill=\"none\" stroke=\"black\" d=\"M418.202,-521.799C418.339,-510.163 418.523,-494.548 418.68,-481.237\"/>\n",
       "<polygon fill=\"black\" stroke=\"black\" points=\"422.18,-481.216 418.798,-471.175 415.18,-481.134 422.18,-481.216\"/>\n",
       "<text text-anchor=\"middle\" x=\"468\" y=\"-492.8\" font-family=\"Times,serif\" font-size=\"14.00\">&gt;0.865246777545</text>\n",
       "</g>\n",
       "<!-- Agddggg -->\n",
       "<g id=\"node17\" class=\"node\"><title>Agddggg</title>\n",
       "<ellipse fill=\"none\" stroke=\"black\" cx=\"285\" cy=\"-366\" rx=\"27\" ry=\"18\"/>\n",
       "<text text-anchor=\"middle\" x=\"285\" y=\"-362.3\" font-family=\"Times,serif\" font-size=\"14.00\">1</text>\n",
       "</g>\n",
       "<!-- Agddgg&#45;&gt;Agddggg -->\n",
       "<g id=\"edge21\" class=\"edge\"><title>Agddgg&#45;&gt;Agddggg</title>\n",
       "<path fill=\"none\" stroke=\"black\" d=\"M286.482,-434.911C286.318,-429.214 286.142,-422.834 286,-417 285.822,-409.652 285.652,-401.696 285.504,-394.338\"/>\n",
       "<polygon fill=\"black\" stroke=\"black\" points=\"289,-394.055 285.306,-384.125 282.001,-394.191 289,-394.055\"/>\n",
       "<text text-anchor=\"middle\" x=\"340.5\" y=\"-405.8\" font-family=\"Times,serif\" font-size=\"14.00\">&lt;=0.183408011608</text>\n",
       "</g>\n",
       "<!-- Agddggd -->\n",
       "<g id=\"node30\" class=\"node\"><title>Agddggd</title>\n",
       "<polygon fill=\"none\" stroke=\"black\" points=\"444,-384 390,-384 390,-348 444,-348 444,-384\"/>\n",
       "<text text-anchor=\"middle\" x=\"417\" y=\"-362.3\" font-family=\"Times,serif\" font-size=\"14.00\">&#45;1</text>\n",
       "</g>\n",
       "<!-- Agddgg&#45;&gt;Agddggd -->\n",
       "<g id=\"edge22\" class=\"edge\"><title>Agddgg&#45;&gt;Agddggd</title>\n",
       "<path fill=\"none\" stroke=\"black\" d=\"M313.583,-449.52C337.523,-445.993 372.333,-437.483 395,-417 401.777,-410.876 406.568,-402.283 409.909,-393.945\"/>\n",
       "<polygon fill=\"black\" stroke=\"black\" points=\"413.236,-395.033 413.197,-384.438 406.621,-392.745 413.236,-395.033\"/>\n",
       "<text text-anchor=\"middle\" x=\"455\" y=\"-405.8\" font-family=\"Times,serif\" font-size=\"14.00\">&gt;0.183408011608</text>\n",
       "</g>\n",
       "<!-- Agddgggg -->\n",
       "<g id=\"node18\" class=\"node\"><title>Agddgggg</title>\n",
       "<ellipse fill=\"none\" stroke=\"black\" cx=\"207\" cy=\"-279\" rx=\"27\" ry=\"18\"/>\n",
       "<text text-anchor=\"middle\" x=\"207\" y=\"-275.3\" font-family=\"Times,serif\" font-size=\"14.00\">0</text>\n",
       "</g>\n",
       "<!-- Agddggg&#45;&gt;Agddgggg -->\n",
       "<g id=\"edge19\" class=\"edge\"><title>Agddggg&#45;&gt;Agddgggg</title>\n",
       "<path fill=\"none\" stroke=\"black\" d=\"M258.62,-361.262C239.896,-357.082 216.032,-348.306 204,-330 199.5,-323.153 198.718,-314.573 199.528,-306.464\"/>\n",
       "<polygon fill=\"black\" stroke=\"black\" points=\"202.977,-307.061 201.245,-296.609 196.081,-305.86 202.977,-307.061\"/>\n",
       "<text text-anchor=\"middle\" x=\"257\" y=\"-318.8\" font-family=\"Times,serif\" font-size=\"14.00\">&lt;=&#45;0.55112689693</text>\n",
       "</g>\n",
       "<!-- Agddgggd -->\n",
       "<g id=\"node23\" class=\"node\"><title>Agddgggd</title>\n",
       "<ellipse fill=\"none\" stroke=\"black\" cx=\"336\" cy=\"-279\" rx=\"27\" ry=\"18\"/>\n",
       "<text text-anchor=\"middle\" x=\"336\" y=\"-275.3\" font-family=\"Times,serif\" font-size=\"14.00\">1</text>\n",
       "</g>\n",
       "<!-- Agddggg&#45;&gt;Agddgggd -->\n",
       "<g id=\"edge20\" class=\"edge\"><title>Agddggg&#45;&gt;Agddgggd</title>\n",
       "<path fill=\"none\" stroke=\"black\" d=\"M298.675,-350.363C303.878,-344.341 309.605,-337.117 314,-330 318.555,-322.624 322.662,-314.141 326.06,-306.282\"/>\n",
       "<polygon fill=\"black\" stroke=\"black\" points=\"329.397,-307.37 329.966,-296.791 322.923,-304.706 329.397,-307.37\"/>\n",
       "<text text-anchor=\"middle\" x=\"370\" y=\"-318.8\" font-family=\"Times,serif\" font-size=\"14.00\">&gt;&#45;0.55112689693</text>\n",
       "</g>\n",
       "<!-- Agddggggg -->\n",
       "<g id=\"node19\" class=\"node\"><title>Agddggggg</title>\n",
       "<polygon fill=\"none\" stroke=\"black\" points=\"104,-210 50,-210 50,-174 104,-174 104,-210\"/>\n",
       "<text text-anchor=\"middle\" x=\"77\" y=\"-188.3\" font-family=\"Times,serif\" font-size=\"14.00\">&#45;1</text>\n",
       "</g>\n",
       "<!-- Agddgggg&#45;&gt;Agddggggg -->\n",
       "<g id=\"edge11\" class=\"edge\"><title>Agddgggg&#45;&gt;Agddggggg</title>\n",
       "<path fill=\"none\" stroke=\"black\" d=\"M180.066,-276.273C154.986,-273.279 118.093,-265.128 95,-243 88.654,-236.919 84.5384,-228.44 81.872,-220.19\"/>\n",
       "<polygon fill=\"black\" stroke=\"black\" points=\"85.2275,-219.188 79.2859,-210.416 78.4604,-220.978 85.2275,-219.188\"/>\n",
       "<text text-anchor=\"middle\" x=\"149.5\" y=\"-231.8\" font-family=\"Times,serif\" font-size=\"14.00\">&lt;=0.300913997192</text>\n",
       "</g>\n",
       "<!-- Agddggggd -->\n",
       "<g id=\"node20\" class=\"node\"><title>Agddggggd</title>\n",
       "<ellipse fill=\"none\" stroke=\"black\" cx=\"209\" cy=\"-192\" rx=\"27\" ry=\"18\"/>\n",
       "<text text-anchor=\"middle\" x=\"209\" y=\"-188.3\" font-family=\"Times,serif\" font-size=\"14.00\">1</text>\n",
       "</g>\n",
       "<!-- Agddgggg&#45;&gt;Agddggggd -->\n",
       "<g id=\"edge12\" class=\"edge\"><title>Agddgggg&#45;&gt;Agddggggd</title>\n",
       "<path fill=\"none\" stroke=\"black\" d=\"M207.405,-260.799C207.679,-249.163 208.046,-233.548 208.359,-220.237\"/>\n",
       "<polygon fill=\"black\" stroke=\"black\" points=\"211.86,-220.255 208.596,-210.175 204.862,-220.09 211.86,-220.255\"/>\n",
       "<text text-anchor=\"middle\" x=\"259\" y=\"-231.8\" font-family=\"Times,serif\" font-size=\"14.00\">&gt;0.300913997192</text>\n",
       "</g>\n",
       "<!-- Agddggggdg -->\n",
       "<g id=\"node21\" class=\"node\"><title>Agddggggdg</title>\n",
       "<polygon fill=\"none\" stroke=\"black\" points=\"173,-123 119,-123 119,-87 173,-87 173,-123\"/>\n",
       "<text text-anchor=\"middle\" x=\"146\" y=\"-101.3\" font-family=\"Times,serif\" font-size=\"14.00\">1</text>\n",
       "</g>\n",
       "<!-- Agddggggd&#45;&gt;Agddggggdg -->\n",
       "<g id=\"edge9\" class=\"edge\"><title>Agddggggd&#45;&gt;Agddggggdg</title>\n",
       "<path fill=\"none\" stroke=\"black\" d=\"M184.715,-183.936C171.099,-178.605 155.24,-169.795 147,-156 143.021,-149.338 141.698,-141.234 141.662,-133.506\"/>\n",
       "<polygon fill=\"black\" stroke=\"black\" points=\"145.165,-133.567 142.282,-123.372 138.178,-133.14 145.165,-133.567\"/>\n",
       "<text text-anchor=\"middle\" x=\"203.5\" y=\"-144.8\" font-family=\"Times,serif\" font-size=\"14.00\">&lt;=&#45;0.642787431645</text>\n",
       "</g>\n",
       "<!-- Agddggggdd -->\n",
       "<g id=\"node22\" class=\"node\"><title>Agddggggdd</title>\n",
       "<polygon fill=\"none\" stroke=\"black\" points=\"309,-123 255,-123 255,-87 309,-87 309,-123\"/>\n",
       "<text text-anchor=\"middle\" x=\"282\" y=\"-101.3\" font-family=\"Times,serif\" font-size=\"14.00\">1</text>\n",
       "</g>\n",
       "<!-- Agddggggd&#45;&gt;Agddggggdd -->\n",
       "<g id=\"edge10\" class=\"edge\"><title>Agddggggd&#45;&gt;Agddggggdd</title>\n",
       "<path fill=\"none\" stroke=\"black\" d=\"M229.673,-180.413C239.863,-174.372 251.71,-166.005 260,-156 265.678,-149.147 270.15,-140.599 273.536,-132.52\"/>\n",
       "<polygon fill=\"black\" stroke=\"black\" points=\"276.857,-133.635 277.137,-123.044 270.313,-131.148 276.857,-133.635\"/>\n",
       "<text text-anchor=\"middle\" x=\"321.5\" y=\"-144.8\" font-family=\"Times,serif\" font-size=\"14.00\">&gt;&#45;0.642787431645</text>\n",
       "</g>\n",
       "<!-- Agddgggdg -->\n",
       "<g id=\"node24\" class=\"node\"><title>Agddgggdg</title>\n",
       "<polygon fill=\"none\" stroke=\"black\" points=\"360,-210 306,-210 306,-174 360,-174 360,-210\"/>\n",
       "<text text-anchor=\"middle\" x=\"333\" y=\"-188.3\" font-family=\"Times,serif\" font-size=\"14.00\">1</text>\n",
       "</g>\n",
       "<!-- Agddgggd&#45;&gt;Agddgggdg -->\n",
       "<g id=\"edge17\" class=\"edge\"><title>Agddgggd&#45;&gt;Agddgggdg</title>\n",
       "<path fill=\"none\" stroke=\"black\" d=\"M334.897,-260.916C334.563,-255.22 334.225,-248.839 334,-243 333.717,-235.655 333.512,-227.701 333.364,-220.342\"/>\n",
       "<polygon fill=\"black\" stroke=\"black\" points=\"336.859,-220.066 333.186,-210.129 329.861,-220.189 336.859,-220.066\"/>\n",
       "<text text-anchor=\"middle\" x=\"397.5\" y=\"-231.8\" font-family=\"Times,serif\" font-size=\"14.00\">&lt;=&#45;0.00294560364522</text>\n",
       "</g>\n",
       "<!-- Agddgggdd -->\n",
       "<g id=\"node25\" class=\"node\"><title>Agddgggdd</title>\n",
       "<ellipse fill=\"none\" stroke=\"black\" cx=\"483\" cy=\"-192\" rx=\"27\" ry=\"18\"/>\n",
       "<text text-anchor=\"middle\" x=\"483\" y=\"-188.3\" font-family=\"Times,serif\" font-size=\"14.00\">0</text>\n",
       "</g>\n",
       "<!-- Agddgggd&#45;&gt;Agddgggdd -->\n",
       "<g id=\"edge18\" class=\"edge\"><title>Agddgggd&#45;&gt;Agddgggdd</title>\n",
       "<path fill=\"none\" stroke=\"black\" d=\"M363.03,-276.986C390.693,-274.586 433.424,-266.926 461,-243 468.002,-236.925 472.864,-228.199 476.2,-219.733\"/>\n",
       "<polygon fill=\"black\" stroke=\"black\" points=\"479.574,-220.682 479.452,-210.088 472.941,-218.446 479.574,-220.682\"/>\n",
       "<text text-anchor=\"middle\" x=\"530\" y=\"-231.8\" font-family=\"Times,serif\" font-size=\"14.00\">&gt;&#45;0.00294560364522</text>\n",
       "</g>\n",
       "<!-- Agddgggddg -->\n",
       "<g id=\"node26\" class=\"node\"><title>Agddgggddg</title>\n",
       "<polygon fill=\"none\" stroke=\"black\" points=\"473,-123 419,-123 419,-87 473,-87 473,-123\"/>\n",
       "<text text-anchor=\"middle\" x=\"446\" y=\"-101.3\" font-family=\"Times,serif\" font-size=\"14.00\">1</text>\n",
       "</g>\n",
       "<!-- Agddgggdd&#45;&gt;Agddgggddg -->\n",
       "<g id=\"edge15\" class=\"edge\"><title>Agddgggdd&#45;&gt;Agddgggddg</title>\n",
       "<path fill=\"none\" stroke=\"black\" d=\"M464.955,-178.415C458.004,-172.494 450.82,-164.795 447,-156 443.991,-149.072 442.912,-141.078 442.798,-133.543\"/>\n",
       "<polygon fill=\"black\" stroke=\"black\" points=\"446.303,-133.479 443.18,-123.355 439.307,-133.217 446.303,-133.479\"/>\n",
       "<text text-anchor=\"middle\" x=\"503.5\" y=\"-144.8\" font-family=\"Times,serif\" font-size=\"14.00\">&lt;=&#45;0.100853502009</text>\n",
       "</g>\n",
       "<!-- Agddgggddd -->\n",
       "<g id=\"node27\" class=\"node\"><title>Agddgggddd</title>\n",
       "<ellipse fill=\"none\" stroke=\"black\" cx=\"582\" cy=\"-105\" rx=\"27\" ry=\"18\"/>\n",
       "<text text-anchor=\"middle\" x=\"582\" y=\"-101.3\" font-family=\"Times,serif\" font-size=\"14.00\">0</text>\n",
       "</g>\n",
       "<!-- Agddgggdd&#45;&gt;Agddgggddd -->\n",
       "<g id=\"edge16\" class=\"edge\"><title>Agddgggdd&#45;&gt;Agddgggddd</title>\n",
       "<path fill=\"none\" stroke=\"black\" d=\"M507.92,-184.735C524.495,-179.46 545.758,-170.416 560,-156 566.419,-149.502 571.123,-140.817 574.492,-132.509\"/>\n",
       "<polygon fill=\"black\" stroke=\"black\" points=\"577.791,-133.679 577.858,-123.084 571.199,-131.324 577.791,-133.679\"/>\n",
       "<text text-anchor=\"middle\" x=\"622.5\" y=\"-144.8\" font-family=\"Times,serif\" font-size=\"14.00\">&gt;&#45;0.100853502009</text>\n",
       "</g>\n",
       "<!-- Agddgggdddg -->\n",
       "<g id=\"node28\" class=\"node\"><title>Agddgggdddg</title>\n",
       "<polygon fill=\"none\" stroke=\"black\" points=\"543,-36 489,-36 489,-0 543,-0 543,-36\"/>\n",
       "<text text-anchor=\"middle\" x=\"516\" y=\"-14.3\" font-family=\"Times,serif\" font-size=\"14.00\">1</text>\n",
       "</g>\n",
       "<!-- Agddgggddd&#45;&gt;Agddgggdddg -->\n",
       "<g id=\"edge13\" class=\"edge\"><title>Agddgggddd&#45;&gt;Agddgggdddg</title>\n",
       "<path fill=\"none\" stroke=\"black\" d=\"M557.231,-97.4816C542.826,-92.2912 525.82,-83.4369 517,-69 512.954,-62.3782 511.612,-54.2858 511.578,-46.5566\"/>\n",
       "<polygon fill=\"black\" stroke=\"black\" points=\"515.081,-46.6132 512.212,-36.4143 508.095,-46.1765 515.081,-46.6132\"/>\n",
       "<text text-anchor=\"middle\" x=\"571.5\" y=\"-57.8\" font-family=\"Times,serif\" font-size=\"14.00\">&lt;=0.438943135777</text>\n",
       "</g>\n",
       "<!-- Agddgggdddd -->\n",
       "<g id=\"node29\" class=\"node\"><title>Agddgggdddd</title>\n",
       "<polygon fill=\"none\" stroke=\"black\" points=\"675,-36 621,-36 621,-0 675,-0 675,-36\"/>\n",
       "<text text-anchor=\"middle\" x=\"648\" y=\"-14.3\" font-family=\"Times,serif\" font-size=\"14.00\">1</text>\n",
       "</g>\n",
       "<!-- Agddgggddd&#45;&gt;Agddgggdddd -->\n",
       "<g id=\"edge14\" class=\"edge\"><title>Agddgggddd&#45;&gt;Agddgggdddd</title>\n",
       "<path fill=\"none\" stroke=\"black\" d=\"M600.883,-92.0924C609.406,-85.9949 619.088,-77.9679 626,-69 631.351,-62.0579 635.706,-53.6114 639.086,-45.6516\"/>\n",
       "<polygon fill=\"black\" stroke=\"black\" points=\"642.354,-46.9058 642.728,-36.3176 635.832,-44.3616 642.354,-46.9058\"/>\n",
       "<text text-anchor=\"middle\" x=\"684\" y=\"-57.8\" font-family=\"Times,serif\" font-size=\"14.00\">&gt;0.438943135777</text>\n",
       "</g>\n",
       "<!-- Agdddg -->\n",
       "<g id=\"node33\" class=\"node\"><title>Agdddg</title>\n",
       "<polygon fill=\"none\" stroke=\"black\" points=\"569,-471 515,-471 515,-435 569,-435 569,-471\"/>\n",
       "<text text-anchor=\"middle\" x=\"542\" y=\"-449.3\" font-family=\"Times,serif\" font-size=\"14.00\">1</text>\n",
       "</g>\n",
       "<!-- Agddd&#45;&gt;Agdddg -->\n",
       "<g id=\"edge31\" class=\"edge\"><title>Agddd&#45;&gt;Agdddg</title>\n",
       "<path fill=\"none\" stroke=\"black\" d=\"M542.798,-521.799C542.661,-510.163 542.477,-494.548 542.32,-481.237\"/>\n",
       "<polygon fill=\"black\" stroke=\"black\" points=\"545.82,-481.134 542.202,-471.175 538.82,-481.216 545.82,-481.134\"/>\n",
       "<text text-anchor=\"middle\" x=\"593\" y=\"-492.8\" font-family=\"Times,serif\" font-size=\"14.00\">&lt;=1.47253207804</text>\n",
       "</g>\n",
       "<!-- Agdddd -->\n",
       "<g id=\"node34\" class=\"node\"><title>Agdddd</title>\n",
       "<ellipse fill=\"none\" stroke=\"black\" cx=\"667\" cy=\"-453\" rx=\"27\" ry=\"18\"/>\n",
       "<text text-anchor=\"middle\" x=\"667\" y=\"-449.3\" font-family=\"Times,serif\" font-size=\"14.00\">0</text>\n",
       "</g>\n",
       "<!-- Agddd&#45;&gt;Agdddd -->\n",
       "<g id=\"edge32\" class=\"edge\"><title>Agddd&#45;&gt;Agdddd</title>\n",
       "<path fill=\"none\" stroke=\"black\" d=\"M569.452,-535.9C592.02,-531.988 624.051,-523.26 645,-504 651.824,-497.726 656.645,-488.953 659.997,-480.505\"/>\n",
       "<polygon fill=\"black\" stroke=\"black\" points=\"663.355,-481.5 663.289,-470.905 656.734,-479.229 663.355,-481.5\"/>\n",
       "<text text-anchor=\"middle\" x=\"702\" y=\"-492.8\" font-family=\"Times,serif\" font-size=\"14.00\">&gt;1.47253207804</text>\n",
       "</g>\n",
       "<!-- Agddddg -->\n",
       "<g id=\"node35\" class=\"node\"><title>Agddddg</title>\n",
       "<polygon fill=\"none\" stroke=\"black\" points=\"679,-384 625,-384 625,-348 679,-348 679,-384\"/>\n",
       "<text text-anchor=\"middle\" x=\"652\" y=\"-362.3\" font-family=\"Times,serif\" font-size=\"14.00\">1</text>\n",
       "</g>\n",
       "<!-- Agdddd&#45;&gt;Agddddg -->\n",
       "<g id=\"edge29\" class=\"edge\"><title>Agdddd&#45;&gt;Agddddg</title>\n",
       "<path fill=\"none\" stroke=\"black\" d=\"M659.042,-435.643C656.626,-429.888 654.276,-423.285 653,-417 651.538,-409.797 650.934,-401.89 650.779,-394.532\"/>\n",
       "<polygon fill=\"black\" stroke=\"black\" points=\"654.28,-394.308 650.828,-384.292 647.28,-394.275 654.28,-394.308\"/>\n",
       "<text text-anchor=\"middle\" x=\"704\" y=\"-405.8\" font-family=\"Times,serif\" font-size=\"14.00\">&lt;=1.61938606251</text>\n",
       "</g>\n",
       "<!-- Agddddd -->\n",
       "<g id=\"node36\" class=\"node\"><title>Agddddd</title>\n",
       "<ellipse fill=\"none\" stroke=\"black\" cx=\"777\" cy=\"-366\" rx=\"27\" ry=\"18\"/>\n",
       "<text text-anchor=\"middle\" x=\"777\" y=\"-362.3\" font-family=\"Times,serif\" font-size=\"14.00\">1</text>\n",
       "</g>\n",
       "<!-- Agdddd&#45;&gt;Agddddd -->\n",
       "<g id=\"edge30\" class=\"edge\"><title>Agdddd&#45;&gt;Agddddd</title>\n",
       "<path fill=\"none\" stroke=\"black\" d=\"M693.008,-447.203C712.246,-442.457 737.96,-433.438 755,-417 761.574,-410.658 766.315,-402.011 769.672,-393.691\"/>\n",
       "<polygon fill=\"black\" stroke=\"black\" points=\"772.983,-394.827 773.004,-384.232 766.381,-392.501 772.983,-394.827\"/>\n",
       "<text text-anchor=\"middle\" x=\"812\" y=\"-405.8\" font-family=\"Times,serif\" font-size=\"14.00\">&gt;1.61938606251</text>\n",
       "</g>\n",
       "<!-- Agdddddg -->\n",
       "<g id=\"node37\" class=\"node\"><title>Agdddddg</title>\n",
       "<ellipse fill=\"none\" stroke=\"black\" cx=\"663\" cy=\"-279\" rx=\"27\" ry=\"18\"/>\n",
       "<text text-anchor=\"middle\" x=\"663\" y=\"-275.3\" font-family=\"Times,serif\" font-size=\"14.00\">0</text>\n",
       "</g>\n",
       "<!-- Agddddd&#45;&gt;Agdddddg -->\n",
       "<g id=\"edge27\" class=\"edge\"><title>Agddddd&#45;&gt;Agdddddg</title>\n",
       "<path fill=\"none\" stroke=\"black\" d=\"M749.858,-364.067C724.826,-361.647 688.66,-353.897 669,-330 663.825,-323.709 661.622,-315.375 660.913,-307.317\"/>\n",
       "<polygon fill=\"black\" stroke=\"black\" points=\"664.408,-307.011 660.718,-297.079 657.409,-307.144 664.408,-307.011\"/>\n",
       "<text text-anchor=\"middle\" x=\"725.5\" y=\"-318.8\" font-family=\"Times,serif\" font-size=\"14.00\">&lt;=&#45;0.620593420751</text>\n",
       "</g>\n",
       "<!-- Agdddddd -->\n",
       "<g id=\"node40\" class=\"node\"><title>Agdddddd</title>\n",
       "<polygon fill=\"none\" stroke=\"black\" points=\"826,-297 772,-297 772,-261 826,-261 826,-297\"/>\n",
       "<text text-anchor=\"middle\" x=\"799\" y=\"-275.3\" font-family=\"Times,serif\" font-size=\"14.00\">1</text>\n",
       "</g>\n",
       "<!-- Agddddd&#45;&gt;Agdddddd -->\n",
       "<g id=\"edge28\" class=\"edge\"><title>Agddddd&#45;&gt;Agdddddd</title>\n",
       "<path fill=\"none\" stroke=\"black\" d=\"M781.346,-348.207C784.4,-336.409 788.549,-320.378 792.058,-306.822\"/>\n",
       "<polygon fill=\"black\" stroke=\"black\" points=\"795.47,-307.607 794.587,-297.049 788.693,-305.853 795.47,-307.607\"/>\n",
       "<text text-anchor=\"middle\" x=\"841.5\" y=\"-318.8\" font-family=\"Times,serif\" font-size=\"14.00\">&gt;&#45;0.620593420751</text>\n",
       "</g>\n",
       "<!-- Agdddddgg -->\n",
       "<g id=\"node38\" class=\"node\"><title>Agdddddgg</title>\n",
       "<polygon fill=\"none\" stroke=\"black\" points=\"665,-210 611,-210 611,-174 665,-174 665,-210\"/>\n",
       "<text text-anchor=\"middle\" x=\"638\" y=\"-188.3\" font-family=\"Times,serif\" font-size=\"14.00\">1</text>\n",
       "</g>\n",
       "<!-- Agdddddg&#45;&gt;Agdddddgg -->\n",
       "<g id=\"edge25\" class=\"edge\"><title>Agdddddg&#45;&gt;Agdddddgg</title>\n",
       "<path fill=\"none\" stroke=\"black\" d=\"M649.887,-263.01C645.573,-257.165 641.296,-250.156 639,-243 636.692,-235.808 635.837,-227.729 635.714,-220.198\"/>\n",
       "<polygon fill=\"black\" stroke=\"black\" points=\"639.216,-220.143 635.953,-210.064 632.218,-219.978 639.216,-220.143\"/>\n",
       "<text text-anchor=\"middle\" x=\"690\" y=\"-231.8\" font-family=\"Times,serif\" font-size=\"14.00\">&lt;=2.13062705542</text>\n",
       "</g>\n",
       "<!-- Agdddddgd -->\n",
       "<g id=\"node39\" class=\"node\"><title>Agdddddgd</title>\n",
       "<polygon fill=\"none\" stroke=\"black\" points=\"790,-210 736,-210 736,-174 790,-174 790,-210\"/>\n",
       "<text text-anchor=\"middle\" x=\"763\" y=\"-188.3\" font-family=\"Times,serif\" font-size=\"14.00\">1</text>\n",
       "</g>\n",
       "<!-- Agdddddg&#45;&gt;Agdddddgd -->\n",
       "<g id=\"edge26\" class=\"edge\"><title>Agdddddg&#45;&gt;Agdddddgd</title>\n",
       "<path fill=\"none\" stroke=\"black\" d=\"M687.877,-271.925C704.718,-266.702 726.465,-257.641 741,-243 747.435,-236.518 752.142,-227.836 755.51,-219.527\"/>\n",
       "<polygon fill=\"black\" stroke=\"black\" points=\"758.81,-220.693 758.873,-210.099 752.217,-218.342 758.81,-220.693\"/>\n",
       "<text text-anchor=\"middle\" x=\"798\" y=\"-231.8\" font-family=\"Times,serif\" font-size=\"14.00\">&gt;2.13062705542</text>\n",
       "</g>\n",
       "<!-- Adg -->\n",
       "<g id=\"node42\" class=\"node\"><title>Adg</title>\n",
       "<ellipse fill=\"none\" stroke=\"black\" cx=\"541\" cy=\"-714\" rx=\"27\" ry=\"18\"/>\n",
       "<text text-anchor=\"middle\" x=\"541\" y=\"-710.3\" font-family=\"Times,serif\" font-size=\"14.00\">1</text>\n",
       "</g>\n",
       "<!-- Ad&#45;&gt;Adg -->\n",
       "<g id=\"edge41\" class=\"edge\"><title>Ad&#45;&gt;Adg</title>\n",
       "<path fill=\"none\" stroke=\"black\" d=\"M506.467,-782.764C505.706,-772.851 505.956,-760.351 510,-750 511.908,-745.116 514.827,-740.469 518.125,-736.249\"/>\n",
       "<polygon fill=\"black\" stroke=\"black\" points=\"520.781,-738.529 524.768,-728.713 515.53,-733.9 520.781,-738.529\"/>\n",
       "<text text-anchor=\"middle\" x=\"566.5\" y=\"-753.8\" font-family=\"Times,serif\" font-size=\"14.00\">&lt;=&#45;0.724009063343</text>\n",
       "</g>\n",
       "<!-- Add -->\n",
       "<g id=\"node45\" class=\"node\"><title>Add</title>\n",
       "<polygon fill=\"none\" stroke=\"black\" points=\"672,-732 618,-732 618,-696 672,-696 672,-732\"/>\n",
       "<text text-anchor=\"middle\" x=\"645\" y=\"-710.3\" font-family=\"Times,serif\" font-size=\"14.00\">1</text>\n",
       "</g>\n",
       "<!-- Ad&#45;&gt;Add -->\n",
       "<g id=\"edge42\" class=\"edge\"><title>Ad&#45;&gt;Add</title>\n",
       "<path fill=\"none\" stroke=\"black\" d=\"M536.065,-798.039C561.34,-794.875 598.715,-786.606 623,-765 629.926,-758.838 634.77,-750.092 638.113,-741.633\"/>\n",
       "<polygon fill=\"black\" stroke=\"black\" points=\"641.48,-742.602 641.382,-732.008 634.852,-740.351 641.48,-742.602\"/>\n",
       "<text text-anchor=\"middle\" x=\"685.5\" y=\"-753.8\" font-family=\"Times,serif\" font-size=\"14.00\">&gt;&#45;0.724009063343</text>\n",
       "</g>\n",
       "<!-- Adgg -->\n",
       "<g id=\"node43\" class=\"node\"><title>Adgg</title>\n",
       "<polygon fill=\"none\" stroke=\"black\" points=\"568,-645 514,-645 514,-609 568,-609 568,-645\"/>\n",
       "<text text-anchor=\"middle\" x=\"541\" y=\"-623.3\" font-family=\"Times,serif\" font-size=\"14.00\">&#45;1</text>\n",
       "</g>\n",
       "<!-- Adg&#45;&gt;Adgg -->\n",
       "<g id=\"edge39\" class=\"edge\"><title>Adg&#45;&gt;Adgg</title>\n",
       "<path fill=\"none\" stroke=\"black\" d=\"M541,-695.799C541,-684.163 541,-668.548 541,-655.237\"/>\n",
       "<polygon fill=\"black\" stroke=\"black\" points=\"544.5,-655.175 541,-645.175 537.5,-655.175 544.5,-655.175\"/>\n",
       "<text text-anchor=\"middle\" x=\"592\" y=\"-666.8\" font-family=\"Times,serif\" font-size=\"14.00\">&lt;=1.40622482084</text>\n",
       "</g>\n",
       "<!-- Adgd -->\n",
       "<g id=\"node44\" class=\"node\"><title>Adgd</title>\n",
       "<polygon fill=\"none\" stroke=\"black\" points=\"693,-645 639,-645 639,-609 693,-609 693,-645\"/>\n",
       "<text text-anchor=\"middle\" x=\"666\" y=\"-623.3\" font-family=\"Times,serif\" font-size=\"14.00\">1</text>\n",
       "</g>\n",
       "<!-- Adg&#45;&gt;Adgd -->\n",
       "<g id=\"edge40\" class=\"edge\"><title>Adg&#45;&gt;Adgd</title>\n",
       "<path fill=\"none\" stroke=\"black\" d=\"M565.956,-706.991C592.567,-700.164 632.445,-688.592 644,-678 650.733,-671.828 655.514,-663.223 658.858,-654.889\"/>\n",
       "<polygon fill=\"black\" stroke=\"black\" points=\"662.182,-655.988 662.156,-645.393 655.569,-653.692 662.182,-655.988\"/>\n",
       "<text text-anchor=\"middle\" x=\"701\" y=\"-666.8\" font-family=\"Times,serif\" font-size=\"14.00\">&gt;1.40622482084</text>\n",
       "</g>\n",
       "</g>\n",
       "</svg>\n"
      ],
      "text/plain": [
       "<graphviz.dot.Digraph at 0x7f9b04e33890>"
      ]
     },
     "execution_count": 118,
     "metadata": {},
     "output_type": "execute_result"
    }
   ],
   "source": [
    "adautre.plot()"
   ]
  },
  {
   "cell_type": "markdown",
   "metadata": {},
   "source": [
    "### Améliorations (facultatif)"
   ]
  },
  {
   "cell_type": "markdown",
   "metadata": {},
   "source": [
    "Adapter votre algorithme afin de pouvoir construire des arbres de décision avec des attributs catégoriels."
   ]
  },
  {
   "cell_type": "markdown",
   "metadata": {},
   "source": [
    "## Etape 3: Expérimentation"
   ]
  },
  {
   "cell_type": "markdown",
   "metadata": {
    "collapsed": true
   },
   "source": [
    "Comparez le résultat obtenu avec ceux obtenus avec les 2 classifiers implémentés lors des TD-TME précédents. Ensuite, utilisez votre implémentation sur d'autres bases de données que vous avez déjà trouvées ou que vous pourrez trouver sur le web."
   ]
  },
  {
   "cell_type": "code",
   "execution_count": 120,
   "metadata": {},
   "outputs": [
    {
     "name": "stdout",
     "output_type": "stream",
     "text": [
      "(683, 10)\n"
     ]
    }
   ],
   "source": [
    "from sklearn.datasets import fetch_mldata\n",
    "\n",
    "def loadFile(name):\n",
    "    data = fetch_mldata(name, data_home='.')\n",
    "    print(data.data.shape)\n",
    "    unique=np.unique(data.target)\n",
    "    for i in range(len(data.target)):\n",
    "        if (data.target[i]==unique[0]):\n",
    "            data.target[i]=1\n",
    "        else:\n",
    "            data.target[i]=-1\n",
    "    return data\n",
    "            \n",
    "data = loadFile('breast-cancer_scale')\n",
    "#Les donnees sont dans data.data et data.target\n",
    "\n"
   ]
  },
  {
   "cell_type": "code",
   "execution_count": 121,
   "metadata": {
    "collapsed": true
   },
   "outputs": [],
   "source": [
    "def split(dataset, percent):\n",
    "    \n",
    "    dataset1 = LabeledSet(dataset.data.shape[1])\n",
    "    dataset2 = LabeledSet(dataset.data.shape[1])\n",
    "    \n",
    "    for i in range(int(dataset.data.shape[0]*percent)):\n",
    "        dataset1.addExample(dataset.data[i], dataset.target[i])\n",
    "        \n",
    "        \n",
    "    for i in range(int(dataset.data.shape[0]*percent), dataset.data.shape[0]):\n",
    "        dataset2.addExample(dataset.data[i], dataset.target[i])\n",
    "\n",
    "    return dataset1, dataset2\n",
    "\n",
    "\n",
    "    "
   ]
  },
  {
   "cell_type": "code",
   "execution_count": 126,
   "metadata": {},
   "outputs": [
    {
     "data": {
      "image/svg+xml": [
       "<?xml version=\"1.0\" encoding=\"UTF-8\" standalone=\"no\"?>\n",
       "<!DOCTYPE svg PUBLIC \"-//W3C//DTD SVG 1.1//EN\"\n",
       " \"http://www.w3.org/Graphics/SVG/1.1/DTD/svg11.dtd\">\n",
       "<!-- Generated by graphviz version 2.38.0 (20140413.2041)\n",
       " -->\n",
       "<!-- Title: %3 Pages: 1 -->\n",
       "<svg width=\"472pt\" height=\"566pt\"\n",
       " viewBox=\"0.00 0.00 472.00 566.00\" xmlns=\"http://www.w3.org/2000/svg\" xmlns:xlink=\"http://www.w3.org/1999/xlink\">\n",
       "<g id=\"graph0\" class=\"graph\" transform=\"scale(1 1) rotate(0) translate(4 562)\">\n",
       "<title>%3</title>\n",
       "<polygon fill=\"white\" stroke=\"none\" points=\"-4,4 -4,-562 468,-562 468,4 -4,4\"/>\n",
       "<!-- A -->\n",
       "<g id=\"node1\" class=\"node\"><title>A</title>\n",
       "<ellipse fill=\"none\" stroke=\"black\" cx=\"80\" cy=\"-540\" rx=\"27\" ry=\"18\"/>\n",
       "<text text-anchor=\"middle\" x=\"80\" y=\"-536.3\" font-family=\"Times,serif\" font-size=\"14.00\">2</text>\n",
       "</g>\n",
       "<!-- Ag -->\n",
       "<g id=\"node2\" class=\"node\"><title>Ag</title>\n",
       "<polygon fill=\"none\" stroke=\"black\" points=\"59,-471 5,-471 5,-435 59,-435 59,-471\"/>\n",
       "<text text-anchor=\"middle\" x=\"32\" y=\"-449.3\" font-family=\"Times,serif\" font-size=\"14.00\">1</text>\n",
       "</g>\n",
       "<!-- A&#45;&gt;Ag -->\n",
       "<g id=\"edge15\" class=\"edge\"><title>A&#45;&gt;Ag</title>\n",
       "<path fill=\"none\" stroke=\"black\" d=\"M58.5412,-528.759C48.9091,-522.944 38.4941,-514.674 33,-504 29.4487,-497.101 28.2552,-488.924 28.206,-481.204\"/>\n",
       "<polygon fill=\"black\" stroke=\"black\" points=\"31.7062,-481.29 28.7343,-471.121 24.7158,-480.924 31.7062,-481.29\"/>\n",
       "<text text-anchor=\"middle\" x=\"69.5\" y=\"-492.8\" font-family=\"Times,serif\" font-size=\"14.00\">&lt;=&#45;0.777778</text>\n",
       "</g>\n",
       "<!-- Ad -->\n",
       "<g id=\"node3\" class=\"node\"><title>Ad</title>\n",
       "<ellipse fill=\"none\" stroke=\"black\" cx=\"128\" cy=\"-453\" rx=\"27\" ry=\"18\"/>\n",
       "<text text-anchor=\"middle\" x=\"128\" y=\"-449.3\" font-family=\"Times,serif\" font-size=\"14.00\">3</text>\n",
       "</g>\n",
       "<!-- A&#45;&gt;Ad -->\n",
       "<g id=\"edge16\" class=\"edge\"><title>A&#45;&gt;Ad</title>\n",
       "<path fill=\"none\" stroke=\"black\" d=\"M92.428,-523.833C97.0096,-517.858 102.043,-510.805 106,-504 110.358,-496.506 114.408,-487.989 117.815,-480.135\"/>\n",
       "<polygon fill=\"black\" stroke=\"black\" points=\"121.145,-481.245 121.762,-470.669 114.684,-478.552 121.145,-481.245\"/>\n",
       "<text text-anchor=\"middle\" x=\"146\" y=\"-492.8\" font-family=\"Times,serif\" font-size=\"14.00\">&gt;&#45;0.777778</text>\n",
       "</g>\n",
       "<!-- Adg -->\n",
       "<g id=\"node4\" class=\"node\"><title>Adg</title>\n",
       "<polygon fill=\"none\" stroke=\"black\" points=\"107,-384 53,-384 53,-348 107,-348 107,-384\"/>\n",
       "<text text-anchor=\"middle\" x=\"80\" y=\"-362.3\" font-family=\"Times,serif\" font-size=\"14.00\">1</text>\n",
       "</g>\n",
       "<!-- Ad&#45;&gt;Adg -->\n",
       "<g id=\"edge13\" class=\"edge\"><title>Ad&#45;&gt;Adg</title>\n",
       "<path fill=\"none\" stroke=\"black\" d=\"M106.541,-441.759C96.9091,-435.944 86.4941,-427.674 81,-417 77.4487,-410.101 76.2552,-401.924 76.206,-394.204\"/>\n",
       "<polygon fill=\"black\" stroke=\"black\" points=\"79.7062,-394.29 76.7343,-384.121 72.7158,-393.924 79.7062,-394.29\"/>\n",
       "<text text-anchor=\"middle\" x=\"117.5\" y=\"-405.8\" font-family=\"Times,serif\" font-size=\"14.00\">&lt;=&#45;0.777778</text>\n",
       "</g>\n",
       "<!-- Add -->\n",
       "<g id=\"node5\" class=\"node\"><title>Add</title>\n",
       "<ellipse fill=\"none\" stroke=\"black\" cx=\"176\" cy=\"-366\" rx=\"27\" ry=\"18\"/>\n",
       "<text text-anchor=\"middle\" x=\"176\" y=\"-362.3\" font-family=\"Times,serif\" font-size=\"14.00\">8</text>\n",
       "</g>\n",
       "<!-- Ad&#45;&gt;Add -->\n",
       "<g id=\"edge14\" class=\"edge\"><title>Ad&#45;&gt;Add</title>\n",
       "<path fill=\"none\" stroke=\"black\" d=\"M140.428,-436.833C145.01,-430.858 150.043,-423.805 154,-417 158.358,-409.506 162.408,-400.989 165.815,-393.135\"/>\n",
       "<polygon fill=\"black\" stroke=\"black\" points=\"169.145,-394.245 169.762,-383.669 162.684,-391.552 169.145,-394.245\"/>\n",
       "<text text-anchor=\"middle\" x=\"194\" y=\"-405.8\" font-family=\"Times,serif\" font-size=\"14.00\">&gt;&#45;0.777778</text>\n",
       "</g>\n",
       "<!-- Addg -->\n",
       "<g id=\"node6\" class=\"node\"><title>Addg</title>\n",
       "<ellipse fill=\"none\" stroke=\"black\" cx=\"128\" cy=\"-279\" rx=\"27\" ry=\"18\"/>\n",
       "<text text-anchor=\"middle\" x=\"128\" y=\"-275.3\" font-family=\"Times,serif\" font-size=\"14.00\">1</text>\n",
       "</g>\n",
       "<!-- Add&#45;&gt;Addg -->\n",
       "<g id=\"edge11\" class=\"edge\"><title>Add&#45;&gt;Addg</title>\n",
       "<path fill=\"none\" stroke=\"black\" d=\"M154.541,-354.759C144.909,-348.944 134.494,-340.674 129,-330 125.449,-323.101 124.255,-314.924 124.206,-307.204\"/>\n",
       "<polygon fill=\"black\" stroke=\"black\" points=\"127.706,-307.29 124.734,-297.121 120.716,-306.924 127.706,-307.29\"/>\n",
       "<text text-anchor=\"middle\" x=\"165.5\" y=\"-318.8\" font-family=\"Times,serif\" font-size=\"14.00\">&lt;=&#45;0.777778</text>\n",
       "</g>\n",
       "<!-- Addd -->\n",
       "<g id=\"node9\" class=\"node\"><title>Addd</title>\n",
       "<ellipse fill=\"none\" stroke=\"black\" cx=\"224\" cy=\"-279\" rx=\"27\" ry=\"18\"/>\n",
       "<text text-anchor=\"middle\" x=\"224\" y=\"-275.3\" font-family=\"Times,serif\" font-size=\"14.00\">8</text>\n",
       "</g>\n",
       "<!-- Add&#45;&gt;Addd -->\n",
       "<g id=\"edge12\" class=\"edge\"><title>Add&#45;&gt;Addd</title>\n",
       "<path fill=\"none\" stroke=\"black\" d=\"M188.428,-349.833C193.01,-343.858 198.043,-336.805 202,-330 206.358,-322.506 210.408,-313.989 213.815,-306.135\"/>\n",
       "<polygon fill=\"black\" stroke=\"black\" points=\"217.145,-307.245 217.762,-296.669 210.684,-304.552 217.145,-307.245\"/>\n",
       "<text text-anchor=\"middle\" x=\"242\" y=\"-318.8\" font-family=\"Times,serif\" font-size=\"14.00\">&gt;&#45;0.777778</text>\n",
       "</g>\n",
       "<!-- Addgg -->\n",
       "<g id=\"node7\" class=\"node\"><title>Addgg</title>\n",
       "<polygon fill=\"none\" stroke=\"black\" points=\"54,-210 0,-210 0,-174 54,-174 54,-210\"/>\n",
       "<text text-anchor=\"middle\" x=\"27\" y=\"-188.3\" font-family=\"Times,serif\" font-size=\"14.00\">1</text>\n",
       "</g>\n",
       "<!-- Addg&#45;&gt;Addgg -->\n",
       "<g id=\"edge1\" class=\"edge\"><title>Addg&#45;&gt;Addgg</title>\n",
       "<path fill=\"none\" stroke=\"black\" d=\"M102.377,-272.686C84.4587,-267.759 61.1187,-258.74 46,-243 39.8718,-236.62 35.6734,-228.064 32.8172,-219.836\"/>\n",
       "<polygon fill=\"black\" stroke=\"black\" points=\"36.1413,-218.733 29.9595,-210.129 29.4263,-220.71 36.1413,-218.733\"/>\n",
       "<text text-anchor=\"middle\" x=\"85.5\" y=\"-231.8\" font-family=\"Times,serif\" font-size=\"14.00\">&lt;=&#45;0.3333335</text>\n",
       "</g>\n",
       "<!-- Addgd -->\n",
       "<g id=\"node8\" class=\"node\"><title>Addgd</title>\n",
       "<polygon fill=\"none\" stroke=\"black\" points=\"156,-210 102,-210 102,-174 156,-174 156,-210\"/>\n",
       "<text text-anchor=\"middle\" x=\"129\" y=\"-188.3\" font-family=\"Times,serif\" font-size=\"14.00\">&#45;1</text>\n",
       "</g>\n",
       "<!-- Addg&#45;&gt;Addgd -->\n",
       "<g id=\"edge2\" class=\"edge\"><title>Addg&#45;&gt;Addgd</title>\n",
       "<path fill=\"none\" stroke=\"black\" d=\"M128.202,-260.799C128.339,-249.163 128.523,-233.548 128.68,-220.237\"/>\n",
       "<polygon fill=\"black\" stroke=\"black\" points=\"132.18,-220.216 128.798,-210.175 125.18,-220.134 132.18,-220.216\"/>\n",
       "<text text-anchor=\"middle\" x=\"164.5\" y=\"-231.8\" font-family=\"Times,serif\" font-size=\"14.00\">&gt;&#45;0.3333335</text>\n",
       "</g>\n",
       "<!-- Adddg -->\n",
       "<g id=\"node10\" class=\"node\"><title>Adddg</title>\n",
       "<ellipse fill=\"none\" stroke=\"black\" cx=\"224\" cy=\"-192\" rx=\"27\" ry=\"18\"/>\n",
       "<text text-anchor=\"middle\" x=\"224\" y=\"-188.3\" font-family=\"Times,serif\" font-size=\"14.00\">3</text>\n",
       "</g>\n",
       "<!-- Addd&#45;&gt;Adddg -->\n",
       "<g id=\"edge9\" class=\"edge\"><title>Addd&#45;&gt;Adddg</title>\n",
       "<path fill=\"none\" stroke=\"black\" d=\"M224,-260.799C224,-249.163 224,-233.548 224,-220.237\"/>\n",
       "<polygon fill=\"black\" stroke=\"black\" points=\"227.5,-220.175 224,-210.175 220.5,-220.175 227.5,-220.175\"/>\n",
       "<text text-anchor=\"middle\" x=\"260.5\" y=\"-231.8\" font-family=\"Times,serif\" font-size=\"14.00\">&lt;=&#45;0.666667</text>\n",
       "</g>\n",
       "<!-- Adddd -->\n",
       "<g id=\"node15\" class=\"node\"><title>Adddd</title>\n",
       "<ellipse fill=\"none\" stroke=\"black\" cx=\"320\" cy=\"-192\" rx=\"27\" ry=\"18\"/>\n",
       "<text text-anchor=\"middle\" x=\"320\" y=\"-188.3\" font-family=\"Times,serif\" font-size=\"14.00\">0</text>\n",
       "</g>\n",
       "<!-- Addd&#45;&gt;Adddd -->\n",
       "<g id=\"edge10\" class=\"edge\"><title>Addd&#45;&gt;Adddd</title>\n",
       "<path fill=\"none\" stroke=\"black\" d=\"M248.651,-271.27C264.478,-265.864 284.521,-256.852 298,-243 304.37,-236.454 309.061,-227.756 312.434,-219.452\"/>\n",
       "<polygon fill=\"black\" stroke=\"black\" points=\"315.729,-220.633 315.811,-210.038 309.14,-218.269 315.729,-220.633\"/>\n",
       "<text text-anchor=\"middle\" x=\"340\" y=\"-231.8\" font-family=\"Times,serif\" font-size=\"14.00\">&gt;&#45;0.666667</text>\n",
       "</g>\n",
       "<!-- Adddgg -->\n",
       "<g id=\"node11\" class=\"node\"><title>Adddgg</title>\n",
       "<polygon fill=\"none\" stroke=\"black\" points=\"157,-123 103,-123 103,-87 157,-87 157,-123\"/>\n",
       "<text text-anchor=\"middle\" x=\"130\" y=\"-101.3\" font-family=\"Times,serif\" font-size=\"14.00\">1</text>\n",
       "</g>\n",
       "<!-- Adddg&#45;&gt;Adddgg -->\n",
       "<g id=\"edge5\" class=\"edge\"><title>Adddg&#45;&gt;Adddgg</title>\n",
       "<path fill=\"none\" stroke=\"black\" d=\"M198.673,-185.12C181.916,-180.017 160.603,-171.02 147,-156 141.201,-149.597 137.368,-141.135 134.839,-132.996\"/>\n",
       "<polygon fill=\"black\" stroke=\"black\" points=\"138.16,-131.855 132.284,-123.039 131.379,-133.595 138.16,-131.855\"/>\n",
       "<text text-anchor=\"middle\" x=\"183.5\" y=\"-144.8\" font-family=\"Times,serif\" font-size=\"14.00\">&lt;=&#45;0.333333</text>\n",
       "</g>\n",
       "<!-- Adddgd -->\n",
       "<g id=\"node12\" class=\"node\"><title>Adddgd</title>\n",
       "<ellipse fill=\"none\" stroke=\"black\" cx=\"226\" cy=\"-105\" rx=\"27\" ry=\"18\"/>\n",
       "<text text-anchor=\"middle\" x=\"226\" y=\"-101.3\" font-family=\"Times,serif\" font-size=\"14.00\">0</text>\n",
       "</g>\n",
       "<!-- Adddg&#45;&gt;Adddgd -->\n",
       "<g id=\"edge6\" class=\"edge\"><title>Adddg&#45;&gt;Adddgd</title>\n",
       "<path fill=\"none\" stroke=\"black\" d=\"M224.405,-173.799C224.679,-162.163 225.046,-146.548 225.359,-133.237\"/>\n",
       "<polygon fill=\"black\" stroke=\"black\" points=\"228.86,-133.255 225.596,-123.175 221.862,-133.09 228.86,-133.255\"/>\n",
       "<text text-anchor=\"middle\" x=\"257\" y=\"-144.8\" font-family=\"Times,serif\" font-size=\"14.00\">&gt;&#45;0.333333</text>\n",
       "</g>\n",
       "<!-- Adddgdg -->\n",
       "<g id=\"node13\" class=\"node\"><title>Adddgdg</title>\n",
       "<polygon fill=\"none\" stroke=\"black\" points=\"202,-36 148,-36 148,-0 202,-0 202,-36\"/>\n",
       "<text text-anchor=\"middle\" x=\"175\" y=\"-14.3\" font-family=\"Times,serif\" font-size=\"14.00\">1</text>\n",
       "</g>\n",
       "<!-- Adddgd&#45;&gt;Adddgdg -->\n",
       "<g id=\"edge3\" class=\"edge\"><title>Adddgd&#45;&gt;Adddgdg</title>\n",
       "<path fill=\"none\" stroke=\"black\" d=\"M203.986,-94.5034C193.535,-88.7501 182.034,-80.3123 176,-69 172.348,-62.1534 171.124,-53.9931 171.078,-46.2709\"/>\n",
       "<polygon fill=\"black\" stroke=\"black\" points=\"174.578,-46.3523 171.628,-36.1767 167.589,-45.9715 174.578,-46.3523\"/>\n",
       "<text text-anchor=\"middle\" x=\"215.5\" y=\"-57.8\" font-family=\"Times,serif\" font-size=\"14.00\">&lt;=&#45;0.8504505</text>\n",
       "</g>\n",
       "<!-- Adddgdd -->\n",
       "<g id=\"node14\" class=\"node\"><title>Adddgdd</title>\n",
       "<polygon fill=\"none\" stroke=\"black\" points=\"304,-36 250,-36 250,-0 304,-0 304,-36\"/>\n",
       "<text text-anchor=\"middle\" x=\"277\" y=\"-14.3\" font-family=\"Times,serif\" font-size=\"14.00\">&#45;1</text>\n",
       "</g>\n",
       "<!-- Adddgd&#45;&gt;Adddgdd -->\n",
       "<g id=\"edge4\" class=\"edge\"><title>Adddgd&#45;&gt;Adddgdd</title>\n",
       "<path fill=\"none\" stroke=\"black\" d=\"M239.675,-89.363C244.878,-83.3409 250.605,-76.117 255,-69 259.485,-61.7378 263.535,-53.402 266.902,-45.6451\"/>\n",
       "<polygon fill=\"black\" stroke=\"black\" points=\"270.199,-46.8324 270.784,-36.2537 263.73,-44.1588 270.199,-46.8324\"/>\n",
       "<text text-anchor=\"middle\" x=\"297.5\" y=\"-57.8\" font-family=\"Times,serif\" font-size=\"14.00\">&gt;&#45;0.8504505</text>\n",
       "</g>\n",
       "<!-- Addddg -->\n",
       "<g id=\"node16\" class=\"node\"><title>Addddg</title>\n",
       "<polygon fill=\"none\" stroke=\"black\" points=\"343,-123 289,-123 289,-87 343,-87 343,-123\"/>\n",
       "<text text-anchor=\"middle\" x=\"316\" y=\"-101.3\" font-family=\"Times,serif\" font-size=\"14.00\">1</text>\n",
       "</g>\n",
       "<!-- Adddd&#45;&gt;Addddg -->\n",
       "<g id=\"edge7\" class=\"edge\"><title>Adddd&#45;&gt;Addddg</title>\n",
       "<path fill=\"none\" stroke=\"black\" d=\"M318.311,-173.926C317.808,-168.23 317.309,-161.847 317,-156 316.612,-148.66 316.372,-140.707 316.223,-133.349\"/>\n",
       "<polygon fill=\"black\" stroke=\"black\" points=\"319.72,-133.079 316.065,-123.134 312.721,-133.187 319.72,-133.079\"/>\n",
       "<text text-anchor=\"middle\" x=\"353.5\" y=\"-144.8\" font-family=\"Times,serif\" font-size=\"14.00\">&lt;=&#45;0.857617</text>\n",
       "</g>\n",
       "<!-- Addddd -->\n",
       "<g id=\"node17\" class=\"node\"><title>Addddd</title>\n",
       "<polygon fill=\"none\" stroke=\"black\" points=\"439,-123 385,-123 385,-87 439,-87 439,-123\"/>\n",
       "<text text-anchor=\"middle\" x=\"412\" y=\"-101.3\" font-family=\"Times,serif\" font-size=\"14.00\">&#45;1</text>\n",
       "</g>\n",
       "<!-- Adddd&#45;&gt;Addddd -->\n",
       "<g id=\"edge8\" class=\"edge\"><title>Adddd&#45;&gt;Addddd</title>\n",
       "<path fill=\"none\" stroke=\"black\" d=\"M343.987,-183.714C358.855,-178.158 377.446,-169.187 390,-156 396.137,-149.554 400.73,-141.115 404.088,-133.011\"/>\n",
       "<polygon fill=\"black\" stroke=\"black\" points=\"407.438,-134.041 407.591,-123.447 400.865,-131.633 407.438,-134.041\"/>\n",
       "<text text-anchor=\"middle\" x=\"432\" y=\"-144.8\" font-family=\"Times,serif\" font-size=\"14.00\">&gt;&#45;0.857617</text>\n",
       "</g>\n",
       "</g>\n",
       "</svg>\n"
      ],
      "text/plain": [
       "<graphviz.dot.Digraph at 0x7f9ada908050>"
      ]
     },
     "execution_count": 126,
     "metadata": {},
     "output_type": "execute_result"
    }
   ],
   "source": [
    "dataset_train , dataset_test = split(data, 0.20)\n",
    "    \n",
    "ad=ArbreDecision(0.0)          \n",
    "ad.train(dataset_train)\n",
    "\n",
    "\n",
    "ad.plot()\n",
    "\n",
    "    "
   ]
  },
  {
   "cell_type": "code",
   "execution_count": 127,
   "metadata": {},
   "outputs": [
    {
     "data": {
      "image/png": "[encoded data removed]",
      "text/plain": [
       "<matplotlib.figure.Figure at 0x7f9b04f86a90>"
      ]
     },
     "metadata": {},
     "output_type": "display_data"
    }
   ],
   "source": [
    "plot2DSet(dataset_test) "
   ]
  },
  {
   "cell_type": "code",
   "execution_count": 128,
   "metadata": {},
   "outputs": [
    {
     "data": {
      "text/plain": [
       "0.8464351005484461"
      ]
     },
     "execution_count": 128,
     "metadata": {},
     "output_type": "execute_result"
    }
   ],
   "source": [
    "ad.accuracy(dataset_test)"
   ]
  }
 ],
 "metadata": {
  "kernelspec": {
   "display_name": "Python 3",
   "language": "python",
   "name": "python3"
  },
  "language_info": {
   "codemirror_mode": {
    "name": "ipython",
    "version": 3
   },
   "file_extension": ".py",
   "mimetype": "text/x-python",
   "name": "python",
   "nbconvert_exporter": "python",
   "pygments_lexer": "ipython3",
   "version": "3.6.3"
  }
 },
 "nbformat": 4,
 "nbformat_minor": 1
}
