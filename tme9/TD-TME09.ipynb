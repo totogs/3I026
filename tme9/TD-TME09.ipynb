{
 "cells": [
  {
   "cell_type": "markdown",
   "metadata": {},
   "source": [
    "IA & Data science -- 2017-2018\n",
    "--------\n",
    "*&copy; Equipe pédagogique: Ludovic Denoyer, Thibault Laugel, Marie-Jeanne Lesot, Christophe Marsala, Olivier Schwander*"
   ]
  },
  {
   "cell_type": "markdown",
   "metadata": {},
   "source": [
    "# TD-TME09: études et améliorations des K-moyennes"
   ]
  },
  {
   "cell_type": "markdown",
   "metadata": {},
   "source": [
    "<font size=\"+1\">**[Q]**</font> **Indiquer dans la boîte ci-dessous vos noms et prénoms :**"
   ]
  },
  {
   "cell_type": "markdown",
   "metadata": {},
   "source": [
    "*Double-cliquer ici et insérer les noms et prénoms de votre binôme*"
   ]
  },
  {
   "cell_type": "markdown",
   "metadata": {},
   "source": [
    "## Préparation\n",
    "\n",
    "Décompresser l'archive, elle crée le répertoire \"tp9\" qui contient :\n",
    "- un fichier ipython à ouvrir (ce fichier-ci)\n",
    "- un sous-répertoire \"data\" contenant les bases d'apprentissage utilisées dans cette séance\n",
    "- un sous-répertoire \"IADS2018\" (qui contient 2 fichiers python) dont l'utilisation est détaillée un peu plus loin dans ce fichier ipython.\n",
    "\n",
    "Le but de ce TP est de compléter ce document ipython en ajoutant les fonctions demandées. Avant de commencer, exécuter le bloc suivant afin de pouvoir initialiser des variables utiles \n"
   ]
  },
  {
   "cell_type": "code",
   "execution_count": 1,
   "metadata": {
    "collapsed": true
   },
   "outputs": [],
   "source": [
    "import numpy as np\n",
    "import pandas as pd\n",
    "from datetime import datetime as dt\n",
    "import matplotlib.pyplot as plt\n",
    "%matplotlib inline  "
   ]
  },
  {
   "cell_type": "markdown",
   "metadata": {},
   "source": [
    "### Chargement du fichier \"base_2D.csv\""
   ]
  },
  {
   "cell_type": "code",
   "execution_count": 2,
   "metadata": {
    "scrolled": true
   },
   "outputs": [
    {
     "data": {
      "text/html": [
       "<div>\n",
       "<style>\n",
       "    .dataframe thead tr:only-child th {\n",
       "        text-align: right;\n",
       "    }\n",
       "\n",
       "    .dataframe thead th {\n",
       "        text-align: left;\n",
       "    }\n",
       "\n",
       "    .dataframe tbody tr th {\n",
       "        vertical-align: top;\n",
       "    }\n",
       "</style>\n",
       "<table border=\"1\" class=\"dataframe\">\n",
       "  <thead>\n",
       "    <tr style=\"text-align: right;\">\n",
       "      <th></th>\n",
       "      <th>X</th>\n",
       "      <th>Y</th>\n",
       "    </tr>\n",
       "  </thead>\n",
       "  <tbody>\n",
       "    <tr>\n",
       "      <th>0</th>\n",
       "      <td>0.0</td>\n",
       "      <td>4.0</td>\n",
       "    </tr>\n",
       "    <tr>\n",
       "      <th>1</th>\n",
       "      <td>1.0</td>\n",
       "      <td>3.5</td>\n",
       "    </tr>\n",
       "    <tr>\n",
       "      <th>2</th>\n",
       "      <td>1.0</td>\n",
       "      <td>1.0</td>\n",
       "    </tr>\n",
       "    <tr>\n",
       "      <th>3</th>\n",
       "      <td>2.0</td>\n",
       "      <td>1.0</td>\n",
       "    </tr>\n",
       "    <tr>\n",
       "      <th>4</th>\n",
       "      <td>2.0</td>\n",
       "      <td>2.0</td>\n",
       "    </tr>\n",
       "  </tbody>\n",
       "</table>\n",
       "</div>"
      ],
      "text/plain": [
       "     X    Y\n",
       "0  0.0  4.0\n",
       "1  1.0  3.5\n",
       "2  1.0  1.0\n",
       "3  2.0  1.0\n",
       "4  2.0  2.0"
      ]
     },
     "execution_count": 2,
     "metadata": {},
     "output_type": "execute_result"
    }
   ],
   "source": [
    "data_2D = pd.read_csv(\"data/base-2D.csv\")\n",
    "data_2D[0:5]  # ou bien: data_2D[0:len(data_2D)]"
   ]
  },
  {
   "cell_type": "markdown",
   "metadata": {},
   "source": [
    "Dans la suite de ce TP, il est conseillé de travailler sur des données de type <tt>DataFrame</tt> le plus souvent possible.\n",
    "\n",
    "**Important**: dans la suite de ce TP, on appelle:\n",
    "\n",
    "- \"base d'apprentissage\" le DataFrame contenant l'ensemble des exemples d'apprentissage chargés par la commande précédenteµ\n",
    "- \"base d'exemples\" : un DataFrame contenant un ensemble d'exemples (remarque: la base d'apprentissage est le plus grand ensemble d'exemples possible)"
   ]
  },
  {
   "cell_type": "markdown",
   "metadata": {},
   "source": [
    "## Construction d'un package de fonctions"
   ]
  },
  {
   "cell_type": "markdown",
   "metadata": {},
   "source": [
    "Dans un premier temps, afin de pouvoir utiliser toutes les fonctions écrites dans le TP précédent (fonctions pour les K-moyennes), vous allez réaliser un package de fonctions qui s'appelle \"<tt>IADS2018</tt>\".\n",
    "\n",
    "Le package <tt>IADS2018</tt> est composé ainsi :\n",
    "- c'est un répertoire dont le nom est <tt>IADS2018</tt>\n",
    "- ce répertoire contient le fichier <tt>\\__init\\__.py</tt> qui, dans notre cas, est un fichier vide (mais il est important que ce fichier existe !)\n",
    "- ce répertoire contient le fichier <<tt>kmoyennes.py</tt> qui est le fichier dans lequel vous devez mettre toutes les fonctions écrites lors du TP précédent sur les K-moyennes."
   ]
  },
  {
   "cell_type": "markdown",
   "metadata": {},
   "source": [
    "<font size=\"+1\" color=\"RED\">**[Q]**</font> En utilisant votre éditeur de texte préféré (emacs, gedit, vim,...) ouvrir le fichier <tt>kmoyennes.py</tt> qui se trouve dans le sous-répertoire <tt>IADS2018</tt> et compléter-le en reprenant les fonctions que vous avez écrites dans la séance précédente."
   ]
  },
  {
   "cell_type": "markdown",
   "metadata": {},
   "source": [
    "Une fois le fichier <tt>kmoyennes.py</tt> complété et sauvegardé, il est possible d'utiliser les fonctions qui y sont définies en utilisant une commande d'importation:"
   ]
  },
  {
   "cell_type": "code",
   "execution_count": 3,
   "metadata": {
    "collapsed": true
   },
   "outputs": [],
   "source": [
    "# Importation des fonctions écrites dans les fichiers python que contient le répertoire (package) IADS2018:\n",
    "import IADS2018 \n",
    "import IADS2018.kmoyennes as km"
   ]
  },
  {
   "cell_type": "markdown",
   "metadata": {},
   "source": [
    "#### Vérification que tout fonctionne bien\n",
    "\n",
    "Si la recopie de toutes vos fonctions s'est bien déroulée, une fois l'importation faite il est possible de tester les instructions des boites suivantes:"
   ]
  },
  {
   "cell_type": "code",
   "execution_count": 4,
   "metadata": {},
   "outputs": [
    {
     "name": "stdout",
     "output_type": "stream",
     "text": [
      "---> type de DataFnorm: <class 'pandas.core.frame.DataFrame'>\n"
     ]
    },
    {
     "data": {
      "text/plain": [
       "<matplotlib.collections.PathCollection at 0x27ba8189a90>"
      ]
     },
     "execution_count": 4,
     "metadata": {},
     "output_type": "execute_result"
    },
    {
     "data": {
      "image/png": "[encoded data removed]",
      "text/plain": [
       "<matplotlib.figure.Figure at 0x27ba7e11550>"
      ]
     },
     "metadata": {},
     "output_type": "display_data"
    }
   ],
   "source": [
    "# Affichage des points après normalisation:\n",
    "\n",
    "DataFnorm = km.normalisation(data_2D)\n",
    "print(\"---> type de DataFnorm:\",type(DataFnorm))\n",
    "\n",
    "plt.scatter(DataFnorm['X'],DataFnorm['Y'])"
   ]
  },
  {
   "cell_type": "code",
   "execution_count": 5,
   "metadata": {},
   "outputs": [
    {
     "name": "stdout",
     "output_type": "stream",
     "text": [
      "Iteration  0  Inertie :  0.719925170068  Difference :  2.2560660835762887\n",
      "Iteration  1  Inertie :  0.719925170068  Difference :  0.0\n"
     ]
    },
    {
     "data": {
      "image/png": "[encoded data removed]",
      "text/plain": [
       "<matplotlib.figure.Figure at 0x27ba8169048>"
      ]
     },
     "metadata": {},
     "output_type": "display_data"
    }
   ],
   "source": [
    "les_centres, l_affectation = km.kmoyennes(3, DataFnorm, 0.05, 100)\n",
    "\n",
    "km.affiche_resultat(DataFnorm,les_centres,l_affectation)"
   ]
  },
  {
   "cell_type": "markdown",
   "metadata": {},
   "source": [
    "## Travail à réaliser"
   ]
  },
  {
   "cell_type": "markdown",
   "metadata": {},
   "source": [
    "On peut reprendre les fonctions écrites dans les tp sur l'apprentissage supervisé pour générer des ensembles de points en 2 dimensions afin de tester la fonction <tt>kmoyennes()</tt>. \n",
    "Par exemple, pour générer des points répartis en 2 groupes:"
   ]
  },
  {
   "cell_type": "code",
   "execution_count": 6,
   "metadata": {},
   "outputs": [
    {
     "data": {
      "image/png": "[encoded data removed]",
      "text/plain": [
       "<matplotlib.figure.Figure at 0x27ba7de6ba8>"
      ]
     },
     "metadata": {},
     "output_type": "display_data"
    }
   ],
   "source": [
    "def createGaussianDataset(group1_center,group2_center,sigma,nb_points):\n",
    "        group1 = np.random.multivariate_normal(group1_center,sigma,nb_points)\n",
    "        group2 = np.random.multivariate_normal(group2_center,sigma,nb_points)\n",
    "        \n",
    "        return np.concatenate((group1, group2))\n",
    "\n",
    "# Utilisation de cette fonction :\n",
    "the_set = createGaussianDataset(np.array([2,2]),np.array([-2,-2]),np.array([[1.1,0],[0,1.1]]),100)\n",
    "\n",
    "# Affichage des points obtenus\n",
    "data_random = pd.DataFrame(the_set, columns = ['X', 'Y'])\n",
    "plt.scatter(data_random['X'],data_random['Y'])\n",
    "\n",
    "# Normalisation pour pouvoir utiliser la fonction kmoyennes() par la suite:\n",
    "DataRandom = km.normalisation(data_random)"
   ]
  },
  {
   "cell_type": "markdown",
   "metadata": {},
   "source": [
    "<font size=\"+1\" color=\"RED\">**[Q]**</font> Tester la fonction <tt>kmoyennes()</tt> sur le jeu de données généré en utilisant différentes valeurs de $K$."
   ]
  },
  {
   "cell_type": "code",
   "execution_count": 7,
   "metadata": {},
   "outputs": [
    {
     "name": "stdout",
     "output_type": "stream",
     "text": [
      "Iteration  0  Inertie :  4.35537741205  Difference :  20.221769389728497\n",
      "Iteration  1  Inertie :  4.21756304946  Difference :  0.13781436259337632\n",
      "Iteration  2  Inertie :  4.20033521849  Difference :  0.01722783097180347\n"
     ]
    },
    {
     "data": {
      "image/png": "[encoded data removed]",
      "text/plain": [
       "<matplotlib.figure.Figure at 0x27ba829b240>"
      ]
     },
     "metadata": {},
     "output_type": "display_data"
    }
   ],
   "source": [
    "les_centresRand1, l_affectationRand1 = km.kmoyennes(3, DataRandom, 0.05, 100)\n",
    "\n",
    "km.affiche_resultat(DataRandom,les_centresRand1,l_affectationRand1)"
   ]
  },
  {
   "cell_type": "code",
   "execution_count": 8,
   "metadata": {},
   "outputs": [
    {
     "name": "stdout",
     "output_type": "stream",
     "text": [
      "Iteration  0  Inertie :  4.05044369174  Difference :  20.526703110039932\n",
      "Iteration  1  Inertie :  3.80044050947  Difference :  0.2500031822683719\n",
      "Iteration  2  Inertie :  3.77546390017  Difference :  0.02497660930249035\n"
     ]
    },
    {
     "data": {
      "image/png": "[encoded data removed]",
      "text/plain": [
       "<matplotlib.figure.Figure at 0x27ba856cef0>"
      ]
     },
     "metadata": {},
     "output_type": "display_data"
    }
   ],
   "source": [
    "les_centresRand1, l_affectationRand1 = km.kmoyennes(3, DataRandom, 0.05, 100)\n",
    "\n",
    "km.affiche_resultat(DataRandom,les_centresRand1,l_affectationRand1)"
   ]
  },
  {
   "cell_type": "code",
   "execution_count": 9,
   "metadata": {},
   "outputs": [
    {
     "name": "stdout",
     "output_type": "stream",
     "text": [
      "Iteration  0  Inertie :  10.0781117094  Difference :  14.499035092352406\n",
      "Iteration  1  Inertie :  5.0874247554  Difference :  4.990686954025969\n",
      "Iteration  2  Inertie :  4.87042199427  Difference :  0.21700276113566463\n",
      "Iteration  3  Inertie :  4.87042199427  Difference :  0.0\n"
     ]
    },
    {
     "data": {
      "image/png": "[encoded data removed]",
      "text/plain": [
       "<matplotlib.figure.Figure at 0x27ba856c550>"
      ]
     },
     "metadata": {},
     "output_type": "display_data"
    }
   ],
   "source": [
    "les_centresRand1, l_affectationv = km.kmoyennes(2, DataRandom, 0.05, 100)\n",
    "\n",
    "km.affiche_resultat(DataRandom,les_centresRand1,l_affectationRand1)"
   ]
  },
  {
   "cell_type": "code",
   "execution_count": 10,
   "metadata": {},
   "outputs": [
    {
     "name": "stdout",
     "output_type": "stream",
     "text": [
      "Iteration  0  Inertie :  3.19398328206  Difference :  21.383163519718323\n",
      "Iteration  1  Inertie :  3.08785656905  Difference :  0.1061267130077983\n",
      "Iteration  2  Inertie :  2.84675228139  Difference :  0.24110428765958103\n",
      "Iteration  3  Inertie :  2.64755678307  Difference :  0.19919549832010652\n",
      "Iteration  4  Inertie :  2.58266076478  Difference :  0.06489601829386826\n",
      "Iteration  5  Inertie :  2.53326593051  Difference :  0.04939483426647495\n"
     ]
    },
    {
     "data": {
      "image/png": "[encoded data removed]",
      "text/plain": [
       "<matplotlib.figure.Figure at 0x27ba60819e8>"
      ]
     },
     "metadata": {},
     "output_type": "display_data"
    }
   ],
   "source": [
    "les_centresRand1, l_affectationRand1 = km.kmoyennes(5, DataRandom, 0.05, 100)\n",
    "\n",
    "km.affiche_resultat(DataRandom,les_centresRand1,l_affectationRand1)"
   ]
  },
  {
   "cell_type": "code",
   "execution_count": 11,
   "metadata": {},
   "outputs": [
    {
     "name": "stdout",
     "output_type": "stream",
     "text": [
      "Iteration  0  Inertie :  2.29679266115  Difference :  22.28035414062677\n",
      "Iteration  1  Inertie :  2.17006905337  Difference :  0.12672360778571345\n",
      "Iteration  2  Inertie :  2.12696560095  Difference :  0.04310345241481839\n"
     ]
    },
    {
     "data": {
      "image/png": "[encoded data removed]",
      "text/plain": [
       "<matplotlib.figure.Figure at 0x27ba95e7278>"
      ]
     },
     "metadata": {},
     "output_type": "display_data"
    }
   ],
   "source": [
    "les_centresRand2, l_affectationRand2 = km.kmoyennes(6, DataRandom, 0.05, 100)\n",
    "\n",
    "km.affiche_resultat(DataRandom,les_centresRand2,l_affectationRand2)"
   ]
  },
  {
   "cell_type": "markdown",
   "metadata": {},
   "source": [
    "## Evaluation du résultat d'un clustering\n",
    "\n",
    "L'évaluation du résultat d'un clustering, c'est-à-dire la mesure de la \"qualité\" des clusters obtenus, s'effectue selon 2 critères :\n",
    "- la **compacité** des clusters obtenus\n",
    "- la **séparabilité** des clusters obtenus\n"
   ]
  },
  {
   "cell_type": "markdown",
   "metadata": {},
   "source": [
    "### Mesurer la compacité d'un cluster\n",
    "\n",
    "Il existe plusieurs possibilités pour définir une mesure de compacité d'un cluster. \n",
    "\n",
    "Une telle mesure évalue la proximité des exemples qui sont affectés au cluster.\n",
    "\n",
    "Exemples de mesures de compacité (en utilisant les notations du cours) :\n",
    "- la mesure $J_k$ qui mesure l'inertie intra-cluster et qui a été implémentée dans la fonction <tt>inertie_cluster()</tt>\n",
    "\n",
    "- la mesure de distance intra-cluster $D_{k}$ qui évalue la distance maximale entre 2 exemples d'un même cluster pour l'ensemble des clusters obtenus:\n",
    "$$D_k = \\max_{x, y \\in C_k } (d_{E}(x,y))$$\n"
   ]
  },
  {
   "cell_type": "markdown",
   "metadata": {},
   "source": [
    "<font size=\"+1\" color=\"RED\">**[Q]**</font> Ecrire la fonction <tt>dist_intracluster</tt> qui, étant donné un ensemble d'exemples, correspondant aux exemples d'un même cluster, rend la valeur de la distance intra-cluster correspondante."
   ]
  },
  {
   "cell_type": "code",
   "execution_count": 12,
   "metadata": {
    "collapsed": true
   },
   "outputs": [],
   "source": [
    "def dist_intracluster(df):\n",
    "    maxdist=0\n",
    "    for i in range(len(df)):\n",
    "        for j in range(i+1,len(df)):\n",
    "           \n",
    "            dist=km.dist_vect(df.iloc[i],df.iloc[j])\n",
    "            if(maxdist<dist):\n",
    "                maxdist=dist\n",
    "            \n",
    "    return maxdist"
   ]
  },
  {
   "cell_type": "code",
   "execution_count": 13,
   "metadata": {},
   "outputs": [
    {
     "name": "stdout",
     "output_type": "stream",
     "text": [
      "pour 0 : inertie = 0.300306122449\tdistance = 0.58623670082\n",
      "pour 1 : inertie = 0.369142857143\tdistance = 0.664554477121\n",
      "pour 2 : inertie = 0.0504761904762\tdistance = 0.29311835041\n"
     ]
    }
   ],
   "source": [
    "# Avec les données jouet:\n",
    "for k in range(0,len(l_affectation)):\n",
    "    DF = DataFnorm.iloc[l_affectation[k]]\n",
    "    print(\"pour \"+str(k)+\" : inertie = \" + str(km.inertie_cluster(DF)) + \"\\tdistance = \"+  str(dist_intracluster(DF)))\n"
   ]
  },
  {
   "cell_type": "code",
   "execution_count": 14,
   "metadata": {},
   "outputs": [
    {
     "name": "stdout",
     "output_type": "stream",
     "text": [
      "pour 0 : inertie = 0.355896524204\tdistance = 0.406316953186\n",
      "pour 1 : inertie = 0.289063115053\tdistance = 0.358019907985\n",
      "pour 2 : inertie = 0.385668795873\tdistance = 0.305885697126\n"
     ]
    }
   ],
   "source": [
    "# Avec les données générées aléatoirement:\n",
    "for k in range(0,len(l_affectation)):\n",
    "    DF = DataRandom.iloc[l_affectationRand2[k]]\n",
    "    print(\"pour \"+str(k)+\" : inertie = \" + str(km.inertie_cluster(DF)) + \"\\tdistance = \"+  str(dist_intracluster(DF)))\n"
   ]
  },
  {
   "cell_type": "markdown",
   "metadata": {},
   "source": [
    "Etant donné une partition $P$, on peut mesurer la compacité globale des clusters de cette partition en agrégeant les compacités intra-custer de chaque cluster.\n",
    "\n",
    "Ainsi, dans notre cas, on peut définir 2 mesures de compacité globable:\n",
    "- la compacité inertielle $Co_{inertie}$ d'une partition $P$:\n",
    "    $$Co_{inertie}(P) = J(P)$$\n",
    "- la compacité intra-clusters $Co_{dist}$ d'une partition $P$\n",
    "$$Co_{dist}(P) = \\max_{k=1..K} D_k$$\n"
   ]
  },
  {
   "cell_type": "markdown",
   "metadata": {},
   "source": [
    "<font size=\"+1\" color=\"RED\">**[Q]**</font> Ecrire la fonction <tt>global_intraclusters</tt> qui, étant donné une base d'exemples et un \n",
    "dictionnaire d'affectation d'exemples à des clusters rend la valeur de la distance intra-clusters correspondante."
   ]
  },
  {
   "cell_type": "code",
   "execution_count": 15,
   "metadata": {
    "collapsed": true
   },
   "outputs": [],
   "source": [
    "def global_intraclusters(df,la):\n",
    "    \n",
    "    maxdist=0\n",
    "    \n",
    "    for k, liste in la.items():\n",
    "        \n",
    "        dist=dist_intracluster(df.iloc[liste])\n",
    "        \n",
    "        if(maxdist<dist):\n",
    "            maxdist=dist\n",
    "            \n",
    "    \n",
    "    return maxdist\n",
    "    "
   ]
  },
  {
   "cell_type": "code",
   "execution_count": 16,
   "metadata": {},
   "outputs": [
    {
     "name": "stdout",
     "output_type": "stream",
     "text": [
      "Données jouet: 0.664554477121\n",
      "Données aléatoire: 0.421664833741\n",
      "Avec l'inertie :\n",
      "Données jouet: 0.719925170068\n",
      "Données aléatoire: 2.12696560095\n"
     ]
    }
   ],
   "source": [
    "# Exemples:\n",
    "print(\"Données jouet: \"+str(global_intraclusters(DataFnorm,l_affectation)))\n",
    "print(\"Données aléatoire: \"+str(global_intraclusters(DataRandom,l_affectationRand2)))\n",
    "\n",
    "print(\"Avec l'inertie :\")\n",
    "print(\"Données jouet: \"+str(km.inertie_globale(DataFnorm,l_affectation)))\n",
    "print(\"Données aléatoire: \"+str(km.inertie_globale(DataRandom,l_affectationRand2)))\n"
   ]
  },
  {
   "cell_type": "markdown",
   "metadata": {},
   "source": [
    "### Mesurer la séparabilité\n",
    "\n",
    "Une mesure de séparabilité évalue la distance entre les groupes d'un clustering d'une partition $P$ donnée.\n",
    "\n",
    "Il existe plusieurs mesures de ce genre, par exemple, la mesure la plus évidente est la distance minimale entre deux clusters de la :\n",
    "    $$Se_{min}(P) = \\min_{k= 1..K, l=1..K}(d_E(c_k,c_l)) $$\n"
   ]
  },
  {
   "cell_type": "markdown",
   "metadata": {},
   "source": [
    "<font size=\"+1\" color=\"RED\">**[Q]**</font> Ecrire la fonction <tt>sep_clusters</tt> qui, étant donné un ensemble de centres rend la valeur de la distance minimale entre 2 centres.\n",
    "    "
   ]
  },
  {
   "cell_type": "code",
   "execution_count": 17,
   "metadata": {
    "collapsed": true
   },
   "outputs": [],
   "source": [
    "def sep_clusters(centroids):\n",
    "    \n",
    "    mindist=10000000000\n",
    "    \n",
    "    for i in range(len(centroids)):\n",
    "        for j in range(i+1,len(centroids)):\n",
    "            \n",
    "            dist=km.dist_vect(centroids.iloc[i], centroids.iloc[j])\n",
    "            \n",
    "            if(mindist>dist):\n",
    "                mindist=dist\n",
    "                \n",
    "    \n",
    "    return mindist\n",
    "            "
   ]
  },
  {
   "cell_type": "code",
   "execution_count": 18,
   "metadata": {},
   "outputs": [
    {
     "name": "stdout",
     "output_type": "stream",
     "text": [
      "Séparabilité: 0.598739416515\n"
     ]
    }
   ],
   "source": [
    "# Avec les données jouet:\n",
    "print(\"Séparabilité: \"+str(sep_clusters(les_centres)))\n"
   ]
  },
  {
   "cell_type": "code",
   "execution_count": 19,
   "metadata": {},
   "outputs": [
    {
     "name": "stdout",
     "output_type": "stream",
     "text": [
      "Séparabilité: 0.16994008298\n"
     ]
    }
   ],
   "source": [
    "# Avec les données générées aléatoirement:\n",
    "print(\"Séparabilité: \"+str(sep_clusters(les_centresRand2)))\n"
   ]
  },
  {
   "cell_type": "markdown",
   "metadata": {},
   "source": [
    "### Evaluation d'un clustering\n",
    "\n",
    "Pour obtenir une évaluation du résultat d'un clustering, on combine une mesure de sa séparabilité et une mesure de sa compacité globale.\n",
    "Par exemple (remarque: nous donnons ici des versions adaptées à notre tp de ces mesures):\n",
    "- index de Dunn d'une partition $P$:\n",
    "$$I_{Dunn}(P)= \\frac{Co_{dist}(P)}{Se_{min}(P)}$$\n",
    "\n",
    "- index de Xie et Beni d'une partition $P$:\n",
    "$$I_{XB}(P) = \\frac{Co_{inertie}(P)}{Se_{min}(P)}$$\n",
    "\n",
    "Dans les 2 cas, une bonne partition minimise la valeur de l'index."
   ]
  },
  {
   "cell_type": "markdown",
   "metadata": {},
   "source": [
    "<font size=\"+1\" color=\"RED\">**[Q]**</font> Ecrire la fonction <tt>evaluation()</tt> qui prend en argument une chaîne de caractères donnant le nom de l'index choisi (\"Dunn\" ou \"XB\"), une base d'exemples, un ensemble de centres et une affectation, et rend la valeur de l'index correspondant."
   ]
  },
  {
   "cell_type": "code",
   "execution_count": 20,
   "metadata": {
    "collapsed": true
   },
   "outputs": [],
   "source": [
    "def evaluation(index, df, centroids, la):\n",
    "    \n",
    "    if(index==\"Dunn\"):\n",
    "        \n",
    "        return global_intraclusters(df,la)/sep_clusters(centroids)\n",
    "    \n",
    "    elif(index==\"XB\"):\n",
    "        \n",
    "        return km.inertie_globale(df,la)/sep_clusters(centroids)\n",
    "    \n",
    "    else:\n",
    "        return -1"
   ]
  },
  {
   "cell_type": "code",
   "execution_count": 21,
   "metadata": {},
   "outputs": [
    {
     "name": "stdout",
     "output_type": "stream",
     "text": [
      "Pour les données jouet:\n",
      "\tDunn:\t1.10992271227\n",
      "\tXB:\t1.20240149589\n",
      "Pour les données aléatoires (6 clusters):\n",
      "\tDunn:\t2.48125590118\n",
      "\tXB:\t12.5159736517\n",
      "Pour les données aléatoires (5 clusters):\n",
      "\tDunn:\t2.56361717422\n",
      "\tXB:\t14.8140234013\n"
     ]
    }
   ],
   "source": [
    "print(\"Pour les données jouet:\")\n",
    "print(\"\\tDunn:\\t\"+str(evaluation(\"Dunn\",DataFnorm,les_centres,l_affectation)))\n",
    "print(\"\\tXB:\\t\"+str(evaluation(\"XB\",DataFnorm,les_centres,l_affectation)))\n",
    "\n",
    "print(\"Pour les données aléatoires (6 clusters):\")\n",
    "print(\"\\tDunn:\\t\"+str(evaluation(\"Dunn\",DataRandom,les_centresRand2,l_affectationRand2)))\n",
    "print(\"\\tXB:\\t\"+str(evaluation(\"XB\",DataRandom,les_centresRand2,l_affectationRand2)))\n",
    "\n",
    "print(\"Pour les données aléatoires (5 clusters):\")\n",
    "print(\"\\tDunn:\\t\"+str(evaluation(\"Dunn\",DataRandom,les_centresRand1,l_affectationRand1)))\n",
    "print(\"\\tXB:\\t\"+str(evaluation(\"XB\",DataRandom,les_centresRand1,l_affectationRand1)))\n"
   ]
  },
  {
   "cell_type": "markdown",
   "metadata": {},
   "source": [
    "## Optimiser le nombre de clusters\n",
    "\n",
    "La mesure d'évaluation d'un clustering précédente peut être utilisée pour déterminer automatiquement une bonne valeur pour $K$ (le nombre de clusters de la partition).\n",
    "\n",
    "Ainsi, pour une base d'exemples $X$, l'approche suivante peut être utilisée :\n",
    "- choisir une valeur pour $K$\n",
    "- appliquer l'algorithme des K-moyennes avec cette valeur $K$ sur la base $X$\n",
    "- évaluer le résultat du clustering obtenu en utilisant un index\n",
    "- recommencer pour une autre valeur de $K$ et comparer le résultat, \n",
    "on choisit alors la valeur de $K$ qui a donné la meilleure partition selon le critère choisi.\n"
   ]
  },
  {
   "cell_type": "markdown",
   "metadata": {},
   "source": [
    "<font size=\"+1\" color=\"RED\">**[Q]**</font> Implémenter l'approche d'optimisation du nombre de clusters. Vous devez tester des valeurs de $K$ de $2$ à $10$ et afficher la valeur optimale du nombre de clusters. Vous tracerez la courbe donnant la valeur de l'index obtenue pour chaque valeur de $K$ testée. Vous réaliserez cette expérimentation d'abord avec l'index de Dunn, puis avec l'index de Xie-Beni.\n",
    "\n",
    "Tester plusieurs bases d'exemples, en particulier, construire des bases d'exemples aléatoires contenant plusieurs groupes (2, 3, 4, 5 groupes) et afficher la courbe de la variation de l'index pour des valeurs de $K$ variant de 2 à 10."
   ]
  },
  {
   "cell_type": "code",
   "execution_count": 22,
   "metadata": {},
   "outputs": [
    {
     "name": "stdout",
     "output_type": "stream",
     "text": [
      "Iteration  0  Inertie :  22.578541181  Difference :  1.998605620778303\n",
      "Iteration  1  Inertie :  8.17236098723  Difference :  14.406180193767748\n",
      "Iteration  2  Inertie :  4.94229887271  Difference :  3.2300621145258006\n",
      "Iteration  3  Inertie :  4.8770063576  Difference :  0.0652925151078847\n",
      "Iteration  4  Inertie :  4.87256775923  Difference :  0.00443859836454763\n",
      "Iteration  5  Inertie :  4.87042199427  Difference :  0.0021457649697556036\n",
      "Iteration  6  Inertie :  4.87042199427  Difference :  0.0\n",
      "Iteration  0  Inertie :  15.315399955  Difference :  9.261746846807451\n",
      "Iteration  1  Inertie :  4.01218486938  Difference :  11.303215085587574\n",
      "Iteration  2  Inertie :  3.8538939457  Difference :  0.15829092367919229\n",
      "Iteration  3  Inertie :  3.82044593619  Difference :  0.033448009515607335\n",
      "Iteration  4  Inertie :  3.79654628915  Difference :  0.02389964703461267\n",
      "Iteration  5  Inertie :  3.77673143018  Difference :  0.019814858969812832\n",
      "Iteration  6  Inertie :  3.76874116849  Difference :  0.007990261690018041\n",
      "Iteration  7  Inertie :  3.76874116849  Difference :  0.0\n",
      "Iteration  0  Inertie :  3.78183584245  Difference :  20.795310959333296\n",
      "Iteration  1  Inertie :  3.51678841423  Difference :  0.26504742821714977\n",
      "Iteration  2  Inertie :  3.46930922232  Difference :  0.04747919191111327\n",
      "Iteration  3  Inertie :  3.4435993071  Difference :  0.025709915212735357\n",
      "Iteration  4  Inertie :  3.43279728172  Difference :  0.010802025386258851\n",
      "Iteration  5  Inertie :  3.41487392017  Difference :  0.017923361545610028\n",
      "Iteration  6  Inertie :  3.4003258353  Difference :  0.014548084872900713\n",
      "Iteration  7  Inertie :  3.3951689893  Difference :  0.005156846002859261\n",
      "Iteration  8  Inertie :  3.39294037748  Difference :  0.0022286118157959223\n",
      "Iteration  9  Inertie :  3.39096880721  Difference :  0.001971570271489753\n",
      "Iteration  10  Inertie :  3.38862253723  Difference :  0.0023462699824579047\n",
      "Iteration  11  Inertie :  3.38801692647  Difference :  0.000605610761976294\n",
      "Iteration  0  Inertie :  3.30869271848  Difference :  21.26845408329499\n",
      "Iteration  1  Inertie :  2.91343758456  Difference :  0.3952551339214532\n",
      "Iteration  2  Inertie :  2.79229779088  Difference :  0.12113979368317862\n",
      "Iteration  3  Inertie :  2.66539926052  Difference :  0.12689853035604326\n",
      "Iteration  4  Inertie :  2.57526397007  Difference :  0.09013529045179958\n",
      "Iteration  5  Inertie :  2.52659901515  Difference :  0.04866495492137446\n",
      "Iteration  6  Inertie :  2.51658049421  Difference :  0.010018520943609666\n",
      "Iteration  7  Inertie :  2.51173525542  Difference :  0.004845238784338068\n",
      "Iteration  8  Inertie :  2.50235489693  Difference :  0.00938035848737595\n",
      "Iteration  9  Inertie :  2.49596395287  Difference :  0.00639094406204066\n",
      "Iteration  10  Inertie :  2.49445090077  Difference :  0.0015130521009147913\n",
      "Iteration  11  Inertie :  2.49445090077  Difference :  0.0\n",
      "Iteration  0  Inertie :  2.80251268607  Difference :  21.77463411571035\n",
      "Iteration  1  Inertie :  2.5046821993  Difference :  0.2978304867716459\n",
      "Iteration  2  Inertie :  2.4075903316  Difference :  0.09709186769385392\n",
      "Iteration  3  Inertie :  2.28114027312  Difference :  0.1264500584849766\n",
      "Iteration  4  Inertie :  2.2426879404  Difference :  0.03845233271882842\n",
      "Iteration  5  Inertie :  2.21418728178  Difference :  0.02850065861943385\n",
      "Iteration  6  Inertie :  2.18359669534  Difference :  0.030590586440470968\n",
      "Iteration  7  Inertie :  2.15106212646  Difference :  0.03253456888010264\n",
      "Iteration  8  Inertie :  2.0662899196  Difference :  0.08477220686325193\n",
      "Iteration  9  Inertie :  2.03665997094  Difference :  0.029629948655012672\n",
      "Iteration  10  Inertie :  2.03665997094  Difference :  0.0\n",
      "Iteration  0  Inertie :  2.57896263761  Difference :  21.998184164164286\n",
      "Iteration  1  Inertie :  2.25624103102  Difference :  0.322721606589937\n",
      "Iteration  2  Inertie :  2.15461170109  Difference :  0.10162932993514628\n",
      "Iteration  3  Inertie :  2.05155939273  Difference :  0.10305230835813894\n",
      "Iteration  4  Inertie :  1.91708120006  Difference :  0.13447819266838423\n",
      "Iteration  5  Inertie :  1.8369260309  Difference :  0.08015516915913756\n",
      "Iteration  6  Inertie :  1.83054522517  Difference :  0.006380805734290895\n",
      "Iteration  7  Inertie :  1.82781295348  Difference :  0.002732271692420518\n",
      "Iteration  8  Inertie :  1.82781295348  Difference :  0.0\n",
      "Iteration  0  Inertie :  2.18394930533  Difference :  22.393197496449442\n",
      "Iteration  1  Inertie :  1.87440086986  Difference :  0.3095484354740281\n",
      "Iteration  2  Inertie :  1.80851971591  Difference :  0.06588115394804261\n",
      "Iteration  3  Inertie :  1.79041406429  Difference :  0.018105651620504704\n",
      "Iteration  4  Inertie :  1.77582930736  Difference :  0.014584756926965481\n",
      "Iteration  5  Inertie :  1.77060356169  Difference :  0.005225745667845061\n",
      "Iteration  6  Inertie :  1.76845794612  Difference :  0.0021456155684764777\n",
      "Iteration  7  Inertie :  1.7648736996  Difference :  0.003584246520468737\n",
      "Iteration  8  Inertie :  1.76303489746  Difference :  0.0018388021434998514\n",
      "Iteration  9  Inertie :  1.75717539928  Difference :  0.0058594981772399635\n",
      "Iteration  10  Inertie :  1.75266995058  Difference :  0.004505448699899217\n",
      "Iteration  11  Inertie :  1.75266995058  Difference :  0.0\n",
      "Iteration  0  Inertie :  1.87696153854  Difference :  22.700185263240726\n",
      "Iteration  1  Inertie :  1.71896319947  Difference :  0.1579983390655455\n",
      "Iteration  2  Inertie :  1.67582812683  Difference :  0.043135072640195116\n",
      "Iteration  3  Inertie :  1.67446392346  Difference :  0.00136420337731602\n",
      "Iteration  4  Inertie :  1.67446392346  Difference :  0.0\n"
     ]
    }
   ],
   "source": [
    "list_k=[]\n",
    "list_eval_Dunn=[]\n",
    "list_eval_XB=[]\n",
    "\n",
    "\n",
    "for k in range(2,10):\n",
    "    centroids, l_affectation = km.kmoyennes(k, DataRandom, 0.001, 100)\n",
    "    list_k.append(k)\n",
    "    list_eval_Dunn.append(evaluation(\"Dunn\",DataRandom,centroids,l_affectation))\n",
    "    list_eval_XB.append(evaluation(\"XB\",DataRandom,centroids,l_affectation))\n",
    "    \n",
    "\n",
    "    \n",
    "    "
   ]
  },
  {
   "cell_type": "code",
   "execution_count": 23,
   "metadata": {},
   "outputs": [
    {
     "data": {
      "text/plain": [
       "Text(0.5,1,\"Valeur de l'index Dunn en fonction de K\")"
      ]
     },
     "execution_count": 23,
     "metadata": {},
     "output_type": "execute_result"
    },
    {
     "data": {
      "image/png": "[encoded data removed]",
      "text/plain": [
       "<matplotlib.figure.Figure at 0x27ba82fb0b8>"
      ]
     },
     "metadata": {},
     "output_type": "display_data"
    }
   ],
   "source": [
    "plt.plot(list_k,list_eval_Dunn)\n",
    "plt.xlabel(\"k\")\n",
    "plt.ylabel(\"Valeur index\")\n",
    "plt.title(\"Valeur de l'index Dunn en fonction de K\")"
   ]
  },
  {
   "cell_type": "code",
   "execution_count": 24,
   "metadata": {},
   "outputs": [
    {
     "data": {
      "text/plain": [
       "Text(0.5,1,\"Valeur de l'index Xie-Beni en fonction de K\")"
      ]
     },
     "execution_count": 24,
     "metadata": {},
     "output_type": "execute_result"
    },
    {
     "data": {
      "image/png": "[encoded data removed]",
      "text/plain": [
       "<matplotlib.figure.Figure at 0x27ba96c52b0>"
      ]
     },
     "metadata": {},
     "output_type": "display_data"
    }
   ],
   "source": [
    "plt.plot(list_k,list_eval_XB)\n",
    "plt.xlabel(\"k\")\n",
    "plt.ylabel(\"Valeur index\")\n",
    "plt.title(\"Valeur de l'index Xie-Beni en fonction de K\")"
   ]
  },
  {
   "cell_type": "markdown",
   "metadata": {},
   "source": [
    "Nous devons minimiser les valeurs des indexes. Dans notre cas, il y a deux gaussiens différents et on remarque clairement dans les graphiques que le nombre de clusters optimal est de k=2"
   ]
  },
  {
   "cell_type": "code",
   "execution_count": 25,
   "metadata": {},
   "outputs": [
    {
     "data": {
      "image/png": "[encoded data removed]",
      "text/plain": [
       "<matplotlib.figure.Figure at 0x27baa04cbe0>"
      ]
     },
     "metadata": {},
     "output_type": "display_data"
    }
   ],
   "source": [
    "from sklearn.datasets import make_blobs\n",
    "\n",
    "X, Y = make_blobs(n_samples=200, n_features=2, centers=5)\n",
    "\n",
    "plt.scatter(X[:,0],X[:,1], color='r')\n",
    "plt.show()\n",
    "dfTest = pd.DataFrame(X,columns=['X','Y'])"
   ]
  },
  {
   "cell_type": "code",
   "execution_count": 26,
   "metadata": {},
   "outputs": [
    {
     "name": "stdout",
     "output_type": "stream",
     "text": [
      "Iteration  0  Inertie :  5240.20997282  Difference :  2799.8218527799645\n",
      "Iteration  1  Inertie :  2940.22025122  Difference :  2299.989721593362\n",
      "Iteration  2  Inertie :  2940.22025122  Difference :  0.0\n",
      "Iteration  0  Inertie :  3832.90544815  Difference :  4207.126377448393\n",
      "Iteration  1  Inertie :  1772.98001563  Difference :  2059.9254325235092\n",
      "Iteration  2  Inertie :  1569.96882265  Difference :  203.01119297797095\n",
      "Iteration  3  Inertie :  1569.96882265  Difference :  0.0\n",
      "Iteration  0  Inertie :  2548.44489239  Difference :  5491.586933208387\n",
      "Iteration  1  Inertie :  881.937273313  Difference :  1666.507619076478\n",
      "Iteration  2  Inertie :  792.278769689  Difference :  89.65850362404751\n",
      "Iteration  3  Inertie :  775.783701554  Difference :  16.495068135516476\n",
      "Iteration  4  Inertie :  771.183044548  Difference :  4.600657005745006\n",
      "Iteration  5  Inertie :  766.463853968  Difference :  4.719190579852921\n",
      "Iteration  6  Inertie :  763.72612658  Difference :  2.737727387971745\n",
      "Iteration  7  Inertie :  754.732368552  Difference :  8.993758027799458\n",
      "Iteration  8  Inertie :  738.68077869  Difference :  16.05158986237393\n",
      "Iteration  9  Inertie :  733.17665768  Difference :  5.504121009773144\n",
      "Iteration  10  Inertie :  732.353895688  Difference :  0.8227619918397977\n",
      "Iteration  11  Inertie :  732.353895688  Difference :  0.0\n",
      "Iteration  0  Inertie :  787.045961642  Difference :  7252.985863955602\n",
      "Iteration  1  Inertie :  719.999275962  Difference :  67.04668568008378\n",
      "Iteration  2  Inertie :  599.402473035  Difference :  120.59680292694588\n",
      "Iteration  3  Inertie :  431.388705509  Difference :  168.0137675265819\n",
      "Iteration  4  Inertie :  400.709248407  Difference :  30.679457101684875\n",
      "Iteration  5  Inertie :  399.369811794  Difference :  1.339436612744862\n",
      "Iteration  6  Inertie :  399.369811794  Difference :  0.0\n",
      "Iteration  0  Inertie :  747.096026296  Difference :  7292.93579930167\n",
      "Iteration  1  Inertie :  676.127374373  Difference :  70.96865192368455\n",
      "Iteration  2  Inertie :  515.33542597  Difference :  160.7919484026861\n",
      "Iteration  3  Inertie :  382.627388646  Difference :  132.7080373237401\n",
      "Iteration  4  Inertie :  372.636683117  Difference :  9.990705529653269\n",
      "Iteration  5  Inertie :  371.561407057  Difference :  1.0752760594955362\n",
      "Iteration  6  Inertie :  371.396258021  Difference :  0.16514903565018813\n",
      "Iteration  7  Inertie :  370.157721348  Difference :  1.238536673278304\n",
      "Iteration  8  Inertie :  369.132727749  Difference :  1.0249935989593268\n",
      "Iteration  9  Inertie :  368.924453025  Difference :  0.208274724388275\n",
      "Iteration  10  Inertie :  368.924453025  Difference :  0.0\n",
      "Iteration  0  Inertie :  673.651251447  Difference :  7366.380574150995\n",
      "Iteration  1  Inertie :  635.395266277  Difference :  38.25598516949731\n",
      "Iteration  2  Inertie :  620.223225556  Difference :  15.17204072134814\n",
      "Iteration  3  Inertie :  600.434985459  Difference :  19.78824009686923\n",
      "Iteration  4  Inertie :  563.310849886  Difference :  37.124135573245894\n",
      "Iteration  5  Inertie :  461.5823451  Difference :  101.72850478631267\n",
      "Iteration  6  Inertie :  358.297164044  Difference :  103.28518105605082\n",
      "Iteration  7  Inertie :  342.689237371  Difference :  15.607926672694305\n",
      "Iteration  8  Inertie :  341.428495036  Difference :  1.2607423346115638\n",
      "Iteration  9  Inertie :  341.428495036  Difference :  0.0\n",
      "Iteration  0  Inertie :  773.425338471  Difference :  7266.606487126865\n",
      "Iteration  1  Inertie :  699.932403456  Difference :  73.4929350151117\n",
      "Iteration  2  Inertie :  602.161555861  Difference :  97.7708475947178\n",
      "Iteration  3  Inertie :  393.002288111  Difference :  209.1592677498178\n",
      "Iteration  4  Inertie :  329.615667597  Difference :  63.3866205144173\n",
      "Iteration  5  Inertie :  323.293216585  Difference :  6.3224510120232935\n",
      "Iteration  6  Inertie :  322.410445498  Difference :  0.882771087151923\n",
      "Iteration  7  Inertie :  322.245296462  Difference :  0.16514903565018813\n",
      "Iteration  8  Inertie :  321.006759789  Difference :  1.238536673278304\n",
      "Iteration  9  Inertie :  319.98176619  Difference :  1.0249935989593837\n",
      "Iteration  10  Inertie :  319.773491466  Difference :  0.208274724388275\n",
      "Iteration  11  Inertie :  319.773491466  Difference :  0.0\n",
      "Iteration  0  Inertie :  749.093292794  Difference :  7290.938532804473\n",
      "Iteration  1  Inertie :  535.550050829  Difference :  213.54324196490745\n",
      "Iteration  2  Inertie :  359.67841465  Difference :  175.8716361787795\n",
      "Iteration  3  Inertie :  307.048256525  Difference :  52.63015812501493\n",
      "Iteration  4  Inertie :  299.32904087  Difference :  7.719215654916638\n",
      "Iteration  5  Inertie :  296.066970228  Difference :  3.2620706419373278\n",
      "Iteration  6  Inertie :  294.186359939  Difference :  1.8806102894032506\n",
      "Iteration  7  Inertie :  293.724070849  Difference :  0.46228908919539435\n",
      "Iteration  8  Inertie :  293.419289283  Difference :  0.3047815662766311\n",
      "Iteration  9  Inertie :  293.419289283  Difference :  0.0\n"
     ]
    }
   ],
   "source": [
    "list_k=[]\n",
    "list_eval_Dunn=[]\n",
    "list_eval_XB=[]\n",
    "\n",
    "\n",
    "for k in range(2,10):\n",
    "    centroids, l_affectation = km.kmoyennes(k, dfTest, 0.001, 100)\n",
    "    list_k.append(k)\n",
    "    list_eval_Dunn.append(evaluation(\"Dunn\",dfTest,centroids,l_affectation))\n",
    "    list_eval_XB.append(evaluation(\"XB\",dfTest,centroids,l_affectation))\n",
    "    "
   ]
  },
  {
   "cell_type": "code",
   "execution_count": 27,
   "metadata": {},
   "outputs": [
    {
     "data": {
      "text/plain": [
       "Text(0.5,1,\"Valeur de l'index Xie-Beni en fonction de K\")"
      ]
     },
     "execution_count": 27,
     "metadata": {},
     "output_type": "execute_result"
    },
    {
     "data": {
      "image/png": "[encoded data removed]",
      "text/plain": [
       "<matplotlib.figure.Figure at 0x27ba96c5a58>"
      ]
     },
     "metadata": {},
     "output_type": "display_data"
    }
   ],
   "source": [
    "plt.plot(list_k,list_eval_XB)\n",
    "plt.xlabel(\"k\")\n",
    "plt.ylabel(\"Valeur index\")\n",
    "plt.title(\"Valeur de l'index Xie-Beni en fonction de K\")"
   ]
  },
  {
   "cell_type": "code",
   "execution_count": 28,
   "metadata": {},
   "outputs": [
    {
     "data": {
      "text/plain": [
       "Text(0.5,1,\"Valeur de l'index Xie-Beni en fonction de K\")"
      ]
     },
     "execution_count": 28,
     "metadata": {},
     "output_type": "execute_result"
    },
    {
     "data": {
      "image/png": "[encoded data removed]",
      "text/plain": [
       "<matplotlib.figure.Figure at 0x27baa0c38d0>"
      ]
     },
     "metadata": {},
     "output_type": "display_data"
    }
   ],
   "source": [
    "plt.plot(list_k,list_eval_XB)\n",
    "plt.xlabel(\"k\")\n",
    "plt.ylabel(\"Valeur index\")\n",
    "plt.title(\"Valeur de l'index Xie-Beni en fonction de K\")"
   ]
  },
  {
   "cell_type": "markdown",
   "metadata": {},
   "source": [
    "Ici nous avons 5 gaussiens différents et on remarque qu'il y a 4 groupes de données très distincts donc la valeur de K optimale est k=4 d'après les observations sur le graphique."
   ]
  },
  {
   "cell_type": "markdown",
   "metadata": {},
   "source": [
    "## Application à des données réelles\n",
    "\n",
    "- Appliquer l'algorithme aux données concernant les déchets de la ville de Paris\n",
    "- Trouver des bases d'apprentissage intéressantes sur http://opendata.paris.fr/\n"
   ]
  },
  {
   "cell_type": "code",
   "execution_count": 29,
   "metadata": {
    "scrolled": true
   },
   "outputs": [
    {
     "data": {
      "text/html": [
       "<div>\n",
       "<style>\n",
       "    .dataframe thead tr:only-child th {\n",
       "        text-align: right;\n",
       "    }\n",
       "\n",
       "    .dataframe thead th {\n",
       "        text-align: left;\n",
       "    }\n",
       "\n",
       "    .dataframe tbody tr th {\n",
       "        vertical-align: top;\n",
       "    }\n",
       "</style>\n",
       "<table border=\"1\" class=\"dataframe\">\n",
       "  <thead>\n",
       "    <tr style=\"text-align: right;\">\n",
       "      <th></th>\n",
       "      <th>janv-11</th>\n",
       "      <th>févr-11</th>\n",
       "      <th>mars-11</th>\n",
       "      <th>avr-11</th>\n",
       "      <th>mai-11</th>\n",
       "      <th>juin-11</th>\n",
       "      <th>juil-11</th>\n",
       "      <th>août-11</th>\n",
       "      <th>sept-11</th>\n",
       "      <th>oct-11</th>\n",
       "      <th>nov-11</th>\n",
       "      <th>déc-11</th>\n",
       "    </tr>\n",
       "  </thead>\n",
       "  <tbody>\n",
       "    <tr>\n",
       "      <th>0</th>\n",
       "      <td>288.1</td>\n",
       "      <td>249.1</td>\n",
       "      <td>303.7</td>\n",
       "      <td>255.8</td>\n",
       "      <td>287.8</td>\n",
       "      <td>288.4</td>\n",
       "      <td>249.6</td>\n",
       "      <td>185.6</td>\n",
       "      <td>281.3</td>\n",
       "      <td>284.3</td>\n",
       "      <td>296.4</td>\n",
       "      <td>301.1</td>\n",
       "    </tr>\n",
       "    <tr>\n",
       "      <th>1</th>\n",
       "      <td>596.5</td>\n",
       "      <td>540.2</td>\n",
       "      <td>618.5</td>\n",
       "      <td>558.6</td>\n",
       "      <td>595.9</td>\n",
       "      <td>581.7</td>\n",
       "      <td>539.2</td>\n",
       "      <td>490.5</td>\n",
       "      <td>597.8</td>\n",
       "      <td>575.7</td>\n",
       "      <td>580.5</td>\n",
       "      <td>601.4</td>\n",
       "    </tr>\n",
       "    <tr>\n",
       "      <th>2</th>\n",
       "      <td>464</td>\n",
       "      <td>404.9</td>\n",
       "      <td>465.3</td>\n",
       "      <td>420.2</td>\n",
       "      <td>405.3</td>\n",
       "      <td>446</td>\n",
       "      <td>412.9</td>\n",
       "      <td>348.7</td>\n",
       "      <td>449.3</td>\n",
       "      <td>446.3</td>\n",
       "      <td>453.1</td>\n",
       "      <td>484.3</td>\n",
       "    </tr>\n",
       "    <tr>\n",
       "      <th>3</th>\n",
       "      <td>903.1</td>\n",
       "      <td>801.4</td>\n",
       "      <td>937.5</td>\n",
       "      <td>835.5</td>\n",
       "      <td>876.8</td>\n",
       "      <td>888.6</td>\n",
       "      <td>628.8</td>\n",
       "      <td>674.8</td>\n",
       "      <td>913.3</td>\n",
       "      <td>878.7</td>\n",
       "      <td>895.7</td>\n",
       "      <td>935.8</td>\n",
       "    </tr>\n",
       "    <tr>\n",
       "      <th>4</th>\n",
       "      <td>451.1</td>\n",
       "      <td>412.4</td>\n",
       "      <td>491.6</td>\n",
       "      <td>422.7</td>\n",
       "      <td>363.6</td>\n",
       "      <td>446.4</td>\n",
       "      <td>409.5</td>\n",
       "      <td>332.3</td>\n",
       "      <td>416.4</td>\n",
       "      <td>451.5</td>\n",
       "      <td>475.1</td>\n",
       "      <td>513.5</td>\n",
       "    </tr>\n",
       "    <tr>\n",
       "      <th>5</th>\n",
       "      <td>427</td>\n",
       "      <td>394.3</td>\n",
       "      <td>455.2</td>\n",
       "      <td>419.9</td>\n",
       "      <td>458.3</td>\n",
       "      <td>456.6</td>\n",
       "      <td>418</td>\n",
       "      <td>361.8</td>\n",
       "      <td>464.6</td>\n",
       "      <td>453.4</td>\n",
       "      <td>478.5</td>\n",
       "      <td>470.9</td>\n",
       "    </tr>\n",
       "    <tr>\n",
       "      <th>6</th>\n",
       "      <td>323.4</td>\n",
       "      <td>287.3</td>\n",
       "      <td>350.3</td>\n",
       "      <td>317.8</td>\n",
       "      <td>336.9</td>\n",
       "      <td>340.7</td>\n",
       "      <td>311.6</td>\n",
       "      <td>281</td>\n",
       "      <td>345.6</td>\n",
       "      <td>335.6</td>\n",
       "      <td>367</td>\n",
       "      <td>354.5</td>\n",
       "    </tr>\n",
       "    <tr>\n",
       "      <th>7</th>\n",
       "      <td>153</td>\n",
       "      <td>125.8</td>\n",
       "      <td>136.6</td>\n",
       "      <td>126.6</td>\n",
       "      <td>133.2</td>\n",
       "      <td>127.6</td>\n",
       "      <td>126.7</td>\n",
       "      <td>114.3</td>\n",
       "      <td>144.3</td>\n",
       "      <td>145.1</td>\n",
       "      <td>129.5</td>\n",
       "      <td>129.8</td>\n",
       "    </tr>\n",
       "    <tr>\n",
       "      <th>8</th>\n",
       "      <td>116.3</td>\n",
       "      <td>115.7</td>\n",
       "      <td>133.4</td>\n",
       "      <td>115</td>\n",
       "      <td>123.2</td>\n",
       "      <td>120.5</td>\n",
       "      <td>114.5</td>\n",
       "      <td>97.6</td>\n",
       "      <td>130.5</td>\n",
       "      <td>123</td>\n",
       "      <td>124.3</td>\n",
       "      <td>133.7</td>\n",
       "    </tr>\n",
       "    <tr>\n",
       "      <th>9</th>\n",
       "      <td>252.6</td>\n",
       "      <td>246.7</td>\n",
       "      <td>252.9</td>\n",
       "      <td>232.5</td>\n",
       "      <td>199.4</td>\n",
       "      <td>236.4</td>\n",
       "      <td>175.4</td>\n",
       "      <td>189.4</td>\n",
       "      <td>266.6</td>\n",
       "      <td>230.3</td>\n",
       "      <td>257.7</td>\n",
       "      <td>224.4</td>\n",
       "    </tr>\n",
       "    <tr>\n",
       "      <th>10</th>\n",
       "      <td>484.2</td>\n",
       "      <td>445.9</td>\n",
       "      <td>517</td>\n",
       "      <td>452</td>\n",
       "      <td>402</td>\n",
       "      <td>488</td>\n",
       "      <td>456</td>\n",
       "      <td>409</td>\n",
       "      <td>506</td>\n",
       "      <td>495</td>\n",
       "      <td>493</td>\n",
       "      <td>502</td>\n",
       "    </tr>\n",
       "    <tr>\n",
       "      <th>11</th>\n",
       "      <td>584.1</td>\n",
       "      <td>571.2</td>\n",
       "      <td>684.7</td>\n",
       "      <td>590.3</td>\n",
       "      <td>563.4</td>\n",
       "      <td>666.3</td>\n",
       "      <td>570.4</td>\n",
       "      <td>433.2</td>\n",
       "      <td>679.7</td>\n",
       "      <td>656.1</td>\n",
       "      <td>662.6</td>\n",
       "      <td>699.9</td>\n",
       "    </tr>\n",
       "    <tr>\n",
       "      <th>12</th>\n",
       "      <td>394.1</td>\n",
       "      <td>366.3</td>\n",
       "      <td>422.7</td>\n",
       "      <td>367.1</td>\n",
       "      <td>273.5</td>\n",
       "      <td>381.7</td>\n",
       "      <td>353.4</td>\n",
       "      <td>297</td>\n",
       "      <td>414</td>\n",
       "      <td>350</td>\n",
       "      <td>410.6</td>\n",
       "      <td>410</td>\n",
       "    </tr>\n",
       "    <tr>\n",
       "      <th>13</th>\n",
       "      <td>7134.2</td>\n",
       "      <td>6462.6</td>\n",
       "      <td>7517.4</td>\n",
       "      <td>6656.6</td>\n",
       "      <td>6563.4</td>\n",
       "      <td>7063</td>\n",
       "      <td>6220.2</td>\n",
       "      <td>5464</td>\n",
       "      <td>7296.3</td>\n",
       "      <td>7084.6</td>\n",
       "      <td>7291.7</td>\n",
       "      <td>7492.8</td>\n",
       "    </tr>\n",
       "    <tr>\n",
       "      <th>14</th>\n",
       "      <td>75.3</td>\n",
       "      <td>60.4</td>\n",
       "      <td>71.2</td>\n",
       "      <td>59.5</td>\n",
       "      <td>73.9</td>\n",
       "      <td>72</td>\n",
       "      <td>57.9</td>\n",
       "      <td>56.4</td>\n",
       "      <td>75.5</td>\n",
       "      <td>75.7</td>\n",
       "      <td>65.8</td>\n",
       "      <td>79.1</td>\n",
       "    </tr>\n",
       "    <tr>\n",
       "      <th>15</th>\n",
       "      <td>247</td>\n",
       "      <td>211</td>\n",
       "      <td>251</td>\n",
       "      <td>218</td>\n",
       "      <td>185</td>\n",
       "      <td>224</td>\n",
       "      <td>213.3</td>\n",
       "      <td>162.9</td>\n",
       "      <td>203.4</td>\n",
       "      <td>232.1</td>\n",
       "      <td>227.6</td>\n",
       "      <td>251.6</td>\n",
       "    </tr>\n",
       "    <tr>\n",
       "      <th>16</th>\n",
       "      <td>222</td>\n",
       "      <td>189</td>\n",
       "      <td>218</td>\n",
       "      <td>192</td>\n",
       "      <td>180</td>\n",
       "      <td>199</td>\n",
       "      <td>171.8</td>\n",
       "      <td>134.8</td>\n",
       "      <td>183.1</td>\n",
       "      <td>195.5</td>\n",
       "      <td>213.8</td>\n",
       "      <td>204.1</td>\n",
       "    </tr>\n",
       "    <tr>\n",
       "      <th>17</th>\n",
       "      <td>273</td>\n",
       "      <td>248.6</td>\n",
       "      <td>292.2</td>\n",
       "      <td>255.2</td>\n",
       "      <td>284.3</td>\n",
       "      <td>267.3</td>\n",
       "      <td>246.6</td>\n",
       "      <td>210.3</td>\n",
       "      <td>280.6</td>\n",
       "      <td>275.6</td>\n",
       "      <td>284.6</td>\n",
       "      <td>283.2</td>\n",
       "    </tr>\n",
       "    <tr>\n",
       "      <th>18</th>\n",
       "      <td>487.2</td>\n",
       "      <td>422.2</td>\n",
       "      <td>491</td>\n",
       "      <td>437</td>\n",
       "      <td>466</td>\n",
       "      <td>443</td>\n",
       "      <td>373.5</td>\n",
       "      <td>367.5</td>\n",
       "      <td>511.9</td>\n",
       "      <td>490.6</td>\n",
       "      <td>469.2</td>\n",
       "      <td>487.9</td>\n",
       "    </tr>\n",
       "    <tr>\n",
       "      <th>19</th>\n",
       "      <td>183.9</td>\n",
       "      <td>173.1</td>\n",
       "      <td>204.2</td>\n",
       "      <td>183</td>\n",
       "      <td>203.2</td>\n",
       "      <td>181.9</td>\n",
       "      <td>191.2</td>\n",
       "      <td>153.6</td>\n",
       "      <td>208.6</td>\n",
       "      <td>186.5</td>\n",
       "      <td>192.9</td>\n",
       "      <td>189.9</td>\n",
       "    </tr>\n",
       "    <tr>\n",
       "      <th>20</th>\n",
       "      <td>208.3</td>\n",
       "      <td>197.1</td>\n",
       "      <td>220.4</td>\n",
       "      <td>197.9</td>\n",
       "      <td>151.7</td>\n",
       "      <td>206.9</td>\n",
       "      <td>199.9</td>\n",
       "      <td>163.3</td>\n",
       "      <td>223.8</td>\n",
       "      <td>203.6</td>\n",
       "      <td>213.8</td>\n",
       "      <td>235.7</td>\n",
       "    </tr>\n",
       "  </tbody>\n",
       "</table>\n",
       "</div>"
      ],
      "text/plain": [
       "   janv-11 févr-11 mars-11  avr-11  mai-11 juin-11 juil-11 août-11 sept-11  \\\n",
       "0    288.1   249.1   303.7   255.8   287.8   288.4   249.6   185.6   281.3   \n",
       "1    596.5   540.2   618.5   558.6   595.9   581.7   539.2   490.5   597.8   \n",
       "2      464   404.9   465.3   420.2   405.3     446   412.9   348.7   449.3   \n",
       "3    903.1   801.4   937.5   835.5   876.8   888.6   628.8   674.8   913.3   \n",
       "4    451.1   412.4   491.6   422.7   363.6   446.4   409.5   332.3   416.4   \n",
       "5      427   394.3   455.2   419.9   458.3   456.6     418   361.8   464.6   \n",
       "6    323.4   287.3   350.3   317.8   336.9   340.7   311.6     281   345.6   \n",
       "7      153   125.8   136.6   126.6   133.2   127.6   126.7   114.3   144.3   \n",
       "8    116.3   115.7   133.4     115   123.2   120.5   114.5    97.6   130.5   \n",
       "9    252.6   246.7   252.9   232.5   199.4   236.4   175.4   189.4   266.6   \n",
       "10   484.2   445.9     517     452     402     488     456     409     506   \n",
       "11   584.1   571.2   684.7   590.3   563.4   666.3   570.4   433.2   679.7   \n",
       "12   394.1   366.3   422.7   367.1   273.5   381.7   353.4     297     414   \n",
       "13  7134.2  6462.6  7517.4  6656.6  6563.4    7063  6220.2    5464  7296.3   \n",
       "14    75.3    60.4    71.2    59.5    73.9      72    57.9    56.4    75.5   \n",
       "15     247     211     251     218     185     224   213.3   162.9   203.4   \n",
       "16     222     189     218     192     180     199   171.8   134.8   183.1   \n",
       "17     273   248.6   292.2   255.2   284.3   267.3   246.6   210.3   280.6   \n",
       "18   487.2   422.2     491     437     466     443   373.5   367.5   511.9   \n",
       "19   183.9   173.1   204.2     183   203.2   181.9   191.2   153.6   208.6   \n",
       "20   208.3   197.1   220.4   197.9   151.7   206.9   199.9   163.3   223.8   \n",
       "\n",
       "    oct-11  nov-11  déc-11  \n",
       "0    284.3   296.4   301.1  \n",
       "1    575.7   580.5   601.4  \n",
       "2    446.3   453.1   484.3  \n",
       "3    878.7   895.7   935.8  \n",
       "4    451.5   475.1   513.5  \n",
       "5    453.4   478.5   470.9  \n",
       "6    335.6     367   354.5  \n",
       "7    145.1   129.5   129.8  \n",
       "8      123   124.3   133.7  \n",
       "9    230.3   257.7   224.4  \n",
       "10     495     493     502  \n",
       "11   656.1   662.6   699.9  \n",
       "12     350   410.6     410  \n",
       "13  7084.6  7291.7  7492.8  \n",
       "14    75.7    65.8    79.1  \n",
       "15   232.1   227.6   251.6  \n",
       "16   195.5   213.8   204.1  \n",
       "17   275.6   284.6   283.2  \n",
       "18   490.6   469.2   487.9  \n",
       "19   186.5   192.9   189.9  \n",
       "20   203.6   213.8   235.7  "
      ]
     },
     "execution_count": 29,
     "metadata": {},
     "output_type": "execute_result"
    }
   ],
   "source": [
    "dataParis = pd.read_csv(\"data/base-Paris.csv\", sep=';')\n",
    "arrd = dataParis['Granularité'].copy()\n",
    "del dataParis['Granularité']\n",
    "del dataParis['Total arrondissement 2011']\n",
    "\n",
    "#convertir string en float\n",
    "for i, row in dataParis.iterrows():\n",
    "    for cl in dataParis.columns:\n",
    "        row[cl] = row[cl].replace(' ', '')\n",
    "        row[cl] = row[cl].replace(',','.')\n",
    "        row[cl] = float(row[cl])\n",
    "dataParis"
   ]
  },
  {
   "cell_type": "code",
   "execution_count": 30,
   "metadata": {},
   "outputs": [
    {
     "name": "stdout",
     "output_type": "stream",
     "text": [
      " K =  2\n",
      "Iteration  0  Inertie :  488342633.631  Difference :  8324750.688947439\n",
      "Iteration  1  Inertie :  432095231.925  Difference :  56247401.70605272\n",
      "Iteration  2  Inertie :  223343341.123  Difference :  208751890.80184206\n",
      "Iteration  3  Inertie :  8687784.075  Difference :  214655557.0481579\n",
      "Iteration  4  Inertie :  8687784.075  Difference :  0.0\n",
      " K =  3\n",
      "Iteration  0  Inertie :  484061968.674  Difference :  12605415.64611125\n",
      "Iteration  1  Inertie :  398134070.588  Difference :  85927898.08555555\n",
      "Iteration  2  Inertie :  6320141.02314  Difference :  391813929.56519604\n",
      "Iteration  3  Inertie :  3826230.6675  Difference :  2493910.3556372556\n",
      "Iteration  4  Inertie :  2991544.498  Difference :  834686.1694999994\n",
      "Iteration  5  Inertie :  2829615.96788  Difference :  161928.53012121236\n",
      "Iteration  6  Inertie :  2829615.96788  Difference :  0.0\n",
      " K =  4\n",
      "Iteration  0  Inertie :  346939581.283  Difference :  149727803.03711122\n",
      "Iteration  1  Inertie :  2641637.30681  Difference :  344297943.97607934\n",
      "Iteration  2  Inertie :  2381126.95625  Difference :  260510.3505595238\n",
      "Iteration  3  Inertie :  2285396.91472  Difference :  95730.04152777791\n",
      "Iteration  4  Inertie :  2285396.91472  Difference :  0.0\n",
      " K =  5\n",
      "Iteration  0  Inertie :  396442963.185  Difference :  100224421.13452393\n",
      "Iteration  1  Inertie :  2614451.69014  Difference :  393828511.4953333\n",
      "Iteration  2  Inertie :  2353941.33958  Difference :  260510.3505595238\n",
      "Iteration  3  Inertie :  2258211.29806  Difference :  95730.04152777838\n",
      "Iteration  4  Inertie :  2228795.76125  Difference :  29415.53680555569\n",
      "Iteration  5  Inertie :  2138766.73317  Difference :  90029.02808333328\n",
      "Iteration  6  Inertie :  2109341.16317  Difference :  29425.569999999832\n",
      "Iteration  7  Inertie :  2039891.76917  Difference :  69449.39399999985\n",
      "Iteration  8  Inertie :  1995933.14317  Difference :  43958.626000000164\n",
      "Iteration  9  Inertie :  1995933.14317  Difference :  0.0\n",
      " K =  6\n",
      "Iteration  0  Inertie :  446781983.226  Difference :  49885401.09439415\n",
      "Iteration  1  Inertie :  219547092.55  Difference :  227234890.67568174\n",
      "Iteration  2  Inertie :  2572828.36133  Difference :  216974264.18859088\n",
      "Iteration  3  Inertie :  2047800.34817  Difference :  525028.0131666665\n",
      "Iteration  4  Inertie :  1995933.14317  Difference :  51867.205000000075\n",
      "Iteration  5  Inertie :  1995933.14317  Difference :  0.0\n",
      " K =  7\n",
      "Iteration  0  Inertie :  431150182.904  Difference :  65517201.41600019\n",
      "Iteration  1  Inertie :  218811148.838  Difference :  212339034.06611103\n",
      "Iteration  2  Inertie :  2219264.664  Difference :  216591884.1738889\n",
      "Iteration  3  Inertie :  1995933.14317  Difference :  223331.5208333335\n",
      "Iteration  4  Inertie :  1995933.14317  Difference :  0.0\n",
      " K =  8\n",
      "Iteration  0  Inertie :  346347884.508  Difference :  150319499.8118335\n",
      "Iteration  1  Inertie :  1066244.61067  Difference :  345281639.8974999\n",
      "Iteration  2  Inertie :  676986.314667  Difference :  389258.2960000001\n",
      "Iteration  3  Inertie :  676986.314667  Difference :  0.0\n",
      " K =  9\n",
      "Iteration  0  Inertie :  346390507.4  Difference :  150276876.91952395\n",
      "Iteration  1  Inertie :  1390252.62548  Difference :  345000254.775\n",
      "Iteration  2  Inertie :  721773.016143  Difference :  668479.6093333333\n",
      "Iteration  3  Inertie :  721773.016143  Difference :  0.0\n",
      " K =  10\n",
      "Iteration  0  Inertie :  411116847.6  Difference :  85550536.71976209\n",
      "Iteration  1  Inertie :  1890928.25417  Difference :  409225919.34607136\n",
      "Iteration  2  Inertie :  1429330.22667  Difference :  461598.0275000001\n",
      "Iteration  3  Inertie :  729602.798333  Difference :  699727.4283333335\n",
      "Iteration  4  Inertie :  729602.798333  Difference :  0.0\n",
      " K =  11\n",
      "Iteration  0  Inertie :  346407314.482  Difference :  150260069.8376668\n",
      "Iteration  1  Inertie :  1914110.54317  Difference :  344493203.93916667\n",
      "Iteration  2  Inertie :  1452512.51567  Difference :  461598.0275000001\n",
      "Iteration  3  Inertie :  752785.087333  Difference :  699727.4283333335\n",
      "Iteration  4  Inertie :  752785.087333  Difference :  0.0\n",
      " K =  12\n",
      "Iteration  0  Inertie :  116753.208167  Difference :  496550631.11183345\n",
      "Iteration  1  Inertie :  104045.352333  Difference :  12707.855833333335\n",
      "Iteration  2  Inertie :  93942.5356667  Difference :  10102.816666666651\n",
      "Iteration  3  Inertie :  93942.5356667  Difference :  0.0\n",
      " K =  13\n",
      "Iteration  0  Inertie :  652603.91  Difference :  496014780.4100001\n",
      "Iteration  1  Inertie :  627751.695  Difference :  24852.214999999967\n",
      "Iteration  2  Inertie :  627751.695  Difference :  0.0\n",
      " K =  14\n",
      "Iteration  0  Inertie :  346315363.412  Difference :  150352020.90833348\n",
      "Iteration  1  Inertie :  1033723.51417  Difference :  345281639.8975\n",
      "Iteration  2  Inertie :  642575.006667  Difference :  391148.5075000003\n",
      "Iteration  3  Inertie :  642575.006667  Difference :  0.0\n",
      " K =  15\n",
      "Iteration  0  Inertie :  84229.5706667  Difference :  496583154.74933344\n",
      "Iteration  1  Inertie :  84229.5706667  Difference :  0.0\n",
      " K =  16\n",
      "Iteration  0  Inertie :  488259.119167  Difference :  496179125.20083344\n",
      "Iteration  1  Inertie :  137236.986667  Difference :  351022.13249999995\n",
      "Iteration  2  Inertie :  91050.249  Difference :  46186.73766666667\n",
      "Iteration  3  Inertie :  91050.249  Difference :  0.0\n",
      " K =  17\n",
      "Iteration  0  Inertie :  346339309.605  Difference :  150328074.71500015\n",
      "Iteration  1  Inertie :  1557571.99167  Difference :  344781737.6133333\n",
      "Iteration  2  Inertie :  636479.259  Difference :  921092.7326666667\n",
      "Iteration  3  Inertie :  636479.259  Difference :  0.0\n",
      " K =  18\n",
      "Iteration  0  Inertie :  79184.6183333  Difference :  496588199.7016668\n",
      "Iteration  1  Inertie :  79184.6183333  Difference :  0.0\n",
      " K =  19\n",
      "Iteration  0  Inertie :  218045630.332  Difference :  278621753.98833346\n",
      "Iteration  1  Inertie :  623916.96  Difference :  217421713.37166664\n",
      "Iteration  2  Inertie :  608844.62  Difference :  15072.340000000084\n",
      "Iteration  3  Inertie :  608844.62  Difference :  0.0\n",
      " K =  20\n",
      "Iteration  0  Inertie :  379871.435  Difference :  496287512.8850001\n",
      "Iteration  1  Inertie :  53011.75  Difference :  326859.685\n",
      "Iteration  2  Inertie :  53011.75  Difference :  0.0\n",
      " K =  21\n",
      "Iteration  0  Inertie :  302374042.651  Difference :  194293341.6691668\n",
      "Iteration  1  Inertie :  600397.783333  Difference :  301773644.86749995\n",
      "Iteration  2  Inertie :  600397.783333  Difference :  0.0\n"
     ]
    }
   ],
   "source": [
    "indexDunn = []\n",
    "indexXB = []\n",
    "tabCentresMatrices = []\n",
    "for k in list(range(2, 22)):\n",
    "    \n",
    "    print(\" K = \", k)\n",
    "    les_centres, l_affectation= km.kmoyennes(k, dataParis, 0.05, 100)\n",
    "    \n",
    "    tabCentresMatrices.append((les_centres, l_affectation))\n",
    "    indexDunn.append(evaluation(\"Dunn\", dataParis, les_centres, l_affectation))\n",
    "    indexXB.append(evaluation(\"XB\", dataParis, les_centres, l_affectation))"
   ]
  },
  {
   "cell_type": "code",
   "execution_count": 31,
   "metadata": {},
   "outputs": [
    {
     "data": {
      "image/png": "[encoded data removed]",
      "text/plain": [
       "<matplotlib.figure.Figure at 0x27ba96c53c8>"
      ]
     },
     "metadata": {},
     "output_type": "display_data"
    },
    {
     "name": "stdout",
     "output_type": "stream",
     "text": [
      "[0.11998332866726479, 1.541701493202168, 2.8927044993726523, 4.2266485054043326, 4.2266485054043326, 4.2266485054043326, 4.318096080047277, 18.200160340380233, 13.975929869684835, 3.3317524064270976, 2.1215391029847255, 9.9068604587070421, 13.975929869684835, 2.2432668274205669, 2.0920573003615353, 9.2909469445358308, 2.4296887255694353, 13.088650065322733, 4.9621223333809477, 22.037071032314245]\n"
     ]
    }
   ],
   "source": [
    "ks = list(range(2, 22))\n",
    "plt.plot(ks, indexDunn)\n",
    "plt.title(\"Index de Dunn\")\n",
    "plt.show()\n",
    "print(indexDunn)"
   ]
  },
  {
   "cell_type": "code",
   "execution_count": 34,
   "metadata": {},
   "outputs": [
    {
     "data": {
      "image/png": "[encoded data removed]",
      "text/plain": [
       "<matplotlib.figure.Figure at 0x27baa1e2208>"
      ]
     },
     "metadata": {},
     "output_type": "display_data"
    },
    {
     "name": "stdout",
     "output_type": "stream",
     "text": [
      "[383.80756932424885, 2601.0528824298876, 4525.7103908698409, 5775.1487376889872, 5775.1487376889872, 5775.1487376889872, 2986.2575695515034, 13419.332953000354, 10416.510991840532, 2562.11606705027, 891.6149280610216, 6353.002300820086, 9174.0185691658062, 857.20954562750228, 864.1640406655381, 6040.8674802992309, 872.83658926379019, 8140.599748996352, 1193.3864033058771, 13515.995061566311]\n"
     ]
    }
   ],
   "source": [
    "plt.plot(ks, indexXB)\n",
    "plt.title(\"Index de Xie et Benie\")\n",
    "plt.show()\n",
    "print(indexXB)"
   ]
  },
  {
   "cell_type": "code",
   "execution_count": null,
   "metadata": {
    "collapsed": true
   },
   "outputs": [],
   "source": []
  }
 ],
 "metadata": {
  "kernelspec": {
   "display_name": "Python 3",
   "language": "python",
   "name": "python3"
  },
  "language_info": {
   "codemirror_mode": {
    "name": "ipython",
    "version": 3
   },
   "file_extension": ".py",
   "mimetype": "text/x-python",
   "name": "python",
   "nbconvert_exporter": "python",
   "pygments_lexer": "ipython3",
   "version": "3.6.3"
  }
 },
 "nbformat": 4,
 "nbformat_minor": 1
}
