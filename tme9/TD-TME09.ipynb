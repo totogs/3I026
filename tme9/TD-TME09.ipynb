{
 "cells": [
  {
   "cell_type": "markdown",
   "metadata": {},
   "source": [
    "IA & Data science -- 2017-2018\n",
    "--------\n",
    "*&copy; Equipe pédagogique: Ludovic Denoyer, Thibault Laugel, Marie-Jeanne Lesot, Christophe Marsala, Olivier Schwander*"
   ]
  },
  {
   "cell_type": "markdown",
   "metadata": {},
   "source": [
    "# TD-TME09: études et améliorations des K-moyennes"
   ]
  },
  {
   "cell_type": "markdown",
   "metadata": {},
   "source": [
    "<font size=\"+1\">**[Q]**</font> **Indiquer dans la boîte ci-dessous vos noms et prénoms :**"
   ]
  },
  {
   "cell_type": "markdown",
   "metadata": {},
   "source": [
    "*Double-cliquer ici et insérer les noms et prénoms de votre binôme*"
   ]
  },
  {
   "cell_type": "markdown",
   "metadata": {},
   "source": [
    "## Préparation\n",
    "\n",
    "Décompresser l'archive, elle crée le répertoire \"tp9\" qui contient :\n",
    "- un fichier ipython à ouvrir (ce fichier-ci)\n",
    "- un sous-répertoire \"data\" contenant les bases d'apprentissage utilisées dans cette séance\n",
    "- un sous-répertoire \"IADS2018\" (qui contient 2 fichiers python) dont l'utilisation est détaillée un peu plus loin dans ce fichier ipython.\n",
    "\n",
    "Le but de ce TP est de compléter ce document ipython en ajoutant les fonctions demandées. Avant de commencer, exécuter le bloc suivant afin de pouvoir initialiser des variables utiles \n"
   ]
  },
  {
   "cell_type": "code",
   "execution_count": 1,
   "metadata": {},
   "outputs": [],
   "source": [
    "import numpy as np\n",
    "import pandas as pd\n",
    "from datetime import datetime as dt\n",
    "import matplotlib.pyplot as plt\n",
    "%matplotlib inline  "
   ]
  },
  {
   "cell_type": "markdown",
   "metadata": {},
   "source": [
    "### Chargement du fichier \"base_2D.csv\""
   ]
  },
  {
   "cell_type": "code",
   "execution_count": 2,
   "metadata": {
    "scrolled": true
   },
   "outputs": [
    {
     "data": {
      "text/html": [
       "<div>\n",
       "<style scoped>\n",
       "    .dataframe tbody tr th:only-of-type {\n",
       "        vertical-align: middle;\n",
       "    }\n",
       "\n",
       "    .dataframe tbody tr th {\n",
       "        vertical-align: top;\n",
       "    }\n",
       "\n",
       "    .dataframe thead th {\n",
       "        text-align: right;\n",
       "    }\n",
       "</style>\n",
       "<table border=\"1\" class=\"dataframe\">\n",
       "  <thead>\n",
       "    <tr style=\"text-align: right;\">\n",
       "      <th></th>\n",
       "      <th>X</th>\n",
       "      <th>Y</th>\n",
       "    </tr>\n",
       "  </thead>\n",
       "  <tbody>\n",
       "    <tr>\n",
       "      <th>0</th>\n",
       "      <td>0.0</td>\n",
       "      <td>4.0</td>\n",
       "    </tr>\n",
       "    <tr>\n",
       "      <th>1</th>\n",
       "      <td>1.0</td>\n",
       "      <td>3.5</td>\n",
       "    </tr>\n",
       "    <tr>\n",
       "      <th>2</th>\n",
       "      <td>1.0</td>\n",
       "      <td>1.0</td>\n",
       "    </tr>\n",
       "    <tr>\n",
       "      <th>3</th>\n",
       "      <td>2.0</td>\n",
       "      <td>1.0</td>\n",
       "    </tr>\n",
       "    <tr>\n",
       "      <th>4</th>\n",
       "      <td>2.0</td>\n",
       "      <td>2.0</td>\n",
       "    </tr>\n",
       "  </tbody>\n",
       "</table>\n",
       "</div>"
      ],
      "text/plain": [
       "     X    Y\n",
       "0  0.0  4.0\n",
       "1  1.0  3.5\n",
       "2  1.0  1.0\n",
       "3  2.0  1.0\n",
       "4  2.0  2.0"
      ]
     },
     "execution_count": 2,
     "metadata": {},
     "output_type": "execute_result"
    }
   ],
   "source": [
    "data_2D = pd.read_csv(\"data/base-2D.csv\")\n",
    "data_2D[0:5]  # ou bien: data_2D[0:len(data_2D)]"
   ]
  },
  {
   "cell_type": "markdown",
   "metadata": {},
   "source": [
    "Dans la suite de ce TP, il est conseillé de travailler sur des données de type <tt>DataFrame</tt> le plus souvent possible.\n",
    "\n",
    "**Important**: dans la suite de ce TP, on appelle:\n",
    "\n",
    "- \"base d'apprentissage\" le DataFrame contenant l'ensemble des exemples d'apprentissage chargés par la commande précédenteµ\n",
    "- \"base d'exemples\" : un DataFrame contenant un ensemble d'exemples (remarque: la base d'apprentissage est le plus grand ensemble d'exemples possible)"
   ]
  },
  {
   "cell_type": "markdown",
   "metadata": {},
   "source": [
    "## Construction d'un package de fonctions"
   ]
  },
  {
   "cell_type": "markdown",
   "metadata": {},
   "source": [
    "Dans un premier temps, afin de pouvoir utiliser toutes les fonctions écrites dans le TP précédent (fonctions pour les K-moyennes), vous allez réaliser un package de fonctions qui s'appelle \"<tt>IADS2018</tt>\".\n",
    "\n",
    "Le package <tt>IADS2018</tt> est composé ainsi :\n",
    "- c'est un répertoire dont le nom est <tt>IADS2018</tt>\n",
    "- ce répertoire contient le fichier <tt>\\__init\\__.py</tt> qui, dans notre cas, est un fichier vide (mais il est important que ce fichier existe !)\n",
    "- ce répertoire contient le fichier <<tt>kmoyennes.py</tt> qui est le fichier dans lequel vous devez mettre toutes les fonctions écrites lors du TP précédent sur les K-moyennes."
   ]
  },
  {
   "cell_type": "markdown",
   "metadata": {},
   "source": [
    "<font size=\"+1\" color=\"RED\">**[Q]**</font> En utilisant votre éditeur de texte préféré (emacs, gedit, vim,...) ouvrir le fichier <tt>kmoyennes.py</tt> qui se trouve dans le sous-répertoire <tt>IADS2018</tt> et compléter-le en reprenant les fonctions que vous avez écrites dans la séance précédente."
   ]
  },
  {
   "cell_type": "markdown",
   "metadata": {},
   "source": [
    "Une fois le fichier <tt>kmoyennes.py</tt> complété et sauvegardé, il est possible d'utiliser les fonctions qui y sont définies en utilisant une commande d'importation:"
   ]
  },
  {
   "cell_type": "code",
   "execution_count": 3,
   "metadata": {},
   "outputs": [],
   "source": [
    "# Importation des fonctions écrites dans les fichiers python que contient le répertoire (package) IADS2018:\n",
    "import IADS2018 \n",
    "import IADS2018.kmoyennes as km"
   ]
  },
  {
   "cell_type": "markdown",
   "metadata": {},
   "source": [
    "#### Vérification que tout fonctionne bien\n",
    "\n",
    "Si la recopie de toutes vos fonctions s'est bien déroulée, une fois l'importation faite il est possible de tester les instructions des boites suivantes:"
   ]
  },
  {
   "cell_type": "code",
   "execution_count": 4,
   "metadata": {},
   "outputs": [
    {
     "name": "stdout",
     "output_type": "stream",
     "text": [
      "---> type de DataFnorm: <class 'pandas.core.frame.DataFrame'>\n"
     ]
    },
    {
     "data": {
      "text/plain": [
       "<matplotlib.collections.PathCollection at 0x7faded0f3128>"
      ]
     },
     "execution_count": 4,
     "metadata": {},
     "output_type": "execute_result"
    },
    {
     "data": {
      "image/png": "[encoded data removed]",
      "text/plain": [
       "<matplotlib.figure.Figure at 0x7faded17f160>"
      ]
     },
     "metadata": {},
     "output_type": "display_data"
    }
   ],
   "source": [
    "# Affichage des points après normalisation:\n",
    "\n",
    "DataFnorm = km.normalisation(data_2D)\n",
    "print(\"---> type de DataFnorm:\",type(DataFnorm))\n",
    "\n",
    "plt.scatter(DataFnorm['X'],DataFnorm['Y'])"
   ]
  },
  {
   "cell_type": "code",
   "execution_count": 5,
   "metadata": {},
   "outputs": [
    {
     "name": "stdout",
     "output_type": "stream",
     "text": [
      "Iteration  0  Inertie :  1.25678571429  Difference :  1.7192055393586014\n",
      "Iteration  1  Inertie :  1.25678571429  Difference :  0.0\n"
     ]
    },
    {
     "data": {
      "image/png": "[encoded data removed]",
      "text/plain": [
       "<matplotlib.figure.Figure at 0x7faded115be0>"
      ]
     },
     "metadata": {},
     "output_type": "display_data"
    }
   ],
   "source": [
    "les_centres, l_affectation = km.kmoyennes(3, DataFnorm, 0.05, 100)\n",
    "\n",
    "km.affiche_resultat(DataFnorm,les_centres,l_affectation)"
   ]
  },
  {
   "cell_type": "markdown",
   "metadata": {},
   "source": [
    "## Travail à réaliser"
   ]
  },
  {
   "cell_type": "markdown",
   "metadata": {},
   "source": [
    "On peut reprendre les fonctions écrites dans les tp sur l'apprentissage supervisé pour générer des ensembles de points en 2 dimensions afin de tester la fonction <tt>kmoyennes()</tt>. \n",
    "Par exemple, pour générer des points répartis en 2 groupes:"
   ]
  },
  {
   "cell_type": "code",
   "execution_count": 6,
   "metadata": {},
   "outputs": [
    {
     "data": {
      "image/png": "[encoded data removed]",
      "text/plain": [
       "<matplotlib.figure.Figure at 0x7fadecfe72e8>"
      ]
     },
     "metadata": {},
     "output_type": "display_data"
    }
   ],
   "source": [
    "def createGaussianDataset(group1_center,group2_center,sigma,nb_points):\n",
    "        group1 = np.random.multivariate_normal(group1_center,sigma,nb_points)\n",
    "        group2 = np.random.multivariate_normal(group2_center,sigma,nb_points)\n",
    "        \n",
    "        return np.concatenate((group1, group2))\n",
    "\n",
    "# Utilisation de cette fonction :\n",
    "the_set = createGaussianDataset(np.array([2,2]),np.array([-2,-2]),np.array([[1.1,0],[0,1.1]]),100)\n",
    "\n",
    "# Affichage des points obtenus\n",
    "data_random = pd.DataFrame(the_set, columns = ['X', 'Y'])\n",
    "plt.scatter(data_random['X'],data_random['Y'])\n",
    "\n",
    "# Normalisation pour pouvoir utiliser la fonction kmoyennes() par la suite:\n",
    "DataRandom = km.normalisation(data_random)"
   ]
  },
  {
   "cell_type": "markdown",
   "metadata": {},
   "source": [
    "<font size=\"+1\" color=\"RED\">**[Q]**</font> Tester la fonction <tt>kmoyennes()</tt> sur le jeu de données généré en utilisant différentes valeurs de $K$."
   ]
  },
  {
   "cell_type": "code",
   "execution_count": 7,
   "metadata": {},
   "outputs": [
    {
     "name": "stdout",
     "output_type": "stream",
     "text": [
      "Iteration  0  Inertie :  3.83992461858  Difference :  17.4432584363688\n",
      "Iteration  1  Inertie :  3.67645718237  Difference :  0.16346743620896742\n",
      "Iteration  2  Inertie :  3.66358801265  Difference :  0.012869169719135876\n"
     ]
    },
    {
     "data": {
      "image/png": "[encoded data removed]",
      "text/plain": [
       "<matplotlib.figure.Figure at 0x7faded0bb630>"
      ]
     },
     "metadata": {},
     "output_type": "display_data"
    }
   ],
   "source": [
    "les_centresRand1, l_affectationRand1 = km.kmoyennes(3, DataRandom, 0.05, 100)\n",
    "\n",
    "km.affiche_resultat(DataRandom,les_centresRand1,l_affectationRand1)"
   ]
  },
  {
   "cell_type": "code",
   "execution_count": 8,
   "metadata": {},
   "outputs": [
    {
     "name": "stdout",
     "output_type": "stream",
     "text": [
      "Iteration  0  Inertie :  3.95896686816  Difference :  17.324216186787687\n",
      "Iteration  1  Inertie :  3.69191765238  Difference :  0.2670492157793052\n",
      "Iteration  2  Inertie :  3.68159404368  Difference :  0.010323608699929654\n"
     ]
    },
    {
     "data": {
      "image/png": "[encoded data removed]",
      "text/plain": [
       "<matplotlib.figure.Figure at 0x7faded11b5c0>"
      ]
     },
     "metadata": {},
     "output_type": "display_data"
    }
   ],
   "source": [
    "les_centresRand1, l_affectationRand1 = km.kmoyennes(3, DataRandom, 0.05, 100)\n",
    "\n",
    "km.affiche_resultat(DataRandom,les_centresRand1,l_affectationRand1)"
   ]
  },
  {
   "cell_type": "code",
   "execution_count": 9,
   "metadata": {},
   "outputs": [
    {
     "name": "stdout",
     "output_type": "stream",
     "text": [
      "Iteration  0  Inertie :  19.2767833789  Difference :  2.006399676051622\n",
      "Iteration  1  Inertie :  7.57849022319  Difference :  11.698293155707592\n",
      "Iteration  2  Inertie :  4.36803201944  Difference :  3.2104582037472467\n",
      "Iteration  3  Inertie :  4.3468634276  Difference :  0.0211685918369664\n"
     ]
    },
    {
     "data": {
      "image/png": "[encoded data removed]",
      "text/plain": [
       "<matplotlib.figure.Figure at 0x7faded12b588>"
      ]
     },
     "metadata": {},
     "output_type": "display_data"
    }
   ],
   "source": [
    "les_centresRand1, l_affectationv = km.kmoyennes(2, DataRandom, 0.05, 100)\n",
    "\n",
    "km.affiche_resultat(DataRandom,les_centresRand1,l_affectationRand1)"
   ]
  },
  {
   "cell_type": "code",
   "execution_count": 10,
   "metadata": {},
   "outputs": [
    {
     "name": "stdout",
     "output_type": "stream",
     "text": [
      "Iteration  0  Inertie :  3.23731907072  Difference :  18.04586398422971\n",
      "Iteration  1  Inertie :  3.08818016191  Difference :  0.14913890881156577\n",
      "Iteration  2  Inertie :  3.06443230874  Difference :  0.023747853169514777\n"
     ]
    },
    {
     "data": {
      "image/png": "[encoded data removed]",
      "text/plain": [
       "<matplotlib.figure.Figure at 0x7faded152ef0>"
      ]
     },
     "metadata": {},
     "output_type": "display_data"
    }
   ],
   "source": [
    "les_centresRand1, l_affectationRand1 = km.kmoyennes(5, DataRandom, 0.05, 100)\n",
    "\n",
    "km.affiche_resultat(DataRandom,les_centresRand1,l_affectationRand1)"
   ]
  },
  {
   "cell_type": "code",
   "execution_count": 11,
   "metadata": {},
   "outputs": [
    {
     "name": "stdout",
     "output_type": "stream",
     "text": [
      "Iteration  0  Inertie :  2.24255332772  Difference :  19.04062972722844\n",
      "Iteration  1  Inertie :  2.04826213728  Difference :  0.19429119043727106\n",
      "Iteration  2  Inertie :  1.99378602383  Difference :  0.054476113452478714\n",
      "Iteration  3  Inertie :  1.97820342463  Difference :  0.015582599199953862\n"
     ]
    },
    {
     "data": {
      "image/png": "[encoded data removed]",
      "text/plain": [
       "<matplotlib.figure.Figure at 0x7fadece72eb8>"
      ]
     },
     "metadata": {},
     "output_type": "display_data"
    }
   ],
   "source": [
    "les_centresRand2, l_affectationRand2 = km.kmoyennes(6, DataRandom, 0.05, 100)\n",
    "\n",
    "km.affiche_resultat(DataRandom,les_centresRand2,l_affectationRand2)"
   ]
  },
  {
   "cell_type": "markdown",
   "metadata": {},
   "source": [
    "## Evaluation du résultat d'un clustering\n",
    "\n",
    "L'évaluation du résultat d'un clustering, c'est-à-dire la mesure de la \"qualité\" des clusters obtenus, s'effectue selon 2 critères :\n",
    "- la **compacité** des clusters obtenus\n",
    "- la **séparabilité** des clusters obtenus\n"
   ]
  },
  {
   "cell_type": "markdown",
   "metadata": {},
   "source": [
    "### Mesurer la compacité d'un cluster\n",
    "\n",
    "Il existe plusieurs possibilités pour définir une mesure de compacité d'un cluster. \n",
    "\n",
    "Une telle mesure évalue la proximité des exemples qui sont affectés au cluster.\n",
    "\n",
    "Exemples de mesures de compacité (en utilisant les notations du cours) :\n",
    "- la mesure $J_k$ qui mesure l'inertie intra-cluster et qui a été implémentée dans la fonction <tt>inertie_cluster()</tt>\n",
    "\n",
    "- la mesure de distance intra-cluster $D_{k}$ qui évalue la distance maximale entre 2 exemples d'un même cluster pour l'ensemble des clusters obtenus:\n",
    "$$D_k = \\max_{x, y \\in C_k } (d_{E}(x,y))$$\n"
   ]
  },
  {
   "cell_type": "markdown",
   "metadata": {},
   "source": [
    "<font size=\"+1\" color=\"RED\">**[Q]**</font> Ecrire la fonction <tt>dist_intracluster</tt> qui, étant donné un ensemble d'exemples, correspondant aux exemples d'un même cluster, rend la valeur de la distance intra-cluster correspondante."
   ]
  },
  {
   "cell_type": "code",
   "execution_count": 12,
   "metadata": {},
   "outputs": [],
   "source": [
    "def dist_intracluster(df):\n",
    "    maxdist=0\n",
    "    for i in range(len(df)):\n",
    "        for j in range(i+1,len(df)):\n",
    "           \n",
    "            dist=km.dist_vect(df.iloc[i],df.iloc[j])\n",
    "            if(maxdist<dist):\n",
    "                maxdist=dist\n",
    "            \n",
    "    return maxdist"
   ]
  },
  {
   "cell_type": "code",
   "execution_count": 13,
   "metadata": {},
   "outputs": [
    {
     "name": "stdout",
     "output_type": "stream",
     "text": [
      "pour 0 : inertie = 0.00255102040816\tdistance = 0.0714285714286\n",
      "pour 1 : inertie = 0.162448979592\tdistance = 0.472941295921\n",
      "pour 2 : inertie = 1.09178571429\tdistance = 0.945882591843\n"
     ]
    }
   ],
   "source": [
    "# Avec les données jouet:\n",
    "for k in range(0,len(l_affectation)):\n",
    "    DF = DataFnorm.iloc[l_affectation[k]]\n",
    "    print(\"pour \"+str(k)+\" : inertie = \" + str(km.inertie_cluster(DF)) + \"\\tdistance = \"+  str(dist_intracluster(DF)))\n"
   ]
  },
  {
   "cell_type": "code",
   "execution_count": 14,
   "metadata": {},
   "outputs": [
    {
     "name": "stdout",
     "output_type": "stream",
     "text": [
      "pour 0 : inertie = 0.247137952695\tdistance = 0.33392846394\n",
      "pour 1 : inertie = 0.299582504971\tdistance = 0.295629300543\n",
      "pour 2 : inertie = 0.222960091907\tdistance = 0.385481927698\n"
     ]
    }
   ],
   "source": [
    "# Avec les données générées aléatoirement:\n",
    "for k in range(0,len(l_affectation)):\n",
    "    DF = DataRandom.iloc[l_affectationRand2[k]]\n",
    "    print(\"pour \"+str(k)+\" : inertie = \" + str(km.inertie_cluster(DF)) + \"\\tdistance = \"+  str(dist_intracluster(DF)))\n"
   ]
  },
  {
   "cell_type": "markdown",
   "metadata": {},
   "source": [
    "Etant donné une partition $P$, on peut mesurer la compacité globale des clusters de cette partition en agrégeant les compacités intra-custer de chaque cluster.\n",
    "\n",
    "Ainsi, dans notre cas, on peut définir 2 mesures de compacité globable:\n",
    "- la compacité inertielle $Co_{inertie}$ d'une partition $P$:\n",
    "    $$Co_{inertie}(P) = J(P)$$\n",
    "- la compacité intra-clusters $Co_{dist}$ d'une partition $P$\n",
    "$$Co_{dist}(P) = \\max_{k=1..K} D_k$$\n"
   ]
  },
  {
   "cell_type": "markdown",
   "metadata": {},
   "source": [
    "<font size=\"+1\" color=\"RED\">**[Q]**</font> Ecrire la fonction <tt>global_intraclusters</tt> qui, étant donné une base d'exemples et un \n",
    "dictionnaire d'affectation d'exemples à des clusters rend la valeur de la distance intra-clusters correspondante."
   ]
  },
  {
   "cell_type": "code",
   "execution_count": 15,
   "metadata": {},
   "outputs": [],
   "source": [
    "def global_intraclusters(df,la):\n",
    "    \n",
    "    maxdist=0\n",
    "    \n",
    "    for k, liste in la.items():\n",
    "        \n",
    "        dist=dist_intracluster(df.iloc[liste])\n",
    "        \n",
    "        if(maxdist<dist):\n",
    "            maxdist=dist\n",
    "            \n",
    "    \n",
    "    return maxdist\n",
    "    "
   ]
  },
  {
   "cell_type": "code",
   "execution_count": 16,
   "metadata": {},
   "outputs": [
    {
     "name": "stdout",
     "output_type": "stream",
     "text": [
      "Données jouet: 0.945882591843\n",
      "Données aléatoire: 0.490338465157\n",
      "Avec l'inertie :\n",
      "Données jouet: 1.25678571429\n",
      "Données aléatoire: 1.97820342463\n"
     ]
    }
   ],
   "source": [
    "# Exemples:\n",
    "print(\"Données jouet: \"+str(global_intraclusters(DataFnorm,l_affectation)))\n",
    "print(\"Données aléatoire: \"+str(global_intraclusters(DataRandom,l_affectationRand2)))\n",
    "\n",
    "print(\"Avec l'inertie :\")\n",
    "print(\"Données jouet: \"+str(km.inertie_globale(DataFnorm,l_affectation)))\n",
    "print(\"Données aléatoire: \"+str(km.inertie_globale(DataRandom,l_affectationRand2)))\n"
   ]
  },
  {
   "cell_type": "markdown",
   "metadata": {},
   "source": [
    "### Mesurer la séparabilité\n",
    "\n",
    "Une mesure de séparabilité évalue la distance entre les groupes d'un clustering d'une partition $P$ donnée.\n",
    "\n",
    "Il existe plusieurs mesures de ce genre, par exemple, la mesure la plus évidente est la distance minimale entre deux clusters de la :\n",
    "    $$Se_{min}(P) = \\min_{k= 1..K, l=1..K}(d_E(c_k,c_l)) $$\n"
   ]
  },
  {
   "cell_type": "markdown",
   "metadata": {},
   "source": [
    "<font size=\"+1\" color=\"RED\">**[Q]**</font> Ecrire la fonction <tt>sep_clusters</tt> qui, étant donné un ensemble de centres rend la valeur de la distance minimale entre 2 centres.\n",
    "    "
   ]
  },
  {
   "cell_type": "code",
   "execution_count": 17,
   "metadata": {},
   "outputs": [],
   "source": [
    "def sep_clusters(centroids):\n",
    "    \n",
    "    mindist=10000000000\n",
    "    \n",
    "    for i in range(len(centroids)):\n",
    "        for j in range(i+1,len(centroids)):\n",
    "            \n",
    "            dist=km.dist_vect(centroids.iloc[i], centroids.iloc[j])\n",
    "            \n",
    "            if(mindist>dist):\n",
    "                mindist=dist\n",
    "                \n",
    "    \n",
    "    return mindist\n",
    "            "
   ]
  },
  {
   "cell_type": "code",
   "execution_count": 18,
   "metadata": {},
   "outputs": [
    {
     "name": "stdout",
     "output_type": "stream",
     "text": [
      "Séparabilité: 0.318558616014\n"
     ]
    }
   ],
   "source": [
    "# Avec les données jouet:\n",
    "print(\"Séparabilité: \"+str(sep_clusters(les_centres)))\n"
   ]
  },
  {
   "cell_type": "code",
   "execution_count": 19,
   "metadata": {},
   "outputs": [
    {
     "name": "stdout",
     "output_type": "stream",
     "text": [
      "Séparabilité: 0.177414414963\n"
     ]
    }
   ],
   "source": [
    "# Avec les données générées aléatoirement:\n",
    "print(\"Séparabilité: \"+str(sep_clusters(les_centresRand2)))\n"
   ]
  },
  {
   "cell_type": "markdown",
   "metadata": {},
   "source": [
    "### Evaluation d'un clustering\n",
    "\n",
    "Pour obtenir une évaluation du résultat d'un clustering, on combine une mesure de sa séparabilité et une mesure de sa compacité globale.\n",
    "Par exemple (remarque: nous donnons ici des versions adaptées à notre tp de ces mesures):\n",
    "- index de Dunn d'une partition $P$:\n",
    "$$I_{Dunn}(P)= \\frac{Co_{dist}(P)}{Se_{min}(P)}$$\n",
    "\n",
    "- index de Xie et Beni d'une partition $P$:\n",
    "$$I_{XB}(P) = \\frac{Co_{inertie}(P)}{Se_{min}(P)}$$\n",
    "\n",
    "Dans les 2 cas, une bonne partition minimise la valeur de l'index."
   ]
  },
  {
   "cell_type": "markdown",
   "metadata": {},
   "source": [
    "<font size=\"+1\" color=\"RED\">**[Q]**</font> Ecrire la fonction <tt>evaluation()</tt> qui prend en argument une chaîne de caractères donnant le nom de l'index choisi (\"Dunn\" ou \"XB\"), une base d'exemples, un ensemble de centres et une affectation, et rend la valeur de l'index correspondant."
   ]
  },
  {
   "cell_type": "code",
   "execution_count": 20,
   "metadata": {},
   "outputs": [],
   "source": [
    "def evaluation(index, df, centroids, la):\n",
    "    \n",
    "    if(index==\"Dunn\"):\n",
    "        \n",
    "        return global_intraclusters(df,la)/sep_clusters(centroids)\n",
    "    \n",
    "    elif(index==\"XB\"):\n",
    "        \n",
    "        return km.inertie_globale(df,la)/sep_clusters(centroids)\n",
    "    \n",
    "    else:\n",
    "        return -1"
   ]
  },
  {
   "cell_type": "code",
   "execution_count": 21,
   "metadata": {},
   "outputs": [
    {
     "name": "stdout",
     "output_type": "stream",
     "text": [
      "Pour les données jouet:\n",
      "\tDunn:\t2.96925760062\n",
      "\tXB:\t3.94522593679\n",
      "Pour les données aléatoires (6 clusters):\n",
      "\tDunn:\t2.76380284691\n",
      "\tXB:\t11.1501843018\n",
      "Pour les données aléatoires (5 clusters):\n",
      "\tDunn:\t3.43148262132\n",
      "\tXB:\t17.6352811278\n"
     ]
    }
   ],
   "source": [
    "print(\"Pour les données jouet:\")\n",
    "print(\"\\tDunn:\\t\"+str(evaluation(\"Dunn\",DataFnorm,les_centres,l_affectation)))\n",
    "print(\"\\tXB:\\t\"+str(evaluation(\"XB\",DataFnorm,les_centres,l_affectation)))\n",
    "\n",
    "print(\"Pour les données aléatoires (6 clusters):\")\n",
    "print(\"\\tDunn:\\t\"+str(evaluation(\"Dunn\",DataRandom,les_centresRand2,l_affectationRand2)))\n",
    "print(\"\\tXB:\\t\"+str(evaluation(\"XB\",DataRandom,les_centresRand2,l_affectationRand2)))\n",
    "\n",
    "print(\"Pour les données aléatoires (5 clusters):\")\n",
    "print(\"\\tDunn:\\t\"+str(evaluation(\"Dunn\",DataRandom,les_centresRand1,l_affectationRand1)))\n",
    "print(\"\\tXB:\\t\"+str(evaluation(\"XB\",DataRandom,les_centresRand1,l_affectationRand1)))\n"
   ]
  },
  {
   "cell_type": "markdown",
   "metadata": {},
   "source": [
    "## Optimiser le nombre de clusters\n",
    "\n",
    "La mesure d'évaluation d'un clustering précédente peut être utilisée pour déterminer automatiquement une bonne valeur pour $K$ (le nombre de clusters de la partition).\n",
    "\n",
    "Ainsi, pour une base d'exemples $X$, l'approche suivante peut être utilisée :\n",
    "- choisir une valeur pour $K$\n",
    "- appliquer l'algorithme des K-moyennes avec cette valeur $K$ sur la base $X$\n",
    "- évaluer le résultat du clustering obtenu en utilisant un index\n",
    "- recommencer pour une autre valeur de $K$ et comparer le résultat, \n",
    "on choisit alors la valeur de $K$ qui a donné la meilleure partition selon le critère choisi.\n"
   ]
  },
  {
   "cell_type": "markdown",
   "metadata": {},
   "source": [
    "<font size=\"+1\" color=\"RED\">**[Q]**</font> Implémenter l'approche d'optimisation du nombre de clusters. Vous devez tester des valeurs de $K$ de $2$ à $10$ et afficher la valeur optimale du nombre de clusters. Vous tracerez la courbe donnant la valeur de l'index obtenue pour chaque valeur de $K$ testée. Vous réaliserez cette expérimentation d'abord avec l'index de Dunn, puis avec l'index de Xie-Beni.\n",
    "\n",
    "Tester plusieurs bases d'exemples, en particulier, construire des bases d'exemples aléatoires contenant plusieurs groupes (2, 3, 4, 5 groupes) et afficher la courbe de la variation de l'index pour des valeurs de $K$ variant de 2 à 10."
   ]
  },
  {
   "cell_type": "code",
   "execution_count": 22,
   "metadata": {},
   "outputs": [
    {
     "name": "stdout",
     "output_type": "stream",
     "text": [
      "Iteration  0  Inertie :  20.2962339668  Difference :  0.9869490881499168\n",
      "Iteration  1  Inertie :  9.77804871264  Difference :  10.51818525415408\n",
      "Iteration  2  Inertie :  4.42894328301  Difference :  5.34910542963177\n",
      "Iteration  3  Inertie :  4.3468634276  Difference :  0.08207985540765961\n",
      "Iteration  4  Inertie :  4.3468634276  Difference :  0.0\n",
      "Iteration  0  Inertie :  3.98299923526  Difference :  17.30018381968673\n",
      "Iteration  1  Inertie :  3.48175042662  Difference :  0.5012488086427047\n",
      "Iteration  2  Inertie :  3.45939401754  Difference :  0.0223564090800612\n",
      "Iteration  3  Inertie :  3.44347086836  Difference :  0.015923149176587437\n",
      "Iteration  4  Inertie :  3.43372309105  Difference :  0.009747777314845774\n",
      "Iteration  5  Inertie :  3.43165681862  Difference :  0.0020662724226068185\n",
      "Iteration  6  Inertie :  3.43165681862  Difference :  0.0\n",
      "Iteration  0  Inertie :  3.43596446332  Difference :  17.84721859163108\n",
      "Iteration  1  Inertie :  2.89615137202  Difference :  0.5398130912937402\n",
      "Iteration  2  Inertie :  2.82917472201  Difference :  0.06697665001578024\n",
      "Iteration  3  Inertie :  2.80562433542  Difference :  0.023550386587277483\n",
      "Iteration  4  Inertie :  2.79809345235  Difference :  0.007530883070784089\n",
      "Iteration  5  Inertie :  2.79668819739  Difference :  0.0014052549616869747\n",
      "Iteration  6  Inertie :  2.79668819739  Difference :  0.0\n",
      "Iteration  0  Inertie :  2.79018926827  Difference :  18.49299378667294\n",
      "Iteration  1  Inertie :  2.4634000838  Difference :  0.3267891844716009\n",
      "Iteration  2  Inertie :  2.41288227379  Difference :  0.050517810008224195\n",
      "Iteration  3  Inertie :  2.33154667627  Difference :  0.08133559751946917\n",
      "Iteration  4  Inertie :  2.28982700006  Difference :  0.04171967621274408\n",
      "Iteration  5  Inertie :  2.26922766441  Difference :  0.020599335656680484\n",
      "Iteration  6  Inertie :  2.26583800986  Difference :  0.003389654541834375\n",
      "Iteration  7  Inertie :  2.26342806225  Difference :  0.0024099476182843915\n",
      "Iteration  8  Inertie :  2.26210062008  Difference :  0.0013274421661870761\n",
      "Iteration  9  Inertie :  2.26157497146  Difference :  0.0005256486142317662\n",
      "Iteration  0  Inertie :  2.19761577201  Difference :  19.085567282934097\n",
      "Iteration  1  Inertie :  2.15779338178  Difference :  0.039822390237607586\n",
      "Iteration  2  Inertie :  2.10099462445  Difference :  0.05679875732303108\n",
      "Iteration  3  Inertie :  2.07527519491  Difference :  0.025719429538532346\n",
      "Iteration  4  Inertie :  2.06837421008  Difference :  0.006900984834324664\n",
      "Iteration  5  Inertie :  2.06584925845  Difference :  0.0025249516331466992\n",
      "Iteration  6  Inertie :  2.06278109052  Difference :  0.0030681679223500957\n",
      "Iteration  7  Inertie :  2.06188958227  Difference :  0.0008915082509597383\n",
      "Iteration  0  Inertie :  2.17603793606  Difference :  19.107145118891754\n",
      "Iteration  1  Inertie :  1.90051951604  Difference :  0.2755184200164882\n",
      "Iteration  2  Inertie :  1.75852537541  Difference :  0.14199414062621152\n",
      "Iteration  3  Inertie :  1.72309380402  Difference :  0.0354315713958826\n",
      "Iteration  4  Inertie :  1.70775992124  Difference :  0.015333882773285179\n",
      "Iteration  5  Inertie :  1.70075643287  Difference :  0.00700348837362208\n",
      "Iteration  6  Inertie :  1.69649385675  Difference :  0.004262576122860295\n",
      "Iteration  7  Inertie :  1.69542440477  Difference :  0.0010694519781115908\n",
      "Iteration  8  Inertie :  1.69441898729  Difference :  0.0010054174802811566\n",
      "Iteration  9  Inertie :  1.69441898729  Difference :  0.0\n",
      "Iteration  0  Inertie :  1.87687812714  Difference :  19.406304927811956\n",
      "Iteration  1  Inertie :  1.68360062763  Difference :  0.1932774995096036\n",
      "Iteration  2  Inertie :  1.64545945873  Difference :  0.03814116889104735\n",
      "Iteration  3  Inertie :  1.6118816125  Difference :  0.03357784623867355\n",
      "Iteration  4  Inertie :  1.52131023419  Difference :  0.09057137830267803\n",
      "Iteration  5  Inertie :  1.49807717754  Difference :  0.023233056654578643\n",
      "Iteration  6  Inertie :  1.49040107097  Difference :  0.00767610657282547\n",
      "Iteration  7  Inertie :  1.48790649304  Difference :  0.002494577926686725\n",
      "Iteration  8  Inertie :  1.48790649304  Difference :  0.0\n",
      "Iteration  0  Inertie :  1.97335124101  Difference :  19.30983181393752\n",
      "Iteration  1  Inertie :  1.71481807281  Difference :  0.25853316819956684\n",
      "Iteration  2  Inertie :  1.64630955961  Difference :  0.06850851320359674\n",
      "Iteration  3  Inertie :  1.60245768286  Difference :  0.04385187674214586\n",
      "Iteration  4  Inertie :  1.5807024339  Difference :  0.02175524896419012\n",
      "Iteration  5  Inertie :  1.57202291135  Difference :  0.008679522547739404\n",
      "Iteration  6  Inertie :  1.57100458012  Difference :  0.0010183312284841595\n",
      "Iteration  7  Inertie :  1.57100458012  Difference :  0.0\n"
     ]
    }
   ],
   "source": [
    "list_k=[]\n",
    "list_eval_Dunn=[]\n",
    "list_eval_XB=[]\n",
    "\n",
    "\n",
    "for k in range(2,10):\n",
    "    centroids, l_affectation = km.kmoyennes(k, DataRandom, 0.001, 100)\n",
    "    list_k.append(k)\n",
    "    list_eval_Dunn.append(evaluation(\"Dunn\",DataRandom,centroids,l_affectation))\n",
    "    list_eval_XB.append(evaluation(\"XB\",DataRandom,centroids,l_affectation))\n",
    "    \n",
    "\n",
    "    \n",
    "    "
   ]
  },
  {
   "cell_type": "code",
   "execution_count": 23,
   "metadata": {},
   "outputs": [
    {
     "data": {
      "text/plain": [
       "<matplotlib.text.Text at 0x7faded04feb8>"
      ]
     },
     "execution_count": 23,
     "metadata": {},
     "output_type": "execute_result"
    },
    {
     "data": {
      "image/png": "[encoded data removed]",
      "text/plain": [
       "<matplotlib.figure.Figure at 0x7fadece720b8>"
      ]
     },
     "metadata": {},
     "output_type": "display_data"
    }
   ],
   "source": [
    "plt.plot(list_k,list_eval_Dunn)\n",
    "plt.xlabel(\"k\")\n",
    "plt.ylabel(\"Valeur index\")\n",
    "plt.title(\"Valeur de l'index Dunn en fonction de K\")"
   ]
  },
  {
   "cell_type": "code",
   "execution_count": 24,
   "metadata": {},
   "outputs": [
    {
     "data": {
      "text/plain": [
       "<matplotlib.text.Text at 0x7faded0782b0>"
      ]
     },
     "execution_count": 24,
     "metadata": {},
     "output_type": "execute_result"
    },
    {
     "data": {
      "image/png": "[encoded data removed]",
      "text/plain": [
       "<matplotlib.figure.Figure at 0x7faded0e5a58>"
      ]
     },
     "metadata": {},
     "output_type": "display_data"
    }
   ],
   "source": [
    "plt.plot(list_k,list_eval_XB)\n",
    "plt.xlabel(\"k\")\n",
    "plt.ylabel(\"Valeur index\")\n",
    "plt.title(\"Valeur de l'index Xie-Beni en fonction de K\")"
   ]
  },
  {
   "cell_type": "markdown",
   "metadata": {},
   "source": [
    "Nous devons minimiser les valeurs des indexes. Dans notre cas, il y a deux gaussiens différents et on remarque clairement dans les graphiques que le nombre de clusters optimal est de k=2"
   ]
  },
  {
   "cell_type": "code",
   "execution_count": 28,
   "metadata": {},
   "outputs": [
    {
     "data": {
      "image/png": "[encoded data removed]",
      "text/plain": [
       "<matplotlib.figure.Figure at 0x7fade556b940>"
      ]
     },
     "metadata": {},
     "output_type": "display_data"
    }
   ],
   "source": [
    "from sklearn.datasets import make_blobs\n",
    "\n",
    "X, Y = make_blobs(n_samples=200, n_features=2, centers=5)\n",
    "\n",
    "plt.scatter(X[:,0],X[:,1], color='r')\n",
    "plt.show()\n",
    "dfTest = pd.DataFrame(X,columns=['X','Y'])"
   ]
  },
  {
   "cell_type": "code",
   "execution_count": 30,
   "metadata": {},
   "outputs": [
    {
     "name": "stdout",
     "output_type": "stream",
     "text": [
      "Iteration  0  Inertie :  3437.98641788  Difference :  6154.666137309416\n",
      "Iteration  1  Inertie :  3437.98641788  Difference :  0.0\n",
      "Iteration  0  Inertie :  2253.342425  Difference :  7339.310130185315\n",
      "Iteration  1  Inertie :  1810.79762621  Difference :  442.54479879087876\n",
      "Iteration  2  Inertie :  1014.8960477  Difference :  795.9015785175523\n",
      "Iteration  3  Inertie :  753.832198514  Difference :  261.0638491809466\n",
      "Iteration  4  Inertie :  753.832198514  Difference :  0.0\n",
      "Iteration  0  Inertie :  2116.26866641  Difference :  7476.383888783643\n",
      "Iteration  1  Inertie :  703.782615543  Difference :  1412.4860508627603\n",
      "Iteration  2  Inertie :  416.372836927  Difference :  287.4097786152501\n",
      "Iteration  3  Inertie :  390.490619891  Difference :  25.882217036026418\n",
      "Iteration  4  Inertie :  390.490619891  Difference :  0.0\n",
      "Iteration  0  Inertie :  326.34473601  Difference :  9266.307819178792\n",
      "Iteration  1  Inertie :  322.564823468  Difference :  3.7799125420027053\n",
      "Iteration  2  Inertie :  319.760352021  Difference :  2.8044714467239373\n",
      "Iteration  3  Inertie :  319.055600263  Difference :  0.7047517587175776\n",
      "Iteration  4  Inertie :  318.127207604  Difference :  0.9283926583678976\n",
      "Iteration  5  Inertie :  316.25837176  Difference :  1.8688358447017208\n",
      "Iteration  6  Inertie :  316.25837176  Difference :  0.0\n",
      "Iteration  0  Inertie :  849.991943005  Difference :  8742.660612183643\n",
      "Iteration  1  Inertie :  330.892872167  Difference :  519.0990708385051\n",
      "Iteration  2  Inertie :  325.681504074  Difference :  5.211368092945804\n",
      "Iteration  3  Inertie :  321.797726206  Difference :  3.8837778674326273\n",
      "Iteration  4  Inertie :  315.266139688  Difference :  6.531586518052222\n",
      "Iteration  5  Inertie :  310.522265439  Difference :  4.743874249312057\n",
      "Iteration  6  Inertie :  304.335532952  Difference :  6.186732486829101\n",
      "Iteration  7  Inertie :  301.736164557  Difference :  2.599368395206909\n",
      "Iteration  8  Inertie :  300.807771899  Difference :  0.9283926583678976\n",
      "Iteration  9  Inertie :  298.938936054  Difference :  1.868835844701664\n",
      "Iteration  10  Inertie :  298.938936054  Difference :  0.0\n",
      "Iteration  0  Inertie :  402.49228148  Difference :  9190.160273709276\n",
      "Iteration  1  Inertie :  288.102638883  Difference :  114.38964259707313\n",
      "Iteration  2  Inertie :  275.216994374  Difference :  12.885644509060569\n",
      "Iteration  3  Inertie :  273.520092313  Difference :  1.69690206017043\n",
      "Iteration  4  Inertie :  269.841136502  Difference :  3.6789558111901783\n",
      "Iteration  5  Inertie :  265.982519863  Difference :  3.858616639349293\n",
      "Iteration  6  Inertie :  264.761659947  Difference :  1.2208599158448123\n",
      "Iteration  7  Inertie :  264.761659947  Difference :  0.0\n",
      "Iteration  0  Inertie :  283.606582294  Difference :  9309.045972895266\n",
      "Iteration  1  Inertie :  248.86784893  Difference :  34.738733363423364\n",
      "Iteration  2  Inertie :  243.64283732  Difference :  5.225011610013382\n",
      "Iteration  3  Inertie :  243.017649044  Difference :  0.6251882766148924\n",
      "Iteration  4  Inertie :  242.447531741  Difference :  0.5701173025113349\n",
      "Iteration  5  Inertie :  242.447531741  Difference :  0.0\n",
      "Iteration  0  Inertie :  232.650632037  Difference :  9360.001923152267\n",
      "Iteration  1  Inertie :  220.940178464  Difference :  11.710453573206422\n",
      "Iteration  2  Inertie :  213.741604274  Difference :  7.198574189800382\n",
      "Iteration  3  Inertie :  204.960505096  Difference :  8.781099178006798\n",
      "Iteration  4  Inertie :  201.447331077  Difference :  3.5131740189263496\n",
      "Iteration  5  Inertie :  199.95159935  Difference :  1.4957317272358353\n",
      "Iteration  6  Inertie :  199.146816976  Difference :  0.8047823733922144\n",
      "Iteration  7  Inertie :  197.25346992  Difference :  1.8933470559903753\n",
      "Iteration  8  Inertie :  196.820988531  Difference :  0.4324813890754342\n",
      "Iteration  9  Inertie :  196.820988531  Difference :  0.0\n"
     ]
    }
   ],
   "source": [
    "list_k=[]\n",
    "list_eval_Dunn=[]\n",
    "list_eval_XB=[]\n",
    "\n",
    "\n",
    "for k in range(2,10):\n",
    "    centroids, l_affectation = km.kmoyennes(k, dfTest, 0.001, 100)\n",
    "    list_k.append(k)\n",
    "    list_eval_Dunn.append(evaluation(\"Dunn\",dfTest,centroids,l_affectation))\n",
    "    list_eval_XB.append(evaluation(\"XB\",dfTest,centroids,l_affectation))\n",
    "    "
   ]
  },
  {
   "cell_type": "code",
   "execution_count": 31,
   "metadata": {},
   "outputs": [
    {
     "data": {
      "text/plain": [
       "<matplotlib.text.Text at 0x7fade5546f28>"
      ]
     },
     "execution_count": 31,
     "metadata": {},
     "output_type": "execute_result"
    },
    {
     "data": {
      "image/png": "[encoded data removed]",
      "text/plain": [
       "<matplotlib.figure.Figure at 0x7fade54c7b00>"
      ]
     },
     "metadata": {},
     "output_type": "display_data"
    }
   ],
   "source": [
    "plt.plot(list_k,list_eval_XB)\n",
    "plt.xlabel(\"k\")\n",
    "plt.ylabel(\"Valeur index\")\n",
    "plt.title(\"Valeur de l'index Xie-Beni en fonction de K\")"
   ]
  },
  {
   "cell_type": "code",
   "execution_count": 32,
   "metadata": {},
   "outputs": [
    {
     "data": {
      "text/plain": [
       "<matplotlib.text.Text at 0x7fade54be6a0>"
      ]
     },
     "execution_count": 32,
     "metadata": {},
     "output_type": "execute_result"
    },
    {
     "data": {
      "image/png": "[encoded data removed]",
      "text/plain": [
       "<matplotlib.figure.Figure at 0x7fade55e2080>"
      ]
     },
     "metadata": {},
     "output_type": "display_data"
    }
   ],
   "source": [
    "plt.plot(list_k,list_eval_XB)\n",
    "plt.xlabel(\"k\")\n",
    "plt.ylabel(\"Valeur index\")\n",
    "plt.title(\"Valeur de l'index Xie-Beni en fonction de K\")"
   ]
  },
  {
   "cell_type": "markdown",
   "metadata": {},
   "source": [
    "Ici nous avons 5 gaussiens différents et on remarque qu'il y a 3 groupes de données très distincts donc la valeur de K optimale est k=3 d'après les observations sur le graphique."
   ]
  },
  {
   "cell_type": "markdown",
   "metadata": {},
   "source": [
    "## Application à des données réelles\n",
    "\n",
    "- Appliquer l'algorithme aux données concernant les déchets de la ville de Paris\n",
    "- Trouver des bases d'apprentissage intéressantes sur http://opendata.paris.fr/\n"
   ]
  },
  {
   "cell_type": "code",
   "execution_count": null,
   "metadata": {
    "collapsed": true
   },
   "outputs": [],
   "source": []
  }
 ],
 "metadata": {
  "kernelspec": {
   "display_name": "Python 3",
   "language": "python",
   "name": "python3"
  },
  "language_info": {
   "codemirror_mode": {
    "name": "ipython",
    "version": 3
   },
   "file_extension": ".py",
   "mimetype": "text/x-python",
   "name": "python",
   "nbconvert_exporter": "python",
   "pygments_lexer": "ipython3",
   "version": "3.4.2"
  }
 },
 "nbformat": 4,
 "nbformat_minor": 1
}
