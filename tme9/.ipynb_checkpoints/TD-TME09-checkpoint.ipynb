{
 "cells": [
  {
   "cell_type": "markdown",
   "metadata": {},
   "source": [
    "IA & Data science -- 2017-2018\n",
    "--------\n",
    "*&copy; Equipe pédagogique: Ludovic Denoyer, Thibault Laugel, Marie-Jeanne Lesot, Christophe Marsala, Olivier Schwander*"
   ]
  },
  {
   "cell_type": "markdown",
   "metadata": {},
   "source": [
    "# TD-TME09: études et améliorations des K-moyennes"
   ]
  },
  {
   "cell_type": "markdown",
   "metadata": {},
   "source": [
    "<font size=\"+1\">**[Q]**</font> **Indiquer dans la boîte ci-dessous vos noms et prénoms :**"
   ]
  },
  {
   "cell_type": "markdown",
   "metadata": {},
   "source": [
    "*Double-cliquer ici et insérer les noms et prénoms de votre binôme*"
   ]
  },
  {
   "cell_type": "markdown",
   "metadata": {},
   "source": [
    "## Préparation\n",
    "\n",
    "Décompresser l'archive, elle crée le répertoire \"tp9\" qui contient :\n",
    "- un fichier ipython à ouvrir (ce fichier-ci)\n",
    "- un sous-répertoire \"data\" contenant les bases d'apprentissage utilisées dans cette séance\n",
    "- un sous-répertoire \"IADS2018\" (qui contient 2 fichiers python) dont l'utilisation est détaillée un peu plus loin dans ce fichier ipython.\n",
    "\n",
    "Le but de ce TP est de compléter ce document ipython en ajoutant les fonctions demandées. Avant de commencer, exécuter le bloc suivant afin de pouvoir initialiser des variables utiles \n"
   ]
  },
  {
   "cell_type": "code",
   "execution_count": 1,
   "metadata": {
    "collapsed": true
   },
   "outputs": [],
   "source": [
    "import numpy as np\n",
    "import pandas as pd\n",
    "from datetime import datetime as dt\n",
    "import matplotlib.pyplot as plt\n",
    "%matplotlib inline  "
   ]
  },
  {
   "cell_type": "markdown",
   "metadata": {},
   "source": [
    "### Chargement du fichier \"base_2D.csv\""
   ]
  },
  {
   "cell_type": "code",
   "execution_count": 2,
   "metadata": {
    "scrolled": true
   },
   "outputs": [
    {
     "data": {
      "text/html": [
       "<div>\n",
       "<style>\n",
       "    .dataframe thead tr:only-child th {\n",
       "        text-align: right;\n",
       "    }\n",
       "\n",
       "    .dataframe thead th {\n",
       "        text-align: left;\n",
       "    }\n",
       "\n",
       "    .dataframe tbody tr th {\n",
       "        vertical-align: top;\n",
       "    }\n",
       "</style>\n",
       "<table border=\"1\" class=\"dataframe\">\n",
       "  <thead>\n",
       "    <tr style=\"text-align: right;\">\n",
       "      <th></th>\n",
       "      <th>X</th>\n",
       "      <th>Y</th>\n",
       "    </tr>\n",
       "  </thead>\n",
       "  <tbody>\n",
       "    <tr>\n",
       "      <th>0</th>\n",
       "      <td>0.0</td>\n",
       "      <td>4.0</td>\n",
       "    </tr>\n",
       "    <tr>\n",
       "      <th>1</th>\n",
       "      <td>1.0</td>\n",
       "      <td>3.5</td>\n",
       "    </tr>\n",
       "    <tr>\n",
       "      <th>2</th>\n",
       "      <td>1.0</td>\n",
       "      <td>1.0</td>\n",
       "    </tr>\n",
       "    <tr>\n",
       "      <th>3</th>\n",
       "      <td>2.0</td>\n",
       "      <td>1.0</td>\n",
       "    </tr>\n",
       "    <tr>\n",
       "      <th>4</th>\n",
       "      <td>2.0</td>\n",
       "      <td>2.0</td>\n",
       "    </tr>\n",
       "  </tbody>\n",
       "</table>\n",
       "</div>"
      ],
      "text/plain": [
       "     X    Y\n",
       "0  0.0  4.0\n",
       "1  1.0  3.5\n",
       "2  1.0  1.0\n",
       "3  2.0  1.0\n",
       "4  2.0  2.0"
      ]
     },
     "execution_count": 2,
     "metadata": {},
     "output_type": "execute_result"
    }
   ],
   "source": [
    "data_2D = pd.read_csv(\"data/base-2D.csv\")\n",
    "data_2D[0:5]  # ou bien: data_2D[0:len(data_2D)]"
   ]
  },
  {
   "cell_type": "markdown",
   "metadata": {},
   "source": [
    "Dans la suite de ce TP, il est conseillé de travailler sur des données de type <tt>DataFrame</tt> le plus souvent possible.\n",
    "\n",
    "**Important**: dans la suite de ce TP, on appelle:\n",
    "\n",
    "- \"base d'apprentissage\" le DataFrame contenant l'ensemble des exemples d'apprentissage chargés par la commande précédenteµ\n",
    "- \"base d'exemples\" : un DataFrame contenant un ensemble d'exemples (remarque: la base d'apprentissage est le plus grand ensemble d'exemples possible)"
   ]
  },
  {
   "cell_type": "markdown",
   "metadata": {},
   "source": [
    "## Construction d'un package de fonctions"
   ]
  },
  {
   "cell_type": "markdown",
   "metadata": {},
   "source": [
    "Dans un premier temps, afin de pouvoir utiliser toutes les fonctions écrites dans le TP précédent (fonctions pour les K-moyennes), vous allez réaliser un package de fonctions qui s'appelle \"<tt>IADS2018</tt>\".\n",
    "\n",
    "Le package <tt>IADS2018</tt> est composé ainsi :\n",
    "- c'est un répertoire dont le nom est <tt>IADS2018</tt>\n",
    "- ce répertoire contient le fichier <tt>\\__init\\__.py</tt> qui, dans notre cas, est un fichier vide (mais il est important que ce fichier existe !)\n",
    "- ce répertoire contient le fichier <<tt>kmoyennes.py</tt> qui est le fichier dans lequel vous devez mettre toutes les fonctions écrites lors du TP précédent sur les K-moyennes."
   ]
  },
  {
   "cell_type": "markdown",
   "metadata": {},
   "source": [
    "<font size=\"+1\" color=\"RED\">**[Q]**</font> En utilisant votre éditeur de texte préféré (emacs, gedit, vim,...) ouvrir le fichier <tt>kmoyennes.py</tt> qui se trouve dans le sous-répertoire <tt>IADS2018</tt> et compléter-le en reprenant les fonctions que vous avez écrites dans la séance précédente."
   ]
  },
  {
   "cell_type": "markdown",
   "metadata": {},
   "source": [
    "Une fois le fichier <tt>kmoyennes.py</tt> complété et sauvegardé, il est possible d'utiliser les fonctions qui y sont définies en utilisant une commande d'importation:"
   ]
  },
  {
   "cell_type": "code",
   "execution_count": 3,
   "metadata": {
    "collapsed": true
   },
   "outputs": [],
   "source": [
    "# Importation des fonctions écrites dans les fichiers python que contient le répertoire (package) IADS2018:\n",
    "import IADS2018 \n",
    "import IADS2018.kmoyennes as km"
   ]
  },
  {
   "cell_type": "markdown",
   "metadata": {},
   "source": [
    "#### Vérification que tout fonctionne bien\n",
    "\n",
    "Si la recopie de toutes vos fonctions s'est bien déroulée, une fois l'importation faite il est possible de tester les instructions des boites suivantes:"
   ]
  },
  {
   "cell_type": "code",
   "execution_count": 4,
   "metadata": {},
   "outputs": [
    {
     "name": "stdout",
     "output_type": "stream",
     "text": [
      "---> type de DataFnorm: <class 'pandas.core.frame.DataFrame'>\n"
     ]
    },
    {
     "data": {
      "text/plain": [
       "<matplotlib.collections.PathCollection at 0x20b102e8a20>"
      ]
     },
     "execution_count": 4,
     "metadata": {},
     "output_type": "execute_result"
    },
    {
     "data": {
      "image/png": "[encoded data removed]",
      "text/plain": [
       "<matplotlib.figure.Figure at 0x20b0fce7b00>"
      ]
     },
     "metadata": {},
     "output_type": "display_data"
    }
   ],
   "source": [
    "# Affichage des points après normalisation:\n",
    "\n",
    "DataFnorm = km.normalisation(data_2D)\n",
    "print(\"---> type de DataFnorm:\",type(DataFnorm))\n",
    "\n",
    "plt.scatter(DataFnorm['X'],DataFnorm['Y'])"
   ]
  },
  {
   "cell_type": "code",
   "execution_count": 5,
   "metadata": {},
   "outputs": [
    {
     "name": "stdout",
     "output_type": "stream",
     "text": [
      "Iteration  0  Inertie :  0.812724489796  Difference :  2.1632667638483976\n",
      "Iteration  1  Inertie :  0.812724489796  Difference :  0.0\n"
     ]
    },
    {
     "data": {
      "image/png": "[encoded data removed]",
      "text/plain": [
       "<matplotlib.figure.Figure at 0x20b102c75c0>"
      ]
     },
     "metadata": {},
     "output_type": "display_data"
    }
   ],
   "source": [
    "les_centres, l_affectation = km.kmoyennes(3, DataFnorm, 0.05, 100)\n",
    "\n",
    "km.affiche_resultat(DataFnorm,les_centres,l_affectation)"
   ]
  },
  {
   "cell_type": "markdown",
   "metadata": {},
   "source": [
    "## Travail à réaliser"
   ]
  },
  {
   "cell_type": "markdown",
   "metadata": {},
   "source": [
    "On peut reprendre les fonctions écrites dans les tp sur l'apprentissage supervisé pour générer des ensembles de points en 2 dimensions afin de tester la fonction <tt>kmoyennes()</tt>. \n",
    "Par exemple, pour générer des points répartis en 2 groupes:"
   ]
  },
  {
   "cell_type": "code",
   "execution_count": 6,
   "metadata": {},
   "outputs": [
    {
     "data": {
      "image/png": "[encoded data removed]",
      "text/plain": [
       "<matplotlib.figure.Figure at 0x20b103b5dd8>"
      ]
     },
     "metadata": {},
     "output_type": "display_data"
    }
   ],
   "source": [
    "def createGaussianDataset(group1_center,group2_center,sigma,nb_points):\n",
    "        group1 = np.random.multivariate_normal(group1_center,sigma,nb_points)\n",
    "        group2 = np.random.multivariate_normal(group2_center,sigma,nb_points)\n",
    "        \n",
    "        return np.concatenate((group1, group2))\n",
    "\n",
    "# Utilisation de cette fonction :\n",
    "the_set = createGaussianDataset(np.array([2,2]),np.array([-2,-2]),np.array([[1.1,0],[0,1.1]]),100)\n",
    "\n",
    "# Affichage des points obtenus\n",
    "data_random = pd.DataFrame(the_set, columns = ['X', 'Y'])\n",
    "plt.scatter(data_random['X'],data_random['Y'])\n",
    "\n",
    "# Normalisation pour pouvoir utiliser la fonction kmoyennes() par la suite:\n",
    "DataRandom = km.normalisation(data_random)"
   ]
  },
  {
   "cell_type": "markdown",
   "metadata": {},
   "source": [
    "<font size=\"+1\" color=\"RED\">**[Q]**</font> Tester la fonction <tt>kmoyennes()</tt> sur le jeu de données généré en utilisant différentes valeurs de $K$."
   ]
  },
  {
   "cell_type": "code",
   "execution_count": 7,
   "metadata": {},
   "outputs": [
    {
     "name": "stdout",
     "output_type": "stream",
     "text": [
      "Iteration  0  Inertie :  4.01186498058  Difference :  16.90450119305656\n",
      "Iteration  1  Inertie :  3.89253117122  Difference :  0.1193338093582712\n",
      "Iteration  2  Inertie :  3.78371397244  Difference :  0.10881719878303553\n",
      "Iteration  3  Inertie :  3.72377598192  Difference :  0.05993799052329152\n",
      "Iteration  4  Inertie :  3.68266750073  Difference :  0.04110848119081156\n"
     ]
    },
    {
     "data": {
      "image/png": "[encoded data removed]",
      "text/plain": [
       "<matplotlib.figure.Figure at 0x20b103097f0>"
      ]
     },
     "metadata": {},
     "output_type": "display_data"
    }
   ],
   "source": [
    "les_centresRand1, l_affectationRand1 = km.kmoyennes(3, DataRandom, 0.05, 100)\n",
    "\n",
    "km.affiche_resultat(DataRandom,les_centresRand1,l_affectationRand1)"
   ]
  },
  {
   "cell_type": "code",
   "execution_count": 8,
   "metadata": {},
   "outputs": [
    {
     "name": "stdout",
     "output_type": "stream",
     "text": [
      "Iteration  0  Inertie :  12.6410598991  Difference :  8.275306274584688\n",
      "Iteration  1  Inertie :  4.36919292588  Difference :  8.271866973168752\n",
      "Iteration  2  Inertie :  4.0864618765  Difference :  0.2827310493819022\n",
      "Iteration  3  Inertie :  3.97258659416  Difference :  0.11387528233789634\n",
      "Iteration  4  Inertie :  3.85569708947  Difference :  0.11688950469785553\n",
      "Iteration  5  Inertie :  3.76475918352  Difference :  0.0909379059443749\n",
      "Iteration  6  Inertie :  3.7341845145  Difference :  0.03057466902420014\n"
     ]
    },
    {
     "data": {
      "image/png": "[encoded data removed]",
      "text/plain": [
       "<matplotlib.figure.Figure at 0x20b103baa20>"
      ]
     },
     "metadata": {},
     "output_type": "display_data"
    }
   ],
   "source": [
    "les_centresRand1, l_affectationRand1 = km.kmoyennes(3, DataRandom, 0.05, 100)\n",
    "\n",
    "km.affiche_resultat(DataRandom,les_centresRand1,l_affectationRand1)"
   ]
  },
  {
   "cell_type": "code",
   "execution_count": 9,
   "metadata": {},
   "outputs": [
    {
     "name": "stdout",
     "output_type": "stream",
     "text": [
      "Iteration  0  Inertie :  8.49168704928  Difference :  12.424679124353402\n",
      "Iteration  1  Inertie :  4.63398385827  Difference :  3.8577031910121953\n",
      "Iteration  2  Inertie :  4.63398385827  Difference :  0.0\n"
     ]
    },
    {
     "data": {
      "image/png": "[encoded data removed]",
      "text/plain": [
       "<matplotlib.figure.Figure at 0x20b114e20b8>"
      ]
     },
     "metadata": {},
     "output_type": "display_data"
    }
   ],
   "source": [
    "les_centresRand1, l_affectationv = km.kmoyennes(2, DataRandom, 0.05, 100)\n",
    "\n",
    "km.affiche_resultat(DataRandom,les_centresRand1,l_affectationRand1)"
   ]
  },
  {
   "cell_type": "code",
   "execution_count": 10,
   "metadata": {},
   "outputs": [
    {
     "name": "stdout",
     "output_type": "stream",
     "text": [
      "Iteration  0  Inertie :  2.91881823928  Difference :  17.997547934359133\n",
      "Iteration  1  Inertie :  2.58108839761  Difference :  0.33772984167300013\n",
      "Iteration  2  Inertie :  2.47248264471  Difference :  0.10860575289246199\n",
      "Iteration  3  Inertie :  2.42023596922  Difference :  0.052246675490150274\n",
      "Iteration  4  Inertie :  2.40659219891  Difference :  0.013643770310170833\n"
     ]
    },
    {
     "data": {
      "image/png": "[encoded data removed]",
      "text/plain": [
       "<matplotlib.figure.Figure at 0x20b115513c8>"
      ]
     },
     "metadata": {},
     "output_type": "display_data"
    }
   ],
   "source": [
    "les_centresRand1, l_affectationRand1 = km.kmoyennes(5, DataRandom, 0.05, 100)\n",
    "\n",
    "km.affiche_resultat(DataRandom,les_centresRand1,l_affectationRand1)"
   ]
  },
  {
   "cell_type": "code",
   "execution_count": 11,
   "metadata": {},
   "outputs": [
    {
     "name": "stdout",
     "output_type": "stream",
     "text": [
      "Iteration  0  Inertie :  2.67463628906  Difference :  18.24172988458072\n",
      "Iteration  1  Inertie :  2.50987656681  Difference :  0.16475972225078594\n",
      "Iteration  2  Inertie :  2.41518768515  Difference :  0.09468888165772915\n",
      "Iteration  3  Inertie :  2.35107015863  Difference :  0.0641175265184959\n",
      "Iteration  4  Inertie :  2.29157024082  Difference :  0.05949991780801289\n",
      "Iteration  5  Inertie :  2.20899832353  Difference :  0.08257191729406088\n",
      "Iteration  6  Inertie :  2.14423353554  Difference :  0.06476478798294316\n",
      "Iteration  7  Inertie :  2.10658424613  Difference :  0.037649289410012\n"
     ]
    },
    {
     "data": {
      "image/png": "[encoded data removed]",
      "text/plain": [
       "<matplotlib.figure.Figure at 0x20b1150d7b8>"
      ]
     },
     "metadata": {},
     "output_type": "display_data"
    }
   ],
   "source": [
    "les_centresRand2, l_affectationRand2 = km.kmoyennes(6, DataRandom, 0.05, 100)\n",
    "\n",
    "km.affiche_resultat(DataRandom,les_centresRand2,l_affectationRand2)"
   ]
  },
  {
   "cell_type": "markdown",
   "metadata": {},
   "source": [
    "## Evaluation du résultat d'un clustering\n",
    "\n",
    "L'évaluation du résultat d'un clustering, c'est-à-dire la mesure de la \"qualité\" des clusters obtenus, s'effectue selon 2 critères :\n",
    "- la **compacité** des clusters obtenus\n",
    "- la **séparabilité** des clusters obtenus\n"
   ]
  },
  {
   "cell_type": "markdown",
   "metadata": {},
   "source": [
    "### Mesurer la compacité d'un cluster\n",
    "\n",
    "Il existe plusieurs possibilités pour définir une mesure de compacité d'un cluster. \n",
    "\n",
    "Une telle mesure évalue la proximité des exemples qui sont affectés au cluster.\n",
    "\n",
    "Exemples de mesures de compacité (en utilisant les notations du cours) :\n",
    "- la mesure $J_k$ qui mesure l'inertie intra-cluster et qui a été implémentée dans la fonction <tt>inertie_cluster()</tt>\n",
    "\n",
    "- la mesure de distance intra-cluster $D_{k}$ qui évalue la distance maximale entre 2 exemples d'un même cluster pour l'ensemble des clusters obtenus:\n",
    "$$D_k = \\max_{x, y \\in C_k } (d_{E}(x,y))$$\n"
   ]
  },
  {
   "cell_type": "markdown",
   "metadata": {},
   "source": [
    "<font size=\"+1\" color=\"RED\">**[Q]**</font> Ecrire la fonction <tt>dist_intracluster</tt> qui, étant donné un ensemble d'exemples, correspondant aux exemples d'un même cluster, rend la valeur de la distance intra-cluster correspondante."
   ]
  },
  {
   "cell_type": "code",
   "execution_count": 12,
   "metadata": {
    "collapsed": true
   },
   "outputs": [],
   "source": [
    "def dist_intracluster(df):\n",
    "    maxdist=0\n",
    "    for i in range(len(df)):\n",
    "        for j in range(i+1,len(df)):\n",
    "           \n",
    "            dist=km.dist_vect(df.iloc[i],df.iloc[j])\n",
    "            if(maxdist<dist):\n",
    "                maxdist=dist\n",
    "            \n",
    "    return maxdist"
   ]
  },
  {
   "cell_type": "code",
   "execution_count": 13,
   "metadata": {},
   "outputs": [
    {
     "name": "stdout",
     "output_type": "stream",
     "text": [
      "pour 0 : inertie = 0.369142857143\tdistance = 0.664554477121\n",
      "pour 1 : inertie = 0.128326530612\tdistance = 0.406327504381\n",
      "pour 2 : inertie = 0.315255102041\tdistance = 0.698248537706\n"
     ]
    }
   ],
   "source": [
    "# Avec les données jouet:\n",
    "for k in range(0,len(l_affectation)):\n",
    "    DF = DataFnorm.iloc[l_affectation[k]]\n",
    "    print(\"pour \"+str(k)+\" : inertie = \" + str(km.inertie_cluster(DF)) + \"\\tdistance = \"+  str(dist_intracluster(DF)))\n"
   ]
  },
  {
   "cell_type": "code",
   "execution_count": 14,
   "metadata": {},
   "outputs": [
    {
     "name": "stdout",
     "output_type": "stream",
     "text": [
      "pour 0 : inertie = 0.306935260048\tdistance = 0.335223673216\n",
      "pour 1 : inertie = 0.209772938909\tdistance = 0.329612140635\n",
      "pour 2 : inertie = 0.392675552135\tdistance = 0.350592236605\n"
     ]
    }
   ],
   "source": [
    "# Avec les données générées aléatoirement:\n",
    "for k in range(0,len(l_affectation)):\n",
    "    DF = DataRandom.iloc[l_affectationRand2[k]]\n",
    "    print(\"pour \"+str(k)+\" : inertie = \" + str(km.inertie_cluster(DF)) + \"\\tdistance = \"+  str(dist_intracluster(DF)))\n"
   ]
  },
  {
   "cell_type": "markdown",
   "metadata": {},
   "source": [
    "Etant donné une partition $P$, on peut mesurer la compacité globale des clusters de cette partition en agrégeant les compacités intra-custer de chaque cluster.\n",
    "\n",
    "Ainsi, dans notre cas, on peut définir 2 mesures de compacité globable:\n",
    "- la compacité inertielle $Co_{inertie}$ d'une partition $P$:\n",
    "    $$Co_{inertie}(P) = J(P)$$\n",
    "- la compacité intra-clusters $Co_{dist}$ d'une partition $P$\n",
    "$$Co_{dist}(P) = \\max_{k=1..K} D_k$$\n"
   ]
  },
  {
   "cell_type": "markdown",
   "metadata": {},
   "source": [
    "<font size=\"+1\" color=\"RED\">**[Q]**</font> Ecrire la fonction <tt>global_intraclusters</tt> qui, étant donné une base d'exemples et un \n",
    "dictionnaire d'affectation d'exemples à des clusters rend la valeur de la distance intra-clusters correspondante."
   ]
  },
  {
   "cell_type": "code",
   "execution_count": 15,
   "metadata": {
    "collapsed": true
   },
   "outputs": [],
   "source": [
    "def global_intraclusters(df,la):\n",
    "    \n",
    "    maxdist=0\n",
    "    \n",
    "    for k, liste in la.items():\n",
    "        \n",
    "        dist=dist_intracluster(df.iloc[liste])\n",
    "        \n",
    "        if(maxdist<dist):\n",
    "            maxdist=dist\n",
    "            \n",
    "    \n",
    "    return maxdist\n",
    "    "
   ]
  },
  {
   "cell_type": "code",
   "execution_count": 16,
   "metadata": {},
   "outputs": [
    {
     "name": "stdout",
     "output_type": "stream",
     "text": [
      "Données jouet: 0.698248537706\n",
      "Données aléatoire: 0.409557828432\n",
      "Avec l'inertie :\n",
      "Données jouet: 0.812724489796\n",
      "Données aléatoire: 2.10658424613\n"
     ]
    }
   ],
   "source": [
    "# Exemples:\n",
    "print(\"Données jouet: \"+str(global_intraclusters(DataFnorm,l_affectation)))\n",
    "print(\"Données aléatoire: \"+str(global_intraclusters(DataRandom,l_affectationRand2)))\n",
    "\n",
    "print(\"Avec l'inertie :\")\n",
    "print(\"Données jouet: \"+str(km.inertie_globale(DataFnorm,l_affectation)))\n",
    "print(\"Données aléatoire: \"+str(km.inertie_globale(DataRandom,l_affectationRand2)))\n"
   ]
  },
  {
   "cell_type": "markdown",
   "metadata": {},
   "source": [
    "### Mesurer la séparabilité\n",
    "\n",
    "Une mesure de séparabilité évalue la distance entre les groupes d'un clustering d'une partition $P$ donnée.\n",
    "\n",
    "Il existe plusieurs mesures de ce genre, par exemple, la mesure la plus évidente est la distance minimale entre deux clusters de la :\n",
    "    $$Se_{min}(P) = \\min_{k= 1..K, l=1..K}(d_E(c_k,c_l)) $$\n"
   ]
  },
  {
   "cell_type": "markdown",
   "metadata": {},
   "source": [
    "<font size=\"+1\" color=\"RED\">**[Q]**</font> Ecrire la fonction <tt>sep_clusters</tt> qui, étant donné un ensemble de centres rend la valeur de la distance minimale entre 2 centres.\n",
    "    "
   ]
  },
  {
   "cell_type": "code",
   "execution_count": 17,
   "metadata": {
    "collapsed": true
   },
   "outputs": [],
   "source": [
    "def sep_clusters(centroids):\n",
    "    \n",
    "    mindist=10000000000\n",
    "    \n",
    "    for i in range(len(centroids)):\n",
    "        for j in range(i+1,len(centroids)):\n",
    "            \n",
    "            dist=km.dist_vect(centroids.iloc[i], centroids.iloc[j])\n",
    "            \n",
    "            if(mindist>dist):\n",
    "                mindist=dist\n",
    "                \n",
    "    \n",
    "    return mindist\n",
    "            "
   ]
  },
  {
   "cell_type": "code",
   "execution_count": 18,
   "metadata": {},
   "outputs": [
    {
     "name": "stdout",
     "output_type": "stream",
     "text": [
      "Séparabilité: 0.634983930377\n"
     ]
    }
   ],
   "source": [
    "# Avec les données jouet:\n",
    "print(\"Séparabilité: \"+str(sep_clusters(les_centres)))\n"
   ]
  },
  {
   "cell_type": "code",
   "execution_count": 19,
   "metadata": {},
   "outputs": [
    {
     "name": "stdout",
     "output_type": "stream",
     "text": [
      "Séparabilité: 0.173504906775\n"
     ]
    }
   ],
   "source": [
    "# Avec les données générées aléatoirement:\n",
    "print(\"Séparabilité: \"+str(sep_clusters(les_centresRand2)))\n"
   ]
  },
  {
   "cell_type": "markdown",
   "metadata": {},
   "source": [
    "### Evaluation d'un clustering\n",
    "\n",
    "Pour obtenir une évaluation du résultat d'un clustering, on combine une mesure de sa séparabilité et une mesure de sa compacité globale.\n",
    "Par exemple (remarque: nous donnons ici des versions adaptées à notre tp de ces mesures):\n",
    "- index de Dunn d'une partition $P$:\n",
    "$$I_{Dunn}(P)= \\frac{Co_{dist}(P)}{Se_{min}(P)}$$\n",
    "\n",
    "- index de Xie et Beni d'une partition $P$:\n",
    "$$I_{XB}(P) = \\frac{Co_{inertie}(P)}{Se_{min}(P)}$$\n",
    "\n",
    "Dans les 2 cas, une bonne partition minimise la valeur de l'index."
   ]
  },
  {
   "cell_type": "markdown",
   "metadata": {},
   "source": [
    "<font size=\"+1\" color=\"RED\">**[Q]**</font> Ecrire la fonction <tt>evaluation()</tt> qui prend en argument une chaîne de caractères donnant le nom de l'index choisi (\"Dunn\" ou \"XB\"), une base d'exemples, un ensemble de centres et une affectation, et rend la valeur de l'index correspondant."
   ]
  },
  {
   "cell_type": "code",
   "execution_count": 20,
   "metadata": {
    "collapsed": true
   },
   "outputs": [],
   "source": [
    "def evaluation(index, df, centroids, la):\n",
    "    \n",
    "    if(index==\"Dunn\"):\n",
    "        \n",
    "        return global_intraclusters(df,la)/sep_clusters(centroids)\n",
    "    \n",
    "    elif(index==\"XB\"):\n",
    "        \n",
    "        return km.inertie_globale(df,la)/sep_clusters(centroids)\n",
    "    \n",
    "    else:\n",
    "        return -1"
   ]
  },
  {
   "cell_type": "code",
   "execution_count": 21,
   "metadata": {},
   "outputs": [
    {
     "name": "stdout",
     "output_type": "stream",
     "text": [
      "Pour les données jouet:\n",
      "\tDunn:\t1.09963182421\n",
      "\tXB:\t1.27991347641\n",
      "Pour les données aléatoires (6 clusters):\n",
      "\tDunn:\t2.36049709512\n",
      "\tXB:\t12.141352572\n",
      "Pour les données aléatoires (5 clusters):\n",
      "\tDunn:\t3.01383141755\n",
      "\tXB:\t13.6634465122\n"
     ]
    }
   ],
   "source": [
    "print(\"Pour les données jouet:\")\n",
    "print(\"\\tDunn:\\t\"+str(evaluation(\"Dunn\",DataFnorm,les_centres,l_affectation)))\n",
    "print(\"\\tXB:\\t\"+str(evaluation(\"XB\",DataFnorm,les_centres,l_affectation)))\n",
    "\n",
    "print(\"Pour les données aléatoires (6 clusters):\")\n",
    "print(\"\\tDunn:\\t\"+str(evaluation(\"Dunn\",DataRandom,les_centresRand2,l_affectationRand2)))\n",
    "print(\"\\tXB:\\t\"+str(evaluation(\"XB\",DataRandom,les_centresRand2,l_affectationRand2)))\n",
    "\n",
    "print(\"Pour les données aléatoires (5 clusters):\")\n",
    "print(\"\\tDunn:\\t\"+str(evaluation(\"Dunn\",DataRandom,les_centresRand1,l_affectationRand1)))\n",
    "print(\"\\tXB:\\t\"+str(evaluation(\"XB\",DataRandom,les_centresRand1,l_affectationRand1)))\n"
   ]
  },
  {
   "cell_type": "markdown",
   "metadata": {},
   "source": [
    "## Optimiser le nombre de clusters\n",
    "\n",
    "La mesure d'évaluation d'un clustering précédente peut être utilisée pour déterminer automatiquement une bonne valeur pour $K$ (le nombre de clusters de la partition).\n",
    "\n",
    "Ainsi, pour une base d'exemples $X$, l'approche suivante peut être utilisée :\n",
    "- choisir une valeur pour $K$\n",
    "- appliquer l'algorithme des K-moyennes avec cette valeur $K$ sur la base $X$\n",
    "- évaluer le résultat du clustering obtenu en utilisant un index\n",
    "- recommencer pour une autre valeur de $K$ et comparer le résultat, \n",
    "on choisit alors la valeur de $K$ qui a donné la meilleure partition selon le critère choisi.\n"
   ]
  },
  {
   "cell_type": "markdown",
   "metadata": {},
   "source": [
    "<font size=\"+1\" color=\"RED\">**[Q]**</font> Implémenter l'approche d'optimisation du nombre de clusters. Vous devez tester des valeurs de $K$ de $2$ à $10$ et afficher la valeur optimale du nombre de clusters. Vous tracerez la courbe donnant la valeur de l'index obtenue pour chaque valeur de $K$ testée. Vous réaliserez cette expérimentation d'abord avec l'index de Dunn, puis avec l'index de Xie-Beni.\n",
    "\n",
    "Tester plusieurs bases d'exemples, en particulier, construire des bases d'exemples aléatoires contenant plusieurs groupes (2, 3, 4, 5 groupes) et afficher la courbe de la variation de l'index pour des valeurs de $K$ variant de 2 à 10."
   ]
  },
  {
   "cell_type": "code",
   "execution_count": 22,
   "metadata": {},
   "outputs": [
    {
     "name": "stdout",
     "output_type": "stream",
     "text": [
      "Iteration  0  Inertie :  13.5761251959  Difference :  7.340240977703935\n",
      "Iteration  1  Inertie :  5.38597620251  Difference :  8.190148993426199\n",
      "Iteration  2  Inertie :  4.63398385827  Difference :  0.7519923442354637\n",
      "Iteration  3  Inertie :  4.63398385827  Difference :  0.0\n",
      "Iteration  0  Inertie :  4.79195687223  Difference :  16.124409301411077\n",
      "Iteration  1  Inertie :  4.63398385827  Difference :  0.15797301395451768\n",
      "Iteration  2  Inertie :  4.63398385827  Difference :  0.0\n",
      "Iteration  0  Inertie :  3.10021052534  Difference :  17.816155648300647\n",
      "Iteration  1  Inertie :  3.07040666687  Difference :  0.02980385846979816\n",
      "Iteration  2  Inertie :  3.06450120793  Difference :  0.00590545894160055\n",
      "Iteration  3  Inertie :  3.06450120793  Difference :  0.0\n",
      "Iteration  0  Inertie :  3.23361173744  Difference :  17.682754436199588\n",
      "Iteration  1  Inertie :  2.82125961492  Difference :  0.4123521225211464\n",
      "Iteration  2  Inertie :  2.67433562156  Difference :  0.14692399336093054\n",
      "Iteration  3  Inertie :  2.62978251143  Difference :  0.04455311012790508\n",
      "Iteration  4  Inertie :  2.6082504797  Difference :  0.021532031724092793\n",
      "Iteration  5  Inertie :  2.60096397607  Difference :  0.007286503638277431\n",
      "Iteration  6  Inertie :  2.59118249085  Difference :  0.009781485219022112\n",
      "Iteration  7  Inertie :  2.5875229558  Difference :  0.003659535043258\n",
      "Iteration  8  Inertie :  2.5875229558  Difference :  0.0\n",
      "Iteration  0  Inertie :  8.34891552206  Difference :  12.567450651579176\n",
      "Iteration  1  Inertie :  2.66163651299  Difference :  5.687279009070297\n",
      "Iteration  2  Inertie :  2.34445538116  Difference :  0.31718113182610486\n",
      "Iteration  3  Inertie :  2.26757688826  Difference :  0.07687849289737336\n",
      "Iteration  4  Inertie :  2.24221276343  Difference :  0.02536412482967565\n",
      "Iteration  5  Inertie :  2.22482972995  Difference :  0.017383033486789046\n",
      "Iteration  6  Inertie :  2.21485027467  Difference :  0.009979455277941529\n",
      "Iteration  7  Inertie :  2.21264449138  Difference :  0.0022057832850284065\n",
      "Iteration  8  Inertie :  2.21264449138  Difference :  0.0\n",
      "Iteration  0  Inertie :  2.16914037214  Difference :  18.747225801493904\n",
      "Iteration  1  Inertie :  2.10369050366  Difference :  0.06544986847984191\n",
      "Iteration  2  Inertie :  2.08435552105  Difference :  0.019334982612193574\n",
      "Iteration  3  Inertie :  2.05387828826  Difference :  0.030477232789670516\n",
      "Iteration  4  Inertie :  2.04560675406  Difference :  0.008271534203120101\n",
      "Iteration  5  Inertie :  2.04126397481  Difference :  0.00434277925058435\n",
      "Iteration  6  Inertie :  2.03917660862  Difference :  0.0020873661843499036\n",
      "Iteration  7  Inertie :  2.03917660862  Difference :  0.0\n",
      "Iteration  0  Inertie :  2.0052105309  Difference :  18.91115564273483\n",
      "Iteration  1  Inertie :  1.85806918712  Difference :  0.14714134378100718\n",
      "Iteration  2  Inertie :  1.81988905483  Difference :  0.038180132292573\n",
      "Iteration  3  Inertie :  1.80822662359  Difference :  0.01166243123985522\n",
      "Iteration  4  Inertie :  1.80028535533  Difference :  0.007941268259377576\n",
      "Iteration  5  Inertie :  1.78461667708  Difference :  0.015668678253621948\n",
      "Iteration  6  Inertie :  1.7604307786  Difference :  0.024185898472488088\n",
      "Iteration  7  Inertie :  1.73537199538  Difference :  0.025058783222615677\n",
      "Iteration  8  Inertie :  1.72312117602  Difference :  0.012250819365227095\n",
      "Iteration  9  Inertie :  1.71806152851  Difference :  0.005059647504606746\n",
      "Iteration  10  Inertie :  1.70999493069  Difference :  0.008066597821679178\n",
      "Iteration  11  Inertie :  1.70524301092  Difference :  0.004751919771066593\n",
      "Iteration  12  Inertie :  1.69302761393  Difference :  0.012215396989018634\n",
      "Iteration  13  Inertie :  1.67618479429  Difference :  0.016842819640545903\n",
      "Iteration  14  Inertie :  1.65871188553  Difference :  0.017472908757713013\n",
      "Iteration  15  Inertie :  1.65412512492  Difference :  0.004586760609631035\n",
      "Iteration  16  Inertie :  1.65070364717  Difference :  0.0034214777548879916\n",
      "Iteration  17  Inertie :  1.65070364717  Difference :  0.0\n",
      "Iteration  0  Inertie :  2.04183703373  Difference :  18.87452913990565\n",
      "Iteration  1  Inertie :  1.77664703522  Difference :  0.26518999851278036\n",
      "Iteration  2  Inertie :  1.64252420278  Difference :  0.13412283244296153\n",
      "Iteration  3  Inertie :  1.52959289986  Difference :  0.11293130291391007\n",
      "Iteration  4  Inertie :  1.49481342444  Difference :  0.03477947542603865\n",
      "Iteration  5  Inertie :  1.47329641187  Difference :  0.021517012569958194\n",
      "Iteration  6  Inertie :  1.455427688  Difference :  0.01786872387068228\n",
      "Iteration  7  Inertie :  1.45119762812  Difference :  0.004230059875849124\n",
      "Iteration  8  Inertie :  1.44143343841  Difference :  0.009764189709579485\n",
      "Iteration  9  Inertie :  1.43407141831  Difference :  0.007362020102788858\n",
      "Iteration  10  Inertie :  1.43069764034  Difference :  0.0033737779708198357\n",
      "Iteration  11  Inertie :  1.42998310621  Difference :  0.0007145341265606397\n"
     ]
    }
   ],
   "source": [
    "list_k=[]\n",
    "list_eval_Dunn=[]\n",
    "list_eval_XB=[]\n",
    "\n",
    "\n",
    "for k in range(2,10):\n",
    "    centroids, l_affectation = km.kmoyennes(k, DataRandom, 0.001, 100)\n",
    "    list_k.append(k)\n",
    "    list_eval_Dunn.append(evaluation(\"Dunn\",DataRandom,centroids,l_affectation))\n",
    "    list_eval_XB.append(evaluation(\"XB\",DataRandom,centroids,l_affectation))\n",
    "    \n",
    "\n",
    "    \n",
    "    "
   ]
  },
  {
   "cell_type": "code",
   "execution_count": 23,
   "metadata": {},
   "outputs": [
    {
     "data": {
      "text/plain": [
       "Text(0.5,1,\"Valeur de l'index Dunn en fonction de K\")"
      ]
     },
     "execution_count": 23,
     "metadata": {},
     "output_type": "execute_result"
    },
    {
     "data": {
      "image/png": "[encoded data removed]",
      "text/plain": [
       "<matplotlib.figure.Figure at 0x20b1033ab70>"
      ]
     },
     "metadata": {},
     "output_type": "display_data"
    }
   ],
   "source": [
    "plt.plot(list_k,list_eval_Dunn)\n",
    "plt.xlabel(\"k\")\n",
    "plt.ylabel(\"Valeur index\")\n",
    "plt.title(\"Valeur de l'index Dunn en fonction de K\")"
   ]
  },
  {
   "cell_type": "code",
   "execution_count": 24,
   "metadata": {},
   "outputs": [
    {
     "data": {
      "text/plain": [
       "Text(0.5,1,\"Valeur de l'index Xie-Beni en fonction de K\")"
      ]
     },
     "execution_count": 24,
     "metadata": {},
     "output_type": "execute_result"
    },
    {
     "data": {
      "image/png": "[encoded data removed]",
      "text/plain": [
       "<matplotlib.figure.Figure at 0x20b1158c400>"
      ]
     },
     "metadata": {},
     "output_type": "display_data"
    }
   ],
   "source": [
    "plt.plot(list_k,list_eval_XB)\n",
    "plt.xlabel(\"k\")\n",
    "plt.ylabel(\"Valeur index\")\n",
    "plt.title(\"Valeur de l'index Xie-Beni en fonction de K\")"
   ]
  },
  {
   "cell_type": "markdown",
   "metadata": {},
   "source": [
    "Nous devons minimiser les valeurs des indexes. Dans notre cas, il y a deux gaussiens différents et on remarque clairement dans les graphiques que le nombre de clusters optimal est de k=2"
   ]
  },
  {
   "cell_type": "code",
   "execution_count": 25,
   "metadata": {},
   "outputs": [
    {
     "data": {
      "image/png": "[encoded data removed]",
      "text/plain": [
       "<matplotlib.figure.Figure at 0x20b11f43e10>"
      ]
     },
     "metadata": {},
     "output_type": "display_data"
    }
   ],
   "source": [
    "from sklearn.datasets import make_blobs\n",
    "\n",
    "X, Y = make_blobs(n_samples=200, n_features=2, centers=5)\n",
    "\n",
    "plt.scatter(X[:,0],X[:,1], color='r')\n",
    "plt.show()\n",
    "dfTest = pd.DataFrame(X,columns=['X','Y'])"
   ]
  },
  {
   "cell_type": "code",
   "execution_count": 26,
   "metadata": {},
   "outputs": [
    {
     "name": "stdout",
     "output_type": "stream",
     "text": [
      "Iteration  0  Inertie :  6085.16560391  Difference :  7918.4797554102515\n",
      "Iteration  1  Inertie :  6061.88300823  Difference :  23.282595679775113\n",
      "Iteration  2  Inertie :  6061.88300823  Difference :  0.0\n",
      "Iteration  0  Inertie :  5587.96354195  Difference :  8415.681817372355\n",
      "Iteration  1  Inertie :  3341.22454162  Difference :  2246.7390003337273\n",
      "Iteration  2  Inertie :  2622.68950914  Difference :  718.5350324737083\n",
      "Iteration  3  Inertie :  2108.71014098  Difference :  513.9793681602773\n",
      "Iteration  4  Inertie :  2081.53939276  Difference :  27.17074822020095\n",
      "Iteration  5  Inertie :  2081.53939276  Difference :  0.0\n",
      "Iteration  0  Inertie :  746.438138895  Difference :  13257.207220427299\n",
      "Iteration  1  Inertie :  738.852915301  Difference :  7.585223593599835\n",
      "Iteration  2  Inertie :  738.852915301  Difference :  0.0\n",
      "Iteration  0  Inertie :  4388.92418082  Difference :  9614.721178499067\n",
      "Iteration  1  Inertie :  3042.62001786  Difference :  1346.3041629677718\n",
      "Iteration  2  Inertie :  2222.88013232  Difference :  819.7398855394363\n",
      "Iteration  3  Inertie :  906.039620128  Difference :  1316.840512188057\n",
      "Iteration  4  Inertie :  823.8056629  Difference :  82.23395722785074\n",
      "Iteration  5  Inertie :  819.079635642  Difference :  4.726027258113277\n",
      "Iteration  6  Inertie :  810.39956526  Difference :  8.680070381405471\n",
      "Iteration  7  Inertie :  782.301899018  Difference :  28.09766624211477\n",
      "Iteration  8  Inertie :  773.483118772  Difference :  8.818780245629682\n",
      "Iteration  9  Inertie :  751.832970975  Difference :  21.650147797263912\n",
      "Iteration  10  Inertie :  744.316908487  Difference :  7.516062487916315\n",
      "Iteration  11  Inertie :  732.249958757  Difference :  12.066949730705801\n",
      "Iteration  12  Inertie :  728.39877197  Difference :  3.8511867868239733\n",
      "Iteration  13  Inertie :  725.186232509  Difference :  3.212539461189408\n",
      "Iteration  14  Inertie :  720.492060728  Difference :  4.694171780859051\n",
      "Iteration  15  Inertie :  720.492060728  Difference :  0.0\n",
      "Iteration  0  Inertie :  935.41682279  Difference :  13068.228536531578\n",
      "Iteration  1  Inertie :  369.424389218  Difference :  565.9924335723185\n",
      "Iteration  2  Inertie :  307.097820697  Difference :  62.3265685204866\n",
      "Iteration  3  Inertie :  304.615143782  Difference :  2.482676915596187\n",
      "Iteration  4  Inertie :  302.912676766  Difference :  1.7024670154128216\n",
      "Iteration  5  Inertie :  301.707287801  Difference :  1.205388965141708\n",
      "Iteration  6  Inertie :  300.863240357  Difference :  0.8440474439383934\n",
      "Iteration  7  Inertie :  300.596059876  Difference :  0.26718048189070487\n",
      "Iteration  8  Inertie :  300.596059876  Difference :  0.0\n",
      "Iteration  0  Inertie :  510.837990161  Difference :  13492.807369160653\n",
      "Iteration  1  Inertie :  288.002782332  Difference :  222.8352078288064\n",
      "Iteration  2  Inertie :  281.058968047  Difference :  6.943814285118549\n",
      "Iteration  3  Inertie :  281.058968047  Difference :  0.0\n",
      "Iteration  0  Inertie :  263.754640205  Difference :  13739.890719116635\n",
      "Iteration  1  Inertie :  256.421842108  Difference :  7.332798097497971\n",
      "Iteration  2  Inertie :  253.541090283  Difference :  2.8807518245070582\n",
      "Iteration  3  Inertie :  251.877680678  Difference :  1.6634096052619327\n",
      "Iteration  4  Inertie :  250.007836234  Difference :  1.8698444437047215\n",
      "Iteration  5  Inertie :  248.506448522  Difference :  1.5013877122330541\n",
      "Iteration  6  Inertie :  243.90331153  Difference :  4.6031369916323115\n",
      "Iteration  7  Inertie :  240.698354132  Difference :  3.204957398677152\n",
      "Iteration  8  Inertie :  240.139370279  Difference :  0.5589838524909965\n",
      "Iteration  9  Inertie :  240.139370279  Difference :  0.0\n",
      "Iteration  0  Inertie :  257.488219905  Difference :  13746.157139417293\n",
      "Iteration  1  Inertie :  249.413726005  Difference :  8.074493899478597\n",
      "Iteration  2  Inertie :  248.588687241  Difference :  0.8250387643903991\n",
      "Iteration  3  Inertie :  247.502054246  Difference :  1.0866329944871893\n",
      "Iteration  4  Inertie :  247.234873764  Difference :  0.26718048189070487\n",
      "Iteration  5  Inertie :  247.234873764  Difference :  0.0\n"
     ]
    }
   ],
   "source": [
    "list_k=[]\n",
    "list_eval_Dunn=[]\n",
    "list_eval_XB=[]\n",
    "\n",
    "\n",
    "for k in range(2,10):\n",
    "    centroids, l_affectation = km.kmoyennes(k, dfTest, 0.001, 100)\n",
    "    list_k.append(k)\n",
    "    list_eval_Dunn.append(evaluation(\"Dunn\",dfTest,centroids,l_affectation))\n",
    "    list_eval_XB.append(evaluation(\"XB\",dfTest,centroids,l_affectation))\n",
    "    "
   ]
  },
  {
   "cell_type": "code",
   "execution_count": 27,
   "metadata": {},
   "outputs": [
    {
     "data": {
      "text/plain": [
       "Text(0.5,1,\"Valeur de l'index Xie-Beni en fonction de K\")"
      ]
     },
     "execution_count": 27,
     "metadata": {},
     "output_type": "execute_result"
    },
    {
     "data": {
      "image/png": "[encoded data removed]",
      "text/plain": [
       "<matplotlib.figure.Figure at 0x20b120c1dd8>"
      ]
     },
     "metadata": {},
     "output_type": "display_data"
    }
   ],
   "source": [
    "plt.plot(list_k,list_eval_XB)\n",
    "plt.xlabel(\"k\")\n",
    "plt.ylabel(\"Valeur index\")\n",
    "plt.title(\"Valeur de l'index Xie-Beni en fonction de K\")"
   ]
  },
  {
   "cell_type": "code",
   "execution_count": 28,
   "metadata": {},
   "outputs": [
    {
     "data": {
      "text/plain": [
       "Text(0.5,1,\"Valeur de l'index Xie-Beni en fonction de K\")"
      ]
     },
     "execution_count": 28,
     "metadata": {},
     "output_type": "execute_result"
    },
    {
     "data": {
      "image/png": "[encoded data removed]",
      "text/plain": [
       "<matplotlib.figure.Figure at 0x20b120c1240>"
      ]
     },
     "metadata": {},
     "output_type": "display_data"
    }
   ],
   "source": [
    "plt.plot(list_k,list_eval_XB)\n",
    "plt.xlabel(\"k\")\n",
    "plt.ylabel(\"Valeur index\")\n",
    "plt.title(\"Valeur de l'index Xie-Beni en fonction de K\")"
   ]
  },
  {
   "cell_type": "markdown",
   "metadata": {},
   "source": [
    "Ici nous avons 5 gaussiens différents et on remarque qu'il y a 4 groupes de données très distincts donc la valeur de K optimale est k=4 d'après les observations sur le graphique."
   ]
  },
  {
   "cell_type": "markdown",
   "metadata": {},
   "source": [
    "## Application à des données réelles\n",
    "\n",
    "- Appliquer l'algorithme aux données concernant les déchets de la ville de Paris\n",
    "- Trouver des bases d'apprentissage intéressantes sur http://opendata.paris.fr/\n"
   ]
  },
  {
   "cell_type": "code",
   "execution_count": 31,
   "metadata": {
    "scrolled": true
   },
   "outputs": [
    {
     "data": {
      "text/html": [
       "<div>\n",
       "<style>\n",
       "    .dataframe thead tr:only-child th {\n",
       "        text-align: right;\n",
       "    }\n",
       "\n",
       "    .dataframe thead th {\n",
       "        text-align: left;\n",
       "    }\n",
       "\n",
       "    .dataframe tbody tr th {\n",
       "        vertical-align: top;\n",
       "    }\n",
       "</style>\n",
       "<table border=\"1\" class=\"dataframe\">\n",
       "  <thead>\n",
       "    <tr style=\"text-align: right;\">\n",
       "      <th></th>\n",
       "      <th>janv-11</th>\n",
       "      <th>févr-11</th>\n",
       "      <th>mars-11</th>\n",
       "      <th>avr-11</th>\n",
       "      <th>mai-11</th>\n",
       "      <th>juin-11</th>\n",
       "      <th>juil-11</th>\n",
       "      <th>août-11</th>\n",
       "      <th>sept-11</th>\n",
       "      <th>oct-11</th>\n",
       "      <th>nov-11</th>\n",
       "      <th>déc-11</th>\n",
       "    </tr>\n",
       "  </thead>\n",
       "  <tbody>\n",
       "    <tr>\n",
       "      <th>0</th>\n",
       "      <td>288.1</td>\n",
       "      <td>249.1</td>\n",
       "      <td>303.7</td>\n",
       "      <td>255.8</td>\n",
       "      <td>287.8</td>\n",
       "      <td>288.4</td>\n",
       "      <td>249.6</td>\n",
       "      <td>185.6</td>\n",
       "      <td>281.3</td>\n",
       "      <td>284.3</td>\n",
       "      <td>296.4</td>\n",
       "      <td>301.1</td>\n",
       "    </tr>\n",
       "    <tr>\n",
       "      <th>1</th>\n",
       "      <td>596.5</td>\n",
       "      <td>540.2</td>\n",
       "      <td>618.5</td>\n",
       "      <td>558.6</td>\n",
       "      <td>595.9</td>\n",
       "      <td>581.7</td>\n",
       "      <td>539.2</td>\n",
       "      <td>490.5</td>\n",
       "      <td>597.8</td>\n",
       "      <td>575.7</td>\n",
       "      <td>580.5</td>\n",
       "      <td>601.4</td>\n",
       "    </tr>\n",
       "    <tr>\n",
       "      <th>2</th>\n",
       "      <td>464</td>\n",
       "      <td>404.9</td>\n",
       "      <td>465.3</td>\n",
       "      <td>420.2</td>\n",
       "      <td>405.3</td>\n",
       "      <td>446</td>\n",
       "      <td>412.9</td>\n",
       "      <td>348.7</td>\n",
       "      <td>449.3</td>\n",
       "      <td>446.3</td>\n",
       "      <td>453.1</td>\n",
       "      <td>484.3</td>\n",
       "    </tr>\n",
       "    <tr>\n",
       "      <th>3</th>\n",
       "      <td>903.1</td>\n",
       "      <td>801.4</td>\n",
       "      <td>937.5</td>\n",
       "      <td>835.5</td>\n",
       "      <td>876.8</td>\n",
       "      <td>888.6</td>\n",
       "      <td>628.8</td>\n",
       "      <td>674.8</td>\n",
       "      <td>913.3</td>\n",
       "      <td>878.7</td>\n",
       "      <td>895.7</td>\n",
       "      <td>935.8</td>\n",
       "    </tr>\n",
       "    <tr>\n",
       "      <th>4</th>\n",
       "      <td>451.1</td>\n",
       "      <td>412.4</td>\n",
       "      <td>491.6</td>\n",
       "      <td>422.7</td>\n",
       "      <td>363.6</td>\n",
       "      <td>446.4</td>\n",
       "      <td>409.5</td>\n",
       "      <td>332.3</td>\n",
       "      <td>416.4</td>\n",
       "      <td>451.5</td>\n",
       "      <td>475.1</td>\n",
       "      <td>513.5</td>\n",
       "    </tr>\n",
       "    <tr>\n",
       "      <th>5</th>\n",
       "      <td>427</td>\n",
       "      <td>394.3</td>\n",
       "      <td>455.2</td>\n",
       "      <td>419.9</td>\n",
       "      <td>458.3</td>\n",
       "      <td>456.6</td>\n",
       "      <td>418</td>\n",
       "      <td>361.8</td>\n",
       "      <td>464.6</td>\n",
       "      <td>453.4</td>\n",
       "      <td>478.5</td>\n",
       "      <td>470.9</td>\n",
       "    </tr>\n",
       "    <tr>\n",
       "      <th>6</th>\n",
       "      <td>323.4</td>\n",
       "      <td>287.3</td>\n",
       "      <td>350.3</td>\n",
       "      <td>317.8</td>\n",
       "      <td>336.9</td>\n",
       "      <td>340.7</td>\n",
       "      <td>311.6</td>\n",
       "      <td>281</td>\n",
       "      <td>345.6</td>\n",
       "      <td>335.6</td>\n",
       "      <td>367</td>\n",
       "      <td>354.5</td>\n",
       "    </tr>\n",
       "    <tr>\n",
       "      <th>7</th>\n",
       "      <td>153</td>\n",
       "      <td>125.8</td>\n",
       "      <td>136.6</td>\n",
       "      <td>126.6</td>\n",
       "      <td>133.2</td>\n",
       "      <td>127.6</td>\n",
       "      <td>126.7</td>\n",
       "      <td>114.3</td>\n",
       "      <td>144.3</td>\n",
       "      <td>145.1</td>\n",
       "      <td>129.5</td>\n",
       "      <td>129.8</td>\n",
       "    </tr>\n",
       "    <tr>\n",
       "      <th>8</th>\n",
       "      <td>116.3</td>\n",
       "      <td>115.7</td>\n",
       "      <td>133.4</td>\n",
       "      <td>115</td>\n",
       "      <td>123.2</td>\n",
       "      <td>120.5</td>\n",
       "      <td>114.5</td>\n",
       "      <td>97.6</td>\n",
       "      <td>130.5</td>\n",
       "      <td>123</td>\n",
       "      <td>124.3</td>\n",
       "      <td>133.7</td>\n",
       "    </tr>\n",
       "    <tr>\n",
       "      <th>9</th>\n",
       "      <td>252.6</td>\n",
       "      <td>246.7</td>\n",
       "      <td>252.9</td>\n",
       "      <td>232.5</td>\n",
       "      <td>199.4</td>\n",
       "      <td>236.4</td>\n",
       "      <td>175.4</td>\n",
       "      <td>189.4</td>\n",
       "      <td>266.6</td>\n",
       "      <td>230.3</td>\n",
       "      <td>257.7</td>\n",
       "      <td>224.4</td>\n",
       "    </tr>\n",
       "    <tr>\n",
       "      <th>10</th>\n",
       "      <td>484.2</td>\n",
       "      <td>445.9</td>\n",
       "      <td>517</td>\n",
       "      <td>452</td>\n",
       "      <td>402</td>\n",
       "      <td>488</td>\n",
       "      <td>456</td>\n",
       "      <td>409</td>\n",
       "      <td>506</td>\n",
       "      <td>495</td>\n",
       "      <td>493</td>\n",
       "      <td>502</td>\n",
       "    </tr>\n",
       "    <tr>\n",
       "      <th>11</th>\n",
       "      <td>584.1</td>\n",
       "      <td>571.2</td>\n",
       "      <td>684.7</td>\n",
       "      <td>590.3</td>\n",
       "      <td>563.4</td>\n",
       "      <td>666.3</td>\n",
       "      <td>570.4</td>\n",
       "      <td>433.2</td>\n",
       "      <td>679.7</td>\n",
       "      <td>656.1</td>\n",
       "      <td>662.6</td>\n",
       "      <td>699.9</td>\n",
       "    </tr>\n",
       "    <tr>\n",
       "      <th>12</th>\n",
       "      <td>394.1</td>\n",
       "      <td>366.3</td>\n",
       "      <td>422.7</td>\n",
       "      <td>367.1</td>\n",
       "      <td>273.5</td>\n",
       "      <td>381.7</td>\n",
       "      <td>353.4</td>\n",
       "      <td>297</td>\n",
       "      <td>414</td>\n",
       "      <td>350</td>\n",
       "      <td>410.6</td>\n",
       "      <td>410</td>\n",
       "    </tr>\n",
       "    <tr>\n",
       "      <th>13</th>\n",
       "      <td>7134.2</td>\n",
       "      <td>6462.6</td>\n",
       "      <td>7517.4</td>\n",
       "      <td>6656.6</td>\n",
       "      <td>6563.4</td>\n",
       "      <td>7063</td>\n",
       "      <td>6220.2</td>\n",
       "      <td>5464</td>\n",
       "      <td>7296.3</td>\n",
       "      <td>7084.6</td>\n",
       "      <td>7291.7</td>\n",
       "      <td>7492.8</td>\n",
       "    </tr>\n",
       "    <tr>\n",
       "      <th>14</th>\n",
       "      <td>75.3</td>\n",
       "      <td>60.4</td>\n",
       "      <td>71.2</td>\n",
       "      <td>59.5</td>\n",
       "      <td>73.9</td>\n",
       "      <td>72</td>\n",
       "      <td>57.9</td>\n",
       "      <td>56.4</td>\n",
       "      <td>75.5</td>\n",
       "      <td>75.7</td>\n",
       "      <td>65.8</td>\n",
       "      <td>79.1</td>\n",
       "    </tr>\n",
       "    <tr>\n",
       "      <th>15</th>\n",
       "      <td>247</td>\n",
       "      <td>211</td>\n",
       "      <td>251</td>\n",
       "      <td>218</td>\n",
       "      <td>185</td>\n",
       "      <td>224</td>\n",
       "      <td>213.3</td>\n",
       "      <td>162.9</td>\n",
       "      <td>203.4</td>\n",
       "      <td>232.1</td>\n",
       "      <td>227.6</td>\n",
       "      <td>251.6</td>\n",
       "    </tr>\n",
       "    <tr>\n",
       "      <th>16</th>\n",
       "      <td>222</td>\n",
       "      <td>189</td>\n",
       "      <td>218</td>\n",
       "      <td>192</td>\n",
       "      <td>180</td>\n",
       "      <td>199</td>\n",
       "      <td>171.8</td>\n",
       "      <td>134.8</td>\n",
       "      <td>183.1</td>\n",
       "      <td>195.5</td>\n",
       "      <td>213.8</td>\n",
       "      <td>204.1</td>\n",
       "    </tr>\n",
       "    <tr>\n",
       "      <th>17</th>\n",
       "      <td>273</td>\n",
       "      <td>248.6</td>\n",
       "      <td>292.2</td>\n",
       "      <td>255.2</td>\n",
       "      <td>284.3</td>\n",
       "      <td>267.3</td>\n",
       "      <td>246.6</td>\n",
       "      <td>210.3</td>\n",
       "      <td>280.6</td>\n",
       "      <td>275.6</td>\n",
       "      <td>284.6</td>\n",
       "      <td>283.2</td>\n",
       "    </tr>\n",
       "    <tr>\n",
       "      <th>18</th>\n",
       "      <td>487.2</td>\n",
       "      <td>422.2</td>\n",
       "      <td>491</td>\n",
       "      <td>437</td>\n",
       "      <td>466</td>\n",
       "      <td>443</td>\n",
       "      <td>373.5</td>\n",
       "      <td>367.5</td>\n",
       "      <td>511.9</td>\n",
       "      <td>490.6</td>\n",
       "      <td>469.2</td>\n",
       "      <td>487.9</td>\n",
       "    </tr>\n",
       "    <tr>\n",
       "      <th>19</th>\n",
       "      <td>183.9</td>\n",
       "      <td>173.1</td>\n",
       "      <td>204.2</td>\n",
       "      <td>183</td>\n",
       "      <td>203.2</td>\n",
       "      <td>181.9</td>\n",
       "      <td>191.2</td>\n",
       "      <td>153.6</td>\n",
       "      <td>208.6</td>\n",
       "      <td>186.5</td>\n",
       "      <td>192.9</td>\n",
       "      <td>189.9</td>\n",
       "    </tr>\n",
       "    <tr>\n",
       "      <th>20</th>\n",
       "      <td>208.3</td>\n",
       "      <td>197.1</td>\n",
       "      <td>220.4</td>\n",
       "      <td>197.9</td>\n",
       "      <td>151.7</td>\n",
       "      <td>206.9</td>\n",
       "      <td>199.9</td>\n",
       "      <td>163.3</td>\n",
       "      <td>223.8</td>\n",
       "      <td>203.6</td>\n",
       "      <td>213.8</td>\n",
       "      <td>235.7</td>\n",
       "    </tr>\n",
       "  </tbody>\n",
       "</table>\n",
       "</div>"
      ],
      "text/plain": [
       "   janv-11 févr-11 mars-11  avr-11  mai-11 juin-11 juil-11 août-11 sept-11  \\\n",
       "0    288.1   249.1   303.7   255.8   287.8   288.4   249.6   185.6   281.3   \n",
       "1    596.5   540.2   618.5   558.6   595.9   581.7   539.2   490.5   597.8   \n",
       "2      464   404.9   465.3   420.2   405.3     446   412.9   348.7   449.3   \n",
       "3    903.1   801.4   937.5   835.5   876.8   888.6   628.8   674.8   913.3   \n",
       "4    451.1   412.4   491.6   422.7   363.6   446.4   409.5   332.3   416.4   \n",
       "5      427   394.3   455.2   419.9   458.3   456.6     418   361.8   464.6   \n",
       "6    323.4   287.3   350.3   317.8   336.9   340.7   311.6     281   345.6   \n",
       "7      153   125.8   136.6   126.6   133.2   127.6   126.7   114.3   144.3   \n",
       "8    116.3   115.7   133.4     115   123.2   120.5   114.5    97.6   130.5   \n",
       "9    252.6   246.7   252.9   232.5   199.4   236.4   175.4   189.4   266.6   \n",
       "10   484.2   445.9     517     452     402     488     456     409     506   \n",
       "11   584.1   571.2   684.7   590.3   563.4   666.3   570.4   433.2   679.7   \n",
       "12   394.1   366.3   422.7   367.1   273.5   381.7   353.4     297     414   \n",
       "13  7134.2  6462.6  7517.4  6656.6  6563.4    7063  6220.2    5464  7296.3   \n",
       "14    75.3    60.4    71.2    59.5    73.9      72    57.9    56.4    75.5   \n",
       "15     247     211     251     218     185     224   213.3   162.9   203.4   \n",
       "16     222     189     218     192     180     199   171.8   134.8   183.1   \n",
       "17     273   248.6   292.2   255.2   284.3   267.3   246.6   210.3   280.6   \n",
       "18   487.2   422.2     491     437     466     443   373.5   367.5   511.9   \n",
       "19   183.9   173.1   204.2     183   203.2   181.9   191.2   153.6   208.6   \n",
       "20   208.3   197.1   220.4   197.9   151.7   206.9   199.9   163.3   223.8   \n",
       "\n",
       "    oct-11  nov-11  déc-11  \n",
       "0    284.3   296.4   301.1  \n",
       "1    575.7   580.5   601.4  \n",
       "2    446.3   453.1   484.3  \n",
       "3    878.7   895.7   935.8  \n",
       "4    451.5   475.1   513.5  \n",
       "5    453.4   478.5   470.9  \n",
       "6    335.6     367   354.5  \n",
       "7    145.1   129.5   129.8  \n",
       "8      123   124.3   133.7  \n",
       "9    230.3   257.7   224.4  \n",
       "10     495     493     502  \n",
       "11   656.1   662.6   699.9  \n",
       "12     350   410.6     410  \n",
       "13  7084.6  7291.7  7492.8  \n",
       "14    75.7    65.8    79.1  \n",
       "15   232.1   227.6   251.6  \n",
       "16   195.5   213.8   204.1  \n",
       "17   275.6   284.6   283.2  \n",
       "18   490.6   469.2   487.9  \n",
       "19   186.5   192.9   189.9  \n",
       "20   203.6   213.8   235.7  "
      ]
     },
     "execution_count": 31,
     "metadata": {},
     "output_type": "execute_result"
    }
   ],
   "source": [
    "dataParis = pd.read_csv(\"data/base-Paris.csv\", sep=';')\n",
    "arrd = dataParis['Granularité'].copy()\n",
    "del dataParis['Granularité']\n",
    "del dataParis['Total arrondissement 2011']\n",
    "\n",
    "#convertir string en float\n",
    "for i, row in dataParis.iterrows():\n",
    "    for cl in dataParis.columns:\n",
    "        row[cl] = row[cl].replace(' ', '')\n",
    "        row[cl] = row[cl].replace(',','.')\n",
    "        row[cl] = float(row[cl])\n",
    "dataParis"
   ]
  },
  {
   "cell_type": "code",
   "execution_count": 34,
   "metadata": {},
   "outputs": [
    {
     "name": "stdout",
     "output_type": "stream",
     "text": [
      " K =  2\n",
      "Iteration  0  Inertie :  447088431.222  Difference :  49578953.09772748\n",
      "Iteration  1  Inertie :  223343341.123  Difference :  223745090.09911475\n",
      "Iteration  2  Inertie :  8687784.075  Difference :  214655557.0481579\n",
      "Iteration  3  Inertie :  8687784.075  Difference :  0.0\n",
      " K =  3\n",
      "Iteration  0  Inertie :  460121430.753  Difference :  36545953.56711537\n",
      "Iteration  1  Inertie :  349555877.272  Difference :  110565553.48053181\n",
      "Iteration  2  Inertie :  8687784.075  Difference :  340868093.19735295\n",
      "Iteration  3  Inertie :  8687784.075  Difference :  0.0\n",
      " K =  4\n",
      "Iteration  0  Inertie :  218921744.283  Difference :  277745640.03694457\n",
      "Iteration  1  Inertie :  2381126.95625  Difference :  216540617.32680553\n",
      "Iteration  2  Inertie :  2285396.91472  Difference :  95730.04152777791\n",
      "Iteration  3  Inertie :  2285396.91472  Difference :  0.0\n",
      " K =  5\n",
      "Iteration  0  Inertie :  2614451.69014  Difference :  494052932.62985724\n",
      "Iteration  1  Inertie :  2353941.33958  Difference :  260510.3505595238\n",
      "Iteration  2  Inertie :  2258211.29806  Difference :  95730.04152777838\n",
      "Iteration  3  Inertie :  2228795.76125  Difference :  29415.53680555569\n",
      "Iteration  4  Inertie :  2138766.73317  Difference :  90029.02808333328\n",
      "Iteration  5  Inertie :  2109341.16317  Difference :  29425.569999999832\n",
      "Iteration  6  Inertie :  2039891.76917  Difference :  69449.39399999985\n",
      "Iteration  7  Inertie :  1995933.14317  Difference :  43958.626000000164\n",
      "Iteration  8  Inertie :  1995933.14317  Difference :  0.0\n",
      " K =  6\n",
      "Iteration  0  Inertie :  1498745.68714  Difference :  495168638.63285726\n",
      "Iteration  1  Inertie :  884606.852857  Difference :  614138.8342857144\n",
      "Iteration  2  Inertie :  884606.852857  Difference :  0.0\n",
      " K =  7\n",
      "Iteration  0  Inertie :  397212418.092  Difference :  99454966.22833347\n",
      "Iteration  1  Inertie :  1918720.38583  Difference :  395293697.7058333\n",
      "Iteration  2  Inertie :  1457122.35833  Difference :  461598.0275000001\n",
      "Iteration  3  Inertie :  842983.524048  Difference :  614138.8342857145\n",
      "Iteration  4  Inertie :  777202.050833  Difference :  65781.47321428556\n",
      "Iteration  5  Inertie :  752785.087333  Difference :  24416.963499999954\n",
      "Iteration  6  Inertie :  752785.087333  Difference :  0.0\n",
      " K =  8\n",
      "Iteration  0  Inertie :  431172164.381  Difference :  65495219.939166725\n",
      "Iteration  1  Inertie :  218569979.658  Difference :  212602184.72250006\n",
      "Iteration  2  Inertie :  1898799.83583  Difference :  216671179.8225\n",
      "Iteration  3  Inertie :  1437201.80833  Difference :  461598.0275000001\n",
      "Iteration  4  Inertie :  737474.38  Difference :  699727.4283333333\n",
      "Iteration  5  Inertie :  737474.38  Difference :  0.0\n",
      " K =  9\n",
      "Iteration  0  Inertie :  431130443.27  Difference :  65536941.05000013\n",
      "Iteration  1  Inertie :  218791409.204  Difference :  212339034.0661111\n",
      "Iteration  2  Inertie :  2190620.12  Difference :  216600789.0838889\n",
      "Iteration  3  Inertie :  1895357.53417  Difference :  295262.58583333367\n",
      "Iteration  4  Inertie :  1433759.50667  Difference :  461598.0275000001\n",
      "Iteration  5  Inertie :  734032.078333  Difference :  699727.4283333335\n",
      "Iteration  6  Inertie :  734032.078333  Difference :  0.0\n",
      " K =  10\n",
      "Iteration  0  Inertie :  302608946.221  Difference :  194058438.09928578\n",
      "Iteration  1  Inertie :  804670.039167  Difference :  301804276.18154764\n",
      "Iteration  2  Inertie :  635229.823333  Difference :  169440.21583333332\n",
      "Iteration  3  Inertie :  232143.713333  Difference :  403086.1099999999\n",
      "Iteration  4  Inertie :  194967.05631  Difference :  37176.65702380956\n",
      "Iteration  5  Inertie :  194967.05631  Difference :  0.0\n",
      " K =  11\n",
      "Iteration  0  Inertie :  218427581.679  Difference :  278239802.6411906\n",
      "Iteration  1  Inertie :  1892394.63417  Difference :  216535187.04464287\n",
      "Iteration  2  Inertie :  1430796.60667  Difference :  461598.0275000001\n",
      "Iteration  3  Inertie :  722164.268333  Difference :  708632.3383333334\n",
      "Iteration  4  Inertie :  702443.768333  Difference :  19720.5\n",
      "Iteration  5  Inertie :  656257.030667  Difference :  46186.73766666674\n",
      "Iteration  6  Inertie :  656257.030667  Difference :  0.0\n",
      " K =  12\n",
      "Iteration  0  Inertie :  302469136.412  Difference :  194198247.90833342\n",
      "Iteration  1  Inertie :  680212.991667  Difference :  301788923.42\n",
      "Iteration  2  Inertie :  634026.254  Difference :  46186.73766666674\n",
      "Iteration  3  Inertie :  634026.254  Difference :  0.0\n",
      " K =  13\n",
      "Iteration  0  Inertie :  346309438.508  Difference :  150357945.8116668\n",
      "Iteration  1  Inertie :  1294111.39333  Difference :  345015327.115\n",
      "Iteration  2  Inertie :  625631.784  Difference :  668479.6093333337\n",
      "Iteration  3  Inertie :  625631.784  Difference :  0.0\n",
      " K =  14\n",
      "Iteration  0  Inertie :  346302270.665  Difference :  150365113.6550001\n",
      "Iteration  1  Inertie :  1537068.08167  Difference :  344765202.5833334\n",
      "Iteration  2  Inertie :  631047.689  Difference :  906020.3926666668\n",
      "Iteration  3  Inertie :  631047.689  Difference :  0.0\n",
      " K =  15\n",
      "Iteration  0  Inertie :  620280.381667  Difference :  496047103.93833345\n",
      "Iteration  1  Inertie :  620280.381667  Difference :  0.0\n",
      " K =  16\n",
      "Iteration  0  Inertie :  262331.3125  Difference :  496405053.0075001\n",
      "Iteration  1  Inertie :  65988.2356667  Difference :  196343.07683333335\n",
      "Iteration  2  Inertie :  65988.2356667  Difference :  0.0\n",
      " K =  17\n",
      "Iteration  0  Inertie :  264202.062381  Difference :  496403182.25761914\n",
      "Iteration  1  Inertie :  182638.004667  Difference :  81564.05771428577\n",
      "Iteration  2  Inertie :  96400.9873333  Difference :  86237.01733333332\n",
      "Iteration  3  Inertie :  96400.9873333  Difference :  0.0\n",
      " K =  18\n",
      "Iteration  0  Inertie :  71257.6233333  Difference :  496596126.6966668\n",
      "Iteration  1  Inertie :  71257.6233333  Difference :  0.0\n",
      " K =  19\n",
      "Iteration  0  Inertie :  229579.365833  Difference :  496437804.95416677\n",
      "Iteration  1  Inertie :  91050.249  Difference :  138529.11683333336\n",
      "Iteration  2  Inertie :  91050.249  Difference :  0.0\n",
      " K =  20\n",
      "Iteration  0  Inertie :  620879.521667  Difference :  496046504.79833347\n",
      "Iteration  1  Inertie :  470103.856667  Difference :  150775.66499999992\n",
      "Iteration  2  Inertie :  87996.2258333  Difference :  382107.63083333336\n",
      "Iteration  3  Inertie :  87996.2258333  Difference :  0.0\n",
      " K =  21\n",
      "Iteration  0  Inertie :  218107738.45  Difference :  278559645.8700001\n",
      "Iteration  1  Inertie :  597112.468333  Difference :  217510625.98166665\n",
      "Iteration  2  Inertie :  597112.468333  Difference :  0.0\n"
     ]
    }
   ],
   "source": [
    "indexDunn = []\n",
    "indexXB = []\n",
    "tabCentresMatrices = []\n",
    "for k in list(range(2, 22)):\n",
    "    \n",
    "    print(\" K = \", k)\n",
    "    les_centres, l_affectation= km.kmoyennes(k, dataParis, 0.05, 100)\n",
    "    \n",
    "    tabCentresMatrices.append((les_centres, l_affectation))\n",
    "    indexDunn.append(evaluation(\"Dunn\", dataParis, les_centres, l_affectation))\n",
    "    indexXB.append(evaluation(\"XB\", dataParis, les_centres, l_affectation))"
   ]
  },
  {
   "cell_type": "code",
   "execution_count": 36,
   "metadata": {},
   "outputs": [
    {
     "data": {
      "image/png": "[encoded data removed]",
      "text/plain": [
       "<matplotlib.figure.Figure at 0x20b12301320>"
      ]
     },
     "metadata": {},
     "output_type": "display_data"
    },
    {
     "name": "stdout",
     "output_type": "stream",
     "text": [
      "[0.11998332866726479, 0.11998332866726479, 2.8927044993726523, 4.2266485054043326, 4.8476326661980078, 3.3317524064270976, 8.6663838897196506, 13.623065169209381, 2.7219380054458093, 11.063858687796914, 13.975929869684835, 22.037071032314245, 13.623065169209381, 22.037071032314245, 2.2432668274205669, 5.0320498211221203, 2.2748795130892314, 2.0920573003615353, 1.9984111540824752, 13.088650065322733]\n"
     ]
    }
   ],
   "source": [
    "ks = list(range(2, 22))\n",
    "plt.plot(ks, indexDunn)\n",
    "plt.title(\"Index de Dunn\")\n",
    "plt.show()\n",
    "print(indexDunn)"
   ]
  },
  {
   "cell_type": "code",
   "execution_count": 37,
   "metadata": {},
   "outputs": [
    {
     "data": {
      "image/png": "[encoded data removed]",
      "text/plain": [
       "<matplotlib.figure.Figure at 0x20b1239c908>"
      ]
     },
     "metadata": {},
     "output_type": "display_data"
    },
    {
     "name": "stdout",
     "output_type": "stream",
     "text": [
      "[0.11998332866726479, 0.11998332866726479, 2.8927044993726523, 4.2266485054043326, 4.8476326661980078, 3.3317524064270976, 8.6663838897196506, 13.623065169209381, 2.7219380054458093, 11.063858687796914, 13.975929869684835, 22.037071032314245, 13.623065169209381, 22.037071032314245, 2.2432668274205669, 5.0320498211221203, 2.2748795130892314, 2.0920573003615353, 1.9984111540824752, 13.088650065322733]\n"
     ]
    }
   ],
   "source": [
    "plt.plot(ks, indexXB)\n",
    "plt.title(\"Index de Xie et Benie\")\n",
    "plt.show()\n",
    "print(indexDunn)"
   ]
  },
  {
   "cell_type": "code",
   "execution_count": null,
   "metadata": {
    "collapsed": true
   },
   "outputs": [],
   "source": []
  }
 ],
 "metadata": {
  "kernelspec": {
   "display_name": "Python 3",
   "language": "python",
   "name": "python3"
  },
  "language_info": {
   "codemirror_mode": {
    "name": "ipython",
    "version": 3
   },
   "file_extension": ".py",
   "mimetype": "text/x-python",
   "name": "python",
   "nbconvert_exporter": "python",
   "pygments_lexer": "ipython3",
   "version": "3.6.3"
  }
 },
 "nbformat": 4,
 "nbformat_minor": 1
}
