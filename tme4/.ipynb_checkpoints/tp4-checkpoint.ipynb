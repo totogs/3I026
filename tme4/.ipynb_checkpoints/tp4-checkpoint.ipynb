{
 "cells": [
  {
   "cell_type": "markdown",
   "metadata": {},
   "source": [
    "# 3I026 - Intelligence artificielle & Data science"
   ]
  },
  {
   "cell_type": "markdown",
   "metadata": {},
   "source": [
    "TP 4 : Programmation du kernel perceptron\n",
    "=======\n",
    "\n",
    "Dans ce TP, nous allons principalement étendre le perceptron du TP3 à l'aide de noyaux, avant de commencer le projet."
   ]
  },
  {
   "cell_type": "markdown",
   "metadata": {},
   "source": [
    "**Indiquer dans la boîte ci-dessous vos noms et prénoms**"
   ]
  },
  {
   "cell_type": "markdown",
   "metadata": {},
   "source": [
    "Double-cliquer ici et remplacer par les noms et prénoms de votre binôme"
   ]
  },
  {
   "cell_type": "code",
   "execution_count": null,
   "metadata": {},
   "outputs": [],
   "source": [
    "import numpy as np\n",
    "import pandas as pd\n"
   ]
  },
  {
   "cell_type": "markdown",
   "metadata": {},
   "source": [
    "Kernel Trick\n",
    "--------------"
   ]
  },
  {
   "cell_type": "markdown",
   "metadata": {},
   "source": [
    "Nous allons projeter (manuellement) les données 2D dans un espace de plus grande dimension. Voici un exemple de projection qui transforme un vecteur $(x_1,x_2)$ en un vecteur $(x_1,x_2,1)$"
   ]
  },
  {
   "cell_type": "code",
   "execution_count": null,
   "metadata": {},
   "outputs": [],
   "source": [
    "class KernelBias:\n",
    "    def transform(self,x):\n",
    "        y=np.asarray([x[0],x[1],1])\n",
    "        return y\n",
    "\n",
    "k=KernelBias()\n",
    "k.transform(the_set.getX(1))\n"
   ]
  },
  {
   "cell_type": "markdown",
   "metadata": {},
   "source": [
    "Implémentez la classe perceptron qui prend un Kernel en paramètre, et calcule le perceptron sur la version \"kernélisée\" des données. Tester ce perceptron sur le dataset 1 (2 gaussiennes) et le dataset XOR"
   ]
  },
  {
   "cell_type": "code",
   "execution_count": null,
   "metadata": {
    "collapsed": true
   },
   "outputs": [],
   "source": [
    "class PerceptronKernel(Classifier):\n",
    "    def __init__(self,dimension_kernel,learning_rate,kernel):\n",
    "      ##TODO\n",
    "        \n",
    "    #Permet de calculer la prediction sur x => renvoie un score\n",
    "    def predict(self,x):\n",
    "       ##TODO\n",
    "\n",
    "    \n",
    "    #Permet d'entrainer le modele sur un ensemble de données\n",
    "    def train(self,labeledSet):\n",
    "        ##TODO\n",
    "\n",
    "                   #Permet de calculer la qualité du système \n",
    "    def accuracy(self,set):\n",
    "        ##TODO\n",
    "                \n",
    "N=100\n",
    "k=KernelBias()\n",
    "perceptron_k=PerceptronKernel(3,0.0001,k)\n",
    "### TODO: Tester le perceptron sur les deux datasets"
   ]
  },
  {
   "cell_type": "markdown",
   "metadata": {},
   "source": [
    "Implémenter le kernel : $(x_1,x_2) \\rightarrow (1,x_1,x_2,x_1*x_1,x_2*x_2,x_1*x_2)$. Entrainez le perceptron correspondant sur le XOR. Que constatez vous ? Donnez une explication."
   ]
  },
  {
   "cell_type": "code",
   "execution_count": null,
   "metadata": {},
   "outputs": [],
   "source": [
    "#prof\n",
    "class KernelPoly:\n",
    "    def transform(self,x):\n",
    "       ##TODO\n",
    "\n",
    "N=100\n",
    "k=KernelPoly()\n",
    "perceptron_k=PerceptronKernel(6,0.001,k)\n",
    "\n",
    "##TESTER SUR XOR ET DESSINER LA FRONTIèRE DE DECISION\n"
   ]
  },
  {
   "cell_type": "markdown",
   "metadata": {},
   "source": [
    "Mise en oeuvre sur des données réelles \n",
    "-------\n",
    "Tester la version à noyau du perceptron sur les données réelles"
   ]
  }
 ],
 "metadata": {
  "kernelspec": {
   "display_name": "Python 2",
   "language": "python",
   "name": "python2"
  },
  "language_info": {
   "codemirror_mode": {
    "name": "ipython",
    "version": 2
   },
   "file_extension": ".py",
   "mimetype": "text/x-python",
   "name": "python",
   "nbconvert_exporter": "python",
   "pygments_lexer": "ipython2",
   "version": "2.7.9"
  }
 },
 "nbformat": 4,
 "nbformat_minor": 1
}
