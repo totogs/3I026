{
 "cells": [
  {
   "cell_type": "markdown",
   "metadata": {},
   "source": [
    "IA & Data science -- 2017-2018\n",
    "--------\n",
    "*&copy; Equipe pédagogique: Ludovic Denoyer, Thibault Laugel, Marie-Jeanne Lesot, Christophe Marsala, Olivier Schwander*"
   ]
  },
  {
   "cell_type": "markdown",
   "metadata": {},
   "source": [
    "# TD-TME06 : méthodes d'ensembles\n",
    "\n",
    "L'objectif de ce TP est d'implémenter des méthodes d'ensembles et de les évaluer: l'algorithme de bagging appliqué aux arbres de décision, dans un premier temps, puis au perceptron ensuite.\n",
    "\n",
    "Comme précédemment, on se restreint au cas binaire où les données sont étiquetées $+1$ ou $-1$. De plus, on ne considére que le cas où les attributs sont tous numériques."
   ]
  },
  {
   "cell_type": "markdown",
   "metadata": {},
   "source": [
    "<font size=\"+1\">**[Q]**</font> **Indiquer dans la boîte ci-dessous vos noms et prénoms :**"
   ]
  },
  {
   "cell_type": "markdown",
   "metadata": {},
   "source": [
    "Jules Bourcier & Tony Gosse-Dumesnil"
   ]
  },
  {
   "cell_type": "markdown",
   "metadata": {},
   "source": [
    "<font color=\"RED\" size=\"+1\">IMPORTANT: soumission de votre fichier final</font>\n",
    "\n",
    "**Nom à donner au fichier à poster** : *Nom1_Nom2.ipynb* \n",
    "- *Nom1* et *Nom2* : noms des membres du binôme\n",
    "- ne pas compresser ou faire une archive: envoyer le fichier ipython tel quel, éventuellement, si vous avez d'autres fichiers à envoyer, vous les joignez au message."
   ]
  },
  {
   "cell_type": "markdown",
   "metadata": {},
   "source": [
    "## Questions de cours (à faire chez vous, sur papier)\n",
    "\n",
    "Pour vous entraîner sans machine... *(exercice de l'examen 2017)*\n",
    "\n",
    "Soit $V=\\{v_{1}, v_{2},..., v_{n}\\}$ un ensemble de $n$ valeurs réelles ordonnées,\n",
    "  telles que $v_1 \\geq v_2 \\geq \\ldots \\geq v_{n}$.. On note $\\bar{v}$ la valeur moyenne de $V$. La variance de $V$, $var(V)$ est définie par:\n",
    "$var(V) = \\frac{1}{n} \\sum_{i=1}^{n} (v_{i} - \\bar{v})^2$. \n",
    "\n",
    "Et soit $W=\\{w_{1}, w_{2},..., w_{n}\\}$ tel que,pour tout $i=1,...,n$.\n",
    "\n",
    "\n",
    "** [Q] ** Donner l'expression de $\\bar{v}$ en fonction des valeurs de $V$.\n",
    "\n",
    "** [Q] **  Montrer que $var(aV+b) = a^2 var(V)$.\n",
    "\n",
    "** [Q] ** Donner l'expression de $V\\cdot W$ (le produit scalaire) en fonction des coordonnées\n",
    "   de $V$ et de $W$.\n",
    "   \n",
    "** [Q] ** Comment doit-on définir $W$ si on souhaite que $V\\cdot W = \\bar{v}$ ?\n",
    "\n",
    "\n",
    "** [Q] ** Comment doit-on définir $W$ si on souhaite que\n",
    "   $V\\cdot W = \\displaystyle\\max_{i=1,...n} v_i$ ? Même question si on souhaite que\n",
    "   $V\\cdot W = \\displaystyle\\min_{i=1,...n} v_i$ ?\n",
    "\n",
    "** [Q] ** Soit un entier $k$ tel que $0<k\\leq n$. Proposer une définition de $W$ qui, par le\n",
    "   calcul du produit scalaire, permet de ne tenir compte, de façon équitable, que des $k$\n",
    "   valeurs les plus élevées de $V$.\n",
    "\n"
   ]
  },
  {
   "cell_type": "markdown",
   "metadata": {},
   "source": [
    "## Préparation\n"
   ]
  },
  {
   "cell_type": "code",
   "execution_count": 1,
   "metadata": {
    "collapsed": true
   },
   "outputs": [],
   "source": [
    "#imports utiles\n",
    "import numpy as np\n",
    "import pandas as pd\n",
    "import math"
   ]
  },
  {
   "cell_type": "markdown",
   "metadata": {},
   "source": [
    "On utilise la classe <code>LabeledSet</code> pour stocker les données d'apprentissage, de validation et de test."
   ]
  },
  {
   "cell_type": "code",
   "execution_count": 2,
   "metadata": {
    "collapsed": true
   },
   "outputs": [],
   "source": [
    "class LabeledSet:  \n",
    "    \n",
    "    def __init__(self, input_dimension):\n",
    "        self.input_dimension = input_dimension\n",
    "        self.nb_examples = 0\n",
    "        \n",
    "    def addExample(self,vector,label):\n",
    "        if (self.nb_examples == 0):\n",
    "            self.x = np.array([vector])\n",
    "            self.y = np.array([label])\n",
    "        else:\n",
    "            self.x = np.vstack((self.x, vector))\n",
    "            self.y = np.vstack((self.y, label))\n",
    "        \n",
    "        self.nb_examples = self.nb_examples + 1\n",
    "    \n",
    "    #Renvoie la dimension de l'espace d'entrée\n",
    "    def getInputDimension(self):\n",
    "        return self.input_dimension\n",
    "    \n",
    "    #Renvoie le nombre d'exemples dans le set\n",
    "    def size(self):\n",
    "        return self.nb_examples\n",
    "    \n",
    "    #Renvoie la valeur de x_i\n",
    "    def getX(self, i):\n",
    "        return self.x[i]\n",
    "        \n",
    "    #Renvoie la valeur de y_i\n",
    "    def getY(self, i):\n",
    "        return(self.y[i])"
   ]
  },
  {
   "cell_type": "markdown",
   "metadata": {},
   "source": [
    "Pour tester les fonctions à implémenter dans cette séance, on utilise la base d'exemples suivante :"
   ]
  },
  {
   "cell_type": "code",
   "execution_count": 3,
   "metadata": {
    "collapsed": true
   },
   "outputs": [],
   "source": [
    "# Base d'exemples pour tester les fonctions:\n",
    "set_exemples = LabeledSet(2)\n",
    "set_exemples.addExample([2.10492662303,1.10648470933],1)\n",
    "set_exemples.addExample([0.297525816499,-0.662504551625],1)\n",
    "set_exemples.addExample([1.6694258992,0.313687975072],1)\n",
    "set_exemples.addExample([1.20583098523,3.50817309097],1)\n",
    "set_exemples.addExample([1.13739407316,1.96688273992],1)\n",
    "set_exemples.addExample([2.32319808376,0.536577798714],1)\n",
    "set_exemples.addExample([-0.953004346997,0.596926923927],1)\n",
    "set_exemples.addExample([1.00574784804,-0.0959606771199],1)\n",
    "set_exemples.addExample([0.747509778063,0.429544908608],1)\n",
    "set_exemples.addExample([1.39048336283,0.442578873406],1)\n",
    "set_exemples.addExample([0.0470799329584,-1.97596265858],-1)\n",
    "set_exemples.addExample([-0.673998013071,0.0693931940855],-1)\n",
    "set_exemples.addExample([-0.84587451642,0.761766191612],-1)\n",
    "set_exemples.addExample([-1.39596839858,-0.943807082082],-1)\n",
    "set_exemples.addExample([0.319301767707,0.566169775123],-1)\n",
    "set_exemples.addExample([1.43459714786,0.935712030926],-1)\n",
    "set_exemples.addExample([-1.69323475458,-1.89563184035],-1)\n",
    "set_exemples.addExample([0.81167008598,-1.17927660655],-1)\n",
    "set_exemples.addExample([-1.03264043689,-1.08118488864],-1)\n",
    "set_exemples.addExample([0.609517439986,-2.88593327349],-1)"
   ]
  },
  {
   "cell_type": "markdown",
   "metadata": {},
   "source": [
    "Pour afficher, nous utilisons la fonction <code>plot2DSet()</code> déjà vue dans les séances précédentes. \n"
   ]
  },
  {
   "cell_type": "code",
   "execution_count": 4,
   "metadata": {
    "collapsed": true
   },
   "outputs": [],
   "source": [
    "import matplotlib.pyplot as plt\n",
    "%matplotlib inline \n",
    "\n",
    "def plot2DSet(set):\n",
    "    \"\"\" LabeledSet -> NoneType\n",
    "        Hypothèse: set est de dimension 2\n",
    "        affiche une représentation graphique du LabeledSet\n",
    "        remarque: l'ordre des labels dans set peut être quelconque\n",
    "    \"\"\"\n",
    "    S_pos = set.x[np.where(set.y == 1),:][0]      # tous les exemples de label +1\n",
    "    S_neg = set.x[np.where(set.y == -1),:][0]     # tous les exemples de label -1\n",
    "    plt.scatter(S_pos[:,0],S_pos[:,1],marker='o')\n",
    "    plt.scatter(S_neg[:,0],S_neg[:,1],marker='x')\n"
   ]
  },
  {
   "cell_type": "code",
   "execution_count": 5,
   "metadata": {
    "scrolled": true
   },
   "outputs": [
    {
     "data": {
      "image/png": "[encoded data removed]",
      "text/plain": [
       "<matplotlib.figure.Figure at 0x1ad5a2fd438>"
      ]
     },
     "metadata": {},
     "output_type": "display_data"
    }
   ],
   "source": [
    "# Essai de la fonction : (the_set : variable du dataset généré précédemment)\n",
    "plot2DSet(set_exemples)"
   ]
  },
  {
   "cell_type": "markdown",
   "metadata": {},
   "source": [
    "### Les classifieurs\n",
    "\n",
    "On reprend ici la classe <code>Classifier</code> qui sert encore de classe de base pour implémenter un nouveau classifieur."
   ]
  },
  {
   "cell_type": "code",
   "execution_count": 6,
   "metadata": {
    "collapsed": true
   },
   "outputs": [],
   "source": [
    "class Classifier:\n",
    "    def __init__(self,input_dimension):\n",
    "        \"\"\" Constructeur \"\"\"\n",
    "        raise NotImplementedError(\"Please Implement this method\")\n",
    "    \n",
    "    # Permet de calculer la prediction sur x => renvoie un score\n",
    "    def predict(self,x):\n",
    "        raise NotImplementedError(\"Please Implement this method\")\n",
    "\n",
    "    # Permet d'entrainer le modele sur un ensemble de données étiquetés\n",
    "    def train(self,labeledSet):\n",
    "        raise NotImplementedError(\"Please Implement this method\")\n",
    "    \n",
    "    # Permet de calculer le taux de bonne classification\n",
    "    def accuracy(self,set):\n",
    "        nb_ok = 0\n",
    "        for i in range(set.size()):\n",
    "            score = self.predict(set.getX(i))\n",
    "            if (score * set.getY(i) > 0):\n",
    "                nb_ok = nb_ok + 1\n",
    "        acc = nb_ok / (set.size()* 1.0)\n",
    "        return acc\n"
   ]
  },
  {
   "cell_type": "markdown",
   "metadata": {},
   "source": [
    "On reprend aussi la fonction <code>plot_frontiere</code> pour dessiner la frontière de décision d'un classifieur. "
   ]
  },
  {
   "cell_type": "code",
   "execution_count": 7,
   "metadata": {
    "collapsed": true
   },
   "outputs": [],
   "source": [
    "def plot_frontiere(set,classifier,step=10):\n",
    "    \"\"\" LabeledSet * Classifier * int -> NoneType\n",
    "        Remarque: le 3e argument est optionnel et donne la \"résolution\" du tracé\n",
    "        affiche la frontière de décision associée au classifieur\n",
    "    \"\"\"\n",
    "    mmax=set.x.max(0)\n",
    "    mmin=set.x.min(0)\n",
    "    x1grid,x2grid=np.meshgrid(np.linspace(mmin[0],mmax[0],step),np.linspace(mmin[1],mmax[1],step))\n",
    "    grid=np.hstack((x1grid.reshape(x1grid.size,1),x2grid.reshape(x2grid.size,1)))\n",
    "    \n",
    "    # calcul de la prediction pour chaque point de la grille\n",
    "    res=np.array([classifier.predict(grid[i,:]) for i in range(len(grid)) ])\n",
    "    res=res.reshape(x1grid.shape)\n",
    "    # tracer des frontieres\n",
    "    plt.contourf(x1grid,x2grid,res,colors=[\"red\",\"cyan\"],levels=[-1000,0,1000],linewidth=2)"
   ]
  },
  {
   "cell_type": "markdown",
   "metadata": {},
   "source": [
    "## Etape 1: Bagging d'arbres de décision\n",
    "\n",
    "Dans cette étape, on procède à l'implémentation de l'algorithme du bagging. Dans un premier temps, le classifieur que l'on utilise est celui des arbres de décision.\n",
    "\n",
    "### Classifieurs par arbres de décision\n",
    "Reprendre ici les fonctions réalisées pour l'implémentation des arbres de décision : <code>classe_majoritaire()</code>, <code>shannon()</code>, <code>entropie()</code>, <code>discretise()</code>, <code>divise()</code>, et <code>construit_AD()</code>.\n",
    "Ainsi que les classes <code>ArbreBinaire</code> et <code>ArbreDecision</code>.\n"
   ]
  },
  {
   "cell_type": "code",
   "execution_count": 8,
   "metadata": {
    "collapsed": true
   },
   "outputs": [],
   "source": [
    "def classeMajoritaire(labeledset):\n",
    "    \n",
    "    cpt = 0\n",
    "    for i in range(labeledset.size()):\n",
    "        if labeledset.getY(i)== 1:\n",
    "            cpt += 1\n",
    "        else:\n",
    "            cpt -= 1\n",
    "    if cpt >= 0:\n",
    "        return 1\n",
    "    else:\n",
    "        return -1\n",
    "\n",
    "def shannon(P):\n",
    "    \n",
    "    k = len(P)\n",
    "    HsP = 0\n",
    "    if k == 1:\n",
    "        return 0.0\n",
    "    \n",
    "    for pi in P:\n",
    "        if(pi > 0.0):\n",
    "            HsP += pi * math.log(pi,k)\n",
    "    return -HsP\n",
    "\n",
    "def entropie(dataset):\n",
    "    \n",
    "    card = dataset.size()\n",
    "    dim = dataset.getInputDimension()\n",
    "    \n",
    "    distrib = dict()\n",
    "    for i in range(dataset.size()):\n",
    "        \n",
    "        yi = dataset.getY(i)[0]\n",
    "        if yi in distrib:\n",
    "            distrib[yi] += 1\n",
    "        else:\n",
    "            distrib[yi] = 1\n",
    "    sha = [float(val)/card for val in distrib.values()]\n",
    "    \n",
    "    return shannon(sha)\n",
    "\n",
    "def discretise(lset, col):\n",
    "    \"\"\" LabelledSet * int -> tuple[float, float]\n",
    "        col est le numéro de colonne sur X à discrétiser\n",
    "        rend la valeur de coupure qui minimise l'entropie ainsi que son entropie.\n",
    "    \"\"\"\n",
    "    # initialisation:\n",
    "    min_entropie = 1.1  # on met à une valeur max car on veut minimiser\n",
    "    min_seuil = 0.0     \n",
    "    # trie des valeurs:\n",
    "    ind= np.argsort(lset.x,axis=0)\n",
    "    \n",
    "    # calcul des distributions des classes pour E1 et E2:\n",
    "    inf_plus  = 0               # nombre de +1 dans E1\n",
    "    inf_moins = 0               # nombre de -1 dans E1\n",
    "    sup_plus  = 0               # nombre de +1 dans E2\n",
    "    sup_moins = 0               # nombre de -1 dans E2       \n",
    "    # remarque: au départ on considère que E1 est vide et donc E2 correspond à E. \n",
    "    # Ainsi inf_plus et inf_moins valent 0. Il reste à calculer sup_plus et sup_moins \n",
    "    # dans E.\n",
    "    for j in range(0,lset.size()):\n",
    "        if (lset.getY(j) == -1):\n",
    "            sup_moins += 1\n",
    "        else:\n",
    "            sup_plus += 1\n",
    "    nb_total = (sup_plus + sup_moins) # nombre d'exemples total dans E\n",
    "    \n",
    "    # parcours pour trouver le meilleur seuil:\n",
    "    for i in range(len(lset.x)-1):\n",
    "        v_ind_i = ind[i]   # vecteur d'indices\n",
    "        courant = lset.getX(v_ind_i[col])[col]\n",
    "        lookahead = lset.getX(ind[i+1][col])[col]\n",
    "        val_seuil = (courant + lookahead) / 2.0;\n",
    "        # M-A-J de la distrib. des classes:\n",
    "        # pour réduire les traitements: on retire un exemple de E2 et on le place\n",
    "        # dans E1, c'est ainsi que l'on déplace donc le seuil de coupure.\n",
    "        if lset.getY(ind[i][col])[0] == -1:\n",
    "            inf_moins += 1\n",
    "            sup_moins -= 1\n",
    "        else:\n",
    "            inf_plus += 1\n",
    "            sup_plus -= 1\n",
    "        # calcul de la distribution des classes de chaque côté du seuil:\n",
    "        nb_inf = (inf_moins + inf_plus)*1.0     # rem: on en fait un float pour éviter\n",
    "        nb_sup = (sup_moins + sup_plus)*1.0     # que ce soit une division entière.\n",
    "        # calcul de l'entropie de la coupure\n",
    "        val_entropie_inf = shannon([inf_moins / nb_inf, inf_plus  / nb_inf])\n",
    "        val_entropie_sup = shannon([sup_moins / nb_sup, sup_plus  / nb_sup])\n",
    "        val_entropie = (nb_inf / nb_total) * val_entropie_inf + (nb_sup / nb_total) * val_entropie_sup\n",
    "        # si cette coupure minimise l'entropie, on mémorise ce seuil et son entropie:\n",
    "        if (min_entropie > val_entropie):\n",
    "            min_entropie = val_entropie\n",
    "            min_seuil = val_seuil\n",
    "    return (min_seuil, min_entropie)\n",
    "\n",
    "def divise(lset, att, seuil):\n",
    "    \"\"\"Divise en deux un labeledSet, selon une valeur seuil d'un attribut des entrees xi\"\"\"\n",
    "    linf = LabeledSet(lset.getInputDimension());\n",
    "    lsup = LabeledSet(lset.getInputDimension());\n",
    "\n",
    "    for i in range(lset.size()):\n",
    "        \n",
    "        xi, yi = lset.getX(i), lset.getY(i)\n",
    "        if (xi[att] < seuil):\n",
    "            linf.addExample(xi, yi)\n",
    "            \n",
    "        else:\n",
    "            lsup.addExample(xi, yi)\n",
    "            \n",
    "        \n",
    "    return linf, lsup\n",
    "\n",
    "def construit_AD(lset, eps):\n",
    "    \n",
    "    ad = ArbreBinaire()\n",
    "    \n",
    "    if (entropie(lset) <= eps):\n",
    "        ad.ajouteFeuille(classeMajoritaire(lset))\n",
    "    else:\n",
    "        entropie_min = 10000\n",
    "        seuil_min = 1000000\n",
    "        imin = 0\n",
    "        for i in range(lset.getInputDimension()):\n",
    "            \n",
    "            #discrétiser lset\n",
    "            seuil , entrp = discretise(lset, i)\n",
    "            \n",
    "            #trouver l'entropie min\n",
    "            if entropie_min > entrp :\n",
    "                entropie_min = entrp\n",
    "                seuil_min = seuil\n",
    "                imin = i\n",
    "        #diviser lset\n",
    "        linf, lsup = divise(lset, imin, seuil_min)\n",
    "        #appels récursifs pour les fils gauche et droit du noeud\n",
    "        ad.ajouteFils(construit_AD(linf, eps), construit_AD(lsup, eps), imin, seuil_min)\n",
    "        \n",
    "    return ad\n",
    "\n",
    "import graphviz as gv\n",
    "\n",
    "class ArbreBinaire:\n",
    "    def __init__(self):\n",
    "        self.attribut = None   # numéro de l'attribut\n",
    "        self.seuil = None\n",
    "        self.inferieur = None # ArbreBinaire Gauche (valeurs <= au seuil)\n",
    "        self.superieur = None # ArbreBinaire Gauche (valeurs > au seuil)\n",
    "        self.classe = None # Classe si c'est une feuille: -1 ou +1\n",
    "        \n",
    "    def estFeuille(self):\n",
    "        \"\"\" rend True si l'arbre est une feuille \"\"\"\n",
    "        return self.seuil == None\n",
    "    \n",
    "    def ajouteFils(self, ABinf, ABsup, att, seuil):\n",
    "        \"\"\" ABinf, ABsup: 2 arbres binaires\n",
    "            att: numéro d'attribut\n",
    "            seuil: valeur de seuil\n",
    "        \"\"\"\n",
    "        self.attribut = att\n",
    "        self.seuil = seuil\n",
    "        self.inferieur = ABinf\n",
    "        self.superieur = ABsup\n",
    "    \n",
    "    def ajouteFeuille(self, classe):\n",
    "        \"\"\" classe: -1 ou + 1\n",
    "        \"\"\"\n",
    "        self.classe = classe\n",
    "        \n",
    "    def classifie(self, exemple):\n",
    "        \"\"\" exemple : numpy.array\n",
    "            rend la classe de l'exemple: +1 ou -1\n",
    "        \"\"\"\n",
    "        if self.estFeuille():\n",
    "            return self.classe\n",
    "        if exemple[self.attribut] <= self.seuil:\n",
    "            return self.inferieur.classifie(exemple)\n",
    "        return self.superieur.classifie(exemple)\n",
    "    \n",
    "    def toGraph(self, g, prefixe='A'):\n",
    "        \"\"\" construit une représentation de l'arbre pour pouvoir\n",
    "            l'afficher\n",
    "        \"\"\"\n",
    "        if self.estFeuille():\n",
    "            g.node(prefixe,str(self.classe),shape='box')\n",
    "        else:\n",
    "            g.node(prefixe, str(self.attribut))\n",
    "            self.inferieur.toGraph(g,prefixe+\"g\")\n",
    "            self.superieur.toGraph(g,prefixe+\"d\")\n",
    "            g.edge(prefixe,prefixe+\"g\", '<='+ str(self.seuil))\n",
    "            g.edge(prefixe,prefixe+\"d\", '>'+ str(self.seuil))\n",
    "        \n",
    "        return g\n",
    "    \n",
    "class ArbreDecision(Classifier):\n",
    "    \n",
    "    def __init__(self,epsilon):\n",
    "        # valeur seuil d'entropie pour arrêter la construction\n",
    "        self.epsilon = epsilon\n",
    "        # noeud racine de type ArbreBinaire\n",
    "        self.racine = None\n",
    "    \n",
    "    def predict(self,x):\n",
    "        \n",
    "        classe = self.racine.classifie(x)\n",
    "        if (classe == 1):\n",
    "            return 1\n",
    "        else:\n",
    "            return -1\n",
    "    \n",
    "    def train(self, set):\n",
    "        # construction de l'arbre de décision \n",
    "        self.set = set\n",
    "        self.racine = construit_AD(set, self.epsilon)\n",
    "\n",
    "    def plot(self):\n",
    "        gtree = gv.Digraph(format='png')\n",
    "        return self.racine.toGraph(gtree)\n",
    "        "
   ]
  },
  {
   "cell_type": "markdown",
   "metadata": {},
   "source": [
    "Ainsi, vous devez donc pouvoir utiliser à partir d'ici la classe <code>ArbreDecision</code>.\n",
    "\n",
    "Par exemple, sur la base <code>set_exemples</code>:"
   ]
  },
  {
   "cell_type": "code",
   "execution_count": 9,
   "metadata": {},
   "outputs": [
    {
     "name": "stdout",
     "output_type": "stream",
     "text": [
      "accuracy : 1.0\n"
     ]
    },
    {
     "data": {
      "image/svg+xml": [
       "<?xml version=\"1.0\" encoding=\"UTF-8\" standalone=\"no\"?>\r\n",
       "<!DOCTYPE svg PUBLIC \"-//W3C//DTD SVG 1.1//EN\"\r\n",
       " \"http://www.w3.org/Graphics/SVG/1.1/DTD/svg11.dtd\">\r\n",
       "<!-- Generated by graphviz version 2.38.0 (20140413.2041)\r\n",
       " -->\r\n",
       "<!-- Title: %3 Pages: 1 -->\r\n",
       "<svg width=\"632pt\" height=\"392pt\"\r\n",
       " viewBox=\"0.00 0.00 632.00 392.00\" xmlns=\"http://www.w3.org/2000/svg\" xmlns:xlink=\"http://www.w3.org/1999/xlink\">\r\n",
       "<g id=\"graph0\" class=\"graph\" transform=\"scale(1 1) rotate(0) translate(4 388)\">\r\n",
       "<title>%3</title>\r\n",
       "<polygon fill=\"white\" stroke=\"none\" points=\"-4,4 -4,-388 628,-388 628,4 -4,4\"/>\r\n",
       "<!-- A -->\r\n",
       "<g id=\"node1\" class=\"node\"><title>A</title>\r\n",
       "<ellipse fill=\"none\" stroke=\"black\" cx=\"160\" cy=\"-366\" rx=\"27\" ry=\"18\"/>\r\n",
       "<text text-anchor=\"middle\" x=\"160\" y=\"-362.3\" font-family=\"Times New Roman,serif\" font-size=\"14.00\">1</text>\r\n",
       "</g>\r\n",
       "<!-- Ag -->\r\n",
       "<g id=\"node2\" class=\"node\"><title>Ag</title>\r\n",
       "<polygon fill=\"none\" stroke=\"black\" points=\"119,-297 65,-297 65,-261 119,-261 119,-297\"/>\r\n",
       "<text text-anchor=\"middle\" x=\"92\" y=\"-275.3\" font-family=\"Times New Roman,serif\" font-size=\"14.00\">&#45;1</text>\r\n",
       "</g>\r\n",
       "<!-- A&#45;&gt;Ag -->\r\n",
       "<g id=\"edge11\" class=\"edge\"><title>A&#45;&gt;Ag</title>\r\n",
       "<path fill=\"none\" stroke=\"black\" d=\"M135.164,-358.915C120.185,-353.837 102.262,-344.949 93,-330 88.913,-323.404 87.5579,-315.319 87.5252,-307.589\"/>\r\n",
       "<polygon fill=\"black\" stroke=\"black\" points=\"91.0287,-307.643 88.168,-297.441 84.0427,-307.2 91.0287,-307.643\"/>\r\n",
       "<text text-anchor=\"middle\" x=\"149.5\" y=\"-318.8\" font-family=\"Times New Roman,serif\" font-size=\"14.00\">&lt;=&#45;0.803155816854</text>\r\n",
       "</g>\r\n",
       "<!-- Ad -->\r\n",
       "<g id=\"node3\" class=\"node\"><title>Ad</title>\r\n",
       "<ellipse fill=\"none\" stroke=\"black\" cx=\"228\" cy=\"-279\" rx=\"27\" ry=\"18\"/>\r\n",
       "<text text-anchor=\"middle\" x=\"228\" y=\"-275.3\" font-family=\"Times New Roman,serif\" font-size=\"14.00\">0</text>\r\n",
       "</g>\r\n",
       "<!-- A&#45;&gt;Ad -->\r\n",
       "<g id=\"edge12\" class=\"edge\"><title>A&#45;&gt;Ad</title>\r\n",
       "<path fill=\"none\" stroke=\"black\" d=\"M179.76,-353.249C188.674,-347.186 198.795,-339.143 206,-330 211.509,-323.01 215.935,-314.426 219.332,-306.356\"/>\r\n",
       "<polygon fill=\"black\" stroke=\"black\" points=\"222.643,-307.498 222.969,-296.908 216.11,-304.983 222.643,-307.498\"/>\r\n",
       "<text text-anchor=\"middle\" x=\"267.5\" y=\"-318.8\" font-family=\"Times New Roman,serif\" font-size=\"14.00\">&gt;&#45;0.803155816854</text>\r\n",
       "</g>\r\n",
       "<!-- Adg -->\r\n",
       "<g id=\"node4\" class=\"node\"><title>Adg</title>\r\n",
       "<ellipse fill=\"none\" stroke=\"black\" cx=\"162\" cy=\"-192\" rx=\"27\" ry=\"18\"/>\r\n",
       "<text text-anchor=\"middle\" x=\"162\" y=\"-188.3\" font-family=\"Times New Roman,serif\" font-size=\"14.00\">0</text>\r\n",
       "</g>\r\n",
       "<!-- Ad&#45;&gt;Adg -->\r\n",
       "<g id=\"edge9\" class=\"edge\"><title>Ad&#45;&gt;Adg</title>\r\n",
       "<path fill=\"none\" stroke=\"black\" d=\"M203.231,-271.482C188.826,-266.291 171.82,-257.437 163,-243 158.846,-236.2 157.541,-227.849 157.578,-219.933\"/>\r\n",
       "<polygon fill=\"black\" stroke=\"black\" points=\"161.07,-220.163 158.271,-209.945 154.087,-219.679 161.07,-220.163\"/>\r\n",
       "<text text-anchor=\"middle\" x=\"217.5\" y=\"-231.8\" font-family=\"Times New Roman,serif\" font-size=\"14.00\">&lt;=0.533405772885</text>\r\n",
       "</g>\r\n",
       "<!-- Add -->\r\n",
       "<g id=\"node9\" class=\"node\"><title>Add</title>\r\n",
       "<ellipse fill=\"none\" stroke=\"black\" cx=\"294\" cy=\"-192\" rx=\"27\" ry=\"18\"/>\r\n",
       "<text text-anchor=\"middle\" x=\"294\" y=\"-188.3\" font-family=\"Times New Roman,serif\" font-size=\"14.00\">0</text>\r\n",
       "</g>\r\n",
       "<!-- Ad&#45;&gt;Add -->\r\n",
       "<g id=\"edge10\" class=\"edge\"><title>Ad&#45;&gt;Add</title>\r\n",
       "<path fill=\"none\" stroke=\"black\" d=\"M246.883,-266.092C255.406,-259.995 265.088,-251.968 272,-243 277.433,-235.951 281.839,-227.351 285.241,-219.285\"/>\r\n",
       "<polygon fill=\"black\" stroke=\"black\" points=\"288.548,-220.439 288.895,-209.85 282.02,-217.911 288.548,-220.439\"/>\r\n",
       "<text text-anchor=\"middle\" x=\"331\" y=\"-231.8\" font-family=\"Times New Roman,serif\" font-size=\"14.00\">&gt;0.533405772885</text>\r\n",
       "</g>\r\n",
       "<!-- Adgg -->\r\n",
       "<g id=\"node5\" class=\"node\"><title>Adgg</title>\r\n",
       "<polygon fill=\"none\" stroke=\"black\" points=\"54,-123 0,-123 0,-87 54,-87 54,-123\"/>\r\n",
       "<text text-anchor=\"middle\" x=\"27\" y=\"-101.3\" font-family=\"Times New Roman,serif\" font-size=\"14.00\">1</text>\r\n",
       "</g>\r\n",
       "<!-- Adg&#45;&gt;Adgg -->\r\n",
       "<g id=\"edge3\" class=\"edge\"><title>Adg&#45;&gt;Adgg</title>\r\n",
       "<path fill=\"none\" stroke=\"black\" d=\"M135.196,-189.556C109.288,-186.785 70.4647,-178.807 46,-156 39.5292,-149.968 35.2432,-141.501 32.412,-133.247\"/>\r\n",
       "<polygon fill=\"black\" stroke=\"black\" points=\"35.7317,-132.124 29.6311,-123.462 28.9984,-134.038 35.7317,-132.124\"/>\r\n",
       "<text text-anchor=\"middle\" x=\"102.5\" y=\"-144.8\" font-family=\"Times New Roman,serif\" font-size=\"14.00\">&lt;=&#45;0.899439431708</text>\r\n",
       "</g>\r\n",
       "<!-- Adgd -->\r\n",
       "<g id=\"node6\" class=\"node\"><title>Adgd</title>\r\n",
       "<ellipse fill=\"none\" stroke=\"black\" cx=\"163\" cy=\"-105\" rx=\"27\" ry=\"18\"/>\r\n",
       "<text text-anchor=\"middle\" x=\"163\" y=\"-101.3\" font-family=\"Times New Roman,serif\" font-size=\"14.00\">1</text>\r\n",
       "</g>\r\n",
       "<!-- Adg&#45;&gt;Adgd -->\r\n",
       "<g id=\"edge4\" class=\"edge\"><title>Adg&#45;&gt;Adgd</title>\r\n",
       "<path fill=\"none\" stroke=\"black\" d=\"M162.202,-173.799C162.339,-162.163 162.523,-146.548 162.68,-133.237\"/>\r\n",
       "<polygon fill=\"black\" stroke=\"black\" points=\"166.18,-133.216 162.798,-123.175 159.18,-133.134 166.18,-133.216\"/>\r\n",
       "<text text-anchor=\"middle\" x=\"215.5\" y=\"-144.8\" font-family=\"Times New Roman,serif\" font-size=\"14.00\">&gt;&#45;0.899439431708</text>\r\n",
       "</g>\r\n",
       "<!-- Adgdg -->\r\n",
       "<g id=\"node7\" class=\"node\"><title>Adgdg</title>\r\n",
       "<polygon fill=\"none\" stroke=\"black\" points=\"126,-36 72,-36 72,-0 126,-0 126,-36\"/>\r\n",
       "<text text-anchor=\"middle\" x=\"99\" y=\"-14.3\" font-family=\"Times New Roman,serif\" font-size=\"14.00\">1</text>\r\n",
       "</g>\r\n",
       "<!-- Adgd&#45;&gt;Adgdg -->\r\n",
       "<g id=\"edge1\" class=\"edge\"><title>Adgd&#45;&gt;Adgdg</title>\r\n",
       "<path fill=\"none\" stroke=\"black\" d=\"M138.653,-97.1594C124.752,-91.8788 108.453,-83.0429 100,-69 95.9981,-62.3517 94.6686,-54.2513 94.6333,-46.523\"/>\r\n",
       "<polygon fill=\"black\" stroke=\"black\" points=\"98.1362,-46.5827 95.258,-36.3863 91.1495,-46.1521 98.1362,-46.5827\"/>\r\n",
       "<text text-anchor=\"middle\" x=\"153\" y=\"-57.8\" font-family=\"Times New Roman,serif\" font-size=\"14.00\">&lt;=&#45;0.29655567877</text>\r\n",
       "</g>\r\n",
       "<!-- Adgdd -->\r\n",
       "<g id=\"node8\" class=\"node\"><title>Adgdd</title>\r\n",
       "<polygon fill=\"none\" stroke=\"black\" points=\"255,-36 201,-36 201,-0 255,-0 255,-36\"/>\r\n",
       "<text text-anchor=\"middle\" x=\"228\" y=\"-14.3\" font-family=\"Times New Roman,serif\" font-size=\"14.00\">&#45;1</text>\r\n",
       "</g>\r\n",
       "<!-- Adgd&#45;&gt;Adgdd -->\r\n",
       "<g id=\"edge2\" class=\"edge\"><title>Adgd&#45;&gt;Adgdd</title>\r\n",
       "<path fill=\"none\" stroke=\"black\" d=\"M181.875,-91.6971C190.096,-85.6239 199.35,-77.7286 206,-69 211.312,-62.0279 215.656,-53.5731 219.038,-45.6149\"/>\r\n",
       "<polygon fill=\"black\" stroke=\"black\" points=\"222.304,-46.8749 222.688,-36.287 215.785,-44.3244 222.304,-46.8749\"/>\r\n",
       "<text text-anchor=\"middle\" x=\"264\" y=\"-57.8\" font-family=\"Times New Roman,serif\" font-size=\"14.00\">&gt;&#45;0.29655567877</text>\r\n",
       "</g>\r\n",
       "<!-- Addg -->\r\n",
       "<g id=\"node10\" class=\"node\"><title>Addg</title>\r\n",
       "<polygon fill=\"none\" stroke=\"black\" points=\"320,-123 266,-123 266,-87 320,-87 320,-123\"/>\r\n",
       "<text text-anchor=\"middle\" x=\"293\" y=\"-101.3\" font-family=\"Times New Roman,serif\" font-size=\"14.00\">1</text>\r\n",
       "</g>\r\n",
       "<!-- Add&#45;&gt;Addg -->\r\n",
       "<g id=\"edge7\" class=\"edge\"><title>Add&#45;&gt;Addg</title>\r\n",
       "<path fill=\"none\" stroke=\"black\" d=\"M293.798,-173.799C293.661,-162.163 293.477,-146.548 293.32,-133.237\"/>\r\n",
       "<polygon fill=\"black\" stroke=\"black\" points=\"296.82,-133.134 293.202,-123.175 289.82,-133.216 296.82,-133.134\"/>\r\n",
       "<text text-anchor=\"middle\" x=\"345\" y=\"-144.8\" font-family=\"Times New Roman,serif\" font-size=\"14.00\">&lt;=1.41254025534</text>\r\n",
       "</g>\r\n",
       "<!-- Addd -->\r\n",
       "<g id=\"node11\" class=\"node\"><title>Addd</title>\r\n",
       "<ellipse fill=\"none\" stroke=\"black\" cx=\"418\" cy=\"-105\" rx=\"27\" ry=\"18\"/>\r\n",
       "<text text-anchor=\"middle\" x=\"418\" y=\"-101.3\" font-family=\"Times New Roman,serif\" font-size=\"14.00\">0</text>\r\n",
       "</g>\r\n",
       "<!-- Add&#45;&gt;Addd -->\r\n",
       "<g id=\"edge8\" class=\"edge\"><title>Add&#45;&gt;Addd</title>\r\n",
       "<path fill=\"none\" stroke=\"black\" d=\"M320.452,-187.9C343.02,-183.988 375.051,-175.26 396,-156 402.824,-149.726 407.645,-140.953 410.997,-132.505\"/>\r\n",
       "<polygon fill=\"black\" stroke=\"black\" points=\"414.355,-133.5 414.289,-122.905 407.734,-131.229 414.355,-133.5\"/>\r\n",
       "<text text-anchor=\"middle\" x=\"454\" y=\"-144.8\" font-family=\"Times New Roman,serif\" font-size=\"14.00\">&gt;1.41254025534</text>\r\n",
       "</g>\r\n",
       "<!-- Adddg -->\r\n",
       "<g id=\"node12\" class=\"node\"><title>Adddg</title>\r\n",
       "<polygon fill=\"none\" stroke=\"black\" points=\"444,-36 390,-36 390,-0 444,-0 444,-36\"/>\r\n",
       "<text text-anchor=\"middle\" x=\"417\" y=\"-14.3\" font-family=\"Times New Roman,serif\" font-size=\"14.00\">&#45;1</text>\r\n",
       "</g>\r\n",
       "<!-- Addd&#45;&gt;Adddg -->\r\n",
       "<g id=\"edge5\" class=\"edge\"><title>Addd&#45;&gt;Adddg</title>\r\n",
       "<path fill=\"none\" stroke=\"black\" d=\"M417.798,-86.799C417.661,-75.1626 417.477,-59.5479 417.32,-46.2368\"/>\r\n",
       "<polygon fill=\"black\" stroke=\"black\" points=\"420.82,-46.1335 417.202,-36.1754 413.82,-46.216 420.82,-46.1335\"/>\r\n",
       "<text text-anchor=\"middle\" x=\"469\" y=\"-57.8\" font-family=\"Times New Roman,serif\" font-size=\"14.00\">&lt;=1.55201152353</text>\r\n",
       "</g>\r\n",
       "<!-- Adddd -->\r\n",
       "<g id=\"node13\" class=\"node\"><title>Adddd</title>\r\n",
       "<polygon fill=\"none\" stroke=\"black\" points=\"569,-36 515,-36 515,-0 569,-0 569,-36\"/>\r\n",
       "<text text-anchor=\"middle\" x=\"542\" y=\"-14.3\" font-family=\"Times New Roman,serif\" font-size=\"14.00\">1</text>\r\n",
       "</g>\r\n",
       "<!-- Addd&#45;&gt;Adddd -->\r\n",
       "<g id=\"edge6\" class=\"edge\"><title>Addd&#45;&gt;Adddd</title>\r\n",
       "<path fill=\"none\" stroke=\"black\" d=\"M444.452,-100.9C467.02,-96.9877 499.051,-88.2601 520,-69 526.724,-62.8181 531.503,-54.2106 534.848,-45.8776\"/>\r\n",
       "<polygon fill=\"black\" stroke=\"black\" points=\"538.171,-46.9781 538.147,-36.3833 531.558,-44.6804 538.171,-46.9781\"/>\r\n",
       "<text text-anchor=\"middle\" x=\"577\" y=\"-57.8\" font-family=\"Times New Roman,serif\" font-size=\"14.00\">&gt;1.55201152353</text>\r\n",
       "</g>\r\n",
       "</g>\r\n",
       "</svg>\r\n"
      ],
      "text/plain": [
       "<graphviz.dot.Digraph at 0x1ad5efa59e8>"
      ]
     },
     "execution_count": 9,
     "metadata": {},
     "output_type": "execute_result"
    }
   ],
   "source": [
    "# un exemple d'utilisation:\n",
    "ad = ArbreDecision(0.0)             # initialisation d'un arbre binaire qui utilise epsilon=0.0\n",
    "ad.train(set_exemples)              # construction de l'arbre à partir de la base jouet\n",
    "\n",
    "print(\"accuracy :\", ad.accuracy(set_exemples))    \n",
    "\n",
    "#test de l'affichage \n",
    "ad.plot()"
   ]
  },
  {
   "cell_type": "markdown",
   "metadata": {},
   "source": [
    "### Tirage aléatoire d'exemples\n",
    "\n",
    "Le bootstrap s'effectue en tirant aléatoirement un échantillon de $m$ exemples à partir de la base d'apprentissage $X$ à partir duquel, on construit un classifieur.\n",
    "Ce processus est répété $B$ fois.\n",
    "\n",
    "Afin de ne pas alourdir la place mémoire nécessaire pour réaliser un tel tirage, on ne travaille que sur les indices des exemples dans la base. Un **échantillon de $X$ est donc un vecteur d'entiers** qui représentent les indices des exemples choisis.\n"
   ]
  },
  {
   "cell_type": "markdown",
   "metadata": {},
   "source": [
    "#### Tirages aléatoires en Python\n",
    "\n",
    "Consulter la librairie Python random qui propose différentes fonctions utiles pour implémenter le tirage aléatoire du bootstrap.\n",
    "\n",
    "Par exemple, la fonction <code>sample()</code> de la librairie <code>random</code> rend une sélection aléatoire dans une population donnée en réalisant un tirage sans remise.\n",
    "\n",
    "Pour tester, exécuter plusieurs fois les instructions de la boîte suivante :"
   ]
  },
  {
   "cell_type": "code",
   "execution_count": 10,
   "metadata": {},
   "outputs": [
    {
     "name": "stdout",
     "output_type": "stream",
     "text": [
      "La liste L de départ:  [0, 1, 2, 3, 4, 5, 6, 7, 8, 9, 10]\n",
      "Echantillon:  [6, 1, 8, 5, 7, 2]\n"
     ]
    }
   ],
   "source": [
    "import random\n",
    "L = [i for i in range(0,11)]             # construction de la liste des entiers de 0 à 10\n",
    "print(\"La liste L de départ: \",L)\n",
    "EchL = random.sample(L, 6)               # tirage de 6 éléments de L\n",
    "print(\"Echantillon: \", EchL)"
   ]
  },
  {
   "cell_type": "markdown",
   "metadata": {},
   "source": [
    "La fonction <code>choice()</code> permet de choisir aléatoirement un élément:"
   ]
  },
  {
   "cell_type": "code",
   "execution_count": 11,
   "metadata": {},
   "outputs": [
    {
     "name": "stdout",
     "output_type": "stream",
     "text": [
      "La liste L de départ:  [0, 1, 2, 3, 4, 5, 6, 7, 8, 9, 10]\n",
      "Element choisi:  5\n"
     ]
    }
   ],
   "source": [
    "L= [i for i in range(0,11)]             # construction de la liste des entiers de 0 à 10\n",
    "print(\"La liste L de départ: \",L)\n",
    "elt = random.choice(L)                  # choix d'un élémént\n",
    "print(\"Element choisi: \",elt)"
   ]
  },
  {
   "cell_type": "markdown",
   "metadata": {},
   "source": [
    "<font size=\"+1\">**[Q]**</font> Ecrire une fonction <code>tirage()</code> qui étant donné un vecteur d'entiers $VX$ qui représente l'ensemble des indices des exemples d'une base d'apprentissage $X$, un entier $m$, et un booléen $r$, rend un vecteur de $m$ indices choisis aléatoirement dans $VX$. Si le booléen $r$ est vrai, le tirage s'effectue *avec remise*, sinon il s'effectue *sans remise*."
   ]
  },
  {
   "cell_type": "code",
   "execution_count": 12,
   "metadata": {
    "collapsed": true
   },
   "outputs": [],
   "source": [
    "def tirage(VX, m, r):\n",
    "    \n",
    "    if (not r):\n",
    "        return random.sample(VX, m)\n",
    "    else:\n",
    "        return [random.choice(VX) for i in range(0,m)]"
   ]
  },
  {
   "cell_type": "markdown",
   "metadata": {},
   "source": [
    "Exemples :"
   ]
  },
  {
   "cell_type": "code",
   "execution_count": 13,
   "metadata": {},
   "outputs": [
    {
     "data": {
      "text/plain": [
       "[2, 1, 4, 9, 7, 2, 1, 0]"
      ]
     },
     "execution_count": 13,
     "metadata": {},
     "output_type": "execute_result"
    }
   ],
   "source": [
    "L= [i for i in range(0,10)]    # construction de la liste des entiers de 0 à 100\n",
    "tirage(L, 8, True)               # tirage avec remise"
   ]
  },
  {
   "cell_type": "code",
   "execution_count": 14,
   "metadata": {},
   "outputs": [
    {
     "data": {
      "text/plain": [
       "[0, 3, 5, 7, 6, 9, 4, 1]"
      ]
     },
     "execution_count": 14,
     "metadata": {},
     "output_type": "execute_result"
    }
   ],
   "source": [
    "tirage(L, 8, False)# tirage sans remise"
   ]
  },
  {
   "cell_type": "markdown",
   "metadata": {
    "collapsed": true
   },
   "source": [
    "<font size=\"+1\">**[Q]**</font> En utilisant la fonction précédente, écrire la fonction <code>echantillonLS()</code> qui, étant donné un <code>LabeledSet</code> $X$, un nombre entier $m$, et un booléen rend un échantillon de $X$ de taille $m$ sous la forme d'un <code>LabeledSet</code>. L'échantillon est obtenu par un tirage avec remise si le booléen est True, sinon, il est obtenu sans remise."
   ]
  },
  {
   "cell_type": "code",
   "execution_count": 15,
   "metadata": {
    "collapsed": true
   },
   "outputs": [],
   "source": [
    "def echantillonLS(X, m, r):\n",
    "    \n",
    "    ls = LabeledSet(X.getInputDimension())\n",
    "    indexes = [i for i in range(0, X.size())]\n",
    "    sample = tirage(indexes, m, r)\n",
    "\n",
    "    for i in sample:\n",
    "        ls.addExample(X.getX(i), X.getY(i))\n",
    "    \n",
    "    return ls"
   ]
  },
  {
   "cell_type": "code",
   "execution_count": 16,
   "metadata": {},
   "outputs": [
    {
     "data": {
      "image/png": "[encoded data removed]",
      "text/plain": [
       "<matplotlib.figure.Figure at 0x1ad5e1c86d8>"
      ]
     },
     "metadata": {},
     "output_type": "display_data"
    }
   ],
   "source": [
    "E = echantillonLS(set_exemples, 10, True)\n",
    "\n",
    "plot2DSet(E)\n",
    "#Pb : affiche que 9 points alors que E en a 10"
   ]
  },
  {
   "cell_type": "markdown",
   "metadata": {},
   "source": [
    "<font size=\"+1\">**[Q]**</font> Ecrire la classe <code>ClassifierBaggingTree</code>, dérivée de la classe <code>Classifier</code>, qui permet d'implémenter un bagging d'arbres de décision. Les spécifications de cette classe sont :\n",
    "- la création de l'ensemble nécessite les paramètres suivants : \n",
    "    - le nombre d'arbres à construire, \n",
    "    - le pourcentage d'exemples de la base d'apprentissage utilisés pour constituer un échantillon, \n",
    "    - la valeur de seuil d'entropie pour arrêter la construction de chaque arbre, \n",
    "    - et un booléen qui précise si un échantillon est tiré avec ou sans remise\n",
    "- l'apprentissage (méthode <code>train()</code>) construit autant d'arbres que précisé à la création. Chaque arbre est construit à partir d'un échantillon de la base d'apprentissage (<code>LabeledSet</code>) donnée en argument. Les arbres construits sont stockés dans un ensemble Python.\n",
    "- la prédiction (méthode <code>predict()</code>) classe un exemple par vote de tous les arbres de la forêt. Si la somme des votes est positive ou nulle, la classe rendue est +1, sinon, la classe rendue est -1."
   ]
  },
  {
   "cell_type": "code",
   "execution_count": 17,
   "metadata": {
    "collapsed": true
   },
   "outputs": [],
   "source": [
    "class ClassifierBaggingTree(Classifier):\n",
    "    \n",
    "    def __init__(self, nbtrees, percent, seuil, r=True):\n",
    "\n",
    "        self.nbtrees = nbtrees\n",
    "        self.percent = percent\n",
    "        self.seuil = seuil\n",
    "        self.r = r\n",
    "        self.listTrees = None\n",
    "        self.labeledset = None\n",
    "        \n",
    "    def train(self, labeledset):\n",
    "        \n",
    "        listTrees = []\n",
    "        m = math.ceil(labeledset.size()* self.percent)\n",
    "        for i in range(0, self.nbtrees):\n",
    "            \n",
    "            sample = echantillonLS(labeledset, m, self.r)\n",
    "            t = ArbreDecision(self.seuil)\n",
    "            t.train(sample)\n",
    "            listTrees.append(t)\n",
    "        \n",
    "        self.listTrees = listTrees\n",
    "        self.labeledset = labeledset\n",
    "        \n",
    "    def predict(self, x):\n",
    "        vote = 0\n",
    "        for tree in self.listTrees:\n",
    "            vote += tree.predict(x)\n",
    "        \n",
    "        if vote >= 0:\n",
    "            return +1\n",
    "        return -1\n",
    "    \n",
    "    def outOfBagsError(self):\n",
    "        \"\"\"Retourne une estimation de l'erreur du classifieur par la méthode Out Of Bags\"\"\"\n",
    "        nb_ko = 0\n",
    "        for i in range(0, self.labeledset.size()):\n",
    "            \n",
    "            #Pour chaque exemple xi,yi, déterminer les arbres qui ne contiennent pas xi,yi\n",
    "            xi, yi = self.labeledset.getX(i), self.labeledset.getY(i)\n",
    "            \n",
    "            oobTrees = [tree for tree in self.listTrees if xi not in tree.set.x]\n",
    "            vote = 0\n",
    "            for tree in oobTrees:\n",
    "                vote += tree.predict(xi)\n",
    "            \n",
    "            if vote * yi < 0: #mauvais résultat\n",
    "                nb_ko += 1\n",
    "               \n",
    "        return nb_ko / (self.labeledset.size()* 1.0)"
   ]
  },
  {
   "cell_type": "code",
   "execution_count": 18,
   "metadata": {},
   "outputs": [
    {
     "name": "stdout",
     "output_type": "stream",
     "text": [
      "exemple : 0  vraie classe =  1 - classe trouvee =  1\n",
      "exemple : 1  vraie classe =  1 - classe trouvee =  1\n",
      "exemple : 2  vraie classe =  1 - classe trouvee =  1\n",
      "exemple : 3  vraie classe =  1 - classe trouvee =  1\n",
      "exemple : 4  vraie classe =  1 - classe trouvee =  1\n",
      "exemple : 5  vraie classe =  1 - classe trouvee =  1\n",
      "exemple : 6  vraie classe =  1 - classe trouvee =  -1\n",
      "exemple : 7  vraie classe =  1 - classe trouvee =  1\n",
      "exemple : 8  vraie classe =  1 - classe trouvee =  1\n",
      "exemple : 9  vraie classe =  1 - classe trouvee =  1\n",
      "exemple : 10  vraie classe =  -1 - classe trouvee =  -1\n",
      "exemple : 11  vraie classe =  -1 - classe trouvee =  -1\n",
      "exemple : 12  vraie classe =  -1 - classe trouvee =  -1\n",
      "exemple : 13  vraie classe =  -1 - classe trouvee =  -1\n",
      "exemple : 14  vraie classe =  -1 - classe trouvee =  -1\n",
      "exemple : 15  vraie classe =  -1 - classe trouvee =  1\n",
      "exemple : 16  vraie classe =  -1 - classe trouvee =  -1\n",
      "exemple : 17  vraie classe =  -1 - classe trouvee =  -1\n",
      "exemple : 18  vraie classe =  -1 - classe trouvee =  -1\n",
      "exemple : 19  vraie classe =  -1 - classe trouvee =  -1\n",
      "\n",
      "accuracy totale: 0.9\n"
     ]
    },
    {
     "name": "stderr",
     "output_type": "stream",
     "text": [
      "C:\\Users\\togos\\Anaconda3\\lib\\site-packages\\matplotlib\\contour.py:967: UserWarning: The following kwargs were not used by contour: 'linewidth'\n",
      "  s)\n"
     ]
    },
    {
     "data": {
      "image/png": "[encoded data removed]",
      "text/plain": [
       "<matplotlib.figure.Figure at 0x1ad5f0ad978>"
      ]
     },
     "metadata": {},
     "output_type": "display_data"
    }
   ],
   "source": [
    "foret = ClassifierBaggingTree(10, 0.3, 0.0, True)\n",
    "foret.train(set_exemples)\n",
    "for i in range(set_exemples.size()):\n",
    "    print(\"exemple :\", i,\" vraie classe = \", set_exemples.getY(i)[0], \"- classe trouvee = \", foret.predict(set_exemples.getX(i)))\n",
    "    \n",
    "plot_frontiere(set_exemples, foret, 20)\n",
    "plot2DSet(set_exemples) \n",
    "\n",
    "print(\"\\naccuracy totale:\",foret.accuracy(set_exemples))"
   ]
  },
  {
   "cell_type": "markdown",
   "metadata": {},
   "source": [
    "### Expérimentations\n",
    "\n",
    "<font size=\"+1\">**[Q]**</font> Expérimenter l'algorithme précédent de la façon suivante :\n",
    "- générer une base d'apprentissage $X$ contenant au moins 1000 exemples ;\n",
    "- réaliser un échantillon de cette base contenant 50 exemples de chaque classe. Soit $E$ cet échantillon, et soit $F$ l'ensemble des exemples de $X$ qui ne sont pas dans $E$ ;\n",
    "- réaliser un apprentissage par bagging sur $F$ et évaluer le taux de prédiction du modèle obtenu sur $E$ ;\n",
    "- construire la courbe donnant le taux de prédiction obtenu en augmentant la taille de la forêt d'arbres de 1 à 100 arbres. "
   ]
  },
  {
   "cell_type": "code",
   "execution_count": 19,
   "metadata": {
    "collapsed": true
   },
   "outputs": [],
   "source": [
    "#Génération de 1000 données\n",
    "pos = np.random.multivariate_normal([1,1],[[10,0],[0,0.5]],size=500)\n",
    "neg = np.random.multivariate_normal([-1,-1],[[10,0],[0,1]],size=500)"
   ]
  },
  {
   "cell_type": "code",
   "execution_count": 20,
   "metadata": {
    "collapsed": true
   },
   "outputs": [],
   "source": [
    "#Création de X et E\n",
    "X = LabeledSet(2)\n",
    "\n",
    "for i in pos:\n",
    "    X.addExample(i, +1)\n",
    "for i in neg:\n",
    "    X.addExample(i, -1)\n",
    "\n",
    "l = list(range(0,500))\n",
    "indexesP = tirage(l, 50, False)\n",
    "indexesN = tirage(l, 50, False)\n",
    "indexesP.sort()\n",
    "indexesN.sort()\n",
    "\n",
    "E = LabeledSet(2)\n",
    "for i in indexesP:\n",
    "    E.addExample(pos[i], +1)\n",
    "for i in indexesN:\n",
    "    E.addExample(neg[i], -1)\n",
    "#Création de F\n",
    "F = LabeledSet(2)\n",
    "j = 0\n",
    "for i in range(0, 500):\n",
    "    if j < 50 and indexesP[j] == i:\n",
    "        j += 1\n",
    "    else:\n",
    "        F.addExample(pos[i], +1)\n",
    "j = 0\n",
    "for i in range(0,500):\n",
    "    if j < 50 and indexesN[j] == i:\n",
    "        j += 1\n",
    "    else:\n",
    "        F.addExample(neg[i], -1) "
   ]
  },
  {
   "cell_type": "code",
   "execution_count": 22,
   "metadata": {},
   "outputs": [
    {
     "name": "stdout",
     "output_type": "stream",
     "text": [
      "Bagging : 20 trees: accuracy totale: train = 0.9267 test = 0.8500\n",
      "Frontière de décision sur E:\n"
     ]
    },
    {
     "name": "stderr",
     "output_type": "stream",
     "text": [
      "C:\\Users\\togos\\Anaconda3\\lib\\site-packages\\matplotlib\\contour.py:967: UserWarning: The following kwargs were not used by contour: 'linewidth'\n",
      "  s)\n"
     ]
    },
    {
     "data": {
      "image/png": "[encoded data removed]",
      "text/plain": [
       "<matplotlib.figure.Figure at 0x1ad5f0934a8>"
      ]
     },
     "metadata": {},
     "output_type": "display_data"
    }
   ],
   "source": [
    "# Réaliser un apprentissage par bagging sur F et évaluer le taux de prédiction du modèle sur E\n",
    "foret20 = ClassifierBaggingTree(20, 0.3, 0.0, True)\n",
    "foret20.train(F)\n",
    "print(\"Bagging : 20 trees: accuracy totale: train = %.4f test = %.4f\"%(foret20.accuracy(F),foret20.accuracy(E))) \n",
    "plot_frontiere(E, foret20)\n",
    "print(\"Frontière de décision sur E:\")\n",
    "plot2DSet(E)\n",
    "plt.show()"
   ]
  },
  {
   "cell_type": "code",
   "execution_count": 23,
   "metadata": {},
   "outputs": [
    {
     "name": "stdout",
     "output_type": "stream",
     "text": [
      "Courbe d'apprentissage sur l'ensemble de test: \n"
     ]
    },
    {
     "data": {
      "image/png": "[encoded data removed]",
      "text/plain": [
       "<matplotlib.figure.Figure at 0x1ad5f07f4e0>"
      ]
     },
     "metadata": {},
     "output_type": "display_data"
    }
   ],
   "source": [
    "nbtrees = list(range(1,51))\n",
    "acc = []\n",
    "for nb in nbtrees:\n",
    "    foret = ClassifierBaggingTree(nb, 0.3, 0.0, True)\n",
    "    foret.train(F)\n",
    "    acc.append(foret.accuracy(E))\n",
    "\n",
    "plt.plot(nbtrees, acc)\n",
    "plt.xlabel(\"nombre d'arbres\")\n",
    "plt.ylabel(\"accuracy\")\n",
    "print(\"Courbe d'apprentissage sur l'ensemble de test: \")\n",
    "plt.show()"
   ]
  },
  {
   "cell_type": "markdown",
   "metadata": {},
   "source": [
    "### Evaluation par la méthode \"Out Of Bags\"\n",
    "\n",
    "<font size=\"+1\">**[Q]**</font> Sur les mêmes données, réaliser une évaluation par la méthode \"Out Of Bags\" vue en cours. Construire la courbe donnant le taux de prédiction OOB en fonction de la taille de la forêt d'arbres.\n",
    "\n"
   ]
  },
  {
   "cell_type": "code",
   "execution_count": 24,
   "metadata": {},
   "outputs": [
    {
     "name": "stdout",
     "output_type": "stream",
     "text": [
      "Bagging : 20 trees: accuracy par la méthode Out Of Bags = 0.8689\n"
     ]
    }
   ],
   "source": [
    "print(\"Bagging : 20 trees: accuracy par la méthode Out Of Bags = %.4f\"% (1 - foret20.outOfBagsError()))"
   ]
  },
  {
   "cell_type": "code",
   "execution_count": 25,
   "metadata": {},
   "outputs": [
    {
     "name": "stdout",
     "output_type": "stream",
     "text": [
      "Courbe d'apprentissage OOB sur l'ensemble de test: \n"
     ]
    },
    {
     "data": {
      "image/png": "[encoded data removed]",
      "text/plain": [
       "<matplotlib.figure.Figure at 0x1ad5f056080>"
      ]
     },
     "metadata": {},
     "output_type": "display_data"
    }
   ],
   "source": [
    "nbtrees = list(range(1,51))\n",
    "acc = []\n",
    "for nb in nbtrees:\n",
    "    foret = ClassifierBaggingTree(nb, 0.3, 0.0, True)\n",
    "    foret.train(F)\n",
    "    acc.append(1 - foret.outOfBagsError())\n",
    "\n",
    "plt.plot(nbtrees, acc)\n",
    "plt.xlabel(\"nombre d'arbres\")\n",
    "plt.ylabel(\"accuracy OOB\")\n",
    "print(\"Courbe d'apprentissage OOB sur l'ensemble de test: \")\n",
    "plt.show()"
   ]
  },
  {
   "cell_type": "markdown",
   "metadata": {
    "collapsed": true
   },
   "source": [
    "## Etape 3: Bagging de perceptrons\n",
    "\n",
    "<font size=\"+1\">**[Q]**</font> Ecrire et tester la classe <code>ClassifierBaggingPerceptron</code> qui implémente l'algorithme du bagging pour le perceptron."
   ]
  },
  {
   "cell_type": "code",
   "execution_count": 26,
   "metadata": {
    "collapsed": true
   },
   "outputs": [],
   "source": [
    "class Perceptron(Classifier):\n",
    "    \n",
    "    def __init__(self, input_dimension, learning_rate, nombre_iterations):\n",
    "        self.dim = input_dimension\n",
    "        self.learning_rate = learning_rate\n",
    "        self.nombre_iterations = nombre_iterations\n",
    "        self.w = np.random.rand(self.dim+1)\n",
    "        self.labeledset = None\n",
    "    \n",
    "    def train(self, labeledset):\n",
    "        \n",
    "        self.labeledset = labeledset\n",
    "        accuracies = []\n",
    "        iterations = []\n",
    "        indexes = np.arange(labeledset.size())\n",
    "        np.random.shuffle(indexes)\n",
    "        \n",
    "        for i in range(1, self.nombre_iterations):\n",
    "            \n",
    "            for j in indexes:\n",
    "                xj, yj = self.labeledset.getX(j), self.labeledset.getY(j)\n",
    "                \n",
    "                if yj * self.predict(xj) < 0:\n",
    "                    \n",
    "                    self.w = self.w + self.learning_rate * yj * np.hstack((xj,[-1]))\n",
    "            \n",
    "            if i % 10 == 0:\n",
    "                accuracies.append(self.accuracy(self.labeledset))\n",
    "                iterations.append(i)\n",
    "    \n",
    "    def predict(self, x):\n",
    "        \n",
    "        scalar = np.dot(self.w, np.hstack((x,[-1])))\n",
    "\n",
    "        if(scalar >= 0):\n",
    "            return 1     \n",
    "        return -1"
   ]
  },
  {
   "cell_type": "code",
   "execution_count": 74,
   "metadata": {
    "collapsed": true
   },
   "outputs": [],
   "source": [
    "class ClassifierBaggingPerceptron(Classifier):\n",
    "\n",
    "    def __init__(self, input_dimension, nbperc, percent, r=True):\n",
    "\n",
    "        self.input_dimension = input_dimension\n",
    "        self.nbperc = nbperc\n",
    "        self.percent = percent\n",
    "        self.r = r\n",
    "        self.listPerceptrons = None\n",
    "        self.labeledset = None\n",
    "        \n",
    "    def train(self, labeledset):\n",
    "        \n",
    "        listPerceptrons = []\n",
    "        m = math.ceil(labeledset.size()* self.percent)\n",
    "        for i in range(0, self.nbperc):\n",
    "            \n",
    "            sample = echantillonLS(labeledset, m, self.r)\n",
    "            t = Perceptron(self.input_dimension, 0.03, 100)\n",
    "            t.train(sample)\n",
    "            listPerceptrons.append(t)\n",
    "            \n",
    "        self.listPerceptrons = listPerceptrons\n",
    "        self.labeledset = labeledset\n",
    "        \n",
    "    def predict(self, x):\n",
    "        vote = 0\n",
    "        for perc in self.listPerceptrons:\n",
    "            vote += perc.predict(x)\n",
    "        \n",
    "        if vote >= 0:\n",
    "            return +1\n",
    "        return -1\n",
    "    \n",
    "    def outOfBagsError(self):\n",
    "        \"\"\"Retourne une estimation de l'erreur du classifieur par la méthode Out Of Bags\"\"\"\n",
    "        nb_ko = 0\n",
    "        for i in range(0, self.labeledset.size()):\n",
    "            \n",
    "            #Pour chaque exemple xi,yi, déterminer les perceptrons qui ne contiennent pas xi,yi\n",
    "            xi, yi = self.labeledset.getX(i), self.labeledset.getY(i)\n",
    "            oobPerceptrons = [perc for perc in self.listPerceptrons if xi not in perc.labeledset.x]\n",
    "            \n",
    "            #Faire une prediction sur ces perceptrons\n",
    "            vote = 0\n",
    "            for perc in oobPerceptrons:\n",
    "                vote += perc.predict(xi)\n",
    "            \n",
    "            if vote * yi < 0: #mauvais résultat\n",
    "                nb_ko += 1\n",
    "               \n",
    "        return nb_ko / (self.labeledset.size()* 1.0)"
   ]
  },
  {
   "cell_type": "code",
   "execution_count": 75,
   "metadata": {},
   "outputs": [
    {
     "name": "stdout",
     "output_type": "stream",
     "text": [
      "accuracy: 0.75\n"
     ]
    }
   ],
   "source": [
    "# un exemple d'utilisation:\n",
    "percep = Perceptron(2, 0.2, 1000)        \n",
    "percep.train(set_exemples)       \n",
    "\n",
    "print(\"accuracy:\", percep.accuracy(set_exemples))    \n"
   ]
  },
  {
   "cell_type": "code",
   "execution_count": 76,
   "metadata": {},
   "outputs": [
    {
     "name": "stdout",
     "output_type": "stream",
     "text": [
      "Bagging : 20 perceptrons: accuracy totale: train = 0.8789 test = 0.8800\n"
     ]
    },
    {
     "name": "stderr",
     "output_type": "stream",
     "text": [
      "C:\\Users\\togos\\Anaconda3\\lib\\site-packages\\matplotlib\\contour.py:967: UserWarning: The following kwargs were not used by contour: 'linewidth'\n",
      "  s)\n"
     ]
    },
    {
     "data": {
      "image/png": "[encoded data removed]",
      "text/plain": [
       "<matplotlib.figure.Figure at 0x1ad5f05db70>"
      ]
     },
     "metadata": {},
     "output_type": "display_data"
    }
   ],
   "source": [
    "bag20 = ClassifierBaggingPerceptron(2, 20, 0.03, True)\n",
    "bag20.train(F)\n",
    "print(\"Bagging : 20 perceptrons: accuracy totale: train = %.4f test = %.4f\"%(bag20.accuracy(F),bag20.accuracy(E))) \n",
    "plot_frontiere(E, bag20)\n",
    "plot2DSet(E)\n",
    "plt.show()"
   ]
  },
  {
   "cell_type": "code",
   "execution_count": 77,
   "metadata": {},
   "outputs": [
    {
     "name": "stdout",
     "output_type": "stream",
     "text": [
      "Bagging : 20 perceptrons: accuracy par la méthode Out Of Bags = 0.8789\n",
      "\n",
      "Courbe d'apprentissage OOB sur l'ensemble de test: \n"
     ]
    },
    {
     "data": {
      "image/png": "[encoded data removed]",
      "text/plain": [
       "<matplotlib.figure.Figure at 0x1ad5f056c50>"
      ]
     },
     "metadata": {},
     "output_type": "display_data"
    }
   ],
   "source": [
    "print(\"Bagging : 20 perceptrons: accuracy par la méthode Out Of Bags = %.4f\\n\"% (1 - bag20.outOfBagsError()))\n",
    "nbperc = list(range(30))\n",
    "acc = []\n",
    "for nb in nbperc:\n",
    "    bag = ClassifierBaggingPerceptron(2, nb, 0.03, True)\n",
    "    foret.train(F)\n",
    "    acc.append(1 - foret.outOfBagsError())\n",
    "\n",
    "plt.plot(nbperc, acc)\n",
    "plt.xlabel(\"nombre d'arbres\")\n",
    "plt.ylabel(\"accuracy OOB\")\n",
    "print(\"Courbe d'apprentissage OOB sur l'ensemble de test: \")\n",
    "plt.show()"
   ]
  },
  {
   "cell_type": "markdown",
   "metadata": {},
   "source": [
    "## Etape 4: expérimentation\n",
    "\n",
    "<font size=\"+1\">**[Q]**</font> Appliquer l'algorithme de bagging d'arbres de décision sur d'autres bases d'apprentissage. Construire la courbe donnant le taux de prédiction pour une forêt d'arbres variant de 1 à 200 arbres. \n",
    "\n",
    "Réaliser ensuite la même expérimentation avec un bagging de perceptrons."
   ]
  },
  {
   "cell_type": "code",
   "execution_count": 78,
   "metadata": {},
   "outputs": [
    {
     "data": {
      "image/png": "[encoded data removed]",
      "text/plain": [
       "<matplotlib.figure.Figure at 0x1ad604258d0>"
      ]
     },
     "metadata": {},
     "output_type": "display_data"
    }
   ],
   "source": [
    "#1. Données XOR\n",
    "\n",
    "xorset = LabeledSet(2)\n",
    "pos1 = np.random.multivariate_normal([-0.5,-0.5],[[0.05,0],[0,0.05]],size=100)\n",
    "pos2 = np.random.multivariate_normal([0.6,0.6],[[0.05,0],[0,0.05]],size=100)\n",
    "neg1 = np.random.multivariate_normal([-0.5,0.5],[[0.05,0],[0,0.05]],size=100)\n",
    "neg2 = np.random.multivariate_normal([0.3,-0.6],[[0.05,0],[0,0.05]],size=100)\n",
    "\n",
    "for i in pos1:\n",
    "    xorset.addExample(i, +1)\n",
    "for i in pos2:\n",
    "    xorset.addExample(i, +1)\n",
    "for i in neg1:\n",
    "    xorset.addExample(i, -1)\n",
    "for i in neg2:\n",
    "    xorset.addExample(i, -1)\n",
    "plot2DSet(xorset)"
   ]
  },
  {
   "cell_type": "code",
   "execution_count": 79,
   "metadata": {},
   "outputs": [
    {
     "name": "stdout",
     "output_type": "stream",
     "text": [
      "50 arbres : frontière de décision sur l'ensemble XOR:\n"
     ]
    },
    {
     "name": "stderr",
     "output_type": "stream",
     "text": [
      "C:\\Users\\togos\\Anaconda3\\lib\\site-packages\\matplotlib\\contour.py:967: UserWarning: The following kwargs were not used by contour: 'linewidth'\n",
      "  s)\n"
     ]
    },
    {
     "data": {
      "image/png": "[encoded data removed]",
      "text/plain": [
       "<matplotlib.figure.Figure at 0x1ad601939e8>"
      ]
     },
     "metadata": {},
     "output_type": "display_data"
    },
    {
     "name": "stdout",
     "output_type": "stream",
     "text": [
      "Courbe d'apprentissage OOB sur l'ensemble de test: \n"
     ]
    },
    {
     "data": {
      "image/png": "[encoded data removed]",
      "text/plain": [
       "<matplotlib.figure.Figure at 0x1ad5efd04e0>"
      ]
     },
     "metadata": {},
     "output_type": "display_data"
    }
   ],
   "source": [
    "nbtrees = list(range(1,51))\n",
    "acc = []\n",
    "foretXor = None\n",
    "for nb in nbtrees:\n",
    "    foretXor = ClassifierBaggingTree(20, 0.3, 0.0, True)\n",
    "    foretXor.train(xorset)\n",
    "    acc.append(1 - foretXor.outOfBagsError())\n",
    "\n",
    "print(\"50 arbres : frontière de décision sur l'ensemble XOR:\")\n",
    "plot_frontiere(xorset, foretXor)\n",
    "plot2DSet(xorset)\n",
    "plt.show()\n",
    "plt.plot(nbtrees, acc)\n",
    "plt.xlabel(\"nombre d'arbres\")\n",
    "plt.ylabel(\"accuracy OOB\")\n",
    "print(\"Courbe d'apprentissage OOB sur l'ensemble de test: \")\n",
    "plt.show()"
   ]
  },
  {
   "cell_type": "code",
   "execution_count": 84,
   "metadata": {},
   "outputs": [
    {
     "ename": "AttributeError",
     "evalue": "size",
     "output_type": "error",
     "traceback": [
      "\u001b[1;31m---------------------------------------------------------------------------\u001b[0m",
      "\u001b[1;31mKeyError\u001b[0m                                  Traceback (most recent call last)",
      "\u001b[1;32m~\\Anaconda3\\lib\\site-packages\\sklearn\\utils\\__init__.py\u001b[0m in \u001b[0;36m__getattr__\u001b[1;34m(self, key)\u001b[0m\n\u001b[0;32m     60\u001b[0m         \u001b[1;32mtry\u001b[0m\u001b[1;33m:\u001b[0m\u001b[1;33m\u001b[0m\u001b[0m\n\u001b[1;32m---> 61\u001b[1;33m             \u001b[1;32mreturn\u001b[0m \u001b[0mself\u001b[0m\u001b[1;33m[\u001b[0m\u001b[0mkey\u001b[0m\u001b[1;33m]\u001b[0m\u001b[1;33m\u001b[0m\u001b[0m\n\u001b[0m\u001b[0;32m     62\u001b[0m         \u001b[1;32mexcept\u001b[0m \u001b[0mKeyError\u001b[0m\u001b[1;33m:\u001b[0m\u001b[1;33m\u001b[0m\u001b[0m\n",
      "\u001b[1;31mKeyError\u001b[0m: 'size'",
      "\nDuring handling of the above exception, another exception occurred:\n",
      "\u001b[1;31mAttributeError\u001b[0m                            Traceback (most recent call last)",
      "\u001b[1;32m<ipython-input-84-f3f23c264255>\u001b[0m in \u001b[0;36m<module>\u001b[1;34m()\u001b[0m\n\u001b[0;32m     16\u001b[0m \u001b[1;33m\u001b[0m\u001b[0m\n\u001b[0;32m     17\u001b[0m \u001b[0mdata\u001b[0m \u001b[1;33m=\u001b[0m \u001b[0mloadFile\u001b[0m\u001b[1;33m(\u001b[0m\u001b[1;34m'breast-cancer_scale'\u001b[0m\u001b[1;33m)\u001b[0m\u001b[1;33m\u001b[0m\u001b[0m\n\u001b[1;32m---> 18\u001b[1;33m \u001b[0mprint\u001b[0m\u001b[1;33m(\u001b[0m\u001b[0mdata\u001b[0m\u001b[1;33m.\u001b[0m\u001b[0msize\u001b[0m\u001b[1;33m(\u001b[0m\u001b[1;33m)\u001b[0m\u001b[1;33m)\u001b[0m\u001b[1;33m\u001b[0m\u001b[0m\n\u001b[0m",
      "\u001b[1;32m~\\Anaconda3\\lib\\site-packages\\sklearn\\utils\\__init__.py\u001b[0m in \u001b[0;36m__getattr__\u001b[1;34m(self, key)\u001b[0m\n\u001b[0;32m     61\u001b[0m             \u001b[1;32mreturn\u001b[0m \u001b[0mself\u001b[0m\u001b[1;33m[\u001b[0m\u001b[0mkey\u001b[0m\u001b[1;33m]\u001b[0m\u001b[1;33m\u001b[0m\u001b[0m\n\u001b[0;32m     62\u001b[0m         \u001b[1;32mexcept\u001b[0m \u001b[0mKeyError\u001b[0m\u001b[1;33m:\u001b[0m\u001b[1;33m\u001b[0m\u001b[0m\n\u001b[1;32m---> 63\u001b[1;33m             \u001b[1;32mraise\u001b[0m \u001b[0mAttributeError\u001b[0m\u001b[1;33m(\u001b[0m\u001b[0mkey\u001b[0m\u001b[1;33m)\u001b[0m\u001b[1;33m\u001b[0m\u001b[0m\n\u001b[0m\u001b[0;32m     64\u001b[0m \u001b[1;33m\u001b[0m\u001b[0m\n\u001b[0;32m     65\u001b[0m     \u001b[1;32mdef\u001b[0m \u001b[0m__setstate__\u001b[0m\u001b[1;33m(\u001b[0m\u001b[0mself\u001b[0m\u001b[1;33m,\u001b[0m \u001b[0mstate\u001b[0m\u001b[1;33m)\u001b[0m\u001b[1;33m:\u001b[0m\u001b[1;33m\u001b[0m\u001b[0m\n",
      "\u001b[1;31mAttributeError\u001b[0m: size"
     ]
    }
   ],
   "source": [
    "#2. Données réelles UCI en dimension 10\n",
    "\n",
    "from sklearn.datasets import fetch_mldata\n",
    "\n",
    "def loadFile(name):\n",
    "    data = fetch_mldata(name, data_home='.')\n",
    "    unique = np.unique(data.target)\n",
    "\n",
    "    for i in range(len(data.target)):\n",
    "        if (data.target[i] == unique[0]):\n",
    "            data.target[i] = 1\n",
    "        else:\n",
    "            data.target[i] = -1\n",
    "            \n",
    "    return data\n",
    "            \n",
    "data = loadFile('breast-cancer_scale')\n",
    "print(len(data))"
   ]
  },
  {
   "cell_type": "code",
   "execution_count": 82,
   "metadata": {},
   "outputs": [
    {
     "name": "stdout",
     "output_type": "stream",
     "text": [
      "150 arbres :\n"
     ]
    },
    {
     "ename": "RecursionError",
     "evalue": "maximum recursion depth exceeded",
     "output_type": "error",
     "traceback": [
      "\u001b[1;31m---------------------------------------------------------------------------\u001b[0m",
      "\u001b[1;31mRecursionError\u001b[0m                            Traceback (most recent call last)",
      "\u001b[1;32m<ipython-input-82-9909a34cc3b7>\u001b[0m in \u001b[0;36m<module>\u001b[1;34m()\u001b[0m\n\u001b[0;32m      7\u001b[0m \u001b[0mprint\u001b[0m\u001b[1;33m(\u001b[0m\u001b[1;34m\"150 arbres :\"\u001b[0m\u001b[1;33m)\u001b[0m\u001b[1;33m\u001b[0m\u001b[0m\n\u001b[0;32m      8\u001b[0m \u001b[0mforetD\u001b[0m \u001b[1;33m=\u001b[0m \u001b[0mClassifierBaggingTree\u001b[0m\u001b[1;33m(\u001b[0m\u001b[1;36m150\u001b[0m\u001b[1;33m,\u001b[0m \u001b[1;36m0.01\u001b[0m\u001b[1;33m,\u001b[0m \u001b[1;36m0.0\u001b[0m\u001b[1;33m,\u001b[0m \u001b[1;32mTrue\u001b[0m\u001b[1;33m)\u001b[0m\u001b[1;33m\u001b[0m\u001b[0m\n\u001b[1;32m----> 9\u001b[1;33m \u001b[0mforetD\u001b[0m\u001b[1;33m.\u001b[0m\u001b[0mtrain\u001b[0m\u001b[1;33m(\u001b[0m\u001b[0mdataset\u001b[0m\u001b[1;33m)\u001b[0m\u001b[1;33m\u001b[0m\u001b[0m\n\u001b[0m\u001b[0;32m     10\u001b[0m \u001b[0mplot_frontiere\u001b[0m\u001b[1;33m(\u001b[0m\u001b[0mdataset\u001b[0m\u001b[1;33m,\u001b[0m\u001b[0mforetD\u001b[0m\u001b[1;33m)\u001b[0m\u001b[1;33m\u001b[0m\u001b[0m\n\u001b[0;32m     11\u001b[0m \u001b[0mplot2DSet\u001b[0m\u001b[1;33m(\u001b[0m\u001b[0mdataset\u001b[0m\u001b[1;33m)\u001b[0m\u001b[1;33m\u001b[0m\u001b[0m\n",
      "\u001b[1;32m<ipython-input-17-f3218d06de21>\u001b[0m in \u001b[0;36mtrain\u001b[1;34m(self, labeledset)\u001b[0m\n\u001b[0;32m     18\u001b[0m             \u001b[0msample\u001b[0m \u001b[1;33m=\u001b[0m \u001b[0mechantillonLS\u001b[0m\u001b[1;33m(\u001b[0m\u001b[0mlabeledset\u001b[0m\u001b[1;33m,\u001b[0m \u001b[0mm\u001b[0m\u001b[1;33m,\u001b[0m \u001b[0mself\u001b[0m\u001b[1;33m.\u001b[0m\u001b[0mr\u001b[0m\u001b[1;33m)\u001b[0m\u001b[1;33m\u001b[0m\u001b[0m\n\u001b[0;32m     19\u001b[0m             \u001b[0mt\u001b[0m \u001b[1;33m=\u001b[0m \u001b[0mArbreDecision\u001b[0m\u001b[1;33m(\u001b[0m\u001b[0mself\u001b[0m\u001b[1;33m.\u001b[0m\u001b[0mseuil\u001b[0m\u001b[1;33m)\u001b[0m\u001b[1;33m\u001b[0m\u001b[0m\n\u001b[1;32m---> 20\u001b[1;33m             \u001b[0mt\u001b[0m\u001b[1;33m.\u001b[0m\u001b[0mtrain\u001b[0m\u001b[1;33m(\u001b[0m\u001b[0msample\u001b[0m\u001b[1;33m)\u001b[0m\u001b[1;33m\u001b[0m\u001b[0m\n\u001b[0m\u001b[0;32m     21\u001b[0m             \u001b[0mlistTrees\u001b[0m\u001b[1;33m.\u001b[0m\u001b[0mappend\u001b[0m\u001b[1;33m(\u001b[0m\u001b[0mt\u001b[0m\u001b[1;33m)\u001b[0m\u001b[1;33m\u001b[0m\u001b[0m\n\u001b[0;32m     22\u001b[0m \u001b[1;33m\u001b[0m\u001b[0m\n",
      "\u001b[1;32m<ipython-input-8-50b172301885>\u001b[0m in \u001b[0;36mtrain\u001b[1;34m(self, set)\u001b[0m\n\u001b[0;32m    212\u001b[0m         \u001b[1;31m# construction de l'arbre de décision\u001b[0m\u001b[1;33m\u001b[0m\u001b[1;33m\u001b[0m\u001b[0m\n\u001b[0;32m    213\u001b[0m         \u001b[0mself\u001b[0m\u001b[1;33m.\u001b[0m\u001b[0mset\u001b[0m \u001b[1;33m=\u001b[0m \u001b[0mset\u001b[0m\u001b[1;33m\u001b[0m\u001b[0m\n\u001b[1;32m--> 214\u001b[1;33m         \u001b[0mself\u001b[0m\u001b[1;33m.\u001b[0m\u001b[0mracine\u001b[0m \u001b[1;33m=\u001b[0m \u001b[0mconstruit_AD\u001b[0m\u001b[1;33m(\u001b[0m\u001b[0mset\u001b[0m\u001b[1;33m,\u001b[0m \u001b[0mself\u001b[0m\u001b[1;33m.\u001b[0m\u001b[0mepsilon\u001b[0m\u001b[1;33m)\u001b[0m\u001b[1;33m\u001b[0m\u001b[0m\n\u001b[0m\u001b[0;32m    215\u001b[0m \u001b[1;33m\u001b[0m\u001b[0m\n\u001b[0;32m    216\u001b[0m     \u001b[1;32mdef\u001b[0m \u001b[0mplot\u001b[0m\u001b[1;33m(\u001b[0m\u001b[0mself\u001b[0m\u001b[1;33m)\u001b[0m\u001b[1;33m:\u001b[0m\u001b[1;33m\u001b[0m\u001b[0m\n",
      "\u001b[1;32m<ipython-input-8-50b172301885>\u001b[0m in \u001b[0;36mconstruit_AD\u001b[1;34m(lset, eps)\u001b[0m\n\u001b[0;32m    135\u001b[0m         \u001b[0mlinf\u001b[0m\u001b[1;33m,\u001b[0m \u001b[0mlsup\u001b[0m \u001b[1;33m=\u001b[0m \u001b[0mdivise\u001b[0m\u001b[1;33m(\u001b[0m\u001b[0mlset\u001b[0m\u001b[1;33m,\u001b[0m \u001b[0mimin\u001b[0m\u001b[1;33m,\u001b[0m \u001b[0mseuil_min\u001b[0m\u001b[1;33m)\u001b[0m\u001b[1;33m\u001b[0m\u001b[0m\n\u001b[0;32m    136\u001b[0m         \u001b[1;31m#appels récursifs pour les fils gauche et droit du noeud\u001b[0m\u001b[1;33m\u001b[0m\u001b[1;33m\u001b[0m\u001b[0m\n\u001b[1;32m--> 137\u001b[1;33m         \u001b[0mad\u001b[0m\u001b[1;33m.\u001b[0m\u001b[0majouteFils\u001b[0m\u001b[1;33m(\u001b[0m\u001b[0mconstruit_AD\u001b[0m\u001b[1;33m(\u001b[0m\u001b[0mlinf\u001b[0m\u001b[1;33m,\u001b[0m \u001b[0meps\u001b[0m\u001b[1;33m)\u001b[0m\u001b[1;33m,\u001b[0m \u001b[0mconstruit_AD\u001b[0m\u001b[1;33m(\u001b[0m\u001b[0mlsup\u001b[0m\u001b[1;33m,\u001b[0m \u001b[0meps\u001b[0m\u001b[1;33m)\u001b[0m\u001b[1;33m,\u001b[0m \u001b[0mimin\u001b[0m\u001b[1;33m,\u001b[0m \u001b[0mseuil_min\u001b[0m\u001b[1;33m)\u001b[0m\u001b[1;33m\u001b[0m\u001b[0m\n\u001b[0m\u001b[0;32m    138\u001b[0m \u001b[1;33m\u001b[0m\u001b[0m\n\u001b[0;32m    139\u001b[0m     \u001b[1;32mreturn\u001b[0m \u001b[0mad\u001b[0m\u001b[1;33m\u001b[0m\u001b[0m\n",
      "... last 1 frames repeated, from the frame below ...\n",
      "\u001b[1;32m<ipython-input-8-50b172301885>\u001b[0m in \u001b[0;36mconstruit_AD\u001b[1;34m(lset, eps)\u001b[0m\n\u001b[0;32m    135\u001b[0m         \u001b[0mlinf\u001b[0m\u001b[1;33m,\u001b[0m \u001b[0mlsup\u001b[0m \u001b[1;33m=\u001b[0m \u001b[0mdivise\u001b[0m\u001b[1;33m(\u001b[0m\u001b[0mlset\u001b[0m\u001b[1;33m,\u001b[0m \u001b[0mimin\u001b[0m\u001b[1;33m,\u001b[0m \u001b[0mseuil_min\u001b[0m\u001b[1;33m)\u001b[0m\u001b[1;33m\u001b[0m\u001b[0m\n\u001b[0;32m    136\u001b[0m         \u001b[1;31m#appels récursifs pour les fils gauche et droit du noeud\u001b[0m\u001b[1;33m\u001b[0m\u001b[1;33m\u001b[0m\u001b[0m\n\u001b[1;32m--> 137\u001b[1;33m         \u001b[0mad\u001b[0m\u001b[1;33m.\u001b[0m\u001b[0majouteFils\u001b[0m\u001b[1;33m(\u001b[0m\u001b[0mconstruit_AD\u001b[0m\u001b[1;33m(\u001b[0m\u001b[0mlinf\u001b[0m\u001b[1;33m,\u001b[0m \u001b[0meps\u001b[0m\u001b[1;33m)\u001b[0m\u001b[1;33m,\u001b[0m \u001b[0mconstruit_AD\u001b[0m\u001b[1;33m(\u001b[0m\u001b[0mlsup\u001b[0m\u001b[1;33m,\u001b[0m \u001b[0meps\u001b[0m\u001b[1;33m)\u001b[0m\u001b[1;33m,\u001b[0m \u001b[0mimin\u001b[0m\u001b[1;33m,\u001b[0m \u001b[0mseuil_min\u001b[0m\u001b[1;33m)\u001b[0m\u001b[1;33m\u001b[0m\u001b[0m\n\u001b[0m\u001b[0;32m    138\u001b[0m \u001b[1;33m\u001b[0m\u001b[0m\n\u001b[0;32m    139\u001b[0m     \u001b[1;32mreturn\u001b[0m \u001b[0mad\u001b[0m\u001b[1;33m\u001b[0m\u001b[0m\n",
      "\u001b[1;31mRecursionError\u001b[0m: maximum recursion depth exceeded"
     ]
    }
   ],
   "source": [
    "dataset = LabeledSet(data.data.shape[1])\n",
    "\n",
    "for i in range(data.data.shape[0]):\n",
    "    \n",
    "    dataset.addExample(data.data[i],data.target[i])\n",
    "\n",
    "print(\"150 arbres :\")\n",
    "foretD = ClassifierBaggingTree(150, 0.01, 0.0, True)\n",
    "foretD.train(dataset)\n",
    "plot_frontiere(dataset,foretD)\n",
    "plot2DSet(dataset)\n",
    "\n",
    "#PB!!! RecursionError : maximum recursion depth exceeded"
   ]
  },
  {
   "cell_type": "code",
   "execution_count": null,
   "metadata": {
    "collapsed": true
   },
   "outputs": [],
   "source": []
  }
 ],
 "metadata": {
  "kernelspec": {
   "display_name": "Python 3",
   "language": "python",
   "name": "python3"
  },
  "language_info": {
   "codemirror_mode": {
    "name": "ipython",
    "version": 3
   },
   "file_extension": ".py",
   "mimetype": "text/x-python",
   "name": "python",
   "nbconvert_exporter": "python",
   "pygments_lexer": "ipython3",
   "version": "3.6.3"
  }
 },
 "nbformat": 4,
 "nbformat_minor": 1
}
